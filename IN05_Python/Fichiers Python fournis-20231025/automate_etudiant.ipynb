{
 "cells": [
  {
   "cell_type": "markdown",
   "id": "17618f85",
   "metadata": {
    "deletable": false
   },
   "source": [
    "---\n",
    "## Sorbonne Université\n",
    "# <center> Mathématiques discrètes </center>\n",
    "## <center> LU2IN005 </center>\n",
    "## <div style=\"text-align:right;\"> Année 2023-2024 </div>\n",
    "---"
   ]
  },
  {
   "cell_type": "markdown",
   "id": "0d154ed3",
   "metadata": {
    "deletable": false,
    "editable": false
   },
   "source": [
    "---\n",
    "# <center> TME programmation d'automates finis </center>\n",
    "L'objectif de ce TME est de programmer en python quelques uns des\n",
    "algorithmes pour les automates finis vus en cours et en TD, en\n",
    "utilisant des structures de données fournies dans le code mis à votre\n",
    "disposition.\n",
    "---\n",
    "# Consignes\n",
    "Copiez dans votre répertoire de travail les fichiers présents dans le Dossier \n",
    "*Fichiers Python fournis* de la page Moodle de l'UE.\n",
    "\n",
    "Ils contiennent les définitions de structures de données décrites\n",
    "ci-dessous, ainsi que des aide-mémoire sur l'utilisation de python.\n",
    "\n",
    "**Le seul fichier que vous êtes autorisés à modifier** est celui-ci, c'est-à-dire\n",
    "`automate_etudiant.ipynb`, partiellement prérempli. \n",
    "Les instructions `return` sont à supprimer lorsque\n",
    "vous remplirez le contenu des différentes fonctions.  Les autres\n",
    "fichiers n'ont pas besoin d'être lus (mais ils peuvent l'être).\n",
    "Si votre programme nécessite de lire des fichiers, **ceux-ci doivent être enregistrés dans le répertoire ExemplesAutomates** que vous avez téléchargé.\n",
    "---"
   ]
  },
  {
   "cell_type": "markdown",
   "id": "f6873ad1",
   "metadata": {},
   "source": [
    "_Binôme_\n",
    "----------\n",
    "\n",
    "**NOM**: MOHAMMAD             \n",
    "\n",
    "**Prénom**: Ichraq               \n",
    "\n",
    "**Numéro d'étudiant**: 21206967\n",
    "\n",
    "**NOM**: ALABOUD\n",
    "\n",
    "**Prénom**: Alaa  \n",
    "\n",
    "**Numéro d'étudiant**: 21206964\n",
    "\n"
   ]
  },
  {
   "cell_type": "markdown",
   "id": "3601d4df",
   "metadata": {
    "deletable": false,
    "editable": false
   },
   "source": [
    "### Table des matières\n",
    "\n",
    "> [1. Présentation](#sec1)\n",
    ">> [1.1 La classe `State`](#sec1_1) <br>\n",
    ">> [1.2 La classe `Transition`](#sec1_2) <br>\n",
    ">> [1.3 La classe `Automate`](#sec1_3)\n",
    "\n",
    "> [2. Prise en mains](#sec2)\n",
    ">> [2.1 Création d'automates](#sec2_1) <br>\n",
    ">> [2.2 Premières manipulations](#sec2_2) <br>\n",
    "\n",
    "> [3. Exercices de base : tests et complétion](#sec3)\n",
    "\n",
    "> [4. Déterminisation](#sec4)\n",
    "\n",
    "> [5. Constructions sur les automates réalisant des opérations sur les langages acceptés](#sec5)\n",
    ">> [5.1 Opérations ensemblistes sur les langages](#sec5_1) <br>\n",
    ">> [5.2 Opérations rationnelles sur les langages](#sec5_2)"
   ]
  },
  {
   "cell_type": "code",
   "execution_count": 26,
   "id": "28f5a85a",
   "metadata": {
    "deletable": false,
    "editable": false
   },
   "outputs": [],
   "source": [
    "## Import des bibliothèques nécessaires au projet.\n",
    "## Ne pas modifier les fichiers \"bibliothèque\".\n",
    "\n",
    "## Interpréter cette cellule avant de continuer.\n",
    "\n",
    "from transition import *\n",
    "from state import *\n",
    "import os\n",
    "import copy\n",
    "from automateBase import AutomateBase\n",
    "\n",
    "class Automate(AutomateBase):\n",
    "    pass"
   ]
  },
  {
   "cell_type": "markdown",
   "id": "1aa8e802",
   "metadata": {
    "deletable": false,
    "editable": false
   },
   "source": [
    "### 1. Présentation  <a class=\"anchor\" id=\"sec1\"></a>\n",
    "\n",
    "Le projet utilise le langage python avec une syntaxe légèrement\n",
    "différente de celle vue en **LU1IN001 / 011**, parce qu'il exploite en particulier\n",
    "la notion de classes d'objets. Une introduction à cette notion est présentée dans le livre associé\n",
    "au cours : cf [Chapitre 13](https://www-licence.ufr-info-p6.jussieu.fr/lmd/licence/2021/ue/LU1IN001-2021oct/cours2020.pdf).\n",
    "\n",
    "De plus, le typage des variables est noté de façon légèrement différente, en commentaires, pour les déclarations\n",
    "comme pour les arguments des fonctions. Pour ces derniers, les types sont indiqués dans la première ligne de la documentation de la fonction.\n",
    "\n",
    "Les particularités sont brièvement expliquées en annexe\n",
    "de ce document. Par ailleurs, vous trouverez dans la section\n",
    "`projet` de la page Moodle un mémo sur la syntaxe python, ainsi que la carte de\n",
    "référence du langage utilisée en **LU1IN001 / 011**.  On rappelle qu'une ligne\n",
    "commençant par `#` est un commentaire, ignoré par\n",
    "l'interpréteur.\n",
    "\n",
    "Toutes les structures de données nécessaires à la construction des\n",
    "automates sont fournies sous la forme de classes python, pour les\n",
    "transitions d'un automate, ses états, et les automates\n",
    "eux-mêmes. Cette section indique comment les utiliser."
   ]
  },
  {
   "cell_type": "markdown",
   "id": "2e14adf4",
   "metadata": {
    "deletable": false,
    "editable": false
   },
   "source": [
    "#### 1.1 La classe `State` <a class=\"anchor\" id=\"sec1_1\"></a>\n",
    "\n",
    "Un état est représenté par\n",
    "- un entier `id` (type `int`) qui définit son identifiant,\n",
    "- un booléen `init` (type `bool`) indiquant si c'est un état initial,\n",
    "- un booléen `fin` (type `bool`) indiquant si c'est un état final,\n",
    "- une chaîne de caractères `label` (type `str`) qui définit son étiquette, permettant de le *décorer*. Par défaut, cette variable est la version chaîne de caractères de l'identifiant de l'état. \n",
    "\n",
    "On définit l'alias de type `State` pour représenter les variables de ce type. \n",
    "\n",
    "Ainsi, l'instruction ci-dessous crée une variable `s` représentant un état d'identifiant `1`, qui est un état initial mais pas final, dont l'identifiant et l'étiquette  `1` :"
   ]
  },
  {
   "cell_type": "code",
   "execution_count": 27,
   "id": "06e196a5",
   "metadata": {
    "deletable": false,
    "editable": false,
    "tags": [
     "test"
    ]
   },
   "outputs": [],
   "source": [
    "# s : State\n",
    "s = State(1, True, False)"
   ]
  },
  {
   "cell_type": "markdown",
   "id": "82ee981e",
   "metadata": {
    "deletable": false,
    "editable": false
   },
   "source": [
    "Si l'on souhaite avoir une étiquette différente de l'identifiant, on\n",
    "utilise un quatrième argument :"
   ]
  },
  {
   "cell_type": "code",
   "execution_count": 28,
   "id": "fa803747",
   "metadata": {
    "deletable": false,
    "editable": false,
    "tags": [
     "test"
    ]
   },
   "outputs": [],
   "source": [
    "s = State(1, True, False, 'etat 1') "
   ]
  },
  {
   "cell_type": "markdown",
   "id": "851e882d",
   "metadata": {
    "deletable": false,
    "editable": false
   },
   "source": [
    "On accède ensuite aux différents champs de `s` par la notation pointée : exécutez les cellules suivantes pour observer l'affichage obtenu."
   ]
  },
  {
   "cell_type": "code",
   "execution_count": 29,
   "id": "57da39f1",
   "metadata": {
    "deletable": false,
    "editable": false,
    "tags": [
     "test"
    ]
   },
   "outputs": [
    {
     "name": "stdout",
     "output_type": "stream",
     "text": [
      "La valeur de s.id est : \n",
      "1\n"
     ]
    }
   ],
   "source": [
    "print('La valeur de s.id est : ')\n",
    "print(s.id)"
   ]
  },
  {
   "cell_type": "code",
   "execution_count": 30,
   "id": "70930bc7",
   "metadata": {
    "deletable": false,
    "editable": false,
    "tags": [
     "test"
    ]
   },
   "outputs": [
    {
     "name": "stdout",
     "output_type": "stream",
     "text": [
      "La valeur de s.init est : \n",
      "True\n"
     ]
    }
   ],
   "source": [
    "print('La valeur de s.init est : ')\n",
    "print(s.init)"
   ]
  },
  {
   "cell_type": "code",
   "execution_count": 31,
   "id": "968528af",
   "metadata": {
    "deletable": false,
    "editable": false,
    "tags": [
     "test"
    ]
   },
   "outputs": [
    {
     "name": "stdout",
     "output_type": "stream",
     "text": [
      "La valeur de s.fin est : \n",
      "False\n"
     ]
    }
   ],
   "source": [
    "print('La valeur de s.fin est : ')\n",
    "print(s.fin)"
   ]
  },
  {
   "cell_type": "code",
   "execution_count": 32,
   "id": "e5429b01",
   "metadata": {
    "deletable": false,
    "editable": false,
    "tags": [
     "test"
    ]
   },
   "outputs": [
    {
     "name": "stdout",
     "output_type": "stream",
     "text": [
      "La valeur de s.label est : \n",
      "etat 1\n"
     ]
    }
   ],
   "source": [
    "print('La valeur de s.label est : ')\n",
    "print(s.label)"
   ]
  },
  {
   "cell_type": "code",
   "execution_count": 33,
   "id": "a1e13df2",
   "metadata": {
    "deletable": false,
    "editable": false,
    "tags": [
     "test"
    ]
   },
   "outputs": [
    {
     "name": "stdout",
     "output_type": "stream",
     "text": [
      "L'affichage de s est : \n",
      "etat 1(init)\n"
     ]
    }
   ],
   "source": [
    "print(\"L'affichage de s est : \")\n",
    "print(s)"
   ]
  },
  {
   "cell_type": "markdown",
   "id": "5c575c8a",
   "metadata": {
    "deletable": false,
    "editable": false
   },
   "source": [
    "Ainsi, une variable de type `State` est affichée par son étiquette et, entre parenthèses, si c'est un état initial et/ou final."
   ]
  },
  {
   "cell_type": "markdown",
   "id": "f9e2e4f6",
   "metadata": {
    "deletable": false,
    "editable": false
   },
   "source": [
    "#### 1.2 La classe `Transition` <a class=\"anchor\" id=\"sec1_2\"></a>\n",
    "\n",
    "Une transition est représentée par \n",
    "- un état `stateSrc` (type `State`) correspondant à son état de départ\n",
    "- un caractère `etiquette` (type `str`) donnant son   étiquette\n",
    "- un état `stateDest` (type `State`) correspondant à son état de destination\n",
    "\n",
    "On définit l'alias de type `Transition` pour représenter les variables de ce type.\n",
    "\n",
    "La séquence d'instructions suivante crée la transition d'étiquette `\"a\"` de l'état `s` (défini ci-dessus) vers lui-même et affiche les différents champs de la transition :"
   ]
  },
  {
   "cell_type": "code",
   "execution_count": 34,
   "id": "b236775e",
   "metadata": {
    "deletable": false,
    "editable": false,
    "tags": [
     "test"
    ]
   },
   "outputs": [],
   "source": [
    "# t : Transition\n",
    "t = Transition(s, \"a\", s)"
   ]
  },
  {
   "cell_type": "code",
   "execution_count": 35,
   "id": "e35faf81",
   "metadata": {
    "deletable": false,
    "editable": false,
    "tags": [
     "test"
    ]
   },
   "outputs": [
    {
     "name": "stdout",
     "output_type": "stream",
     "text": [
      "La valeur de t.etiquette est : \n",
      "a\n"
     ]
    }
   ],
   "source": [
    "print('La valeur de t.etiquette est : ')\n",
    "print(t.etiquette)"
   ]
  },
  {
   "cell_type": "code",
   "execution_count": 36,
   "id": "639858f4",
   "metadata": {
    "deletable": false,
    "editable": false,
    "tags": [
     "test"
    ]
   },
   "outputs": [
    {
     "name": "stdout",
     "output_type": "stream",
     "text": [
      "L'affichage de t.stateSrc est : \n",
      "etat 1(init)\n"
     ]
    }
   ],
   "source": [
    "print(\"L'affichage de t.stateSrc est : \")\n",
    "print(t.stateSrc)"
   ]
  },
  {
   "cell_type": "markdown",
   "id": "447fb773",
   "metadata": {
    "deletable": false,
    "editable": false
   },
   "source": [
    "On remarque que la variable `stateSrc` est de type `State`, on obtient donc un état, et non uniquement un\n",
    "identifiant d'état. "
   ]
  },
  {
   "cell_type": "code",
   "execution_count": 37,
   "id": "d582f541",
   "metadata": {
    "deletable": false,
    "editable": false,
    "tags": [
     "test"
    ]
   },
   "outputs": [
    {
     "name": "stdout",
     "output_type": "stream",
     "text": [
      "L'affichage de t.stateDest est : \n",
      "etat 1(init)\n"
     ]
    }
   ],
   "source": [
    "print(\"L'affichage de t.stateDest est : \")\n",
    "print(t.stateDest)"
   ]
  },
  {
   "cell_type": "code",
   "execution_count": 38,
   "id": "4c8458e8",
   "metadata": {
    "deletable": false,
    "editable": false,
    "tags": [
     "test"
    ]
   },
   "outputs": [
    {
     "name": "stdout",
     "output_type": "stream",
     "text": [
      "L'affichage de t est : \n",
      "[etat 1(init)-a->etat 1(init)]\n"
     ]
    }
   ],
   "source": [
    "print(\"L'affichage de t est : \")\n",
    "print(t)"
   ]
  },
  {
   "cell_type": "markdown",
   "id": "ca7e0d66",
   "metadata": {
    "deletable": false,
    "editable": false
   },
   "source": [
    "#### 1.3 La classe `Automate` <a class=\"anchor\" id=\"sec1_3\"></a>\n",
    "\n",
    "Un automate est représenté par\n",
    "- l'ensemble de ses transitions `allTransitions` (de type `set[Transition]`) \n",
    "- l'ensemble de ses états `allStates` (de type `set[State]`)\n",
    "- une étiquette `label` (de type `str`) qui est éventuellement vide.\n",
    "\n",
    "On définit l'alias de type `Automate` pour représenter les variables de ce type.\n",
    "\n",
    "Ainsi, de même que pour les classes précédentes, l'accès aux\n",
    "différents champs se fait par la notation pointée. Par exemple, on\n",
    "obtient l'ensemble des états d'un automate `monAutomate` par\n",
    "l'instruction `monAutomate.allStates`.\n",
    "\n",
    "Pour créer un automate, il existe trois possibilités."
   ]
  },
  {
   "cell_type": "markdown",
   "id": "2d03e11c",
   "metadata": {
    "deletable": false,
    "editable": false
   },
   "source": [
    "**Création à partir d'un ensemble de transitions.**<br>\n",
    "On peut d'abord utiliser le constructeur de signature `Automate : set[Transition] -> Automate`.<br>\n",
    "Il déduit alors l'ensemble des états à partir de l'ensemble des transitions et définit par défaut l'étiquette\n",
    "de l'automate comme la chaîne de caractères vide.\n",
    "\n",
    "Par exemple, en commençant par créer les états et les transitions nécessaires :"
   ]
  },
  {
   "cell_type": "code",
   "execution_count": 39,
   "id": "677b42fe",
   "metadata": {
    "deletable": false,
    "editable": false,
    "tags": [
     "test"
    ]
   },
   "outputs": [],
   "source": [
    "## création d'états\n",
    "# s1 : State\n",
    "s1 = State(1, True, False)\n",
    "# s2 : State\n",
    "s2 = State(2, False, True)\n",
    "\n",
    "## création de transitions\n",
    "# t1 : Transition\n",
    "t1 = Transition(s1,\"a\",s1)\n",
    "# t2 : Transition\n",
    "t2 = Transition(s1,\"a\",s2)\n",
    "# t3 : Transition\n",
    "t3 = Transition(s1,\"b\",s2)\n",
    "# t4 : Transition\n",
    "t4 = Transition(s2,\"a\",s2)\n",
    "# t5 : Transition\n",
    "t5 = Transition(s2,\"b\",s2)\n",
    "# set_transitions : set[Transition]\n",
    "set_transitions = {t1, t2, t3, t4, t5}\n",
    "\n",
    "## création de l'automate\n",
    "# aut : Automate\n",
    "aut = Automate(set_transitions)"
   ]
  },
  {
   "cell_type": "markdown",
   "id": "cb2137d2",
   "metadata": {
    "deletable": false,
    "editable": false
   },
   "source": [
    "L'affichage de cet automate, par la commande `print(aut)` produit alors le résultat suivant : "
   ]
  },
  {
   "cell_type": "code",
   "execution_count": 40,
   "id": "33d28822",
   "metadata": {
    "deletable": false,
    "editable": false,
    "tags": [
     "test"
    ]
   },
   "outputs": [
    {
     "name": "stdout",
     "output_type": "stream",
     "text": [
      "Etats :\n",
      "  1(init)\n",
      "  2(fin)\n",
      "Transitions :\n",
      "  [1(init)-a->2(fin)]\n",
      "  [1(init)-a->1(init)]\n",
      "  [2(fin)-a->2(fin)]\n",
      "  [2(fin)-b->2(fin)]\n",
      "  [1(init)-b->2(fin)]\n",
      "\n"
     ]
    }
   ],
   "source": [
    "print(aut)"
   ]
  },
  {
   "cell_type": "markdown",
   "id": "58b7bea3",
   "metadata": {
    "deletable": false,
    "editable": false
   },
   "source": [
    "Les états de l'automate sont déduits de l'ensemble de transitions.\n",
    "\n",
    "Optionnellement, on peut donner un nom à l'automate, en utilisant la variable `label`, par exemple :"
   ]
  },
  {
   "cell_type": "code",
   "execution_count": 41,
   "id": "b334ef8d",
   "metadata": {
    "deletable": false,
    "editable": false,
    "tags": [
     "test"
    ]
   },
   "outputs": [
    {
     "name": "stdout",
     "output_type": "stream",
     "text": [
      "Automate A\n",
      "Etats :\n",
      "  1(init)\n",
      "  2(fin)\n",
      "Transitions :\n",
      "  [1(init)-a->2(fin)]\n",
      "  [1(init)-a->1(init)]\n",
      "  [2(fin)-a->2(fin)]\n",
      "  [2(fin)-b->2(fin)]\n",
      "  [1(init)-b->2(fin)]\n",
      "\n"
     ]
    }
   ],
   "source": [
    "# aut2 : Automate\n",
    "aut2 = Automate(set_transitions, label=\"A\") \n",
    "\n",
    "print(aut2)"
   ]
  },
  {
   "cell_type": "markdown",
   "id": "cb4503a4",
   "metadata": {
    "deletable": false,
    "editable": false
   },
   "source": [
    "**Création à partir d'un ensemble de transitions et d'un ensemble d'états.**<br>\n",
    "Dans le second cas, on crée un automate à partir d'un ensemble de\n",
    "transitions mais aussi d'un ensemble d'états, par exemple pour représenter des\n",
    "automates contenant des états isolés. Pour cela, on utilise le\n",
    "constructeur `Automate : set[Transition] x set[State] -> Automate`.\n",
    "\n",
    "On peut également, optionnellement, donner un nom à l'automate :"
   ]
  },
  {
   "cell_type": "code",
   "execution_count": 42,
   "id": "f3e45990",
   "metadata": {
    "deletable": false,
    "editable": false,
    "tags": [
     "test"
    ]
   },
   "outputs": [
    {
     "name": "stdout",
     "output_type": "stream",
     "text": [
      "Automate B\n",
      "Etats :\n",
      "  1(init)\n",
      "  2(fin)\n",
      "Transitions :\n",
      "  [1(init)-a->2(fin)]\n",
      "  [1(init)-a->1(init)]\n",
      "  [2(fin)-a->2(fin)]\n",
      "  [2(fin)-b->2(fin)]\n",
      "  [1(init)-b->2(fin)]\n",
      "\n"
     ]
    }
   ],
   "source": [
    "# set_etats : set[State]\n",
    "set_etats = {s1, s2}\n",
    "\n",
    "# aut3 : Automate\n",
    "aut3 = Automate(set_transitions, set_etats, \"B\")\n",
    "\n",
    "print(aut3)"
   ]
  },
  {
   "cell_type": "markdown",
   "id": "2189dda8",
   "metadata": {
    "deletable": false,
    "editable": false
   },
   "source": [
    "L'ordre des paramètres peut ne pas être respecté **à la condition** que l'on donne leur nom explicitement. Ainsi, la ligne suivante est correcte :"
   ]
  },
  {
   "cell_type": "code",
   "execution_count": 43,
   "id": "5ddecf02",
   "metadata": {
    "deletable": false,
    "editable": false,
    "tags": [
     "test"
    ]
   },
   "outputs": [
    {
     "name": "stdout",
     "output_type": "stream",
     "text": [
      "Automate A\n",
      "Etats :\n",
      "  1(init)\n",
      "  2(fin)\n",
      "Transitions :\n",
      "  [1(init)-a->2(fin)]\n",
      "  [1(init)-a->1(init)]\n",
      "  [2(fin)-a->2(fin)]\n",
      "  [2(fin)-b->2(fin)]\n",
      "  [1(init)-b->2(fin)]\n",
      "\n"
     ]
    }
   ],
   "source": [
    "aut = Automate(setStates = set_etats, label = \"A\", setTransitions = set_transitions)\n",
    "\n",
    "print(aut)"
   ]
  },
  {
   "cell_type": "markdown",
   "id": "1b7c1be4",
   "metadata": {
    "deletable": false,
    "editable": false
   },
   "source": [
    "**Création à partir d'un fichier contenant sa description.**<br>\n",
    "La fonction `Automate.creationAutomate : str -> Automate` prend en argument un nom de fichier qui décrit un automate et construit l'automate correspondant (voir exemple ci-dessous).\n",
    "\n",
    "La description textuelle de l'automate doit suivre le format suivant (voir exemple ci-dessous) :\n",
    "- #E: suivi de la liste des noms des états, séparés par\n",
    "  des espaces ou des passages à la ligne. Les noms d'états peuvent\n",
    "  être n'importe quelle chaîne alphanumérique pouvant également\n",
    "  contenir le symbole `_`. Par contre, si le nom d'état\n",
    "  contient des symboles *non numériques* il ne doit pas commencer\n",
    "  par un chiffre, sous peine de provoquer une erreur à l'affichage.\n",
    "  Ainsi, `10` et `A1` sont des noms d'états possibles,\n",
    "  mais `1A` ne l'est pas.\n",
    "- #I: suivi de la liste des états initiaux\n",
    "  séparés par des espaces ou des passages à la ligne, \n",
    "- #F: suivi de la liste des\n",
    "  états finaux séparés par des espaces ou des passages à la ligne, \n",
    "- #T: suivi de la liste des transitions séparées par des\n",
    "  espaces ou des passages à la ligne. Chaque transition est donnée\n",
    "  sous le format `(etat1, lettre, etat2)`.\n",
    "\n",
    "Par exemple le fichier `exempleAutomate.txt` contenant <br>\n",
    "`#E: 0 1 2 3`<br>\n",
    "`#I: 0`<br>\n",
    "`#F: 3`<br>\n",
    "`#T: (0 a 0)`<br>\n",
    "`\t(0 b 0)`<br>\n",
    "`\t(0 a 1)`<br>\n",
    "`\t(1 a 2)`<br>\n",
    "`\t(2 a 3)`<br>\n",
    "`\t(3 a 3)`<br>\n",
    "`\t(3 b 3)`<br>\n",
    "est formaté correctement. L'appel suivant produira l'affichage..."
   ]
  },
  {
   "cell_type": "code",
   "execution_count": 44,
   "id": "7f941f18",
   "metadata": {
    "deletable": false,
    "editable": false,
    "tags": [
     "test"
    ]
   },
   "outputs": [
    {
     "name": "stdout",
     "output_type": "stream",
     "text": [
      "Etats :\n",
      "  0(init)\n",
      "  1\n",
      "  2\n",
      "  3(fin)\n",
      "Transitions :\n",
      "  [0(init)-a->1]\n",
      "  [0(init)-b->0(init)]\n",
      "  [3(fin)-b->3(fin)]\n",
      "  [1-a->2]\n",
      "  [3(fin)-a->3(fin)]\n",
      "  [2-a->3(fin)]\n",
      "  [0(init)-a->0(init)]\n",
      "\n"
     ]
    }
   ],
   "source": [
    "# automate : Automate\n",
    "automate = Automate.creationAutomate(\"ExemplesAutomates/exempleAutomate.txt\")\n",
    "print(automate)"
   ]
  },
  {
   "cell_type": "markdown",
   "id": "030c50b1",
   "metadata": {
    "deletable": false,
    "editable": false
   },
   "source": [
    "**Fonctions de manipulation des automates.**<br>\n",
    "La classe automate contient également de nombreuses fonctions utiles. Elles\n",
    "s'appliquent à un objet de type `Automate` et s'utilisent donc sous la forme\n",
    "`aut.<`*fonction*`>(<`*parametres*`>)` où `aut` est une variable de type `Automate`.\n"
   ]
  },
  {
   "cell_type": "markdown",
   "id": "a88ce64a",
   "metadata": {
    "deletable": false,
    "editable": false
   },
   "source": [
    "- `show : float -> NoneType` <br> \n",
    "    prend en argument facultatif un flottant (facteur de grossissement, par défaut il vaut 1.0) et produit une représentation graphique de l'automate.<br>\n",
    "    Ainsi, en utilisant l'automate défini dans le fichier d'exemple précédent, l'instruction `automate.show(1.2)` produit l'image suivante :"
   ]
  },
  {
   "cell_type": "code",
   "execution_count": 45,
   "id": "stock-narrow",
   "metadata": {
    "deletable": false,
    "editable": false,
    "tags": [
     "test"
    ]
   },
   "outputs": [
    {
     "name": "stdout",
     "output_type": "stream",
     "text": [
      "Impossible de creer le fichier .dot\n"
     ]
    }
   ],
   "source": [
    "automate.show(1.2)"
   ]
  },
  {
   "cell_type": "markdown",
   "id": "3df56a61",
   "metadata": {
    "deletable": false,
    "editable": false
   },
   "source": [
    "- `addTransition : Transition -> bool`<br>\n",
    "  prend en argument une transition `t`, fait la mise à jour de\n",
    "  l'automate en lui ajoutant `t` et ajoute les états impliqués\n",
    "  dans l'automate s'ils en sont absents. Elle rend `True` si l'ajout a\n",
    "  eu lieu, `False` sinon (si `t` était déjà présente dans l'automate).\n",
    "  \n",
    "- `removeTransition : Transition -> bool`<br>\n",
    "  prend en argument une transition `t` et fait la mise à jour de\n",
    "  l'automate en lui enlevant la transition, sans modifier les\n",
    "  états. Elle rend `True` si la suppression a eu lieu, `False` sinon (si\n",
    "  `t` était absente de l'automate).\n",
    "\n",
    "- `addState : State -> bool`<br>\n",
    "  prend en argument un état `s` et fait la mise à jour de\n",
    "  l'automate en lui ajoutant `s`.  Elle rend `True` si l'ajout a eu\n",
    "  lieu, `False` sinon (si `s` était déjà présent dans l'automate).\n",
    "\n",
    "- `nextId : -> int`<br>\n",
    "  renvoie un entier id frais, en choisissant l'entier le plus petit,\n",
    "  strictement supérieur à tous les id des états de l'automate.\n",
    "\n",
    "- `removeState : State -> bool`<br>\n",
    "  prend en argument un état `s` et fait la mise à jour de\n",
    "  l'automate en supprimant `s` ainsi que toutes ses transitions\n",
    "  entrantes et sortantes.  Elle rend `True` si l'ajout a eu lieu, `False`\n",
    "  sinon (si `s` était absent de l'automate).\n",
    "  \n",
    "- `getSetInitialStates :  -> set[State]`<br> \n",
    "  rend l'ensemble des états initiaux.\n",
    "\n",
    "- `getSetFinalStates :  -> set[State]`<br>\n",
    "  rend l'ensemble des états finaux.\n",
    "\n",
    "- `getSetTransitionsFrom : State -> set[Transition]`<br>\n",
    "  rend l'ensemble des transitions sortant de l'état passé en argument.\n",
    "\n",
    "- `prefixStates : int -> NoneType`<br>\n",
    "  modifie les identifiants et les étiquettes de tous les états de\n",
    "  l'automate en les préfixant par l'entier passé en argument.\n",
    "\n",
    "- `succElem : State x str -> set[State]`<br>\n",
    "  étant donné un état `s` et un caractère `a`, elle rend l'ensemble des\n",
    "  états successeurs de `s` par le caractère `a`.  Formellement,\n",
    "  \n",
    "  $$succElem(s, a) = \\{s' \\in S \\mid  s \\xrightarrow{a} s'\\}.$$\n",
    "  \n",
    "  Cet ensemble peut contenir plusieurs états si l'automate n'est pas déterministe."
   ]
  },
  {
   "cell_type": "code",
   "execution_count": 46,
   "id": "7c3be6d1",
   "metadata": {
    "deletable": false,
    "editable": false
   },
   "outputs": [],
   "source": [
    "# Voilà le code de succElem\n",
    "\n",
    "def succElem(self, state, lettre):\n",
    "    \"\"\" State x str -> set[State]\n",
    "        rend l'ensemble des états accessibles à partir d'un état state par l'étiquette lettre\n",
    "    \"\"\"\n",
    "    successeurs = set()\n",
    "    # t: Transitions\n",
    "    for t in self.getSetTransitionsFrom(state):\n",
    "        if t.etiquette == lettre:\n",
    "            successeurs.add(t.stateDest)\n",
    "    return successeurs\n",
    "\n",
    "Automate.succElem = succElem"
   ]
  },
  {
   "cell_type": "markdown",
   "id": "19a28111",
   "metadata": {
    "deletable": false,
    "editable": false
   },
   "source": [
    "Avec l'exemple précédent, on obtient :"
   ]
  },
  {
   "cell_type": "code",
   "execution_count": 47,
   "id": "31b28ea5",
   "metadata": {
    "deletable": false,
    "editable": false,
    "tags": [
     "test"
    ]
   },
   "outputs": [
    {
     "data": {
      "text/plain": [
       "{0(init), 1}"
      ]
     },
     "execution_count": 47,
     "metadata": {},
     "output_type": "execute_result"
    }
   ],
   "source": [
    "s0 = list(automate.getSetInitialStates())[0] ## on récupère l'état initial de automate\n",
    "automate.succElem(s0, 'a')"
   ]
  },
  {
   "cell_type": "markdown",
   "id": "3100ec47",
   "metadata": {
    "deletable": false,
    "editable": false
   },
   "source": [
    "### 2. Prise en mains  <a class=\"anchor\" id=\"sec2\"></a>\n",
    "\n",
    "#### 2.1 Création d'automates <a class=\"anchor\" id=\"sec2_1\"></a>\n",
    "\n",
    "Soit l'automate $\\mathcal{A}$ défini sur l'alphabet $\\{ a,b \\}$, d'états $0,1,2$, \n",
    "d'état initial 0, d'état final 2 et de transitions : <br>$(0,a,0)$, $(0,b,1)$, \n",
    "$(1,a,2)$, $(1,b,2)$, $(2,a,0)$ et $(2,b,1)$.\n",
    "\n",
    "1. Créer l'automate $\\mathcal{A}$ à l'aide de son ensemble de transitions. Pour cela, créer un état `s0`  \n",
    "d'identifiant $0$\n",
    "  qui soit initial, un état `s1` d'identifiant $1$ et un état\n",
    "  `s2` d'identifiant $2$ qui soit final. Puis créer `t1`, `t2`, `t3`, `t4`, `t5` et\n",
    "  `t6` les 6 transitions de l'automate. Créer enfin l'automate\n",
    "  `auto` à partir de ses transitions, par exemple avec l'appel<br>\n",
    "  `auto = Automate({t1,t2,t3,t4,t5,t6})`.<br>\n",
    "  Vérifier que l'automate correspond bien à $\\mathcal{A}$ en l'affichant."
   ]
  },
  {
   "cell_type": "code",
   "execution_count": 48,
   "id": "1d6614ff",
   "metadata": {
    "tags": [
     "test"
    ]
   },
   "outputs": [
    {
     "name": "stdout",
     "output_type": "stream",
     "text": [
      "Automate A\n",
      "Etats :\n",
      "  0(init)\n",
      "  1\n",
      "  2(fin)\n",
      "Transitions :\n",
      "  [2(fin)-b->1]\n",
      "  [2(fin)-a->0(init)]\n",
      "  [1-b->2(fin)]\n",
      "  [0(init)-b->1]\n",
      "  [0(init)-a->0(init)]\n",
      "  [1-a->2(fin)]\n",
      "\n"
     ]
    }
   ],
   "source": [
    "# A faire \n",
    "s0 = State(0,True,False)\n",
    "s1 = State(1,False,False)\n",
    "s2 = State(2,False,True)\n",
    "\n",
    "t1 = Transition(s0,\"a\",s0)\n",
    "t2 = Transition(s0,\"b\",s1)\n",
    "t3 = Transition(s1,\"a\",s2)\n",
    "t4 = Transition(s1,\"b\",s2)\n",
    "t5 = Transition(s2,\"a\",s0)\n",
    "t6 = Transition(s2,\"b\",s1)\n",
    "\n",
    "auto = Automate({t1,t2,t3,t4,t5,t6}, label=\"A\")\n",
    "print(auto)"
   ]
  },
  {
   "cell_type": "markdown",
   "id": "6a2cb2f1",
   "metadata": {
    "deletable": false,
    "editable": false
   },
   "source": [
    "2. Créer l'automate $\\mathcal{A}$ à l'aide de sa liste de\n",
    "  transitions et d'états, par exemple à l'aide de l'appel<br>\n",
    "  `auto1 = Automate({t1,t2,t3,t4,t5,t6}, {s0,s1,s2})`<br>\n",
    "  puis afficher l'automate obtenu à l'aide de `print` puis à l'aide de `show`.\n",
    "  Vérifier que l'automate `auto1` est bien\n",
    "  identique à l'automate `auto`."
   ]
  },
  {
   "cell_type": "code",
   "execution_count": 49,
   "id": "cf7a8095",
   "metadata": {
    "tags": [
     "test"
    ]
   },
   "outputs": [
    {
     "name": "stdout",
     "output_type": "stream",
     "text": [
      "Impossible de creer le fichier .dot\n"
     ]
    }
   ],
   "source": [
    "# A faire \n",
    "auto1 = Automate({t1,t2,t3,t4,t5,t6},{s0,s1,s2},label=\"A\")\n",
    "\n",
    "auto1.show(1.5)"
   ]
  },
  {
   "cell_type": "markdown",
   "id": "d11a66ae",
   "metadata": {
    "deletable": false,
    "editable": false
   },
   "source": [
    "3. Créer l'automate $\\mathcal{A}$ à partir d'un fichier. Pour cela,\n",
    "  créer un fichier `auto2.txt`, dans lequel sont indiqués les\n",
    "  listes des états et des transitions, ainsi que l'état initial et\n",
    "  l'état final, en respectant la syntaxe donnée dans la section\n",
    "  précédente. Par exemple la liste d'états est décrite par la ligne\n",
    "  `#E: 0 1 2`.  Utiliser ensuite par exemple l'appel\n",
    "  `auto2 = Automate.creationAutomate(\"ExemplesAutomates/auto2.txt\")`, puis afficher\n",
    "  l'automate `auto2` à l'aide de `print` ainsi qu'à l'aide de `show`."
   ]
  },
  {
   "cell_type": "code",
   "execution_count": 50,
   "id": "e25b9b77",
   "metadata": {
    "tags": [
     "test"
    ]
   },
   "outputs": [
    {
     "name": "stdout",
     "output_type": "stream",
     "text": [
      "Etats :\n",
      "  0(init)\n",
      "  1\n",
      "  2(fin)\n",
      "Transitions :\n",
      "  [2(fin)-b->1]\n",
      "  [2(fin)-a->0(init)]\n",
      "  [1-b->2(fin)]\n",
      "  [0(init)-b->1]\n",
      "  [0(init)-a->0(init)]\n",
      "  [1-a->2(fin)]\n",
      "\n",
      "Impossible de creer le fichier .dot\n"
     ]
    }
   ],
   "source": [
    "# A faire\n",
    "auto2 = Automate.creationAutomate(\"ExemplesAutomates/auto2.txt\")\n",
    "print(auto2)\n",
    "auto2.show(1.2)"
   ]
  },
  {
   "cell_type": "markdown",
   "id": "b5cdcaeb",
   "metadata": {
    "deletable": false,
    "editable": false
   },
   "source": [
    "#### 2.2 Premières manipulations <a class=\"anchor\" id=\"sec2_2\"></a>\n",
    "\n",
    "1. Appeler la fonction `removeTransition` sur l'automate\n",
    "  `auto` en lui donnant en argument la transition $(0,a,1)$. Il\n",
    "  s'agit donc de créer une variable `t` de type\n",
    "  `Transition` représentant $(0,a,1)$ et d'effectuer l'appel\n",
    "  `auto.removeTransition(t)`. Observer le résultat sur un\n",
    "  affichage.  Appeler ensuite cette fonction sur `auto` en lui\n",
    "  donnant en argument la transition `t1`. Observer le résultat\n",
    "  sur un affichage. Appeler la fonction `addTransition` sur\n",
    "  l'automate `auto` en lui donnant en argument la transition\n",
    "  `t1`. Vérifier que l'automate obtenu est bien le même\n",
    "  qu'initialement."
   ]
  },
  {
   "cell_type": "code",
   "execution_count": 51,
   "id": "0f20d24a",
   "metadata": {
    "tags": [
     "test"
    ]
   },
   "outputs": [
    {
     "name": "stdout",
     "output_type": "stream",
     "text": [
      "Impossible de creer le fichier .dot\n",
      "_________________________________________________\n",
      "Impossible de creer le fichier .dot\n"
     ]
    }
   ],
   "source": [
    "# A faire\n",
    "t = Transition(0,'a',1)\n",
    "auto.removeTransition(t)\n",
    "auto.show()\n",
    "print(\"_________________________________________________\")\n",
    "auto.removeTransition(t1)\n",
    "auto.show()"
   ]
  },
  {
   "cell_type": "code",
   "execution_count": 52,
   "id": "27f96a3e",
   "metadata": {
    "tags": [
     "test"
    ]
   },
   "outputs": [
    {
     "name": "stdout",
     "output_type": "stream",
     "text": [
      "Impossible de creer le fichier .dot\n"
     ]
    }
   ],
   "source": [
    "# A faire \n",
    "auto.addTransition(t1)\n",
    "auto.show()"
   ]
  },
  {
   "cell_type": "markdown",
   "id": "94fcc454",
   "metadata": {
    "deletable": false,
    "editable": false
   },
   "source": [
    "2. Appeler la fonction `removeState` sur l'automate\n",
    "  `auto` en lui donnant en argument l'état\n",
    "  `s1`. Observer le résultat. Appeler la fonction\n",
    "  `addState` sur l'automate `auto` en lui donnant en\n",
    "  argument l'état `s1`. Créer un état `s0bis` d'identifiant\n",
    "  $0$ et initial. Appeler la fonction `addState` sur\n",
    "  `auto` avec `s0bis` comme argument. Observer le résultat."
   ]
  },
  {
   "cell_type": "code",
   "execution_count": 53,
   "id": "e0bab01a",
   "metadata": {
    "tags": [
     "test"
    ]
   },
   "outputs": [
    {
     "name": "stdout",
     "output_type": "stream",
     "text": [
      "Impossible de creer le fichier .dot\n",
      "_________________________________________________\n",
      "Impossible de creer le fichier .dot\n",
      "_________________________________________________\n",
      "Automate A\n",
      "Etats :\n",
      "  0(init)\n",
      "  1\n",
      "  2(fin)\n",
      "Transitions :\n",
      "  [2(fin)-a->0(init)]\n",
      "  [0(init)-a->0(init)]\n",
      "\n",
      "Impossible de creer le fichier .dot\n"
     ]
    }
   ],
   "source": [
    "# A faire \n",
    "auto.removeState(s1)\n",
    "auto.show()\n",
    "print(\"_________________________________________________\")\n",
    "auto.addState(s1)\n",
    "auto.show()\n",
    "print(\"_________________________________________________\")\n",
    "s0bis = State(0,True,False)\n",
    "auto.addState(s0bis)\n",
    "print(auto)\n",
    "auto.show()"
   ]
  },
  {
   "cell_type": "markdown",
   "id": "14e2f7d8",
   "metadata": {
    "deletable": false,
    "editable": false
   },
   "source": [
    "3. Appeler la fonction `getSetTransitionsFrom` sur\n",
    "  l'automate `auto1` avec `s1` comme argument. Afficher\n",
    "  le résultat."
   ]
  },
  {
   "cell_type": "code",
   "execution_count": 54,
   "id": "4c6792d8",
   "metadata": {
    "tags": [
     "test"
    ]
   },
   "outputs": [
    {
     "data": {
      "text/plain": [
       "{[1-a->2(fin)], [1-b->2(fin)]}"
      ]
     },
     "execution_count": 54,
     "metadata": {},
     "output_type": "execute_result"
    }
   ],
   "source": [
    "# A faire\n",
    "auto1.getSetTransitionsFrom(s1)"
   ]
  },
  {
   "cell_type": "markdown",
   "id": "2cd256e6",
   "metadata": {
    "deletable": false,
    "editable": false
   },
   "source": [
    "### 3. Exercices de base : tests et complétion  <a class=\"anchor\" id=\"sec3\"></a>"
   ]
  },
  {
   "cell_type": "markdown",
   "id": "3abed24f",
   "metadata": {
    "deletable": false,
    "editable": false
   },
   "source": [
    "1. Donner une définition de la fonction `succ`\n",
    "  qui, étant donné un ensemble d'états $S$ et une chaîne de caractères\n",
    "      $a$ (de longueur 1), renvoie l'ensemble des états successeurs de tous les états de $L$ par le caractère $a$. Cette fonction doit généraliser la fonction `succElem` pour qu'elle prenne en paramètre un ensemble d'états au lieu d'un seul état.  Formellement, si $S$ est un ensemble d'états et $a$ une lettre,\n",
    "  $$succ(S,a) = \\bigcup_{s \\in S}succ(s,a) = \\{s' \\in S \\mid \\mbox{il\n",
    "    existe } s \\in L \\mbox{ tel que } s \\xrightarrow{a} s'\\}.$$"
   ]
  },
  {
   "cell_type": "code",
   "execution_count": 55,
   "id": "a6832130",
   "metadata": {},
   "outputs": [],
   "source": [
    "# A faire \n",
    "\n",
    "def succ(self, setStates, lettre):\n",
    "    \"\"\" Automate x set[State] x str -> set[State]\n",
    "        rend l'ensemble des états accessibles à partir de l'ensemble d'états setStates par l'étiquette lettre\n",
    "    \"\"\"\n",
    "    successeurs = set()\n",
    "    # t: Transitions\n",
    "    for st in setStates:     \n",
    "        successeurs= successeurs | succElem(self,st,lettre)\n",
    "                \n",
    "    return successeurs\n",
    "\n",
    "Automate.succ = succ"
   ]
  },
  {
   "cell_type": "code",
   "execution_count": 56,
   "id": "aeefd334",
   "metadata": {
    "tags": [
     "test"
    ]
   },
   "outputs": [
    {
     "name": "stdout",
     "output_type": "stream",
     "text": [
      "Impossible de creer le fichier .dot\n",
      "---\n"
     ]
    }
   ],
   "source": [
    "# On a défini auparavant un automate auto1, voilà les résultats le concernant, puis un jeu de tests :\n",
    "\n",
    "auto1.show()\n",
    "print('---')\n",
    "assert auto1.succ({s0, s2}, 'b') == {s1}\n",
    "assert auto1.succ({s0}, 'a') == {s0}\n",
    "assert auto1.succ({s0, s1}, 'a') == {s0, s2}"
   ]
  },
  {
   "cell_type": "code",
   "execution_count": 57,
   "id": "d8c5fb38",
   "metadata": {
    "tags": [
     "test"
    ]
   },
   "outputs": [
    {
     "name": "stdout",
     "output_type": "stream",
     "text": [
      "Impossible de creer le fichier .dot\n",
      "---\n"
     ]
    }
   ],
   "source": [
    "# Fournir un autre jeu de tests\n",
    "\n",
    "auto1.show()\n",
    "print('---')\n",
    "assert auto1.succ({s0, s2}, 'a') == {s0}\n",
    "assert auto1.succ({s1}, 'a') == {s2}"
   ]
  },
  {
   "cell_type": "markdown",
   "id": "a603473d",
   "metadata": {
    "deletable": false,
    "editable": false
   },
   "source": [
    "2. Donner une définition de la fonction `accepte`\n",
    "  qui, étant donné une chaîne de caractères `mot`,\n",
    "  renvoie un booléen qui vaut vrai si et seulement si `mot` est accepté par l'automate. Attention, noter que l'automate peut ne pas être déterministe."
   ]
  },
  {
   "cell_type": "code",
   "execution_count": 58,
   "id": "fc57d00a",
   "metadata": {},
   "outputs": [],
   "source": [
    "# A faire \n",
    "\n",
    "def accepte(self, mot) :\n",
    "    \"\"\" Automate x str -> bool\n",
    "        rend True si auto accepte mot, False sinon\n",
    "    \"\"\"\n",
    "    s = self.getSetInitialStates() \n",
    "    for lettre in mot:\n",
    "        s = succ(self,s,lettre)\n",
    "    for st in s:\n",
    "        if st.fin:\n",
    "            return True\n",
    "        \n",
    "    return False\n",
    "\n",
    "Automate.accepte = accepte"
   ]
  },
  {
   "cell_type": "code",
   "execution_count": 59,
   "id": "thermal-lithuania",
   "metadata": {
    "tags": [
     "test"
    ]
   },
   "outputs": [
    {
     "name": "stdout",
     "output_type": "stream",
     "text": [
      "Impossible de creer le fichier .dot\n",
      "---\n"
     ]
    }
   ],
   "source": [
    "# On a défini auparavant un automate auto1, voilà les résultats le concernant, puis un jeu de tests :\n",
    "\n",
    "auto1.show()\n",
    "print('---')\n",
    "assert auto1.accepte('aa') == False\n",
    "assert auto1.accepte('ab') == False\n",
    "assert auto1.accepte('aba') == True"
   ]
  },
  {
   "cell_type": "code",
   "execution_count": 60,
   "id": "047609e0",
   "metadata": {
    "tags": [
     "test"
    ]
   },
   "outputs": [],
   "source": [
    "# Fournir un autre jeu de tests"
   ]
  },
  {
   "cell_type": "markdown",
   "id": "7bcc0893",
   "metadata": {
    "deletable": false,
    "editable": false
   },
   "source": [
    "3. Donner une définition de la fonction `estComplet`\n",
    "    qui, étant donné un automate `auto` et un ensemble de caractères `Alphabet`\n",
    "    renvoie un booléen qui vaut vrai si et\n",
    "    seulement si `auto` est complet par rapport à l'alphabet.\n",
    "    \n",
    "    On n'effectuera pas la vérification sur les états non accessibles depuis les états initiaux."
   ]
  },
  {
   "cell_type": "code",
   "execution_count": 61,
   "id": "nuclear-committee",
   "metadata": {},
   "outputs": [],
   "source": [
    "# A faire \n",
    "\n",
    "def estComplet(self, Alphabet) :\n",
    "    \"\"\" Automate x set[str] -> bool\n",
    "        rend True si auto est complet pour les lettres de Alphabet, False sinon\n",
    "        hyp : les éléments de Alphabet sont de longueur 1\n",
    "    \"\"\"\n",
    "    return \n",
    "\n",
    "\n",
    "Automate.estComplet = estComplet"
   ]
  },
  {
   "cell_type": "code",
   "execution_count": 62,
   "id": "standard-girlfriend",
   "metadata": {
    "deletable": false,
    "editable": false,
    "tags": [
     "test"
    ]
   },
   "outputs": [
    {
     "name": "stdout",
     "output_type": "stream",
     "text": [
      "Impossible de creer le fichier .dot\n",
      "---\n"
     ]
    },
    {
     "ename": "AssertionError",
     "evalue": "",
     "output_type": "error",
     "traceback": [
      "\u001b[0;31m---------------------------------------------------------------------------\u001b[0m",
      "\u001b[0;31mAssertionError\u001b[0m                            Traceback (most recent call last)",
      "\u001b[1;32m/workspaces/INFO/IN05_Python/Fichiers Python fournis-20231025/automate_etudiant.ipynb Cell 69\u001b[0m line \u001b[0;36m5\n\u001b[1;32m      <a href='vscode-notebook-cell://codespaces%2Bbookish-space-palm-tree-9vrr6vpj54g2765j/workspaces/INFO/IN05_Python/Fichiers%20Python%20fournis-20231025/automate_etudiant.ipynb#Y125sdnNjb2RlLXJlbW90ZQ%3D%3D?line=2'>3</a>\u001b[0m auto1\u001b[39m.\u001b[39mshow()\n\u001b[1;32m      <a href='vscode-notebook-cell://codespaces%2Bbookish-space-palm-tree-9vrr6vpj54g2765j/workspaces/INFO/IN05_Python/Fichiers%20Python%20fournis-20231025/automate_etudiant.ipynb#Y125sdnNjb2RlLXJlbW90ZQ%3D%3D?line=3'>4</a>\u001b[0m \u001b[39mprint\u001b[39m(\u001b[39m'\u001b[39m\u001b[39m---\u001b[39m\u001b[39m'\u001b[39m)\n\u001b[0;32m----> <a href='vscode-notebook-cell://codespaces%2Bbookish-space-palm-tree-9vrr6vpj54g2765j/workspaces/INFO/IN05_Python/Fichiers%20Python%20fournis-20231025/automate_etudiant.ipynb#Y125sdnNjb2RlLXJlbW90ZQ%3D%3D?line=4'>5</a>\u001b[0m \u001b[39massert\u001b[39;00m auto1\u001b[39m.\u001b[39mestComplet({\u001b[39m'\u001b[39m\u001b[39ma\u001b[39m\u001b[39m'\u001b[39m, \u001b[39m'\u001b[39m\u001b[39mb\u001b[39m\u001b[39m'\u001b[39m}) \u001b[39m==\u001b[39m \u001b[39mTrue\u001b[39;00m\n\u001b[1;32m      <a href='vscode-notebook-cell://codespaces%2Bbookish-space-palm-tree-9vrr6vpj54g2765j/workspaces/INFO/IN05_Python/Fichiers%20Python%20fournis-20231025/automate_etudiant.ipynb#Y125sdnNjb2RlLXJlbW90ZQ%3D%3D?line=5'>6</a>\u001b[0m \u001b[39massert\u001b[39;00m auto1\u001b[39m.\u001b[39mestComplet({\u001b[39m'\u001b[39m\u001b[39ma\u001b[39m\u001b[39m'\u001b[39m, \u001b[39m'\u001b[39m\u001b[39mc\u001b[39m\u001b[39m'\u001b[39m, \u001b[39m'\u001b[39m\u001b[39mb\u001b[39m\u001b[39m'\u001b[39m}) \u001b[39m==\u001b[39m \u001b[39mFalse\u001b[39;00m\n",
      "\u001b[0;31mAssertionError\u001b[0m: "
     ]
    }
   ],
   "source": [
    "# On a défini auparavant un automate auto1, voilà les résultats le concernant, puis un jeu de tests :\n",
    "\n",
    "auto1.show()\n",
    "print('---')\n",
    "assert auto1.estComplet({'a', 'b'}) == True\n",
    "assert auto1.estComplet({'a', 'c', 'b'}) == False"
   ]
  },
  {
   "cell_type": "code",
   "execution_count": null,
   "id": "024f2650",
   "metadata": {
    "tags": [
     "test"
    ]
   },
   "outputs": [],
   "source": [
    "# Fournir un autre jeu de tests"
   ]
  },
  {
   "cell_type": "markdown",
   "id": "c362c529",
   "metadata": {
    "deletable": false,
    "editable": false
   },
   "source": [
    "4. Donner une définition de la fonction `estDeterministe`\n",
    "qui, étant donné un automate `auto`,\n",
    " renvoie un booléen qui vaut vrai si et seulement si `auto` est déterministe."
   ]
  },
  {
   "cell_type": "code",
   "execution_count": null,
   "id": "increased-dodge",
   "metadata": {},
   "outputs": [],
   "source": [
    "# A faire \n",
    "\n",
    "def estDeterministe(self) :\n",
    "    \"\"\" Automate -> bool\n",
    "        rend True si auto est déterministe, False sinon\n",
    "    \"\"\"\n",
    "    return \n",
    "    \n",
    "Automate.estDeterministe = estDeterministe"
   ]
  },
  {
   "cell_type": "markdown",
   "id": "869042e5",
   "metadata": {},
   "source": [
    "L'appel de fonction `copy.deepcopy(auto)` renvoie un nouvel automate identique à `auto`."
   ]
  },
  {
   "cell_type": "code",
   "execution_count": null,
   "id": "divine-secretary",
   "metadata": {
    "tags": [
     "test"
    ]
   },
   "outputs": [],
   "source": [
    "# On a défini auparavant un automate auto1, voilà les résultats le concernant, puis un jeu de tests :\n",
    "\n",
    "auto1.show()\n",
    "print('---')\n",
    "assert auto1.estDeterministe() == True\n",
    "\n",
    "auto1bis = copy.deepcopy(auto1)\n",
    "#t : Transition\n",
    "t = Transition(s1, 'b', s0)\n",
    "auto1bis.addTransition(t)\n",
    "auto1bis.show()\n",
    "print('---')\n",
    "assert auto1bis.estDeterministe() == False\n",
    "\n",
    "auto1bis.removeTransition(t)\n",
    "auto1bis.show()\n",
    "print('---')\n",
    "assert auto1bis.estDeterministe() == True"
   ]
  },
  {
   "cell_type": "code",
   "execution_count": null,
   "id": "satellite-raising",
   "metadata": {
    "tags": [
     "test"
    ]
   },
   "outputs": [],
   "source": [
    "# Fournir un autre jeu de tests"
   ]
  },
  {
   "cell_type": "markdown",
   "id": "b1fc9d16",
   "metadata": {
    "deletable": false,
    "editable": false
   },
   "source": [
    "5. Donner une définition de la fonction `completeAutomate`\n",
    "qui, étant donné un automate `auto` et l'ensemble alphabet d'entrée `Alphabet`,\n",
    "renvoie l'automate complété d'`auto`.\n",
    "  \n",
    "Attention, il ne faut pas modifier `auto`, mais construire un nouvel automate.\n",
    "<br>Il pourra être intéressant d'utiliser l'appel de fonction\n",
    "`copy.deepcopy(auto)` qui renvoie un nouvel automate identique à `auto`.\n",
    "<br>On pourra faire appel à la fonction `nextId` afin de construire l'état $\\bot$."
   ]
  },
  {
   "cell_type": "code",
   "execution_count": null,
   "id": "approved-mixer",
   "metadata": {},
   "outputs": [],
   "source": [
    "# A faire\n",
    "\n",
    "def completeAutomate(self, Alphabet) :\n",
    "    \"\"\" Automate x str -> Automate\n",
    "        rend l'automate complété de self, par rapport à Alphabet\n",
    "    \"\"\"        \n",
    "    return \n",
    "\n",
    "Automate.completeAutomate = completeAutomate"
   ]
  },
  {
   "cell_type": "code",
   "execution_count": null,
   "id": "handed-broadway",
   "metadata": {
    "tags": [
     "test"
    ]
   },
   "outputs": [],
   "source": [
    "# On a défini auparavant un automate auto1, voilà les résultats le concernant :\n",
    "\n",
    "auto1.show()\n",
    "print('---')\n",
    "assert auto1.estComplet({'a', 'b'}) == True\n",
    "auto1complet = auto1.completeAutomate({'a', 'b'})\n",
    "auto1complet.show()\n",
    "assert auto1complet.estComplet({'a', 'b'}) == True\n",
    "\n",
    "print('---')\n",
    "assert auto1.estComplet({'a', 'b', 'c'}) == False\n",
    "auto1complet = auto1.completeAutomate({'a', 'b', 'c'})\n",
    "auto1complet.show()\n",
    "assert auto1complet.estComplet({'a', 'b','c'}) == True"
   ]
  },
  {
   "cell_type": "code",
   "execution_count": null,
   "id": "e0ff4252",
   "metadata": {
    "tags": [
     "test"
    ]
   },
   "outputs": [],
   "source": [
    "# Fournir un autre jeu de tests"
   ]
  },
  {
   "cell_type": "markdown",
   "id": "3fc66c77",
   "metadata": {
    "deletable": false,
    "editable": false
   },
   "source": [
    "### 4. Déterminisation  <a class=\"anchor\" id=\"sec4\"></a>"
   ]
  },
  {
   "cell_type": "markdown",
   "id": "1cfe9a55",
   "metadata": {
    "deletable": false,
    "editable": false
   },
   "source": [
    "1. Donner une définition de la fonction `newLabel`\n",
    "qui, étant donné un ensemble d'états renvoie une *chaîne de caractères* représentant l'ensemble de tous les labels des états.\n",
    "Par exemple, l'appel de `newLabel` sur un ensemble de 3 états dont les labels sont `'1', '2', '3'` renvoie `'{1,2,3}'`\n",
    "\n",
    "Afin d'être assuré que l'ordre de parcours de l'ensemble des états n'a pas d'importance, il sera nécessaire de trier par ordre alphabétique la liste des `label` des états. On pourra faire appel à `L.sort()` qui étant donné la liste `L` de chaînes de caractères, la trie en ordre alphabétique."
   ]
  },
  {
   "cell_type": "code",
   "execution_count": null,
   "id": "blank-exhibition",
   "metadata": {},
   "outputs": [],
   "source": [
    "# A faire\n",
    "\n",
    "def newLabel(S):\n",
    "    \"\"\" set[State] -> str\n",
    "    \"\"\"\n",
    "    return\n"
   ]
  },
  {
   "cell_type": "code",
   "execution_count": null,
   "id": "d01257e8",
   "metadata": {
    "tags": [
     "test"
    ]
   },
   "outputs": [],
   "source": [
    "# On a défini auparavant un automate auto1, voilà un test le concernant :\n",
    "\n",
    "assert newLabel(auto1.allStates) == '{0,1,2}'"
   ]
  },
  {
   "cell_type": "code",
   "execution_count": null,
   "id": "0284b6e1",
   "metadata": {
    "tags": [
     "test"
    ]
   },
   "outputs": [],
   "source": [
    "# Fournir un autre jeu de tests"
   ]
  },
  {
   "cell_type": "markdown",
   "id": "403d8c50",
   "metadata": {
    "deletable": false,
    "editable": false
   },
   "source": [
    "La fonction suivante permet de déterminiser un automate. On remarque qu'un état peut servir de clé dans un dictionnaire."
   ]
  },
  {
   "cell_type": "code",
   "execution_count": null,
   "id": "4d9ef3ea",
   "metadata": {
    "deletable": false
   },
   "outputs": [],
   "source": [
    "def determinisation(self) :\n",
    "    \"\"\" Automate -> Automate\n",
    "    rend l'automate déterminisé de self \"\"\"\n",
    "    # Ini : set[State]\n",
    "    Ini = self.getSetInitialStates()\n",
    "    # fin : bool\n",
    "    fin = False\n",
    "    # e : State\n",
    "    for e in Ini:\n",
    "        if e.fin:\n",
    "            fin = True\n",
    "    lab = newLabel(Ini)\n",
    "    s = State(0, True, fin, lab)\n",
    "    A = Automate(set())\n",
    "    A.addState(s)\n",
    "    Alphabet = {t.etiquette for t in self.allTransitions}\n",
    "    Etats = dict()\n",
    "    Etats[s] = Ini\n",
    "    A.determinisation_etats(self, Alphabet, [s], 0, Etats, {lab})\n",
    "    return A"
   ]
  },
  {
   "cell_type": "markdown",
   "id": "0042bae1",
   "metadata": {
    "deletable": false,
    "editable": false
   },
   "source": [
    "L'automate déterminisé est construit dans `A`. Pour cela la fonction récursive `determinisation_etats` modifie en place l'automate `A`, et prend en outre les paramètres suivants :\n",
    "- `auto`, qui est l'automate de départ à déterminiser\n",
    "- `Alphabet` qui contient l'ensemble des lettres étiquetant les transistions de l'automate de départ\n",
    "- `ListeEtatsATraiter` qui est la liste des états à ajouter et à traiter dans `A` au fur et à mesure que l'on progresse dans `auto`.\n",
    "- `i` qui est l'indice de l'état en cours de traitement (dans la liste `ListeEtatsATraiter`).\n",
    "- `Etats` qui est un dictionnaire dont les clés sont les états de `A` et les valeurs associées sont l'ensemble d'états issus de `auto` que cette clé représente.\n",
    "- `DejaVus` est l'ensemble des labels d'états de `A` déjà vus."
   ]
  },
  {
   "cell_type": "code",
   "execution_count": null,
   "id": "2152f90e",
   "metadata": {},
   "outputs": [],
   "source": [
    "# A faire \n",
    "\n",
    "def determinisation_etats(self, auto, Alphabet, ListeEtatsATraiter, i, Etats, DejaVus):\n",
    "    \"\"\" Automate x Automate x set[str] x list[State] x int x dict[State : set[State]], set[str] -> NoneType\n",
    "    \"\"\"\n",
    "    return \n",
    "\n",
    "Automate.determinisation_etats = determinisation_etats\n",
    "Automate.determinisation = determinisation"
   ]
  },
  {
   "cell_type": "code",
   "execution_count": null,
   "id": "provincial-politics",
   "metadata": {
    "tags": [
     "test"
    ]
   },
   "outputs": [],
   "source": [
    "# Voici un test\n",
    "#automate est l'automate construit plus haut a partir du fichier exempleAutomate.txt\n",
    "automate = Automate.creationAutomate(\"ExemplesAutomates/exempleAutomate.txt\")\n",
    "automate.show()\n",
    "auto_det = automate.determinisation()\n",
    "print(auto_det.estDeterministe())\n",
    "auto_det.show(2)"
   ]
  },
  {
   "cell_type": "code",
   "execution_count": null,
   "id": "7e465d25",
   "metadata": {
    "tags": [
     "test"
    ]
   },
   "outputs": [],
   "source": [
    "#Fournir d'autres jeux de tests"
   ]
  },
  {
   "cell_type": "markdown",
   "id": "dfda1b7d",
   "metadata": {
    "deletable": false,
    "editable": false
   },
   "source": [
    "### 5. Constructions sur les automates réalisant  des opérations sur les langages acceptés <a class=\"anchor\" id=\"sec5\"></a>\n",
    "\n",
    "\n",
    "#### 5.1 Opérations ensemblistes sur les langages <a class=\"anchor\" id=\"sec5_1\"></a>\n",
    "\n",
    "1. Donner une définition de la fonction `complementaire` qui, étant donné un automate `auto` et un ensemble de caractères `Alphabet`, renvoie l'automate acceptant la langage complémentaire du langage accepté par `auto`. Ne pas modifier l'automate `auto`, mais construire un nouvel automate."
   ]
  },
  {
   "cell_type": "code",
   "execution_count": null,
   "id": "technological-teddy",
   "metadata": {},
   "outputs": [],
   "source": [
    "#A faire\n",
    "\n",
    "def complementaire(self, Alphabet):\n",
    "    \"\"\" Automate -> Automate\n",
    "        rend  l'automate acceptant pour langage le complémentaire du langage de self\n",
    "    \"\"\"\n",
    "    return\n",
    "\n",
    "    \n",
    "\n",
    "Automate.complementaire = complementaire   "
   ]
  },
  {
   "cell_type": "code",
   "execution_count": null,
   "id": "generic-flight",
   "metadata": {
    "tags": [
     "test"
    ]
   },
   "outputs": [],
   "source": [
    "# Voici un test\n",
    "\n",
    "automate = Automate.creationAutomate(\"ExemplesAutomates/exempleAutomate.txt\")\n",
    "automate.show()\n",
    "Alphabet = {t.etiquette for t in auto.allTransitions}\n",
    "auto_compl = automate.complementaire(Alphabet)\n",
    "auto_compl.show(2)"
   ]
  },
  {
   "cell_type": "code",
   "execution_count": null,
   "id": "complex-rover",
   "metadata": {
    "tags": [
     "test"
    ]
   },
   "outputs": [],
   "source": [
    "#Fournir d'autres tests\n"
   ]
  },
  {
   "cell_type": "markdown",
   "id": "ebf6372d",
   "metadata": {
    "deletable": false,
    "editable": false
   },
   "source": [
    "2. Donner une définition de la fonction `intersection` qui, étant donné deux automates `auto1` et `auto2`, renvoie l'automate acceptant l'intersection des langages acceptés par `auto1` et `auto2`.\n",
    "\n",
    "L'automate construit ne doit pas avoir d'état non accessible depuis l'état initial."
   ]
  },
  {
   "cell_type": "code",
   "execution_count": null,
   "id": "instructional-infection",
   "metadata": {},
   "outputs": [],
   "source": [
    "#A faire\n",
    "\n",
    "\n",
    "def intersection(self, auto):\n",
    "    \"\"\" Automate x Automate -> Automate\n",
    "    rend l'automate acceptant pour langage l'intersection des langages des deux automates\n",
    "    \"\"\"\n",
    "    return\n",
    "    \n",
    "Automate.intersection = intersection"
   ]
  },
  {
   "cell_type": "code",
   "execution_count": null,
   "id": "toxic-ethics",
   "metadata": {
    "tags": [
     "test"
    ]
   },
   "outputs": [],
   "source": [
    "#Un premier test\n",
    "\n",
    "automate.show()\n",
    "auto2.show()\n",
    "inter = automate.intersection(auto2)\n",
    "inter.show(2)"
   ]
  },
  {
   "cell_type": "code",
   "execution_count": null,
   "id": "attractive-church",
   "metadata": {
    "tags": [
     "test"
    ]
   },
   "outputs": [],
   "source": [
    "# Fournir d'autres tests"
   ]
  },
  {
   "cell_type": "markdown",
   "id": "292321ee",
   "metadata": {},
   "source": [
    "3. (Question facultative) Donner une définition de la fonction `union` qui, étant donné deux automates `auto1` `auto2`, renvoie l'automate acceptant comme langage l'union des langages acceptés par `auto1` et `auto2`."
   ]
  },
  {
   "cell_type": "code",
   "execution_count": null,
   "id": "adequate-teaching",
   "metadata": {},
   "outputs": [],
   "source": [
    "#A faire par l'étudiant\n",
    "\n",
    "def union (self, auto):\n",
    "    \"\"\" Automate x Automate -> Automate\n",
    "    rend l'automate acceptant pour langage l'union des langages des deux automates\n",
    "    \"\"\"\n",
    "    return\n",
    "\n",
    "Automate.union = union  \n"
   ]
  },
  {
   "cell_type": "code",
   "execution_count": null,
   "id": "regulated-fields",
   "metadata": {
    "tags": [
     "test"
    ]
   },
   "outputs": [],
   "source": [
    "#Un premier test\n",
    "\n",
    "automate.show()\n",
    "auto2.show()\n",
    "uni = automate.union(auto2)\n",
    "uni.show(2)"
   ]
  },
  {
   "cell_type": "markdown",
   "id": "0f3067d8",
   "metadata": {},
   "source": [
    "#### 5.2 Opérations rationnelles sur les langages <a class=\"anchor\" id=\"sec5_2\"></a>\n",
    "\n",
    "Programmer *une des deux* méthodes suivantes:\n",
    "\n",
    "1. Donner une définition de la fonction `concatenation` qui, étant donné deux automates `auto1` et `auto2`, renvoie l'automate acceptant comme langage la concaténation des langages acceptés par `auto1` et `auto2`.\n",
    "\n",
    "2. Donner une définition de la fonction `etoile` qui, étant donné un automate `auto`, renvoie l'automate acceptant comme langage l'étoile du langages accepté par `auto`."
   ]
  },
  {
   "cell_type": "code",
   "execution_count": null,
   "id": "flush-graduate",
   "metadata": {},
   "outputs": [],
   "source": [
    "# A faire\n",
    "\n",
    "\n",
    "\n",
    "def concatenation (self, auto):\n",
    "    \"\"\" Automate x Automate -> Automate\n",
    "    rend l'automate acceptant pour langage la concaténation des langages des deux automates\n",
    "    \"\"\"\n",
    "    return \n",
    "\n",
    "Automate.concatenation = concatenation\n"
   ]
  },
  {
   "cell_type": "code",
   "execution_count": null,
   "id": "d90f3d6f",
   "metadata": {
    "tags": [
     "test"
    ]
   },
   "outputs": [],
   "source": [
    "#Un premier test\n",
    "\n",
    "automate.show()\n",
    "auto2.show()\n",
    "concat = automate.concatenation(auto2)\n",
    "concat.show(2)"
   ]
  },
  {
   "cell_type": "code",
   "execution_count": null,
   "id": "ec5f6516",
   "metadata": {
    "tags": [
     "test"
    ]
   },
   "outputs": [],
   "source": [
    "#Fournir un autre jeu de test"
   ]
  },
  {
   "cell_type": "code",
   "execution_count": null,
   "id": "0aa24ea7",
   "metadata": {},
   "outputs": [],
   "source": [
    "def etoile (self):\n",
    "    \"\"\" Automate  -> Automate\n",
    "    rend l'automate acceptant pour langage l'étoile du langage de a\n",
    "    \"\"\"\n",
    "    return \n",
    "\n",
    "Automate.etoile = etoile"
   ]
  },
  {
   "cell_type": "code",
   "execution_count": null,
   "id": "30f198ec",
   "metadata": {
    "tags": [
     "test"
    ]
   },
   "outputs": [],
   "source": [
    "#Un premier test\n",
    "\n",
    "automate.show()\n",
    "autoetoile = automate.etoile()\n",
    "autoetoile.show()"
   ]
  },
  {
   "cell_type": "code",
   "execution_count": null,
   "id": "3f5e927b",
   "metadata": {
    "tags": [
     "test"
    ]
   },
   "outputs": [],
   "source": [
    "#Fournir un autre jeu de tests"
   ]
  }
 ],
 "metadata": {
  "celltoolbar": "Tags",
  "kernelspec": {
   "display_name": "Python 3 (ipykernel)",
   "language": "python",
   "name": "python3"
  },
  "language_info": {
   "codemirror_mode": {
    "name": "ipython",
    "version": 3
   },
   "file_extension": ".py",
   "mimetype": "text/x-python",
   "name": "python",
   "nbconvert_exporter": "python",
   "pygments_lexer": "ipython3",
   "version": "3.10.8"
  }
 },
 "nbformat": 4,
 "nbformat_minor": 5
}
