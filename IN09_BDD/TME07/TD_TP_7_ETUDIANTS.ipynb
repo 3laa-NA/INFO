{
 "cells": [
  {
   "cell_type": "markdown",
   "metadata": {
    "tags": []
   },
   "source": [
    "# Installation H2 \n",
    "\n",
    "Le système utilisé pendant les TME est H2."
   ]
  },
  {
   "cell_type": "code",
   "execution_count": 1,
   "metadata": {
    "tags": []
   },
   "outputs": [
    {
     "name": "stdout",
     "output_type": "stream",
     "text": [
      "Defaulting to user installation because normal site-packages is not writeable\n",
      "Requirement already satisfied: psycopg2-binary in /home/jupyter-15849/.local/lib/python3.12/site-packages (2.9.9)\n",
      "Note: you may need to restart the kernel to use updated packages.\n"
     ]
    }
   ],
   "source": [
    "pip install psycopg2-binary"
   ]
  },
  {
   "cell_type": "markdown",
   "metadata": {},
   "source": [
    "Télécharger le pilote de H2"
   ]
  },
  {
   "cell_type": "code",
   "execution_count": 2,
   "metadata": {
    "tags": []
   },
   "outputs": [
    {
     "name": "stdout",
     "output_type": "stream",
     "text": [
      "--2024-05-01 14:53:40--  https://nuage.lip6.fr/s/LqD9N23kxrfHopr/download?path=agreg/postgresql-42.6.0.jar\n",
      "Resolving nuage.lip6.fr (nuage.lip6.fr)... 132.227.201.11\n",
      "Connecting to nuage.lip6.fr (nuage.lip6.fr)|132.227.201.11|:443... connected.\n",
      "HTTP request sent, awaiting response... 200 OK\n",
      "Length: 1081604 (1,0M) [application/octet-stream]\n",
      "Saving to: ‘postgresql-42.6.0.jar’\n",
      "\n",
      "postgresql-42.6.0.j 100%[===================>]   1,03M  --.-KB/s    in 0,01s   \n",
      "\n",
      "2024-05-01 14:53:40 (104 MB/s) - ‘postgresql-42.6.0.jar’ saved [1081604/1081604]\n",
      "\n",
      "--2024-05-01 14:53:41--  https://nuage.lip6.fr/s/LqD9N23kxrfHopr/download?path=agreg/h2-2.1.214.jar\n",
      "Resolving nuage.lip6.fr (nuage.lip6.fr)... 132.227.201.11\n",
      "Connecting to nuage.lip6.fr (nuage.lip6.fr)|132.227.201.11|:443... connected.\n",
      "HTTP request sent, awaiting response... 200 OK\n",
      "Length: 2543011 (2,4M) [application/octet-stream]\n",
      "Saving to: ‘h2-2.1.214.jar’\n",
      "\n",
      "h2-2.1.214.jar      100%[===================>]   2,42M  --.-KB/s    in 0,02s   \n",
      "\n",
      "2024-05-01 14:53:41 (106 MB/s) - ‘h2-2.1.214.jar’ saved [2543011/2543011]\n",
      "\n"
     ]
    }
   ],
   "source": [
    "!wget https://nuage.lip6.fr/s/LqD9N23kxrfHopr/download?path=agreg/postgresql-42.6.0.jar -O postgresql-42.6.0.jar\n",
    "!wget https://nuage.lip6.fr/s/LqD9N23kxrfHopr/download?path=agreg/h2-2.1.214.jar -O h2-2.1.214.jar"
   ]
  },
  {
   "cell_type": "markdown",
   "metadata": {},
   "source": [
    "**Relancez le kernel**: Kernel -> Restart kernel ..."
   ]
  },
  {
   "cell_type": "markdown",
   "metadata": {},
   "source": [
    "https://www.psycopg.org/docs/\n",
    "http://localhost:8082"
   ]
  },
  {
   "cell_type": "code",
   "execution_count": 3,
   "metadata": {
    "tags": []
   },
   "outputs": [
    {
     "data": {
      "text/plain": [
       "['jo5613.mv.db']"
      ]
     },
     "execution_count": 3,
     "metadata": {},
     "output_type": "execute_result"
    }
   ],
   "source": [
    "import psycopg2\n",
    "import os\n",
    "local_dir = \"./data\"\n",
    "os.makedirs(local_dir, exist_ok=True)\n",
    "os.listdir(local_dir)"
   ]
  },
  {
   "cell_type": "markdown",
   "metadata": {
    "id": "hsCZZv8lmbBK"
   },
   "source": [
    "## Démarrer le serveur SQL H2"
   ]
  },
  {
   "cell_type": "code",
   "execution_count": 4,
   "metadata": {
    "tags": []
   },
   "outputs": [
    {
     "name": "stdout",
     "output_type": "stream",
     "text": [
      "Le numero du port utilisé pour la connexion à la BD est: 5613\n"
     ]
    }
   ],
   "source": [
    "#Remplacez les valeurs des variables suivantes\n",
    "#NN= numéro de groupe: chaine de caractères (ex: 01, 02,.., 13), remplacer xx \n",
    "NN = '06'\n",
    "#BB=numÉro binome: chaîne de caractères (assigné par l'enseignant, ex: 01,..., 15), remplacer xx\n",
    "BB = '13'\n",
    "port = 5000+int(NN+BB)\n",
    "print(f'Le numero du port utilisé pour la connexion à la BD est: {port}')"
   ]
  },
  {
   "cell_type": "code",
   "execution_count": 5,
   "metadata": {
    "id": "rLcOCISm-R1Z",
    "tags": []
   },
   "outputs": [],
   "source": [
    "%%bash --bg --out output -s \"$port\"\n",
    "java -Dh2.bindAddress=127.0.0.1 -cp h2-2.1.214.jar:postgresql-42.6.0.jar org.h2.tools.Server -pg -pgPort $1 -baseDir ./data -ifNotExists"
   ]
  },
  {
   "cell_type": "markdown",
   "metadata": {},
   "source": [
    "# Fonctions utiles"
   ]
  },
  {
   "cell_type": "markdown",
   "metadata": {
    "tags": []
   },
   "source": [
    "## connect_H2"
   ]
  },
  {
   "cell_type": "code",
   "execution_count": 6,
   "metadata": {
    "tags": []
   },
   "outputs": [],
   "source": [
    "def connect_H2(db,user,password):\n",
    "    global connection\n",
    "    try:\n",
    "        connection\n",
    "    except:\n",
    "        connection = None\n",
    "    if connection != None:\n",
    "        try:\n",
    "            connection.close()\n",
    "            print(\"Connection closed\")\n",
    "        except  Error as e:\n",
    "            print(f\"The error '{e}' occurred\")\n",
    "    try:\n",
    "        # connection = sqlite3.connect(path,isolation_level='DEFERRED')\n",
    "        connection = psycopg2.connect(f\"dbname={db} user={user} password={password} host=localhost port={port}\")\n",
    "        print(\"Connection to H2 DB successful\")\n",
    "    except Exception as e:\n",
    "        print(f\"The error '{e}' occurred\")\n",
    "    return connection"
   ]
  },
  {
   "cell_type": "markdown",
   "metadata": {},
   "source": [
    "## execute"
   ]
  },
  {
   "cell_type": "code",
   "execution_count": 7,
   "metadata": {
    "tags": []
   },
   "outputs": [],
   "source": [
    "def execute(connection, query, show=True,close=True):\n",
    "    try:\n",
    "        cursor = connection.cursor()\n",
    "        cursor.execute(query)\n",
    "        print(cursor.rowcount,\"rows\")\n",
    "        if show and cursor.rowcount:\n",
    "            names = [desc[0] for desc in cursor.description]\n",
    "    \n",
    "            lengths={}\n",
    "            for attr in names:\n",
    "                lengths[attr]=len(attr)\n",
    "            for ligne in cursor:\n",
    "                i=0\n",
    "                for attr in ligne:\n",
    "                    lengths[names[i]]=max(lengths[names[i]],len(str(attr)))\n",
    "                    i=i+1\n",
    "            print('|',end='')\n",
    "            for attr in names:\n",
    "                print(str(attr).ljust(lengths[attr]),end='|')\n",
    "            print()\n",
    "            print('|',end='')\n",
    "            for attr in names:\n",
    "                print(''.ljust(lengths[attr]+1,'-'),end='')\n",
    "            print()\n",
    "            cursor.execute(query)\n",
    "            for ligne in cursor:\n",
    "                i=0\n",
    "                print('|',end='')\n",
    "                for attr in ligne:\n",
    "                    print(str(attr)[:lengths[names[i]]].ljust(lengths[names[i]]),end='|')\n",
    "                    i=i+1\n",
    "                print()\n",
    "        if close:\n",
    "            cursor.close()\n",
    "    except Exception as e:\n",
    "        print(f\"The error '{e}' occurred\")\n",
    "        cursor=None\n",
    "    return cursor"
   ]
  },
  {
   "cell_type": "markdown",
   "metadata": {
    "id": "zHpjYeKDK_P9",
    "tags": []
   },
   "source": [
    "**TD/TME 7 : REQUÊTES D'AGRÉGATION ET DIVISION**\n",
    "\n",
    "Ce TD/TME utilise les données contenues dans le fichier **Base Astronomie_H2.sql**\n",
    "\n",
    "**Attention**: vous pouvez cliquer sur les 3 lignes dans la fenêtre de gauche pour d'afficher les différentes sections du notebook "
   ]
  },
  {
   "cell_type": "markdown",
   "metadata": {
    "id": "zHpjYeKDK_P9",
    "tags": []
   },
   "source": [
    "# TD7:  REQUÊTES D'AGRÉGATION ET DIVISION\n",
    "\n",
    "On veut réaliser une application pour des données astronomiques. Les observations, les dates et les\n",
    "valeurs observées sont inventées pour les besoins de l’exercice. Le rayon des astres est en km. On\n",
    "suppose que les attributs ne peuvent pas être null. On considère le schéma suivant :\n",
    "\n",
    "\n",
    "**Categorie**(<u>idC</u>,nom)<br/>\n",
    "**Astre**(<u>idA</u>,nom,rayon,idC*) avec idC référence Categorie(idC)<br/>\n",
    "**TourneAutour**(<u>idA1*</u>,idA2*,position) avec idA1 et idA2 référence Astre(idA)<br/>\n",
    "**Observation**(<u>idO</u>,idA*,dateObs,valObs) avec idA référence Astre(idA)<br/>\n",
    "\n",
    "Exemples de données :\n",
    " - La Terre est la troisième planète qui tourne autour du Soleil.<br/>\n",
    " - Le 10 mai 2010, on a réalisé deux observations du Soleil avec les valeurs 12001 et 12003.\n"
   ]
  },
  {
   "cell_type": "markdown",
   "metadata": {
    "id": "00mRiA73K_QB",
    "tags": []
   },
   "source": [
    "## Connexion à H2"
   ]
  },
  {
   "cell_type": "code",
   "execution_count": 8,
   "metadata": {
    "id": "IRyyRAX2K_QB",
    "tags": []
   },
   "outputs": [
    {
     "name": "stdout",
     "output_type": "stream",
     "text": [
      "Connection to H2 DB successful\n"
     ]
    }
   ],
   "source": [
    "connection = connect_H2(\"jo\"+f'{port}',\"ba\",\"ba\")"
   ]
  },
  {
   "cell_type": "markdown",
   "metadata": {},
   "source": [
    "## Créer les tables et charger les données Base Astronomie_H2.sql"
   ]
  },
  {
   "cell_type": "code",
   "execution_count": 9,
   "metadata": {
    "tags": []
   },
   "outputs": [
    {
     "name": "stdout",
     "output_type": "stream",
     "text": [
      "0 rows\n",
      "0 rows\n"
     ]
    }
   ],
   "source": [
    "schemafile=open(\"Base Astronomie_H2.sql\",mode=\"r\",encoding='utf-8')\n",
    "create_schema=schemafile.read()\n",
    "execute(connection,\"drop all objects\")\n",
    "execute(connection, create_schema)\n",
    "connection.commit()"
   ]
  },
  {
   "cell_type": "markdown",
   "metadata": {},
   "source": [
    "<u>**B - Requêtes: Fonctions d’agrégation « COUNT, SUM, AVG, MIN, MAX »**</u>"
   ]
  },
  {
   "cell_type": "markdown",
   "metadata": {},
   "source": [
    "## **Q5.**. \n",
    "Le nombre de catégories. Résultat : 3"
   ]
  },
  {
   "cell_type": "code",
   "execution_count": 10,
   "metadata": {
    "tags": []
   },
   "outputs": [
    {
     "name": "stdout",
     "output_type": "stream",
     "text": [
      "1 rows\n",
      "|nbcategorie|\n",
      "|------------\n",
      "|3          |\n"
     ]
    },
    {
     "data": {
      "text/plain": [
       "<cursor object at 0x7f198427c220; closed: -1>"
      ]
     },
     "execution_count": 10,
     "metadata": {},
     "output_type": "execute_result"
    }
   ],
   "source": [
    "query=\"\"\"\n",
    "select count(*) as nbCategorie\n",
    "from categorie\n",
    "\n",
    "\"\"\"\n",
    "execute(connection,query,show=True)"
   ]
  },
  {
   "cell_type": "markdown",
   "metadata": {},
   "source": [
    " ## **Q6.** \n",
    "Le nombre de catégories pour lesquelles on connaît au moins un astre. Résultat : 3"
   ]
  },
  {
   "cell_type": "code",
   "execution_count": 11,
   "metadata": {
    "tags": []
   },
   "outputs": [
    {
     "name": "stdout",
     "output_type": "stream",
     "text": [
      "1 rows\n",
      "|nbcategorie|\n",
      "|------------\n",
      "|3          |\n"
     ]
    },
    {
     "data": {
      "text/plain": [
       "<cursor object at 0x7f198427cd60; closed: -1>"
      ]
     },
     "execution_count": 11,
     "metadata": {},
     "output_type": "execute_result"
    }
   ],
   "source": [
    "query=\"\"\"\n",
    "select count(*) as nbCategorie\n",
    "from categorie c\n",
    "where exists (select * from astre a where a.idc = c.idc)\n",
    "\"\"\"\n",
    "execute(connection,query,show=True)"
   ]
  },
  {
   "cell_type": "markdown",
   "metadata": {
    "tags": []
   },
   "source": [
    "##  **Q7.**) \n",
    "Le rayon minimal et le rayon maximal de tous les astres. Résultat : (1737, 696342)"
   ]
  },
  {
   "cell_type": "code",
   "execution_count": 12,
   "metadata": {
    "tags": []
   },
   "outputs": [
    {
     "name": "stdout",
     "output_type": "stream",
     "text": [
      "1 rows\n",
      "|min |max   |\n",
      "|------------\n",
      "|1737|696342|\n"
     ]
    },
    {
     "data": {
      "text/plain": [
       "<cursor object at 0x7f198427cb80; closed: -1>"
      ]
     },
     "execution_count": 12,
     "metadata": {},
     "output_type": "execute_result"
    }
   ],
   "source": [
    "query=\"\"\"\n",
    "select min(a.rayon) as min, max(a.rayon) as max\n",
    "from astre a\n",
    "\n",
    "\"\"\"\n",
    "execute(connection,query,show=True)"
   ]
  },
  {
   "cell_type": "markdown",
   "metadata": {
    "tags": []
   },
   "source": [
    "## **Q8.** \n",
    "Le rayon moyen en milliers de km (et non pas en km), arrondi à 2 chiffres après la virgule.\n",
    "Résultat : ‘176,96 milliers km’. \n",
    "\n",
    "Aide : utilisez :\n",
    "\n",
    "a) round(valeur,nb) pour garder seulement nb décimales à valeur\n",
    "\n",
    "b) l’opérateur de concaténation || pour concaténer des chaînes, attributs… :\n",
    "select ‘abc’ || attribut || ‘def’ from UneTable ;"
   ]
  },
  {
   "cell_type": "code",
   "execution_count": 13,
   "metadata": {
    "tags": []
   },
   "outputs": [
    {
     "name": "stdout",
     "output_type": "stream",
     "text": [
      "1 rows\n",
      "|moyen |\n",
      "|-------\n",
      "|176.96|\n"
     ]
    },
    {
     "data": {
      "text/plain": [
       "<cursor object at 0x7f198427c9a0; closed: -1>"
      ]
     },
     "execution_count": 13,
     "metadata": {},
     "output_type": "execute_result"
    }
   ],
   "source": [
    "query=\"\"\"\n",
    "select avg(a.rayon)/1000 as moyen\n",
    "from astre a\n",
    "\n",
    "\"\"\"\n",
    "execute(connection,query,show=True)"
   ]
  },
  {
   "cell_type": "markdown",
   "metadata": {},
   "source": [
    "## **Q9.a)** \n",
    "Le rayon de l'astre de rayon maximal. Résultat : 696342"
   ]
  },
  {
   "cell_type": "code",
   "execution_count": 14,
   "metadata": {
    "tags": []
   },
   "outputs": [
    {
     "name": "stdout",
     "output_type": "stream",
     "text": [
      "1 rows\n",
      "|max   |\n",
      "|-------\n",
      "|696342|\n"
     ]
    },
    {
     "data": {
      "text/plain": [
       "<cursor object at 0x7f198427c130; closed: -1>"
      ]
     },
     "execution_count": 14,
     "metadata": {},
     "output_type": "execute_result"
    }
   ],
   "source": [
    "query=\"\"\"\n",
    "select max(a.rayon) as max\n",
    "from astre a\n",
    "\"\"\"\n",
    "execute(connection,query,show=True)"
   ]
  },
  {
   "cell_type": "markdown",
   "metadata": {},
   "source": [
    "##  **Q9.b)** \n",
    "Le nom et le rayon de l'astre de rayon maximal. Résultat : (Soleil, 696342)"
   ]
  },
  {
   "cell_type": "code",
   "execution_count": 15,
   "metadata": {
    "tags": []
   },
   "outputs": [
    {
     "name": "stdout",
     "output_type": "stream",
     "text": [
      "1 rows\n",
      "|nom   |rayon |\n",
      "|--------------\n",
      "|Soleil|696342|\n"
     ]
    },
    {
     "data": {
      "text/plain": [
       "<cursor object at 0x7f198427d030; closed: -1>"
      ]
     },
     "execution_count": 15,
     "metadata": {},
     "output_type": "execute_result"
    }
   ],
   "source": [
    "query=\"\"\"\n",
    "select a.nom, a.rayon\n",
    "from astre a\n",
    "where a.rayon = (select max(a.rayon) as max from astre a)\n",
    "\"\"\"\n",
    "execute(connection,query,show=True)"
   ]
  },
  {
   "cell_type": "markdown",
   "metadata": {},
   "source": [
    "<u>**C - Requêtes: Partitionnement « group by »**</u>"
   ]
  },
  {
   "cell_type": "markdown",
   "metadata": {},
   "source": [
    "##  **Q10.** \n",
    "Pour chaque catégorie, l'identifiant de la catégorie et le nombre d'astres de cette catégorie\n",
    "(une seule table suffit), ordonner par nombre d’astres décroissant.\n",
    "Résultats (3 lignes) : (11, 2) ; (10,1) ; (12,1)"
   ]
  },
  {
   "cell_type": "code",
   "execution_count": 16,
   "metadata": {
    "tags": []
   },
   "outputs": [
    {
     "name": "stdout",
     "output_type": "stream",
     "text": [
      "3 rows\n",
      "|nom      |nbastre|\n",
      "|------------------\n",
      "|planète  |2      |\n",
      "|satellite|1      |\n",
      "|étoile   |1      |\n"
     ]
    },
    {
     "data": {
      "text/plain": [
       "<cursor object at 0x7f198427d210; closed: -1>"
      ]
     },
     "execution_count": 16,
     "metadata": {},
     "output_type": "execute_result"
    }
   ],
   "source": [
    "query=\"\"\"\n",
    "select c.nom, count(*) as nbAstre\n",
    "from categorie c, astre a\n",
    "where a.idc = c.idc\n",
    "group by c.nom\n",
    "\n",
    "\"\"\"\n",
    "execute(connection,query,show=True)"
   ]
  },
  {
   "cell_type": "markdown",
   "metadata": {},
   "source": [
    "##  **Q11.a)** \n",
    "Pour chaque astre, l’idA de l’astre et le nombre d'astres qui lui tournent autour. Pour\n",
    "simplifier, prendre que les astres qui ont au moins un autre astre qui leur tourne autour.\n",
    "Résultats (2 lignes) : (100, 2) ; (101,1)."
   ]
  },
  {
   "cell_type": "code",
   "execution_count": 17,
   "metadata": {
    "tags": []
   },
   "outputs": [
    {
     "name": "stdout",
     "output_type": "stream",
     "text": [
      "2 rows\n",
      "|ida|?column?|\n",
      "|-------------\n",
      "|100|2       |\n",
      "|101|1       |\n"
     ]
    },
    {
     "data": {
      "text/plain": [
       "<cursor object at 0x7f198427ce50; closed: -1>"
      ]
     },
     "execution_count": 17,
     "metadata": {},
     "output_type": "execute_result"
    }
   ],
   "source": [
    "query=\"\"\"\n",
    "select a.ida, count(*)\n",
    "from astre a, tourneAutour tA\n",
    "where tA.ida2 = a.ida\n",
    "group by a.ida\n",
    "\n",
    "\"\"\"\n",
    "execute(connection,query,show=True)"
   ]
  },
  {
   "cell_type": "markdown",
   "metadata": {},
   "source": [
    "##  **Q11. b)** \n",
    "Même question, mais on veut le nom de l’astre au lieu de l’idA.\n",
    "Résultats (2 lignes) : (Soleil, 2) ; (Terre, 1) "
   ]
  },
  {
   "cell_type": "code",
   "execution_count": 18,
   "metadata": {
    "tags": []
   },
   "outputs": [
    {
     "name": "stdout",
     "output_type": "stream",
     "text": [
      "2 rows\n",
      "|nom   |?column?|\n",
      "|----------------\n",
      "|Soleil|2       |\n",
      "|Terre |1       |\n"
     ]
    },
    {
     "data": {
      "text/plain": [
       "<cursor object at 0x7f198427d300; closed: -1>"
      ]
     },
     "execution_count": 18,
     "metadata": {},
     "output_type": "execute_result"
    }
   ],
   "source": [
    "query=\"\"\"\n",
    "select a.nom, count(*)\n",
    "from astre a, tourneAutour tA\n",
    "where tA.ida2 = a.ida\n",
    "group by a.ida\n",
    "\n",
    "\"\"\"\n",
    "execute(connection,query,show=True)\n"
   ]
  },
  {
   "cell_type": "markdown",
   "metadata": {},
   "source": [
    "##  **Q12.** \n",
    "Pour chaque couple (astre,date), le nom de l'astre, la date de l'observation et la moyenne des\n",
    "valeurs des observations réalisées.\n",
    "Résultats : (Soleil,2010-05-10,12002) ; (Terre,2013-12-18,8005) ; (Lune,2014-08-27)"
   ]
  },
  {
   "cell_type": "code",
   "execution_count": 19,
   "metadata": {
    "tags": []
   },
   "outputs": [
    {
     "name": "stdout",
     "output_type": "stream",
     "text": [
      "3 rows\n",
      "|nom   |dateobs   |?column?|\n",
      "|---------------------------\n",
      "|Lune  |2014-08-27|3007.0  |\n",
      "|Soleil|2010-05-10|12002.0 |\n",
      "|Terre |2013-12-18|8005.0  |\n"
     ]
    },
    {
     "data": {
      "text/plain": [
       "<cursor object at 0x7f198427d3f0; closed: -1>"
      ]
     },
     "execution_count": 19,
     "metadata": {},
     "output_type": "execute_result"
    }
   ],
   "source": [
    "query=\"\"\"\n",
    "select a.nom, o.dateobs, avg(o.valobs)\n",
    "from astre a, observation o\n",
    "where o.ida = a.ida\n",
    "group by a.nom, o.dateobs\n",
    "\"\"\"\n",
    "execute(connection,query,show=True)"
   ]
  },
  {
   "cell_type": "markdown",
   "metadata": {
    "tags": []
   },
   "source": [
    "##  **Q13.a)**  \n",
    "Pour chaque catégorie, l'idC de la catégorie et le rayon maximal des astres de cette\n",
    "catégorie, ordonner par rayon croissant. Aide : une seule table suffit.\n",
    "Résultats (3 lignes) : (12,1737) ; (11,6371) ; (10,696342)"
   ]
  },
  {
   "cell_type": "code",
   "execution_count": 20,
   "metadata": {
    "tags": []
   },
   "outputs": [
    {
     "name": "stdout",
     "output_type": "stream",
     "text": [
      "3 rows\n",
      "|idc|max   |\n",
      "|-----------\n",
      "|12 |1737  |\n",
      "|11 |6371  |\n",
      "|10 |696342|\n"
     ]
    },
    {
     "data": {
      "text/plain": [
       "<cursor object at 0x7f198427d4e0; closed: -1>"
      ]
     },
     "execution_count": 20,
     "metadata": {},
     "output_type": "execute_result"
    }
   ],
   "source": [
    "query=\"\"\"\n",
    "select a.idc, max(rayon) as max\n",
    "from astre a\n",
    "group by a.idc\n",
    "order by max\n",
    "\"\"\"\n",
    "execute(connection,query,show=True)"
   ]
  },
  {
   "cell_type": "markdown",
   "metadata": {
    "tags": []
   },
   "source": [
    "##  **Q13.b)**  \n",
    "On veut maintenant afficher non pas l’idC, mais le nom de la catégorie.\n",
    "Pour chaque catégorie, le nom de la catégorie et le rayon maximal des astres de cette\n",
    "catégorie, ordonner par nombre d’astres dans chaque catégorie décroissant.\n",
    "Résultats (3 lignes) : (planète, 6371) ; (étoile,696342) ; (satellite, 1737)"
   ]
  },
  {
   "cell_type": "code",
   "execution_count": 21,
   "metadata": {
    "tags": []
   },
   "outputs": [
    {
     "name": "stdout",
     "output_type": "stream",
     "text": [
      "3 rows\n",
      "|nom      |max   |\n",
      "|-----------------\n",
      "|planète  |6371  |\n",
      "|étoile   |696342|\n",
      "|satellite|1737  |\n"
     ]
    },
    {
     "data": {
      "text/plain": [
       "<cursor object at 0x7f198427cf40; closed: -1>"
      ]
     },
     "execution_count": 21,
     "metadata": {},
     "output_type": "execute_result"
    }
   ],
   "source": [
    "query=\"\"\"\n",
    "select c.nom, max(rayon) as max\n",
    "from astre a, categorie c\n",
    "where a.idc = c.idc \n",
    "group by c.idc\n",
    "order by count(*) desc\n",
    "\n",
    "\"\"\"\n",
    "execute(connection,query,show=True)"
   ]
  },
  {
   "cell_type": "markdown",
   "metadata": {
    "tags": []
   },
   "source": [
    "##  **Q13.c)**  \n",
    "On veut maintenant afficher non pas le nom de la catégorie, mais le nom de l’astre.\n",
    "Pour chaque catégorie, l'idC de la catégorie, le(s) nom(s) de(s) astre(s) de rayon\n",
    "maximal et le rayon maximal des astres de cette catégorie. Aide : deux tables suffisent.\n",
    "Résultats (3 lignes) : (10, Soleil,696342) ; (11,Terre,6371) ; (12, Lune, 1737)"
   ]
  },
  {
   "cell_type": "code",
   "execution_count": 22,
   "metadata": {
    "tags": []
   },
   "outputs": [
    {
     "name": "stdout",
     "output_type": "stream",
     "text": [
      "3 rows\n",
      "|idc|nom   |rayon |\n",
      "|------------------\n",
      "|10 |Soleil|696342|\n",
      "|11 |Terre |6371  |\n",
      "|12 |Lune  |1737  |\n"
     ]
    },
    {
     "data": {
      "text/plain": [
       "<cursor object at 0x7f198427d5d0; closed: -1>"
      ]
     },
     "execution_count": 22,
     "metadata": {},
     "output_type": "execute_result"
    }
   ],
   "source": [
    "query=\"\"\"\n",
    "select a.idc, a.nom, a.rayon\n",
    "from astre a\n",
    "where not exists (select * from astre a2 where a2.idc = a.idc and a2.rayon>a.rayon)\n",
    "\"\"\"\n",
    "execute(connection,query,show=True)"
   ]
  },
  {
   "cell_type": "markdown",
   "metadata": {},
   "source": [
    "<u>**D - Requêtes: Partitionnement avec sélection de partition « group by / having »**</u>"
   ]
  },
  {
   "cell_type": "markdown",
   "metadata": {},
   "source": [
    "## **Q14.** \n",
    "L'idC des catégories pour lesquelles il existe au moins deux astres dans cette catégorie.\n",
    "Résultat : 11"
   ]
  },
  {
   "cell_type": "code",
   "execution_count": 23,
   "metadata": {
    "tags": []
   },
   "outputs": [
    {
     "name": "stdout",
     "output_type": "stream",
     "text": [
      "1 rows\n",
      "|idc|\n",
      "|----\n",
      "|11 |\n"
     ]
    },
    {
     "data": {
      "text/plain": [
       "<cursor object at 0x7f198427d7b0; closed: -1>"
      ]
     },
     "execution_count": 23,
     "metadata": {},
     "output_type": "execute_result"
    }
   ],
   "source": [
    "query=\"\"\"\n",
    "select a.idc\n",
    "from astre a\n",
    "group by a.idc\n",
    "having count(*)>1\n",
    "\"\"\"\n",
    "execute(connection,query,show=True)"
   ]
  },
  {
   "cell_type": "markdown",
   "metadata": {},
   "source": [
    "## **Q15.** \n",
    "Pour chaque date (où il y a eu au moins une observation) et où il y a eu une valeur maximale\n",
    "observée supérieure à 8000, la date, le nombre d'observations effectuées ce jour là et la\n",
    "valeur maximale observée. Résultats(2 lignes):(2010-05-10,2, 12003);(2013-12-18, 1, 8005)"
   ]
  },
  {
   "cell_type": "code",
   "execution_count": 24,
   "metadata": {
    "tags": []
   },
   "outputs": [
    {
     "name": "stdout",
     "output_type": "stream",
     "text": [
      "2 rows\n",
      "|dateobs   |nb_obs|max  |\n",
      "|------------------------\n",
      "|2010-05-10|2     |12003|\n",
      "|2013-12-18|1     |8005 |\n"
     ]
    },
    {
     "data": {
      "text/plain": [
       "<cursor object at 0x7f198427c310; closed: -1>"
      ]
     },
     "execution_count": 24,
     "metadata": {},
     "output_type": "execute_result"
    }
   ],
   "source": [
    "query=\"\"\"\n",
    "select o.dateobs, count(*) as nb_obs, max(o.valobs) as max\n",
    "from observation o\n",
    "group by o.dateobs\n",
    "having max(o.valobs)>=8000\n",
    "\"\"\"\n",
    "execute(connection,query,show=True)"
   ]
  },
  {
   "cell_type": "markdown",
   "metadata": {},
   "source": [
    "##  **Q16.** \n",
    " Le nom des astres pour lesquels on a fait exactement deux observations. Résultat : Soleil"
   ]
  },
  {
   "cell_type": "code",
   "execution_count": 25,
   "metadata": {
    "tags": []
   },
   "outputs": [
    {
     "name": "stdout",
     "output_type": "stream",
     "text": [
      "1 rows\n",
      "|nom   |\n",
      "|-------\n",
      "|Soleil|\n"
     ]
    },
    {
     "data": {
      "text/plain": [
       "<cursor object at 0x7f198427d8a0; closed: -1>"
      ]
     },
     "execution_count": 25,
     "metadata": {},
     "output_type": "execute_result"
    }
   ],
   "source": [
    "query=\"\"\"\n",
    "select a.nom\n",
    "from astre a, observation o\n",
    "where o.ida =a.ida\n",
    "group by a.ida\n",
    "having count(*)=2\n",
    "\"\"\"\n",
    "execute(connection,query,show=True)"
   ]
  },
  {
   "cell_type": "markdown",
   "metadata": {},
   "source": [
    "##  **Q17.** \n",
    "Le nom des astres qui ont au moins deux astres qui leur tournent autour. Résultat : Soleil"
   ]
  },
  {
   "cell_type": "code",
   "execution_count": 26,
   "metadata": {
    "tags": []
   },
   "outputs": [
    {
     "name": "stdout",
     "output_type": "stream",
     "text": [
      "1 rows\n",
      "|nom   |\n",
      "|-------\n",
      "|Soleil|\n"
     ]
    },
    {
     "data": {
      "text/plain": [
       "<cursor object at 0x7f198427db70; closed: -1>"
      ]
     },
     "execution_count": 26,
     "metadata": {},
     "output_type": "execute_result"
    }
   ],
   "source": [
    "query=\"\"\"\n",
    "select a.nom\n",
    "from astre a, tourneAutour tA\n",
    "where tA.ida2 = a.ida\n",
    "group by a.ida\n",
    "having count(*)>1\n",
    "\"\"\"\n",
    "execute(connection,query,show=True)"
   ]
  },
  {
   "cell_type": "markdown",
   "metadata": {},
   "source": [
    "<u>**E - Requêtes: Réécriture double négation avec Group By et Having**</u>"
   ]
  },
  {
   "cell_type": "markdown",
   "metadata": {},
   "source": [
    "##  **Q18.a)** \n",
    " Les dates d’observations pour lesquelles il y a au moins une observation pour chaque astre existant dans la bases de données.\n",
    "Résultat : aucun sur cet exemple"
   ]
  },
  {
   "cell_type": "code",
   "execution_count": 27,
   "metadata": {
    "tags": []
   },
   "outputs": [
    {
     "name": "stdout",
     "output_type": "stream",
     "text": [
      "0 rows\n"
     ]
    },
    {
     "data": {
      "text/plain": [
       "<cursor object at 0x7f198427dc60; closed: -1>"
      ]
     },
     "execution_count": 27,
     "metadata": {},
     "output_type": "execute_result"
    }
   ],
   "source": [
    "query=\"\"\"\n",
    "select o.dateobs\n",
    "from observation o\n",
    "group by o.dateobs, o.ida\n",
    "having count(*) = (select count(*) from astre)\n",
    "\n",
    "\"\"\"\n",
    "execute(connection,query,show=True)"
   ]
  },
  {
   "cell_type": "markdown",
   "metadata": {},
   "source": [
    "##  **Q18.b)** \n",
    "Les dates d’observations pour lesquelles il y a au moins une observation pour chaque astre observés au moins une fois.\n",
    "Résultat : aucun sur cet exemple"
   ]
  },
  {
   "cell_type": "code",
   "execution_count": 28,
   "metadata": {
    "tags": []
   },
   "outputs": [
    {
     "name": "stdout",
     "output_type": "stream",
     "text": [
      "0 rows\n"
     ]
    },
    {
     "data": {
      "text/plain": [
       "<cursor object at 0x7f198427dd50; closed: -1>"
      ]
     },
     "execution_count": 28,
     "metadata": {},
     "output_type": "execute_result"
    }
   ],
   "source": [
    "query=\"\"\"\n",
    "select o.dateobs\n",
    "from observation o\n",
    "group by o.dateobs, o.ida\n",
    "having count(*) = (select count(*) from astre a where exists (select * from observation o2 where o2.ida = a.ida))\n",
    "\"\"\"\n",
    "execute(connection,query,show=True)\n"
   ]
  },
  {
   "cell_type": "markdown",
   "metadata": {
    "tags": []
   },
   "source": [
    "##  **Q19.a)** \n",
    "L'idC des catégories pour lesquelles il existe au moins une observation pour chaque astre\n",
    "de cette catégorie. Résultats (2 lignes) : 10 ; 12"
   ]
  },
  {
   "cell_type": "code",
   "execution_count": 29,
   "metadata": {
    "tags": []
   },
   "outputs": [
    {
     "name": "stdout",
     "output_type": "stream",
     "text": [
      "2 rows\n",
      "|idc|\n",
      "|----\n",
      "|10 |\n",
      "|12 |\n"
     ]
    },
    {
     "data": {
      "text/plain": [
       "<cursor object at 0x7f198427de40; closed: -1>"
      ]
     },
     "execution_count": 29,
     "metadata": {},
     "output_type": "execute_result"
    }
   ],
   "source": [
    "query=\"\"\"\n",
    "select a.idc\n",
    "from astre a\n",
    "group by a.idc\n",
    "having count(a.ida)=(select count(distinct o.ida) from astre a2, observation o where a2.ida = o.ida and a2.idc = a.idc)\n",
    "\"\"\"\n",
    "execute(connection,query,show=True)"
   ]
  },
  {
   "cell_type": "markdown",
   "metadata": {
    "tags": []
   },
   "source": [
    "##  **Q19.b)**  \n",
    "Même question mais on veut afficher non pas l’idC, mais le nom de la catégorie.\n",
    "Résultats (2 lignes) : étoile ; satellite"
   ]
  },
  {
   "cell_type": "code",
   "execution_count": 30,
   "metadata": {
    "tags": []
   },
   "outputs": [
    {
     "name": "stdout",
     "output_type": "stream",
     "text": [
      "2 rows\n",
      "|nom      |\n",
      "|----------\n",
      "|étoile   |\n",
      "|satellite|\n"
     ]
    },
    {
     "data": {
      "text/plain": [
       "<cursor object at 0x7f198427df30; closed: -1>"
      ]
     },
     "execution_count": 30,
     "metadata": {},
     "output_type": "execute_result"
    }
   ],
   "source": [
    "query=\"\"\"\n",
    "select c.nom\n",
    "from astre a, categorie c\n",
    "where c.idc = a.idc\n",
    "group by a.idc\n",
    "having count(a.ida)=(select count(distinct o.ida) from astre a2, observation o where a2.ida = o.ida and a2.idc = a.idc)\n",
    "\n",
    "\"\"\"\n",
    "execute(connection,query,show=True)"
   ]
  },
  {
   "cell_type": "markdown",
   "metadata": {},
   "source": [
    "# TME7: REQUÊTES D'AGRÉGATION ET DIVISION\n",
    "\n",
    "On reprend le schéma schéma « Jeux Olympiques d'hiver 2014 ».\n",
    "\n",
    "**PAYS** ( <u>CODEPAYS</u>, NOMP)<br/>\n",
    "Ex. ('FRA', 'France')<br/>\n",
    "**SPORT** ( <u>SID</u>, NOMSP)<br/>\n",
    "Ex. (1, 'Biathlon')<br/>\n",
    "**EPREUVE** ( <u>EPID</u>, SID*, NOMEP, CATÉGORIE, DATEDEBUT, DATEFIN)<br/>\n",
    "Ex. (10, 1, 'relais 4x7,5km', 'Hommes', 22/02/2014, 22/02/2014)<br/>\n",
    "**ATHLETE** ( <u>AID</u>, NOMATH, PRENOMATH, DATENAISSANCE, CODEPAYS*)<br/>\n",
    "Ex. (1000, 'SOBOLEV', 'Alexey', NULL, 'RUS')<br/>\n",
    "**EQUIPE** ( <u>EQID</u>, CODEPAYS*)<br/>\n",
    "Ex. (30, 'SUI')<br/>\n",
    "**ATHLETESEQUIPE** ( <u>EQID*, AID*</u>)<br/>\n",
    "Ex. (30, 796) : L'athlète (aid=796) a participé à l'équipe (eqid=30)<br/>\n",
    "**RANGINDIVIDUEL** ( <u>EPID*, AID*</u>, RANG)<br/>\n",
    "Ex. (15, 61, 1) : L'athlète (aid=61) a gagné la médaille d'or (rang=1) de l'épreuve (epid=15)<br/>\n",
    "**RANGEQUIPE** ( <u>EPID*, EQID*</u>, RANG)<br/>\n",
    "Ex. (10, 30, 14) : L'équipe (eqid=30) a été classée 14e à l'épreuve (epid=10)<br/>"
   ]
  },
  {
   "cell_type": "markdown",
   "metadata": {},
   "source": [
    "## Créer les tables et charger les données bd-jo-v2_H2.sql"
   ]
  },
  {
   "cell_type": "code",
   "execution_count": 31,
   "metadata": {
    "tags": []
   },
   "outputs": [
    {
     "name": "stdout",
     "output_type": "stream",
     "text": [
      "0 rows\n",
      "0 rows\n"
     ]
    }
   ],
   "source": [
    "schemafile=open(\"bd-jo-v2_H2.sql\",mode=\"r\",encoding='utf-8')\n",
    "create_schema=schemafile.read()\n",
    "execute(connection,\"drop all objects\")\n",
    "execute(connection, create_schema)\n",
    "connection.commit()"
   ]
  },
  {
   "cell_type": "markdown",
   "metadata": {},
   "source": [
    "<u>**Requêtes: Fonctions d’agrégation « COUNT, SUM, AVG, MIN, MAX »**</u>"
   ]
  },
  {
   "cell_type": "markdown",
   "metadata": {},
   "source": [
    "##  **Q1.**  \n",
    "Le nombre d’athlètes.\n",
    "Résultat (1 ligne) : 2431"
   ]
  },
  {
   "cell_type": "code",
   "execution_count": 32,
   "metadata": {
    "tags": []
   },
   "outputs": [
    {
     "name": "stdout",
     "output_type": "stream",
     "text": [
      "1 rows\n",
      "|?column?|\n",
      "|---------\n",
      "|2431    |\n"
     ]
    },
    {
     "data": {
      "text/plain": [
       "<cursor object at 0x7f198427e020; closed: -1>"
      ]
     },
     "execution_count": 32,
     "metadata": {},
     "output_type": "execute_result"
    }
   ],
   "source": [
    "query=\"\"\"\n",
    "select count(*)\n",
    "from athlete\n",
    "\n",
    "\"\"\"\n",
    "execute(connection,query,show=True)"
   ]
  },
  {
   "cell_type": "markdown",
   "metadata": {
    "tags": []
   },
   "source": [
    "##  **Q2.**  \n",
    "Le nombre d’athlètes ayant participé à au moins une épreuve en individuel.\n",
    "Résultat (1 ligne) : 1558"
   ]
  },
  {
   "cell_type": "code",
   "execution_count": 33,
   "metadata": {
    "tags": []
   },
   "outputs": [
    {
     "name": "stdout",
     "output_type": "stream",
     "text": [
      "1 rows\n",
      "|?column?|\n",
      "|---------\n",
      "|1558    |\n"
     ]
    },
    {
     "data": {
      "text/plain": [
       "<cursor object at 0x7f198427d6c0; closed: -1>"
      ]
     },
     "execution_count": 33,
     "metadata": {},
     "output_type": "execute_result"
    }
   ],
   "source": [
    "query=\"\"\"\n",
    "select count(*)\n",
    "from athlete a\n",
    "where a.aid = any (select ri.aid from rangIndividuel ri)\n",
    "\n",
    "\"\"\"\n",
    "execute(connection,query,show=True)"
   ]
  },
  {
   "cell_type": "markdown",
   "metadata": {
    "tags": []
   },
   "source": [
    "##  **Q3.**  \n",
    "L'âge moyen des sportifs dont le code pays est 'FRA' (France) au 06/02/2014.\n",
    "Résultat (1 ligne) : 26,8\n",
    "\n",
    "Aide :\n",
    "\n",
    "– utilisez round(valeur,nb) pour garder seulement nb décimales à valeur"
   ]
  },
  {
   "cell_type": "code",
   "execution_count": 34,
   "metadata": {
    "tags": []
   },
   "outputs": [
    {
     "name": "stdout",
     "output_type": "stream",
     "text": [
      "1 rows\n",
      "|age_moyen|\n",
      "|----------\n",
      "|26.8     |\n"
     ]
    },
    {
     "data": {
      "text/plain": [
       "<cursor object at 0x7f198427e200; closed: -1>"
      ]
     },
     "execution_count": 34,
     "metadata": {},
     "output_type": "execute_result"
    }
   ],
   "source": [
    "query=\"\"\"\n",
    "select round(avg(datediff(day,a.datenaissance, '2014-02-06'))/365,1) as age_moyen\n",
    "from athlete a\n",
    "where a.datenaissance is not null and a.codepays= 'FRA'\n",
    "\"\"\"\n",
    "execute(connection,query,show=True)"
   ]
  },
  {
   "cell_type": "markdown",
   "metadata": {
    "tags": []
   },
   "source": [
    "##  **Q4.**  \n",
    "La durée moyenne, minimale et maximale des épreuves.\n",
    "Résultat (1 ligne) : « Durée moyenne = 1,98 min = 1 max = 16 »\n",
    "\n",
    "Aide : utilisez l’opérateur de concaténation ||\n",
    "\n",
    "Attention : entre le 10/01/2014 et le 13/01/2014, il y a une durée de 4 jours (et non pas 3)."
   ]
  },
  {
   "cell_type": "code",
   "execution_count": 35,
   "metadata": {
    "tags": []
   },
   "outputs": [
    {
     "name": "stdout",
     "output_type": "stream",
     "text": [
      "1 rows\n",
      "|?column?            |?column?            |?column?            |\n",
      "|---------------------------------------------------------------\n",
      "|Durée moyenne = 1.98|min = 1             |max = 16            |\n"
     ]
    },
    {
     "data": {
      "text/plain": [
       "<cursor object at 0x7f198427e110; closed: -1>"
      ]
     },
     "execution_count": 35,
     "metadata": {},
     "output_type": "execute_result"
    }
   ],
   "source": [
    "query=\"\"\"\n",
    "select  \n",
    "'Durée moyenne = ' || round ( avg(datediff(day, ep.datedebut, ep.datefin)+1), 2), \n",
    "'min = ' || min(datediff(day, ep.datedebut, ep.datefin)+1), \n",
    "'max = ' ||max(datediff(day, ep.datedebut, ep.datefin)+1)\n",
    "from epreuve ep\n",
    "\n",
    "\"\"\"\n",
    "execute(connection,query,show=True)"
   ]
  },
  {
   "cell_type": "markdown",
   "metadata": {},
   "source": [
    "## **Q5.** \n",
    "Le nombre moyen d'athlètes par pays, c'est-à-dire le nombre d'athlètes divisé par le nombre\n",
    "de pays (ayant au moins un athlète). Résultat (1 ligne) : 27,625"
   ]
  },
  {
   "cell_type": "code",
   "execution_count": 36,
   "metadata": {
    "tags": []
   },
   "outputs": [
    {
     "name": "stdout",
     "output_type": "stream",
     "text": [
      "1 rows\n",
      "|round |\n",
      "|-------\n",
      "|27.625|\n"
     ]
    },
    {
     "data": {
      "text/plain": [
       "<cursor object at 0x7f198427e4d0; closed: -1>"
      ]
     },
     "execution_count": 36,
     "metadata": {},
     "output_type": "execute_result"
    }
   ],
   "source": [
    "query=\"\"\"\n",
    "select round (count(*)*1.0/(select count(*) from pays where codepays = any (select codepays from athlete)), 3)\n",
    "from athlete a\n",
    "\"\"\"\n",
    "execute(connection,query,show=True)"
   ]
  },
  {
   "cell_type": "markdown",
   "metadata": {},
   "source": [
    "<u>**Partitionnement « group by »**</u>"
   ]
  },
  {
   "cell_type": "markdown",
   "metadata": {},
   "source": [
    "## **Q6.** \n",
    "Pour chaque pays, le nom du pays et le nombre d’athlètes, ordonner par nombre d’athlètes\n",
    "croissant.\n",
    "Résultats (88 lignes) : (PAK,1) ; (HKG, 1) ; ... ; (USA, 196) ; (CAN,221)"
   ]
  },
  {
   "cell_type": "code",
   "execution_count": 38,
   "metadata": {},
   "outputs": [
    {
     "name": "stdout",
     "output_type": "stream",
     "text": [
      "88 rows\n"
     ]
    },
    {
     "data": {
      "text/plain": [
       "<cursor object at 0x7f198427e7a0; closed: -1>"
      ]
     },
     "execution_count": 38,
     "metadata": {},
     "output_type": "execute_result"
    }
   ],
   "source": [
    "query=\"\"\"\n",
    "select a.codepays, count(*)\n",
    "from athlete a\n",
    "group by a.codepays\n",
    "order by 2\n",
    "\"\"\"\n",
    "execute(connection,query,show=False)"
   ]
  },
  {
   "cell_type": "markdown",
   "metadata": {},
   "source": [
    "## **Q7.** \n",
    "Le nombre moyen d'athlètes par pays (avec group by). Aide : compter le nombre\n",
    "d’athlètes dans chaque pays (ayant au moins un athlète) avec une sous-requêtes dans la clause FROM, puis faire la moyenne.\n",
    "Résultat (1 ligne) : 27,625"
   ]
  },
  {
   "cell_type": "code",
   "execution_count": 46,
   "metadata": {},
   "outputs": [
    {
     "name": "stdout",
     "output_type": "stream",
     "text": [
      "1 rows\n",
      "|round |\n",
      "|-------\n",
      "|27.625|\n"
     ]
    },
    {
     "data": {
      "text/plain": [
       "<cursor object at 0x7f198427d120; closed: -1>"
      ]
     },
     "execution_count": 46,
     "metadata": {},
     "output_type": "execute_result"
    }
   ],
   "source": [
    "query=\"\"\"\n",
    "select round(avg(nb), 3)\n",
    "from (select count(*) as nb from Athlete group by codePays)\n",
    "\"\"\"\n",
    "execute(connection,query,show=True)"
   ]
  },
  {
   "cell_type": "markdown",
   "metadata": {},
   "source": [
    "## **Q8.** \n",
    "Pour chaque équipe, l’eqid de l'équipe et le nombre d'athlètes, ordonner par nombre\n",
    "d’athlètes décroissant.\n",
    "Résultats (296 lignes) : (164,25) ; (165,25) ; (166,25) ; ... ; (180,2) ; (181, 2) ; (182, 2)"
   ]
  },
  {
   "cell_type": "code",
   "execution_count": 50,
   "metadata": {},
   "outputs": [
    {
     "name": "stdout",
     "output_type": "stream",
     "text": [
      "296 rows\n"
     ]
    },
    {
     "data": {
      "text/plain": [
       "<cursor object at 0x7f198427ec50; closed: -1>"
      ]
     },
     "execution_count": 50,
     "metadata": {},
     "output_type": "execute_result"
    }
   ],
   "source": [
    "query=\"\"\"\n",
    "select eqid, count(*)\n",
    "from athletesEquipe\n",
    "group by eqid\n",
    "order by 2 desc\n",
    "\"\"\"\n",
    "execute(connection,query,show=False)"
   ]
  },
  {
   "cell_type": "markdown",
   "metadata": {},
   "source": [
    "## **Q9.** \n",
    "Pour chaque catégorie, la catégorie et le nombre d'épreuves.\n",
    "Résultats (3 lignes) : (Femmes,43) ; (Mixte,6) ; (Hommes,49)"
   ]
  },
  {
   "cell_type": "code",
   "execution_count": 51,
   "metadata": {},
   "outputs": [
    {
     "name": "stdout",
     "output_type": "stream",
     "text": [
      "3 rows\n",
      "|categorie|?column?|\n",
      "|-------------------\n",
      "|Femmes   |43      |\n",
      "|Hommes   |49      |\n",
      "|Mixte    |6       |\n"
     ]
    },
    {
     "data": {
      "text/plain": [
       "<cursor object at 0x7f198427eb60; closed: -1>"
      ]
     },
     "execution_count": 51,
     "metadata": {},
     "output_type": "execute_result"
    }
   ],
   "source": [
    "query=\"\"\"\n",
    "select categorie, count(*)\n",
    "from epreuve\n",
    "group by categorie\n",
    "\"\"\"\n",
    "execute(connection,query,show=True)"
   ]
  },
  {
   "cell_type": "markdown",
   "metadata": {},
   "source": [
    "## **Q10.** \n",
    "Pour chaque sport, le nom du sport et le nombre d'épreuves, ordonner par nombre d'épreuves\n",
    "décroissant.\n",
    "\n",
    "Résultats (15 lignes) : (Patinage de vitesse,12) ; (Ski de fond,12) ; ... ;(Hockey sur glace,2)"
   ]
  },
  {
   "cell_type": "code",
   "execution_count": 52,
   "metadata": {},
   "outputs": [
    {
     "name": "stdout",
     "output_type": "stream",
     "text": [
      "15 rows\n",
      "|nomsp                               |?column?|\n",
      "|----------------------------------------------\n",
      "|Patinage de vitesse                 |12      |\n",
      "|Ski de fond                         |12      |\n",
      "|Biathlon                            |11      |\n",
      "|Ski acrobatique                     |10      |\n",
      "|Ski alpin                           |10      |\n",
      "|Surf des neiges                     |10      |\n",
      "|Patinage de vitesse sur piste courte|8       |\n",
      "|Patinage artistique                 |5       |\n",
      "|Luge                                |4       |\n",
      "|Saut à ski                          |4       |\n",
      "|Bobsleigh                           |3       |\n",
      "|Combiné nordique                    |3       |\n",
      "|Curling                             |2       |\n",
      "|Hockey sur glace                    |2       |\n",
      "|Skeleton                            |2       |\n"
     ]
    },
    {
     "data": {
      "text/plain": [
       "<cursor object at 0x7f198427f100; closed: -1>"
      ]
     },
     "execution_count": 52,
     "metadata": {},
     "output_type": "execute_result"
    }
   ],
   "source": [
    "query=\"\"\"\n",
    "select s.nomsp, count(*)\n",
    "from sport s, epreuve ep\n",
    "where s.sid = ep.sid\n",
    "group by ep.sid\n",
    "order by 2 desc\n",
    "\"\"\"\n",
    "execute(connection,query,show=True)"
   ]
  },
  {
   "cell_type": "markdown",
   "metadata": {},
   "source": [
    "## **Q11.** \n",
    "Pour chaque pays, le code du pays, le nombre de médailles en épreuve individuelle gagnées\n",
    "et le nombre d'athlètes ayant gagnés au moins une médaille. Ordonner par nombre de\n",
    "médailles décroissant. Aide : 2 tables seulement sont nécessaires.\n",
    "Résultats (24 lignes) : (NOR, 24,19) ; (NED,22,15) ; ..."
   ]
  },
  {
   "cell_type": "code",
   "execution_count": 69,
   "metadata": {},
   "outputs": [
    {
     "name": "stdout",
     "output_type": "stream",
     "text": [
      "24 rows\n",
      "|codepays|nb_medailles|nb_athletes|\n",
      "|----------------------------------\n",
      "|NOR     |24          |19         |\n",
      "|NED     |22          |15         |\n",
      "|USA     |20          |20         |\n",
      "|RUS     |19          |16         |\n",
      "|CAN     |17          |16         |\n",
      "|FRA     |14          |12         |\n",
      "|AUT     |13          |11         |\n",
      "|GER     |12          |11         |\n",
      "|SLO     |10          |5          |\n",
      "|CHN     |8           |8          |\n",
      "|SUI     |8           |7          |\n",
      "|SWE     |8           |7          |\n",
      "|CZE     |7           |5          |\n",
      "|JPN     |7           |7          |\n",
      "|BLR     |6           |3          |\n",
      "|ITA     |6           |4          |\n",
      "|KOR     |6           |4          |\n",
      "|POL     |4           |3          |\n",
      "|AUS     |3           |3          |\n",
      "|GBR     |2           |2          |\n",
      "|CRO     |1           |1          |\n",
      "|FIN     |1           |1          |\n",
      "|KAZ     |1           |1          |\n",
      "|LAT     |1           |1          |\n"
     ]
    },
    {
     "data": {
      "text/plain": [
       "<cursor object at 0x7f19842cc130; closed: -1>"
      ]
     },
     "execution_count": 69,
     "metadata": {},
     "output_type": "execute_result"
    }
   ],
   "source": [
    "query=\"\"\"\n",
    "select a.codepays, count(*) as nb_medailles, count(distinct ri.aid) as nb_athletes\n",
    "from athlete a, rangIndividuel ri\n",
    "where ri.aid = a.aid and ri.rang < 4\n",
    "group by a.codepays\n",
    "order by 2 desc\n",
    "\"\"\"\n",
    "execute(connection,query,show=True)"
   ]
  },
  {
   "cell_type": "markdown",
   "metadata": {},
   "source": [
    "## **Q12.** \n",
    "Pour chaque pays et sport, le code du pays, le sid du sport, le nombre de médailles en\n",
    "épreuve individuelle gagnées, le nombre d'athlètes ayant gagnés au moins une médaille,\n",
    "ordonner d'abord par code pays, puis par nombre de médailles décroissant.\n",
    "Résultats (84 lignes) : (AUS,12,2,2); (AUS,15,1,1);(AUT,13,9,7);(AUT,15,2,2);..."
   ]
  },
  {
   "cell_type": "code",
   "execution_count": 72,
   "metadata": {},
   "outputs": [
    {
     "name": "stdout",
     "output_type": "stream",
     "text": [
      "84 rows\n"
     ]
    },
    {
     "data": {
      "text/plain": [
       "<cursor object at 0x7f19842cc220; closed: -1>"
      ]
     },
     "execution_count": 72,
     "metadata": {},
     "output_type": "execute_result"
    }
   ],
   "source": [
    "query=\"\"\"\n",
    "select a.codepays, ep.sid, count(*) as nb_medailles, count(distinct ri.aid) as nb_athletes\n",
    "from athlete a, rangIndividuel ri, epreuve ep\n",
    "where ri.aid = a.aid and ri.rang < 4 and ep.epid = ri.epid\n",
    "group by a.codepays, ep.sid\n",
    "order by 1 , 3 desc\n",
    "\"\"\"\n",
    "execute(connection,query,show=False)"
   ]
  },
  {
   "cell_type": "markdown",
   "metadata": {},
   "source": [
    "<u>**Partitionnement avec « group by / having »**</u>"
   ]
  },
  {
   "cell_type": "markdown",
   "metadata": {},
   "source": [
    "## **Q13.a)** \n",
    "L’eqid de la ou des équipes qui sont composées d'exactement 10 athlètes. Résultat (1 ligne) : 226"
   ]
  },
  {
   "cell_type": "code",
   "execution_count": 78,
   "metadata": {},
   "outputs": [
    {
     "name": "stdout",
     "output_type": "stream",
     "text": [
      "1 rows\n",
      "|eqid|\n",
      "|-----\n",
      "|226 |\n"
     ]
    },
    {
     "data": {
      "text/plain": [
       "<cursor object at 0x7f198427fc40; closed: -1>"
      ]
     },
     "execution_count": 78,
     "metadata": {},
     "output_type": "execute_result"
    }
   ],
   "source": [
    "query=\"\"\"\n",
    "select eqid\n",
    "from athletesEquipe\n",
    "group by eqid\n",
    "having count(*) = 10\n",
    "\"\"\"\n",
    "execute(connection,query,show=True)"
   ]
  },
  {
   "cell_type": "markdown",
   "metadata": {},
   "source": [
    "## **Q13.b)** \n",
    "L’eqid de la ou des équipes qui sont composées du plus d’athlètes pour ces JO. Résultats (3 lignes) : 164 ; 165 ; 166"
   ]
  },
  {
   "cell_type": "code",
   "execution_count": 79,
   "metadata": {},
   "outputs": [
    {
     "name": "stdout",
     "output_type": "stream",
     "text": [
      "3 rows\n",
      "|eqid|\n",
      "|-----\n",
      "|164 |\n",
      "|165 |\n",
      "|166 |\n"
     ]
    },
    {
     "data": {
      "text/plain": [
       "<cursor object at 0x7f19842cc5e0; closed: -1>"
      ]
     },
     "execution_count": 79,
     "metadata": {},
     "output_type": "execute_result"
    }
   ],
   "source": [
    "query=\"\"\"\n",
    "select eqid\n",
    "from athletesEquipe\n",
    "group by eqid\n",
    "having count(*) >= all (select count(*) from athletesEquipe group by eqid)\n",
    "\"\"\"\n",
    "execute(connection,query,show=True)"
   ]
  },
  {
   "cell_type": "markdown",
   "metadata": {},
   "source": [
    "## **Q14.** \n",
    " Le nombre d'épreuves en individuel où il y a eu au moins 100 participants.\n",
    " Aide: calculer les epreuves dans une sous-requête dans la clause FROM \n",
    "Résultat (1 ligne ) : 2"
   ]
  },
  {
   "cell_type": "code",
   "execution_count": 81,
   "metadata": {},
   "outputs": [
    {
     "name": "stdout",
     "output_type": "stream",
     "text": [
      "1 rows\n",
      "|?column?|\n",
      "|---------\n",
      "|2       |\n"
     ]
    },
    {
     "data": {
      "text/plain": [
       "<cursor object at 0x7f19842cc7c0; closed: -1>"
      ]
     },
     "execution_count": 81,
     "metadata": {},
     "output_type": "execute_result"
    }
   ],
   "source": [
    "query=\"\"\"\n",
    "select count(*)\n",
    "from (select epid from rangIndividuel group by epid having count(*) > 99)\n",
    "\"\"\"\n",
    "execute(connection,query,show=True)"
   ]
  },
  {
   "cell_type": "markdown",
   "metadata": {},
   "source": [
    "## **Q15.** \n",
    "Le nom des pays qui ont gagné au moins 20 médailles aux épreuves individuelles.\n",
    "Résultats (3 lignes) : Pays-Bas ; États-Unis ; Norvège"
   ]
  },
  {
   "cell_type": "code",
   "execution_count": 82,
   "metadata": {},
   "outputs": [
    {
     "name": "stdout",
     "output_type": "stream",
     "text": [
      "3 rows\n",
      "|nomp      |\n",
      "|-----------\n",
      "|Pays-Bas  |\n",
      "|Norvège   |\n",
      "|États-Unis|\n"
     ]
    },
    {
     "data": {
      "text/plain": [
       "<cursor object at 0x7f19842cc8b0; closed: -1>"
      ]
     },
     "execution_count": 82,
     "metadata": {},
     "output_type": "execute_result"
    }
   ],
   "source": [
    "query=\"\"\"\n",
    "select p.nomp\n",
    "from pays p, rangIndividuel ri, athlete a\n",
    "where ri.aid = a.aid and a.codepays = p.codepays and ri.rang < 4\n",
    "group by a.codepays\n",
    "having count(*) > 19\n",
    "\"\"\"\n",
    "execute(connection,query,show=True)"
   ]
  },
  {
   "cell_type": "markdown",
   "metadata": {},
   "source": [
    "<u>**Division en SQL**</u>"
   ]
  },
  {
   "cell_type": "markdown",
   "metadata": {},
   "source": [
    "## **Q16.** \n",
    "Le sid des sports qui ont des épreuves dans toutes les catégories existantes.\n",
    "Résultats (3 lignes) : 1 ; 6 ; 7\n",
    "\n",
    "Principe : pour chaque épreuve, on compte le nombre de catégories, puis on regarde si il est\n",
    "égal au nombre total de catégories d’épreuves."
   ]
  },
  {
   "cell_type": "code",
   "execution_count": 83,
   "metadata": {},
   "outputs": [
    {
     "name": "stdout",
     "output_type": "stream",
     "text": [
      "3 rows\n",
      "|sid|\n",
      "|----\n",
      "|1  |\n",
      "|6  |\n",
      "|7  |\n"
     ]
    },
    {
     "data": {
      "text/plain": [
       "<cursor object at 0x7f19842cc9a0; closed: -1>"
      ]
     },
     "execution_count": 83,
     "metadata": {},
     "output_type": "execute_result"
    }
   ],
   "source": [
    "query=\"\"\"\n",
    "select ep.sid\n",
    "from epreuve ep\n",
    "group by ep.sid\n",
    "having count(distinct categorie) = (select count(distinct categorie) from epreuve)\n",
    "\n",
    "\"\"\"\n",
    "execute(connection,query,show=True)"
   ]
  },
  {
   "cell_type": "markdown",
   "metadata": {},
   "source": [
    "## **Q17.** \n",
    "Le nom des pays qui ont participé aux épreuves en individuel de tous les sports en individuel. Résultats (3 lignes) : (Russie,12) ; (États-Unis,12) ; (Italie,12)"
   ]
  },
  {
   "cell_type": "code",
   "execution_count": 84,
   "metadata": {},
   "outputs": [
    {
     "name": "stdout",
     "output_type": "stream",
     "text": [
      "3 rows\n",
      "|nomp      |\n",
      "|-----------\n",
      "|Italie    |\n",
      "|Russie    |\n",
      "|États-Unis|\n"
     ]
    },
    {
     "data": {
      "text/plain": [
       "<cursor object at 0x7f19842cca90; closed: -1>"
      ]
     },
     "execution_count": 84,
     "metadata": {},
     "output_type": "execute_result"
    }
   ],
   "source": [
    "query=\"\"\"\n",
    "select p.nomp\n",
    "from pays p, athlete a, rangIndividuel ri, epreuve ep\n",
    "where ri.epid = ep.epid and ri.aid = a.aid and a.codepays = p.codepays\n",
    "group by a.codepays\n",
    "having count(distinct ep.sid) = (select count(distinct sid) from epreuve ep, rangIndividuel ri where ri.epid = ep.epid)\n",
    "\"\"\"\n",
    "execute(connection,query,show=True)"
   ]
  },
  {
   "cell_type": "markdown",
   "metadata": {},
   "source": [
    "**<u>BASE FOOFLE</u>**"
   ]
  },
  {
   "cell_type": "markdown",
   "metadata": {},
   "source": [
    "## Créer les tables et charger les données base_foofle_H2.sql"
   ]
  },
  {
   "cell_type": "code",
   "execution_count": 86,
   "metadata": {},
   "outputs": [
    {
     "name": "stdout",
     "output_type": "stream",
     "text": [
      "0 rows\n",
      "0 rows\n"
     ]
    }
   ],
   "source": [
    "schemafile=open(\"base_foofle_H2.sql\",mode=\"r\",encoding='utf-8')\n",
    "create_schema=schemafile.read()\n",
    "execute(connection,\"drop all objects\")\n",
    "execute(connection, create_schema)\n",
    "connection.commit()"
   ]
  },
  {
   "cell_type": "markdown",
   "metadata": {},
   "source": [
    "## **Q1.** \n",
    "Pour chaque sponsor, le nom du sponsor, le nombre de joueurs sponsorisés, le montant total\n",
    "des sommes versées, ordonner par sommes versées décroissantes.\n",
    "Résultats (7 lignes) : (Adadis,6,2340) ; (Robek,5,1426) ;..."
   ]
  },
  {
   "cell_type": "code",
   "execution_count": 89,
   "metadata": {},
   "outputs": [
    {
     "name": "stdout",
     "output_type": "stream",
     "text": [
      "7 rows\n",
      "|nsp       |?column?|?column?|\n",
      "|-----------------------------\n",
      "|Adadis    |6       |2340    |\n",
      "|Air Monaco|2       |1285    |\n",
      "|Alcampo   |4       |1252    |\n",
      "|Carouf    |3       |853     |\n",
      "|GPS       |2       |478     |\n",
      "|Palasse   |2       |510     |\n",
      "|Robek     |5       |1426    |\n"
     ]
    },
    {
     "data": {
      "text/plain": [
       "<cursor object at 0x7f1966345a80; closed: -1>"
      ]
     },
     "execution_count": 89,
     "metadata": {},
     "output_type": "execute_result"
    }
   ],
   "source": [
    "query=\"\"\"\n",
    "select nsp, count(njo), sum(somme)\n",
    "from sponsorise\n",
    "group by nsp\n",
    "\"\"\"\n",
    "execute(connection,query,show=True)"
   ]
  },
  {
   "cell_type": "markdown",
   "metadata": {},
   "source": [
    "## **Q2.** \n",
    "Quelles équipes ont joué au moins dans 3 stades différents ?\n",
    "Résultats (2 lignes) : Fortiches ; Direkt"
   ]
  },
  {
   "cell_type": "code",
   "execution_count": 92,
   "metadata": {},
   "outputs": [
    {
     "name": "stdout",
     "output_type": "stream",
     "text": [
      "2 rows\n",
      "|eq1      |\n",
      "|----------\n",
      "|Direkt   |\n",
      "|Fortiches|\n"
     ]
    },
    {
     "data": {
      "text/plain": [
       "<cursor object at 0x7f19663463e0; closed: -1>"
      ]
     },
     "execution_count": 92,
     "metadata": {},
     "output_type": "execute_result"
    }
   ],
   "source": [
    "query=\"\"\"\n",
    "select eq1\n",
    "from match\n",
    "group by eq1\n",
    "having count(distinct st) = 3\n",
    "\"\"\"\n",
    "execute(connection,query,show=True)"
   ]
  },
  {
   "cell_type": "markdown",
   "metadata": {},
   "source": [
    "## **Q3.** \n",
    "Quels sponsors sponsorisent exactement un joueur pour chaque équipe qu'il sponsorise ?\n",
    "Résultats (2 lignes) : Air Monaco ; Palasse"
   ]
  },
  {
   "cell_type": "code",
   "execution_count": 95,
   "metadata": {},
   "outputs": [
    {
     "name": "stdout",
     "output_type": "stream",
     "text": [
      "2 rows\n",
      "|nsp       |\n",
      "|-----------\n",
      "|Air Monaco|\n",
      "|Palasse   |\n"
     ]
    },
    {
     "data": {
      "text/plain": [
       "<cursor object at 0x7f19663464d0; closed: -1>"
      ]
     },
     "execution_count": 95,
     "metadata": {},
     "output_type": "execute_result"
    }
   ],
   "source": [
    "query=\"\"\"\n",
    "select s.nsp\n",
    "from sponsorise s, joueur j\n",
    "where s.njo = j.njo\n",
    "group by nsp\n",
    "having count(distinct s.njo) = count(distinct j.eq)\n",
    "\"\"\"\n",
    "execute(connection,query,show=True)"
   ]
  },
  {
   "cell_type": "markdown",
   "metadata": {},
   "source": [
    "## **Q4.** \n",
    "Quel est le nombre total de kilomètres parcourus par chaque équipe. On suppose qu’après\n",
    "chaque match, chaque équipe se rend directement au stade où aura lieu son prochain match (d’après la date du match). Aide : il existe 2 matchs ordonnés par leur date pour la même équipe, mais il n’existe pas un 3ième match entre les dates des 2 matchs pour cette équipe. Résultats (4 lignes) : (Fortiches,516) ; (Direkt,671) ; (Piepla,124) ; (Sabar,360)"
   ]
  },
  {
   "cell_type": "code",
   "execution_count": 110,
   "metadata": {},
   "outputs": [
    {
     "name": "stdout",
     "output_type": "stream",
     "text": [
      "4 rows\n",
      "|eq1      |?column?|\n",
      "|-------------------\n",
      "|Direkt   |701     |\n",
      "|Fortiches|696     |\n",
      "|Piepla   |248     |\n",
      "|Sabar    |360     |\n"
     ]
    },
    {
     "data": {
      "text/plain": [
       "<cursor object at 0x7f1966347880; closed: -1>"
      ]
     },
     "execution_count": 110,
     "metadata": {},
     "output_type": "execute_result"
    }
   ],
   "source": [
    "query=\"\"\"\n",
    "select m.eq1, sum(nbkm)\n",
    "from match m, match m2, distance d        \n",
    "where m.eq1 = m2.eq1\n",
    "    and m.eq2 <> m2.eq2 \n",
    "    and m2.datem < m.datem \n",
    "    and d.st1 = m.st\n",
    "    and d.st2 = m2.st\n",
    "    and not exists (\n",
    "        select * \n",
    "        from match m3 \n",
    "        where m.eq1 = m3.eq1 \n",
    "            and m3.datem < m2.datem \n",
    "            and m3.datem > m.datem\n",
    "    )\n",
    "\n",
    "group by m.eq1\n",
    "\"\"\"\n",
    "execute(connection,query,show=True)"
   ]
  },
  {
   "cell_type": "markdown",
   "metadata": {},
   "source": [
    "# Fermer la connexion"
   ]
  },
  {
   "cell_type": "code",
   "execution_count": null,
   "metadata": {},
   "outputs": [],
   "source": [
    "connection.commit() # implicit avec close\n",
    "connection.close()"
   ]
  },
  {
   "cell_type": "code",
   "execution_count": null,
   "metadata": {},
   "outputs": [],
   "source": [
    "connection"
   ]
  }
 ],
 "metadata": {
  "interpreter": {
   "hash": "3f7970bd1fb3f240334e0295161dab121eeb02ebe2a02561bbc5f2c38513dba7"
  },
  "kernelspec": {
   "display_name": "Python [conda env:pyspark]",
   "language": "python",
   "name": "conda-env-pyspark-py"
  },
  "language_info": {
   "codemirror_mode": {
    "name": "ipython",
    "version": 3
   },
   "file_extension": ".py",
   "mimetype": "text/x-python",
   "name": "python",
   "nbconvert_exporter": "python",
   "pygments_lexer": "ipython3",
   "version": "3.12.0"
  },
  "toc-autonumbering": true,
  "toc-showcode": false,
  "toc-showmarkdowntxt": false,
  "toc-showtags": false
 },
 "nbformat": 4,
 "nbformat_minor": 4
}
