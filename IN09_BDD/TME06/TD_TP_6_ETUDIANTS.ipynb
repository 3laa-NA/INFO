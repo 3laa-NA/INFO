{
 "cells": [
  {
   "cell_type": "markdown",
   "metadata": {
    "tags": []
   },
   "source": [
    "# Installation H2 \n",
    "\n",
    "Le système utilisé pendant les TME est H2."
   ]
  },
  {
   "cell_type": "code",
   "execution_count": 13,
   "metadata": {
    "tags": []
   },
   "outputs": [
    {
     "name": "stdout",
     "output_type": "stream",
     "text": [
      "Defaulting to user installation because normal site-packages is not writeable\n",
      "Requirement already satisfied: psycopg2-binary in /home/jupyter-15849/.local/lib/python3.12/site-packages (2.9.9)\n",
      "Note: you may need to restart the kernel to use updated packages.\n"
     ]
    }
   ],
   "source": [
    "pip install psycopg2-binary"
   ]
  },
  {
   "cell_type": "markdown",
   "metadata": {},
   "source": [
    "Télécharger le pilote de H2"
   ]
  },
  {
   "cell_type": "code",
   "execution_count": 14,
   "metadata": {
    "tags": []
   },
   "outputs": [
    {
     "name": "stdout",
     "output_type": "stream",
     "text": [
      "--2024-04-13 00:09:22--  https://nuage.lip6.fr/s/LqD9N23kxrfHopr/download?path=agreg/postgresql-42.6.0.jar\n",
      "Resolving nuage.lip6.fr (nuage.lip6.fr)... 132.227.201.11\n",
      "Connecting to nuage.lip6.fr (nuage.lip6.fr)|132.227.201.11|:443... connected.\n",
      "HTTP request sent, awaiting response... 200 OK\n",
      "Length: 1081604 (1,0M) [application/octet-stream]\n",
      "Saving to: ‘postgresql-42.6.0.jar’\n",
      "\n",
      "postgresql-42.6.0.j 100%[===================>]   1,03M  --.-KB/s    in 0,01s   \n",
      "\n",
      "2024-04-13 00:09:22 (98,7 MB/s) - ‘postgresql-42.6.0.jar’ saved [1081604/1081604]\n",
      "\n",
      "--2024-04-13 00:09:22--  https://nuage.lip6.fr/s/LqD9N23kxrfHopr/download?path=agreg/h2-2.1.214.jar\n",
      "Resolving nuage.lip6.fr (nuage.lip6.fr)... 132.227.201.11\n",
      "Connecting to nuage.lip6.fr (nuage.lip6.fr)|132.227.201.11|:443... connected.\n",
      "HTTP request sent, awaiting response... 200 OK\n",
      "Length: 2543011 (2,4M) [application/octet-stream]\n",
      "Saving to: ‘h2-2.1.214.jar’\n",
      "\n",
      "h2-2.1.214.jar      100%[===================>]   2,42M  --.-KB/s    in 0,03s   \n",
      "\n",
      "2024-04-13 00:09:22 (95,5 MB/s) - ‘h2-2.1.214.jar’ saved [2543011/2543011]\n",
      "\n"
     ]
    }
   ],
   "source": [
    "!wget https://nuage.lip6.fr/s/LqD9N23kxrfHopr/download?path=agreg/postgresql-42.6.0.jar -O postgresql-42.6.0.jar\n",
    "!wget https://nuage.lip6.fr/s/LqD9N23kxrfHopr/download?path=agreg/h2-2.1.214.jar -O h2-2.1.214.jar"
   ]
  },
  {
   "cell_type": "markdown",
   "metadata": {},
   "source": [
    "**Relancez le kernel**: Kernel -> Restart kernel ..."
   ]
  },
  {
   "cell_type": "markdown",
   "metadata": {},
   "source": [
    "https://www.psycopg.org/docs/\n",
    "http://localhost:8082"
   ]
  },
  {
   "cell_type": "code",
   "execution_count": 15,
   "metadata": {
    "tags": []
   },
   "outputs": [
    {
     "data": {
      "text/plain": [
       "[]"
      ]
     },
     "execution_count": 15,
     "metadata": {},
     "output_type": "execute_result"
    }
   ],
   "source": [
    "import psycopg2\n",
    "import os\n",
    "local_dir = \"./data\"\n",
    "os.makedirs(local_dir, exist_ok=True)\n",
    "os.listdir(local_dir)"
   ]
  },
  {
   "cell_type": "markdown",
   "metadata": {
    "id": "hsCZZv8lmbBK"
   },
   "source": [
    "## Démarrer le serveur SQL H2"
   ]
  },
  {
   "cell_type": "code",
   "execution_count": 16,
   "metadata": {
    "tags": []
   },
   "outputs": [
    {
     "name": "stdout",
     "output_type": "stream",
     "text": [
      "Le numero du port utilisé pour la connexion à la BD est: 5613\n"
     ]
    }
   ],
   "source": [
    "#Remplacez les valeurs des variables suivantes\n",
    "#NN= numéro de groupe: chaine de caractères (ex: 01, 02,.., 13), remplacer xx \n",
    "NN = '06'\n",
    "#BB=numero binome: chaîne de caractères (assigné par l'enseignant, ex: 01,..., 15), remplacer xx\n",
    "BB = '13'\n",
    "port = 5000+int(NN+BB)\n",
    "print(f'Le numero du port utilisé pour la connexion à la BD est: {port}')"
   ]
  },
  {
   "cell_type": "code",
   "execution_count": 17,
   "metadata": {
    "id": "rLcOCISm-R1Z",
    "tags": []
   },
   "outputs": [],
   "source": [
    "%%bash --bg --out output -s \"$port\"\n",
    "java -Dh2.bindAddress=127.0.0.1 -cp h2-2.1.214.jar:postgresql-42.6.0.jar org.h2.tools.Server -pg -pgPort $1 -baseDir ./data -ifNotExists"
   ]
  },
  {
   "cell_type": "markdown",
   "metadata": {},
   "source": [
    "# Fonctions utiles"
   ]
  },
  {
   "cell_type": "markdown",
   "metadata": {
    "tags": []
   },
   "source": [
    "## connect_H2"
   ]
  },
  {
   "cell_type": "code",
   "execution_count": 18,
   "metadata": {
    "tags": []
   },
   "outputs": [],
   "source": [
    "def connect_H2(db,user,password):\n",
    "    global connection\n",
    "    try:\n",
    "        connection\n",
    "    except:\n",
    "        connection = None\n",
    "    if connection != None:\n",
    "        try:\n",
    "            connection.close()\n",
    "            print(\"Connection closed\")\n",
    "        except  Error as e:\n",
    "            print(f\"The error '{e}' occurred\")\n",
    "    try:\n",
    "        # connection = sqlite3.connect(path,isolation_level='DEFERRED')\n",
    "        connection = psycopg2.connect(f\"dbname={db} user={user} password={password} host=localhost port={port}\")\n",
    "        print(\"Connection to H2 DB successful\")\n",
    "    except Exception as e:\n",
    "        print(f\"The error '{e}' occurred\")\n",
    "    return connection"
   ]
  },
  {
   "cell_type": "markdown",
   "metadata": {},
   "source": [
    "## execute"
   ]
  },
  {
   "cell_type": "code",
   "execution_count": 19,
   "metadata": {
    "tags": []
   },
   "outputs": [],
   "source": [
    "def execute(connection, query, show=True,close=True):\n",
    "    try:\n",
    "        cursor = connection.cursor()\n",
    "        cursor.execute(query)\n",
    "        print(cursor.rowcount,\"rows\")\n",
    "        if show and cursor.rowcount:\n",
    "            names = [desc[0] for desc in cursor.description]\n",
    "            for attr in names:\n",
    "                print(str(attr[:16]).ljust(16),end='|')\n",
    "            print()\n",
    "            for attr in names:\n",
    "                print(''.ljust(17,'-'),end='')\n",
    "            print()\n",
    "            for ligne in cursor:\n",
    "                for attr in ligne:\n",
    "                    print(str(attr)[:16].ljust(16),end='|')\n",
    "                print()\n",
    "        if close:\n",
    "            cursor.close()\n",
    "    except Exception as e:\n",
    "        print(f\"The error '{e}' occurred\")\n",
    "        cursor=None\n",
    "    return cursor"
   ]
  },
  {
   "cell_type": "markdown",
   "metadata": {
    "id": "zHpjYeKDK_P9",
    "tags": []
   },
   "source": [
    "**TD/TME 6 : REQUÊTES IMBRIQUÉES AVEC EXISTS, ALL ET ANY**\n",
    "\n",
    "Ce TD/TME utilise les données contenues dans le fichier **bd_jo_v2_H2.sql**\n",
    "\n",
    "**Attention**: vous pouvez cliquer sur les 3 lignes dans la fenêtre de gauche pour d'afficher les différentes sections du notebook "
   ]
  },
  {
   "cell_type": "markdown",
   "metadata": {
    "id": "zHpjYeKDK_P9",
    "tags": []
   },
   "source": [
    "# TD6\n",
    "\n",
    "On considère le schéma de la base JEUXOLYMPIQUE2014 qui décrit les athlètes et leurs résultats aux\n",
    "épreuves des sports des Jeux Olympiques d'Hiver Sotchi 2014 :\n",
    "\n",
    "**PAYS** ( <u>CODEPAYS</u>, NOMP)<br/>\n",
    "Ex. ('FRA', 'France')<br/>\n",
    "**SPORT** ( <u>SID</u>, NOMSP)<br/>\n",
    "Ex. (1, 'Biathlon')<br/>\n",
    "**EPREUVE** ( <u>EPID</u>, SID*, NOMEP, CATÉGORIE, DATEDEBUT, DATEFIN)<br/>\n",
    "Ex. (10, 1, 'relais 4x7,5km', 'Hommes', 22/02/2014, 22/02/2014)<br/>\n",
    "**ATHLETE** ( <u>AID</u>, NOMATH, PRENOMATH, DATENAISSANCE, CODEPAYS*)<br/>\n",
    "Ex. (1000, 'SOBOLEV', 'Alexey', NULL, 'RUS')<br/>\n",
    "**EQUIPE** ( <u>EQID</u>, CODEPAYS*)<br/>\n",
    "Ex. (30, 'SUI')<br/>\n",
    "**ATHLETESEQUIPE** ( <u>EQID*, AID*</u>)<br/>\n",
    "Ex. (30, 796) : L'athlète (aid=796) a participé à l'équipe (eqid=30)<br/>\n",
    "**RANGINDIVIDUEL** ( <u>EPID*, AID*</u>, RANG)<br/>\n",
    "Ex. (15, 61, 1) : L'athlète (aid=61) a gagné la médaille d'or (rang=1) de l'épreuve (epid=15)<br/>\n",
    "**RANGEQUIPE** ( <u>EPID*, EQID*</u>, RANG)<br/>\n",
    "Ex. (10, 30, 14) : L'équipe (eqid=30) a été classée 14e à l'épreuve (epid=10)<br/>\n",
    "\n",
    "\n",
    "Les attributs qui forment la clé primaire de chaque relation sont soulignés. Les clés étrangères sont\n",
    "signalées avec une *. Les attributs aid, epid, eqid et sid correspondent aux identifiants des athlètes,\n",
    "épreuves, équipes et sports et sont utilisés à la fois comme clé primaire ou comme référence (clé\n",
    "étrangère) vers la relation correspondante.\n",
    "La relation **PAYS** contient le code et le nom de tous les pays, même si ils n'ont pas participé aux\n",
    "Jeux Olympiques. Les sports (n-uplets de la relation **SPORT**) sont un ensemble d'épreuves (n-uplets\n",
    "de la relation **EPREUVE**). Pour chaque épreuve on connaît son nom et les date de début et fin de\n",
    "l'épreuve. Les épreuves peuvent être individuelles ou par équipe. Dans le premier cas, la\n",
    "participation des athlètes (n-uplets de la relation ATHLETE) est stocké dans la table\n",
    "**RANGINDIVIDUEL** qui contient en plus le rang qu'ils ont obtenu (1 pour la médaille d'or). Pour les\n",
    "épreuves par équipe les résultats sont stockés dans la relation **RANGEQUIPE**, alors que l'information\n",
    "sur le pays de chaque équipe et ses participants et stocké dans les relations **EQUIPE** et\n",
    "**ATHLETESEQUIPE**. Dans les relations **RANGINDIVIDUEL** et **RANGEQUIPE** l'attribut rang est égal à\n",
    "null si l'athlète ou l'équipe a été disqualifié.\n",
    "\n",
    "\n"
   ]
  },
  {
   "cell_type": "markdown",
   "metadata": {
    "id": "00mRiA73K_QB",
    "tags": []
   },
   "source": [
    "## Connexion à H2"
   ]
  },
  {
   "cell_type": "code",
   "execution_count": 20,
   "metadata": {
    "id": "IRyyRAX2K_QB",
    "tags": []
   },
   "outputs": [
    {
     "name": "stdout",
     "output_type": "stream",
     "text": [
      "Connection closed\n",
      "Connection to H2 DB successful\n"
     ]
    }
   ],
   "source": [
    "connection = connect_H2(\"jo\"+f'{port}',\"ba\",\"ba\")"
   ]
  },
  {
   "cell_type": "markdown",
   "metadata": {},
   "source": [
    "## Créer les tables et charger les données bd_jo_v2_H2.sql"
   ]
  },
  {
   "cell_type": "code",
   "execution_count": 84,
   "metadata": {
    "tags": []
   },
   "outputs": [
    {
     "name": "stdout",
     "output_type": "stream",
     "text": [
      "0 rows\n",
      "0 rows\n"
     ]
    }
   ],
   "source": [
    "schemafile=open(\"bd-jo-v2_H2.sql\",mode=\"r\",encoding='utf-8')\n",
    "create_schema=schemafile.read()\n",
    "execute(connection,\"drop all objects\")\n",
    "execute(connection, create_schema)\n",
    "connection.commit()"
   ]
  },
  {
   "cell_type": "markdown",
   "metadata": {},
   "source": [
    "**Requêtes: ANY /ALL / IN / EXISTS**"
   ]
  },
  {
   "cell_type": "markdown",
   "metadata": {},
   "source": [
    "## **Q1**. \n",
    "Les athlètes ayant participé à (au moins) une épreuve individuelle et (au moins) une épreuve par équipe. Exprimer la requête en utilisant ANY (au lieu de IN; voir requête 2.6 dans TD5).\n",
    "Résultat : (372 lignes)"
   ]
  },
  {
   "cell_type": "code",
   "execution_count": 25,
   "metadata": {
    "tags": []
   },
   "outputs": [
    {
     "name": "stdout",
     "output_type": "stream",
     "text": [
      "372 rows\n"
     ]
    },
    {
     "data": {
      "text/plain": [
       "<cursor object at 0x7f82e9b6c8b0; closed: -1>"
      ]
     },
     "execution_count": 25,
     "metadata": {},
     "output_type": "execute_result"
    }
   ],
   "source": [
    "query=\"\"\"\n",
    "select distinct a.nomath, a.prenomath\n",
    "from athlete a, rangIndividuel r1\n",
    "where a.aid = r1.aid and a.aid = any (select aEq.aid from athletesEquipe aEq, rangEquipe r2 where aEq.eqid = r2.eqid)\n",
    "\n",
    "\"\"\"\n",
    "execute(connection,query,show=False)"
   ]
  },
  {
   "cell_type": "markdown",
   "metadata": {},
   "source": [
    " ## **Q2. a)** \n",
    "Les pays ayant au moins un athlète (requête équivalente: les pays ayant participé aux JO).\n",
    "Résultat : (88 lignes)"
   ]
  },
  {
   "cell_type": "code",
   "execution_count": 27,
   "metadata": {
    "tags": []
   },
   "outputs": [
    {
     "name": "stdout",
     "output_type": "stream",
     "text": [
      "88 rows\n"
     ]
    },
    {
     "data": {
      "text/plain": [
       "<cursor object at 0x7f82e9b6d120; closed: -1>"
      ]
     },
     "execution_count": 27,
     "metadata": {},
     "output_type": "execute_result"
    }
   ],
   "source": [
    "query=\"\"\"\n",
    "select p.nomp\n",
    "from pays p\n",
    "where p.codepays = any (select a.codepays from athlete a)\n",
    "\n",
    "\"\"\"\n",
    "execute(connection,query,show=False)"
   ]
  },
  {
   "cell_type": "markdown",
   "metadata": {},
   "source": [
    "##  **Q2. b**) \n",
    "Les pays ayant exactement un seul athlète\n",
    "Résultat : (18 lignes)"
   ]
  },
  {
   "cell_type": "code",
   "execution_count": 29,
   "metadata": {
    "tags": []
   },
   "outputs": [
    {
     "name": "stdout",
     "output_type": "stream",
     "text": [
      "18 rows\n",
      "nomp            |\n",
      "-----------------\n",
      "Bermudes        |\n",
      "Îles Caïmans    |\n",
      "Hong Kong       |\n",
      "Îles Vierges des|\n",
      "Îles Vierges bri|\n",
      "Kirghizistan    |\n",
      "Luxembourg      |\n",
      "Mexique         |\n",
      "Malte           |\n",
      "Népal           |\n",
      "Pakistan        |\n",
      "Paraguay        |\n",
      "Philippines     |\n",
      "Tonga           |\n",
      "Tadjikistan     |\n",
      "Timor oriental  |\n",
      "Venezuela       |\n",
      "Zimbabwe        |\n"
     ]
    },
    {
     "data": {
      "text/plain": [
       "<cursor object at 0x7f82e9b6d210; closed: -1>"
      ]
     },
     "execution_count": 29,
     "metadata": {},
     "output_type": "execute_result"
    }
   ],
   "source": [
    "query=\"\"\"\n",
    "select p.nomp\n",
    "from pays p, athlete a\n",
    "where p.codepays = a.codepays and not exists (select * from athlete a2 where a2.codepays = p.codepays and a2.aid <> a.aid)\n",
    "\n",
    "\"\"\"\n",
    "execute(connection,query,show=True)"
   ]
  },
  {
   "cell_type": "markdown",
   "metadata": {},
   "source": [
    "## **Q3. a)** \n",
    "Les athlètes qui n'ont jamais été disqualifiés aux épreuves individuelles.\n",
    "Résultat : (2194 lignes)"
   ]
  },
  {
   "cell_type": "code",
   "execution_count": 33,
   "metadata": {
    "tags": []
   },
   "outputs": [
    {
     "name": "stdout",
     "output_type": "stream",
     "text": [
      "2194 rows\n"
     ]
    },
    {
     "data": {
      "text/plain": [
       "<cursor object at 0x7f82e9b6d8a0; closed: -1>"
      ]
     },
     "execution_count": 33,
     "metadata": {},
     "output_type": "execute_result"
    }
   ],
   "source": [
    "query=\"\"\"\n",
    "select distinct a.nomath, a.prenomath\n",
    "from athlete a\n",
    "where a.aid not in (select a2.aid from athlete a2, rangIndividuel r where r.aid = a2.aid and r.rang is null)\n",
    "\n",
    "\"\"\"\n",
    "execute(connection,query,show=False)"
   ]
  },
  {
   "cell_type": "markdown",
   "metadata": {},
   "source": [
    "## **Q3. b)** \n",
    "Les pays qui n'ont pas eu d'athlète disqualifié aux épreuves individuelles.\n",
    "Résultat : (143 lignes)"
   ]
  },
  {
   "cell_type": "code",
   "execution_count": 36,
   "metadata": {
    "tags": []
   },
   "outputs": [
    {
     "name": "stdout",
     "output_type": "stream",
     "text": [
      "143 rows\n"
     ]
    },
    {
     "data": {
      "text/plain": [
       "<cursor object at 0x7f82e9b6e020; closed: -1>"
      ]
     },
     "execution_count": 36,
     "metadata": {},
     "output_type": "execute_result"
    }
   ],
   "source": [
    "query=\"\"\"\n",
    "select p.nomp\n",
    "from pays p\n",
    "where p.codepays not in (select a.codepays from athlete a, rangIndividuel r where r.aid = a.aid and r.rang is null)\n",
    "\"\"\"\n",
    "execute(connection,query,show=False)"
   ]
  },
  {
   "cell_type": "markdown",
   "metadata": {},
   "source": [
    "##  **Q3. c)** \n",
    "Les pays qui ont participé aux JO et qui n'ont pas eu d'athlètes disqualifiés aux épreuves\n",
    "individuelles.\n",
    "Résultat : (25 lignes)"
   ]
  },
  {
   "cell_type": "code",
   "execution_count": 42,
   "metadata": {
    "tags": []
   },
   "outputs": [
    {
     "name": "stdout",
     "output_type": "stream",
     "text": [
      "25 rows\n",
      "nomp            |\n",
      "-----------------\n",
      "Belgique        |\n",
      "Bermudes        |\n",
      "Danemark        |\n",
      "Estonie         |\n",
      "Hong Kong       |\n",
      "Inde            |\n",
      "Iran            |\n",
      "Jamaïque        |\n",
      "Kazakhstan      |\n",
      "Kirghizistan    |\n",
      "Liban           |\n",
      "Luxembourg      |\n",
      "Malte           |\n",
      "Mongolie        |\n",
      "Monténégro      |\n",
      "Népal           |\n",
      "Pakistan        |\n",
      "Paraguay        |\n",
      "Pays-Bas        |\n",
      "Philippines     |\n",
      "Taipei chinois  |\n",
      "Timor oriental  |\n",
      "Tonga           |\n",
      "Îles Vierges bri|\n",
      "Îles Vierges des|\n"
     ]
    },
    {
     "data": {
      "text/plain": [
       "<cursor object at 0x7f82e9b6e3e0; closed: -1>"
      ]
     },
     "execution_count": 42,
     "metadata": {},
     "output_type": "execute_result"
    }
   ],
   "source": [
    "query=\"\"\"\n",
    "select distinct p.nomp\n",
    "from pays p, athlete a2\n",
    "where p.codepays = a2.codepays and p.codepays not in (select a.codepays from athlete a, rangIndividuel r where r.aid = a.aid and r.rang is null)\n",
    "\"\"\"\n",
    "execute(connection,query,show=True)"
   ]
  },
  {
   "cell_type": "markdown",
   "metadata": {},
   "source": [
    "##  **Q3. d)** \n",
    "Les pays qui ont participé aux JO et qui n'ont pas eu des athlètes disqualifiés ni en\n",
    "individuel ni par équipe\n",
    "Résultat : (25 lignes)"
   ]
  },
  {
   "cell_type": "code",
   "execution_count": 48,
   "metadata": {
    "tags": []
   },
   "outputs": [
    {
     "name": "stdout",
     "output_type": "stream",
     "text": [
      "25 rows\n",
      "nomp            |\n",
      "-----------------\n",
      "Belgique        |\n",
      "Bermudes        |\n",
      "Danemark        |\n",
      "Estonie         |\n",
      "Hong Kong       |\n",
      "Inde            |\n",
      "Iran            |\n",
      "Jamaïque        |\n",
      "Kazakhstan      |\n",
      "Kirghizistan    |\n",
      "Liban           |\n",
      "Luxembourg      |\n",
      "Malte           |\n",
      "Mongolie        |\n",
      "Monténégro      |\n",
      "Népal           |\n",
      "Pakistan        |\n",
      "Paraguay        |\n",
      "Pays-Bas        |\n",
      "Philippines     |\n",
      "Taipei chinois  |\n",
      "Timor oriental  |\n",
      "Tonga           |\n",
      "Îles Vierges bri|\n",
      "Îles Vierges des|\n"
     ]
    },
    {
     "data": {
      "text/plain": [
       "<cursor object at 0x7f82e9b6ea70; closed: -1>"
      ]
     },
     "execution_count": 48,
     "metadata": {},
     "output_type": "execute_result"
    }
   ],
   "source": [
    "query=\"\"\"\n",
    "select distinct p.nomp\n",
    "from pays p, athlete a2\n",
    "where p.codepays = a2.codepays and p.codepays not in (select a.codepays from athlete a, rangIndividuel r where r.aid = a.aid and r.rang is null)\n",
    "and p.codepays not in (select eq.codepays from rangEquipe r, Equipe eq where r.eqid = eq.eqid and r.rang is null)\n",
    "\"\"\"\n",
    "execute(connection,query,show=True)"
   ]
  },
  {
   "cell_type": "markdown",
   "metadata": {},
   "source": [
    "##  **Q4. a)** \n",
    "Les athlètes n'ayant pas gagné de médaille ni en individuel ni en équipe\n",
    "Résultat : (1921 lignes)"
   ]
  },
  {
   "cell_type": "code",
   "execution_count": 52,
   "metadata": {
    "tags": []
   },
   "outputs": [
    {
     "name": "stdout",
     "output_type": "stream",
     "text": [
      "1921 rows\n"
     ]
    },
    {
     "data": {
      "text/plain": [
       "<cursor object at 0x7f82e9b6f4c0; closed: -1>"
      ]
     },
     "execution_count": 52,
     "metadata": {},
     "output_type": "execute_result"
    }
   ],
   "source": [
    "query=\"\"\"\n",
    "select a.nomath, a.prenomath\n",
    "from athlete a\n",
    "where a.aid not in (select a2.aid from athlete a2, rangIndividuel ri where a2.aid = ri.aid and ri.rang<4)\n",
    "and a.aid not in (select aEq.aid from athletesEquipe aEq, rangEquipe rEq where aEq.eqid = rEq.eqid and rEq.rang<4)\n",
    "\n",
    "\"\"\"\n",
    "execute(connection,query,show=False)"
   ]
  },
  {
   "cell_type": "markdown",
   "metadata": {},
   "source": [
    "##  **Q4. b)** \n",
    "Les pays ayant participé aux JO et n'ayant pas gagné de médaille ni en individuel ni en\n",
    "équipe.\n",
    "Résultat : (63 lignes)"
   ]
  },
  {
   "cell_type": "code",
   "execution_count": 55,
   "metadata": {
    "tags": []
   },
   "outputs": [
    {
     "name": "stdout",
     "output_type": "stream",
     "text": [
      "63 rows\n",
      "nomp            |\n",
      "-----------------\n",
      "Albanie         |\n",
      "Andorre         |\n",
      "Argentine       |\n",
      "Arménie         |\n",
      "Azerbaïdjan     |\n",
      "Belgique        |\n",
      "Bermudes        |\n",
      "Bosnie-Herzégovi|\n",
      "Brésil          |\n",
      "Bulgarie        |\n",
      "Chili           |\n",
      "Chypre          |\n",
      "Danemark        |\n",
      "Dominique       |\n",
      "Espagne         |\n",
      "Estonie         |\n",
      "Ex-république yo|\n",
      "Grèce           |\n",
      "Géorgie         |\n",
      "Hong Kong       |\n",
      "Hongrie         |\n",
      "Inde            |\n",
      "Iran            |\n",
      "Irlande         |\n",
      "Islande         |\n",
      "Israël          |\n",
      "Jamaïque        |\n",
      "Kirghizistan    |\n",
      "Liban           |\n",
      "Liechtenstein   |\n",
      "Lituanie        |\n",
      "Luxembourg      |\n",
      "Malte           |\n",
      "Maroc           |\n",
      "Mexique         |\n",
      "Moldavie        |\n",
      "Monaco          |\n",
      "Mongolie        |\n",
      "Monténégro      |\n",
      "Nouvelle-Zélande|\n",
      "Népal           |\n",
      "Ouzbékistan     |\n",
      "Pakistan        |\n",
      "Paraguay        |\n",
      "Philippines     |\n",
      "Portugal        |\n",
      "Pérou           |\n",
      "Roumanie        |\n",
      "Saint-Marin     |\n",
      "Serbie          |\n",
      "Slovaquie       |\n",
      "Tadjikistan     |\n",
      "Taipei chinois  |\n",
      "Thaïlande       |\n",
      "Timor oriental  |\n",
      "Togo            |\n",
      "Tonga           |\n",
      "Turquie         |\n",
      "Venezuela       |\n",
      "Zimbabwe        |\n",
      "Îles Caïmans    |\n",
      "Îles Vierges bri|\n",
      "Îles Vierges des|\n"
     ]
    },
    {
     "data": {
      "text/plain": [
       "<cursor object at 0x7f82e9b6fa60; closed: -1>"
      ]
     },
     "execution_count": 55,
     "metadata": {},
     "output_type": "execute_result"
    }
   ],
   "source": [
    "query=\"\"\"\n",
    "select distinct p.nomp\n",
    "from pays p, athlete a\n",
    "where p.codepays = a.codepays and p.codepays not in (select distinct a2.codepays from athlete a2, rangIndividuel ri where a2.aid = ri.aid and ri.rang<4)\n",
    "and p.codepays not in (select eq.codepays from equipe eq, rangEquipe rEq where eq.eqid = rEq.eqid and rEq.rang<4)\n",
    "\"\"\"\n",
    "execute(connection,query,show=True)\n"
   ]
  },
  {
   "cell_type": "markdown",
   "metadata": {},
   "source": [
    "##  **Q5.** \n",
    "L'(es) épreuve(s) avec la plus grande durée.\n",
    "Résultat : Hockey sur glace, Hockey sur glace, Hommes, 16 jours"
   ]
  },
  {
   "cell_type": "code",
   "execution_count": 68,
   "metadata": {
    "tags": []
   },
   "outputs": [
    {
     "name": "stdout",
     "output_type": "stream",
     "text": [
      "15 rows\n",
      "nomsp           |nomep           |categorie       |duree           |\n",
      "--------------------------------------------------------------------\n",
      "Biathlon        |hockey sur glace|Hommes          |16              |\n",
      "Bobsleigh       |hockey sur glace|Hommes          |16              |\n",
      "Combiné nordique|hockey sur glace|Hommes          |16              |\n",
      "Curling         |hockey sur glace|Hommes          |16              |\n",
      "Hockey sur glace|hockey sur glace|Hommes          |16              |\n",
      "Luge            |hockey sur glace|Hommes          |16              |\n",
      "Patinage artisti|hockey sur glace|Hommes          |16              |\n",
      "Patinage de vite|hockey sur glace|Hommes          |16              |\n",
      "Patinage de vite|hockey sur glace|Hommes          |16              |\n",
      "Saut à ski      |hockey sur glace|Hommes          |16              |\n",
      "Skeleton        |hockey sur glace|Hommes          |16              |\n",
      "Ski acrobatique |hockey sur glace|Hommes          |16              |\n",
      "Ski alpin       |hockey sur glace|Hommes          |16              |\n",
      "Ski de fond     |hockey sur glace|Hommes          |16              |\n",
      "Surf des neiges |hockey sur glace|Hommes          |16              |\n"
     ]
    },
    {
     "data": {
      "text/plain": [
       "<cursor object at 0x7f82e9b987c0; closed: -1>"
      ]
     },
     "execution_count": 68,
     "metadata": {},
     "output_type": "execute_result"
    }
   ],
   "source": [
    "query=\"\"\"\n",
    "select s.nomsp, ep.nomep, ep.categorie, DATEDIFF(day,ep.datedebut,ep.datefin)+1 as duree\n",
    "from epreuve ep, sport s\n",
    "where DATEDIFF(day, ep.dateDebut, ep.dateFin) >= ALL (SELECT DATEDIFF(day, e2.dateDebut, e2.dateFin) FROM Epreuve e2)\n",
    "\"\"\"\n",
    "execute(connection,query,show=True)"
   ]
  },
  {
   "cell_type": "markdown",
   "metadata": {
    "tags": []
   },
   "source": [
    "##  **Q6.**  \n",
    "Les athlètes ayant gagné une médaille à toutes les épreuve individuelles auxquelles ils ont participé. Résultat : (109 lignes)"
   ]
  },
  {
   "cell_type": "code",
   "execution_count": 73,
   "metadata": {
    "tags": []
   },
   "outputs": [
    {
     "name": "stdout",
     "output_type": "stream",
     "text": [
      "109 rows\n"
     ]
    },
    {
     "data": {
      "text/plain": [
       "<cursor object at 0x7f82e9b98b80; closed: -1>"
      ]
     },
     "execution_count": 73,
     "metadata": {},
     "output_type": "execute_result"
    }
   ],
   "source": [
    "query=\"\"\"\n",
    "select distinct a.nomath, a.prenomath\n",
    "from athlete a, rangIndividuel r2\n",
    "where a.aid=r2.aid and 4 > all (select r.rang from rangIndividuel r where r.aid = a.aid)\n",
    "\n",
    "\"\"\"\n",
    "execute(connection,query,show=False)"
   ]
  },
  {
   "cell_type": "markdown",
   "metadata": {},
   "source": [
    "**<u>BASE FOOFLE</u>**"
   ]
  },
  {
   "cell_type": "markdown",
   "metadata": {},
   "source": [
    "## Créer les tables et charger les données base_foofle_H2.sql"
   ]
  },
  {
   "cell_type": "code",
   "execution_count": 74,
   "metadata": {
    "tags": []
   },
   "outputs": [
    {
     "name": "stdout",
     "output_type": "stream",
     "text": [
      "0 rows\n",
      "0 rows\n"
     ]
    }
   ],
   "source": [
    "schemafile=open(\"base_foofle_H2.sql\",mode=\"r\",encoding='utf-8')\n",
    "create_schema=schemafile.read()\n",
    "execute(connection,\"drop all objects\")\n",
    "execute(connection, create_schema)\n",
    "connection.commit()"
   ]
  },
  {
   "cell_type": "markdown",
   "metadata": {},
   "source": [
    "##  **Q7.**  \n",
    "Quelles équipes ont déjà joué au stade préféré de l'équipe des Piepla ? Résultats : (2 lignes) Direkt , Piepla"
   ]
  },
  {
   "cell_type": "code",
   "execution_count": 75,
   "metadata": {
    "tags": []
   },
   "outputs": [
    {
     "name": "stdout",
     "output_type": "stream",
     "text": [
      "2 rows\n",
      "eq1             |\n",
      "-----------------\n",
      "Direkt          |\n",
      "Piepla          |\n"
     ]
    },
    {
     "data": {
      "text/plain": [
       "<cursor object at 0x7f82e9b98f40; closed: -1>"
      ]
     },
     "execution_count": 75,
     "metadata": {},
     "output_type": "execute_result"
    }
   ],
   "source": [
    "query=\"\"\"\n",
    "select distinct m.eq1\n",
    "from match m\n",
    "where m.st = (select stp from equipe where neq = 'Piepla')\n",
    "\n",
    "\"\"\"\n",
    "execute(connection,query,show=True)"
   ]
  },
  {
   "cell_type": "markdown",
   "metadata": {
    "tags": []
   },
   "source": [
    "##  **Q8.**  \n",
    "Quels sont les stades où a déjà joué Manon Messi ? Résultats: (3 lignes) GrandArena, Boulodrome, BukHall"
   ]
  },
  {
   "cell_type": "code",
   "execution_count": 76,
   "metadata": {
    "tags": []
   },
   "outputs": [
    {
     "name": "stdout",
     "output_type": "stream",
     "text": [
      "3 rows\n",
      "st              |\n",
      "-----------------\n",
      "Boulodrome      |\n",
      "BukHall         |\n",
      "GrandArena      |\n"
     ]
    },
    {
     "data": {
      "text/plain": [
       "<cursor object at 0x7f82e9b99120; closed: -1>"
      ]
     },
     "execution_count": 76,
     "metadata": {},
     "output_type": "execute_result"
    }
   ],
   "source": [
    "query=\"\"\"\n",
    "select distinct m.st\n",
    "from match m\n",
    "where m.eq1 = (select eq from joueur where njo = 'Manon Messi')\n",
    "\n",
    "\"\"\"\n",
    "execute(connection,query,show=True)"
   ]
  },
  {
   "cell_type": "markdown",
   "metadata": {
    "tags": []
   },
   "source": [
    "##  **Q9.**  \n",
    "A quelle date a eu lieu un match entre deux équipes sponsorisées par le même sponsor ? Résultats :(4 lignes) 2015-05-16, 2015-05-15, 2015-06-15, 2015-05-12"
   ]
  },
  {
   "cell_type": "code",
   "execution_count": 79,
   "metadata": {
    "tags": []
   },
   "outputs": [
    {
     "name": "stdout",
     "output_type": "stream",
     "text": [
      "6 rows\n",
      "datem           |\n",
      "-----------------\n",
      "2015-05-12      |\n",
      "2015-05-13      |\n",
      "2015-05-15      |\n",
      "2015-05-16      |\n",
      "2015-06-12      |\n",
      "2015-06-15      |\n"
     ]
    },
    {
     "data": {
      "text/plain": [
       "<cursor object at 0x7f82e9b99030; closed: -1>"
      ]
     },
     "execution_count": 79,
     "metadata": {},
     "output_type": "execute_result"
    }
   ],
   "source": [
    "query=\"\"\"\n",
    "select distinct m.datem\n",
    "from match m, joueur j, sponsorise s\n",
    "where j.eq = m.eq1 and s.njo = j.njo and s.nsp = any (select s2.nsp from sponsorise s2, joueur j2 where j2.eq = m.eq2 and s2.njo = j.njo)\n",
    "\n",
    "\"\"\"\n",
    "execute(connection,query,show=True)"
   ]
  },
  {
   "cell_type": "markdown",
   "metadata": {
    "tags": []
   },
   "source": [
    "##  **Q10.**  \n",
    "Quel sponsor a financé deux joueurs différents ayant eu un match le même jour et dans des\n",
    "stades différents mais proches (moins de 50 km) ? Résultats :(4 lignes) Air Monaco, Carouf, Robek, Adadis"
   ]
  },
  {
   "cell_type": "code",
   "execution_count": 82,
   "metadata": {
    "tags": []
   },
   "outputs": [
    {
     "name": "stdout",
     "output_type": "stream",
     "text": [
      "4 rows\n",
      "nsp             |\n",
      "-----------------\n",
      "Adadis          |\n",
      "Air Monaco      |\n",
      "Carouf          |\n",
      "Robek           |\n"
     ]
    },
    {
     "data": {
      "text/plain": [
       "<cursor object at 0x7f82e9b994e0; closed: -1>"
      ]
     },
     "execution_count": 82,
     "metadata": {},
     "output_type": "execute_result"
    }
   ],
   "source": [
    "query=\"\"\"\n",
    "select distinct s.nsp\n",
    "from sponsorise s,match m1, joueur j1\n",
    "where m1.eq1 = j1.eq and j1.njo = s.njo and s.nsp = any (select s2.nsp from sponsorise s2,match m2, joueur j2, distance d where m1.datem = m2.datem and d.st1 = m1.st and d.st2 = m2.st and d.nbkm<50 and m2.eq1 = j2.eq and j2.njo = s2.njo)\n",
    " \n",
    "\"\"\"\n",
    "execute(connection,query,show=True)"
   ]
  },
  {
   "cell_type": "markdown",
   "metadata": {},
   "source": [
    "# TME6\n",
    "\n",
    "On considère le schéma de la base JEUXOLYMPIQUE2014 donné en TD :\n",
    "\n",
    "**PAYS** ( <u>CODEPAYS</u>, NOMP)<br/>\n",
    "Ex. ('FRA', 'France')<br/>\n",
    "**SPORT** ( <u>SID</u>, NOMSP)<br/>\n",
    "Ex. (1, 'Biathlon')<br/>\n",
    "**EPREUVE** ( <u>EPID</u>, SID*, NOMEP, CATÉGORIE, DATEDEBUT, DATEFIN)<br/>\n",
    "Ex. (10, 1, 'relais 4x7,5km', 'Hommes', 22/02/2014, 22/02/2014)<br/>\n",
    "**ATHLETE** ( <u>AID</u>, NOMATH, PRENOMATH, DATENAISSANCE, CODEPAYS*)<br/>\n",
    "Ex. (1000, 'SOBOLEV', 'Alexey', NULL, 'RUS')<br/>\n",
    "**EQUIPE** ( <u>EQID</u>, CODEPAYS*)<br/>\n",
    "Ex. (30, 'SUI')<br/>\n",
    "**ATHLETESEQUIPE** ( <u>EQID*, AID*</u>)<br/>\n",
    "Ex. (30, 796) : L'athlète (aid=796) a participé à l'équipe (eqid=30)<br/>\n",
    "**RANGINDIVIDUEL** ( <u>EPID*, AID*</u>, RANG)<br/>\n",
    "Ex. (15, 61, 1) : L'athlète (aid=61) a gagné la médaille d'or (rang=1) de l'épreuve (epid=15)<br/>\n",
    "**RANGEQUIPE** ( <u>EPID*, EQID*</u>, RANG)<br/>\n",
    "Ex. (10, 30, 14) : L'équipe (eqid=30) a été classée 14e à l'épreuve (epid=10)<br/>"
   ]
  },
  {
   "cell_type": "markdown",
   "metadata": {},
   "source": [
    "**Requêtes: ANY /ALL / IN / EXISTS**"
   ]
  },
  {
   "cell_type": "markdown",
   "metadata": {},
   "source": [
    "## **Q1.** \n",
    "Les sports dont toutes les épreuves ont duré un seul jour.\n",
    "Résultat : Ski de fond, Ski alpin, Biathlon"
   ]
  },
  {
   "cell_type": "code",
   "execution_count": 85,
   "metadata": {
    "tags": []
   },
   "outputs": [
    {
     "name": "stdout",
     "output_type": "stream",
     "text": [
      "3 rows\n",
      "nomsp           |\n",
      "-----------------\n",
      "Biathlon        |\n",
      "Ski alpin       |\n",
      "Ski de fond     |\n"
     ]
    },
    {
     "data": {
      "text/plain": [
       "<cursor object at 0x7f82e9b99b70; closed: -1>"
      ]
     },
     "execution_count": 85,
     "metadata": {},
     "output_type": "execute_result"
    }
   ],
   "source": [
    "query=\"\"\"\n",
    "select s.nomsp\n",
    "from sport s\n",
    "where s.sid not in (select distinct ep.sid from epreuve ep where datediff(day,ep.datedebut,ep.datefin)>0)\n",
    "\n",
    "\"\"\"\n",
    "execute(connection,query,show=True)"
   ]
  },
  {
   "cell_type": "markdown",
   "metadata": {},
   "source": [
    "## **Q2.** \n",
    "Les sports qui n'ont pas d'épreuves de categorie Mixte.\n",
    "Résultat : (12 lignes)"
   ]
  },
  {
   "cell_type": "code",
   "execution_count": 87,
   "metadata": {
    "tags": []
   },
   "outputs": [
    {
     "name": "stdout",
     "output_type": "stream",
     "text": [
      "12 rows\n",
      "nomsp           |\n",
      "-----------------\n",
      "Bobsleigh       |\n",
      "Combiné nordique|\n",
      "Curling         |\n",
      "Hockey sur glace|\n",
      "Patinage de vite|\n",
      "Patinage de vite|\n",
      "Saut à ski      |\n",
      "Skeleton        |\n",
      "Ski acrobatique |\n",
      "Ski alpin       |\n",
      "Ski de fond     |\n",
      "Surf des neiges |\n"
     ]
    },
    {
     "data": {
      "text/plain": [
       "<cursor object at 0x7f82e9b996c0; closed: -1>"
      ]
     },
     "execution_count": 87,
     "metadata": {},
     "output_type": "execute_result"
    }
   ],
   "source": [
    "query=\"\"\"\n",
    "select s.nomsp\n",
    "from sport s\n",
    "where s.sid not in (select distinct ep.sid from epreuve ep where ep.categorie = 'Mixte')\n",
    "\"\"\"\n",
    "execute(connection,query,show=True)"
   ]
  },
  {
   "cell_type": "markdown",
   "metadata": {},
   "source": [
    "## **Q3.** \n",
    "Les équipes dont aucun athlète n'a gagné de médaille aux épreuves individuelles.\n",
    "Attention : il y a des équipes sans athlètes.\n",
    "Résultat : (265 lignes avec les équipes sans athlètes - 252 lignes sans les équipes sans\n",
    "athlètes)"
   ]
  },
  {
   "cell_type": "markdown",
   "metadata": {},
   "source": [
    "Avec les équipes sans athlètes :"
   ]
  },
  {
   "cell_type": "code",
   "execution_count": 98,
   "metadata": {
    "tags": []
   },
   "outputs": [
    {
     "name": "stdout",
     "output_type": "stream",
     "text": [
      "265 rows\n"
     ]
    },
    {
     "data": {
      "text/plain": [
       "<cursor object at 0x7f82e9ba07c0; closed: -1>"
      ]
     },
     "execution_count": 98,
     "metadata": {},
     "output_type": "execute_result"
    }
   ],
   "source": [
    "query=\"\"\"\n",
    "select eq.eqid\n",
    "from equipe eq\n",
    "where eq.eqid not in (select aEq.eqid from athletesEquipe aEq, rangindividuel ri where ri.rang<4 and ri.aid = aEq.aid)\n",
    "\"\"\"\n",
    "execute(connection,query,show=False)"
   ]
  },
  {
   "cell_type": "markdown",
   "metadata": {},
   "source": [
    "Sans les équipes sans athlètes :"
   ]
  },
  {
   "cell_type": "code",
   "execution_count": 99,
   "metadata": {
    "tags": []
   },
   "outputs": [
    {
     "name": "stdout",
     "output_type": "stream",
     "text": [
      "252 rows\n"
     ]
    },
    {
     "data": {
      "text/plain": [
       "<cursor object at 0x7f82e9ba08b0; closed: -1>"
      ]
     },
     "execution_count": 99,
     "metadata": {},
     "output_type": "execute_result"
    }
   ],
   "source": [
    "query=\"\"\"\n",
    "select distinct eq.eqid\n",
    "from equipe eq, athletesEquipe aEq2\n",
    "where aEq2.eqid = eq.eqid and eq.eqid not in (select aEq.eqid from athletesEquipe aEq, rangindividuel ri where ri.rang<4 and ri.aid = aEq.aid)\n",
    "\n",
    "\"\"\"\n",
    "execute(connection,query,show=False)"
   ]
  },
  {
   "cell_type": "markdown",
   "metadata": {},
   "source": [
    "## **Q4.** \n",
    "La nationalité de l'athlète le/la plus jeune. Attention : il y a des athlètes dont on ne connaît pas la date de naissance.\n",
    "Résultat : ('29/11/1998','JPN')"
   ]
  },
  {
   "cell_type": "code",
   "execution_count": 106,
   "metadata": {
    "tags": []
   },
   "outputs": [
    {
     "name": "stdout",
     "output_type": "stream",
     "text": [
      "1 rows\n",
      "datenaissance   |nomp            |\n",
      "----------------------------------\n",
      "1998-11-29      |Japon           |\n"
     ]
    },
    {
     "data": {
      "text/plain": [
       "<cursor object at 0x7f82e9ba0c70; closed: -1>"
      ]
     },
     "execution_count": 106,
     "metadata": {},
     "output_type": "execute_result"
    }
   ],
   "source": [
    "query=\"\"\"\n",
    "select a.datenaissance, p.nomp\n",
    "from athlete a, pays p\n",
    "where a.codepays = p.codepays and a.datenaissance >= all (select a2.datenaissance from athlete a2 where a2.datenaissance is not null)\n",
    "\n",
    "\"\"\"\n",
    "execute(connection,query,show=True)"
   ]
  },
  {
   "cell_type": "markdown",
   "metadata": {},
   "source": [
    "## **Q5.** \n",
    "Le plus jeune athlète de chaque pays.\n",
    "Résultat : (26 lignes)"
   ]
  },
  {
   "cell_type": "code",
   "execution_count": 108,
   "metadata": {
    "tags": []
   },
   "outputs": [
    {
     "name": "stdout",
     "output_type": "stream",
     "text": [
      "26 rows\n",
      "datenaissance   |nomp            |\n",
      "----------------------------------\n",
      "1986-12-27      |Australie       |\n",
      "1992-02-25      |Autriche        |\n",
      "1986-08-03      |Biélorussie     |\n",
      "1995-12-05      |Canada          |\n",
      "1996-06-03      |République popul|\n",
      "1979-11-23      |Croatie         |\n",
      "1993-04-28      |République tchèq|\n",
      "1992-01-12      |Finlande        |\n",
      "1995-11-03      |France          |\n",
      "1988-10-31      |Royaume-Uni     |\n",
      "1995-08-28      |Allemagne       |\n",
      "1992-10-10      |Italie          |\n",
      "1998-11-29      |Japon           |\n",
      "1993-06-13      |Kazakhstan      |\n",
      "1997-01-30      |Corée du Sud    |\n",
      "1990-08-21      |Lettonie        |\n",
      "1991-12-09      |Pays-Bas        |\n",
      "1994-07-02      |Norvège         |\n",
      "1989-10-05      |Pologne         |\n",
      "1998-06-05      |Russie          |\n",
      "1992-09-20      |Slovénie        |\n",
      "1991-04-27      |Suisse          |\n",
      "1984-08-28      |Slovaquie       |\n",
      "1993-06-24      |Suède           |\n",
      "1990-09-19      |Ukraine         |\n",
      "1995-08-17      |États-Unis      |\n"
     ]
    },
    {
     "data": {
      "text/plain": [
       "<cursor object at 0x7f82e9ba0d60; closed: -1>"
      ]
     },
     "execution_count": 108,
     "metadata": {},
     "output_type": "execute_result"
    }
   ],
   "source": [
    "query=\"\"\"\n",
    "select a.datenaissance, p.nomp\n",
    "from athlete a, pays p\n",
    "where a.codepays = p.codepays and a.datenaissance is not null and a.datenaissance >= all (select a2.datenaissance from athlete a2 where a2.datenaissance is not null and a2.codepays = a.codepays)\n",
    "\n",
    "\"\"\"\n",
    "execute(connection,query,show=True)"
   ]
  },
  {
   "cell_type": "markdown",
   "metadata": {},
   "source": [
    "# Fermer la connexion"
   ]
  },
  {
   "cell_type": "code",
   "execution_count": 109,
   "metadata": {
    "tags": []
   },
   "outputs": [],
   "source": [
    "connection.commit() # implicit avec close\n",
    "connection.close()"
   ]
  },
  {
   "cell_type": "code",
   "execution_count": 110,
   "metadata": {
    "tags": []
   },
   "outputs": [
    {
     "data": {
      "text/plain": [
       "<connection object at 0x7f82e9fc5440; dsn: 'user=ba password=xxx dbname=jo5613 host=localhost port=5613', closed: 1>"
      ]
     },
     "execution_count": 110,
     "metadata": {},
     "output_type": "execute_result"
    }
   ],
   "source": [
    "connection"
   ]
  },
  {
   "cell_type": "code",
   "execution_count": null,
   "metadata": {},
   "outputs": [],
   "source": []
  },
  {
   "cell_type": "code",
   "execution_count": null,
   "metadata": {},
   "outputs": [],
   "source": []
  }
 ],
 "metadata": {
  "interpreter": {
   "hash": "3f7970bd1fb3f240334e0295161dab121eeb02ebe2a02561bbc5f2c38513dba7"
  },
  "kernelspec": {
   "display_name": "Python [conda env:pyspark]",
   "language": "python",
   "name": "conda-env-pyspark-py"
  },
  "language_info": {
   "codemirror_mode": {
    "name": "ipython",
    "version": 3
   },
   "file_extension": ".py",
   "mimetype": "text/x-python",
   "name": "python",
   "nbconvert_exporter": "python",
   "pygments_lexer": "ipython3",
   "version": "3.12.0"
  },
  "toc-autonumbering": true,
  "toc-showcode": false,
  "toc-showmarkdowntxt": false,
  "toc-showtags": false
 },
 "nbformat": 4,
 "nbformat_minor": 4
}
