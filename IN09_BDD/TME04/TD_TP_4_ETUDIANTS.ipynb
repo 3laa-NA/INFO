{
 "cells": [
  {
   "cell_type": "markdown",
   "metadata": {
    "id": "zHpjYeKDK_P9",
    "tags": []
   },
   "source": [
    "# Installation H2 \n",
    "\n",
    "Le système utilisé pendant les TME est H2."
   ]
  },
  {
   "cell_type": "code",
   "execution_count": 1,
   "metadata": {
    "tags": []
   },
   "outputs": [
    {
     "name": "stdout",
     "output_type": "stream",
     "text": [
      "Defaulting to user installation because normal site-packages is not writeable\n",
      "Collecting psycopg2-binary\n",
      "  Downloading psycopg2_binary-2.9.9-cp312-cp312-manylinux_2_17_x86_64.manylinux2014_x86_64.whl.metadata (4.4 kB)\n",
      "Downloading psycopg2_binary-2.9.9-cp312-cp312-manylinux_2_17_x86_64.manylinux2014_x86_64.whl (3.0 MB)\n",
      "\u001b[2K   \u001b[90m━━━━━━━━━━━━━━━━━━━━━━━━━━━━━━━━━━━━━━━━\u001b[0m \u001b[32m3.0/3.0 MB\u001b[0m \u001b[31m23.7 MB/s\u001b[0m eta \u001b[36m0:00:00\u001b[0m00:01\u001b[0m00:01\u001b[0m\n",
      "\u001b[?25hInstalling collected packages: psycopg2-binary\n",
      "Successfully installed psycopg2-binary-2.9.9\n",
      "Note: you may need to restart the kernel to use updated packages.\n"
     ]
    }
   ],
   "source": [
    "pip install psycopg2-binary"
   ]
  },
  {
   "cell_type": "markdown",
   "metadata": {},
   "source": [
    "**Relancez le kernel**: Kernel -> Restart kernel ..."
   ]
  },
  {
   "cell_type": "markdown",
   "metadata": {},
   "source": [
    "Télécharger le pilote de H2"
   ]
  },
  {
   "cell_type": "code",
   "execution_count": 2,
   "metadata": {
    "tags": []
   },
   "outputs": [
    {
     "name": "stdout",
     "output_type": "stream",
     "text": [
      "--2024-04-09 13:03:24--  https://nuage.lip6.fr/s/LqD9N23kxrfHopr/download?path=agreg/postgresql-42.6.0.jar\n",
      "Resolving nuage.lip6.fr (nuage.lip6.fr)... 132.227.201.11\n",
      "Connecting to nuage.lip6.fr (nuage.lip6.fr)|132.227.201.11|:443... connected.\n",
      "HTTP request sent, awaiting response... 200 OK\n",
      "Length: 1081604 (1,0M) [application/octet-stream]\n",
      "Saving to: ‘postgresql-42.6.0.jar’\n",
      "\n",
      "postgresql-42.6.0.j 100%[===================>]   1,03M  --.-KB/s    in 0,01s   \n",
      "\n",
      "2024-04-09 13:03:24 (102 MB/s) - ‘postgresql-42.6.0.jar’ saved [1081604/1081604]\n",
      "\n",
      "--2024-04-09 13:03:24--  https://nuage.lip6.fr/s/LqD9N23kxrfHopr/download?path=agreg/h2-2.1.214.jar\n",
      "Resolving nuage.lip6.fr (nuage.lip6.fr)... 132.227.201.11\n",
      "Connecting to nuage.lip6.fr (nuage.lip6.fr)|132.227.201.11|:443... connected.\n",
      "HTTP request sent, awaiting response... 200 OK\n",
      "Length: 2543011 (2,4M) [application/octet-stream]\n",
      "Saving to: ‘h2-2.1.214.jar’\n",
      "\n",
      "h2-2.1.214.jar      100%[===================>]   2,42M  --.-KB/s    in 0,02s   \n",
      "\n",
      "2024-04-09 13:03:24 (102 MB/s) - ‘h2-2.1.214.jar’ saved [2543011/2543011]\n",
      "\n"
     ]
    }
   ],
   "source": [
    "!wget https://nuage.lip6.fr/s/LqD9N23kxrfHopr/download?path=agreg/postgresql-42.6.0.jar -O postgresql-42.6.0.jar\n",
    "!wget https://nuage.lip6.fr/s/LqD9N23kxrfHopr/download?path=agreg/h2-2.1.214.jar -O h2-2.1.214.jar"
   ]
  },
  {
   "cell_type": "code",
   "execution_count": 3,
   "metadata": {
    "id": "uYFrmROKQRhM",
    "tags": []
   },
   "outputs": [
    {
     "data": {
      "text/plain": [
       "[]"
      ]
     },
     "execution_count": 3,
     "metadata": {},
     "output_type": "execute_result"
    }
   ],
   "source": [
    "import psycopg2\n",
    "import os\n",
    "local_dir = \"./data\"\n",
    "os.makedirs(local_dir, exist_ok=True)\n",
    "os.listdir(local_dir)"
   ]
  },
  {
   "cell_type": "markdown",
   "metadata": {
    "id": "hsCZZv8lmbBK"
   },
   "source": [
    "## Démarrer le serveur SQL H2"
   ]
  },
  {
   "cell_type": "code",
   "execution_count": 5,
   "metadata": {
    "tags": []
   },
   "outputs": [
    {
     "name": "stdout",
     "output_type": "stream",
     "text": [
      "Le numero du port utilisé pour la connexion à la BD est: 5613\n"
     ]
    }
   ],
   "source": [
    "#Remplacez les valeurs des variables suivantes\n",
    "#NN= numéro de groupe: chaine de caractères (ex: 01, 02,.., 13), remplacer xx \n",
    "NN = '06'\n",
    "#BB=numero binome: chaîne de caractères (assigné par l'enseignant, ex: 01,..., 15), remplacer xx\n",
    "BB = '13'\n",
    "port = 5000+int(NN+BB)\n",
    "print(f'Le numero du port utilisé pour la connexion à la BD est: {port}')"
   ]
  },
  {
   "cell_type": "code",
   "execution_count": 6,
   "metadata": {
    "id": "rLcOCISm-R1Z",
    "tags": []
   },
   "outputs": [],
   "source": [
    "%%bash --bg --out output -s \"$port\"\n",
    "java -Dh2.bindAddress=127.0.0.1 -cp h2-2.1.214.jar:postgresql-42.6.0.jar org.h2.tools.Server -pg -pgPort $1 -baseDir ./data -ifNotExists"
   ]
  },
  {
   "cell_type": "markdown",
   "metadata": {
    "id": "9pRE5cm-K_QB"
   },
   "source": [
    "## Fonctions utiles"
   ]
  },
  {
   "cell_type": "code",
   "execution_count": 7,
   "metadata": {
    "id": "QeRcwYddK_QA",
    "tags": []
   },
   "outputs": [],
   "source": [
    "def connect_H2(db,user,password):\n",
    "    global connection\n",
    "    try:\n",
    "        connection\n",
    "    except:\n",
    "        connection = None\n",
    "    if connection != None:\n",
    "        try:\n",
    "            connection.close()\n",
    "            print(\"Connection closed\")\n",
    "        except  Error as e:\n",
    "            print(f\"The error '{e}' occurred\")\n",
    "    try:\n",
    "        # connection = sqlite3.connect(path,isolation_level='DEFERRED')\n",
    "        connection = psycopg2.connect(f\"dbname={db} user={user} password={password} host=localhost port={port}\")\n",
    "        print(\"Connection to H2 DB successful\")\n",
    "    except Exception as e:\n",
    "        print(f\"The error '{e}' occurred\")\n",
    "    return connection"
   ]
  },
  {
   "cell_type": "code",
   "execution_count": 9,
   "metadata": {
    "id": "dDn3cAlHK_QB",
    "tags": []
   },
   "outputs": [],
   "source": [
    "def execute(connection, query, show=True,close=True):\n",
    "    try:\n",
    "        cursor = connection.cursor()\n",
    "        cursor.execute(query)\n",
    "        print(cursor.rowcount,\"rows\")\n",
    "        if show and cursor.rowcount:\n",
    "            names = [desc[0] for desc in cursor.description]\n",
    "            for attr in names:\n",
    "                print(str(attr[:16]).ljust(16),end='|')\n",
    "            print()\n",
    "            for attr in names:\n",
    "                print(''.ljust(17,'-'),end='')\n",
    "            print()\n",
    "            for ligne in cursor:\n",
    "                for attr in ligne:\n",
    "                    print(str(attr)[:16].ljust(16),end='|')\n",
    "                print()\n",
    "        if close:\n",
    "            cursor.close()\n",
    "    except Exception as e:\n",
    "        print(f\"The error '{e}' occurred\")\n",
    "        cursor=None\n",
    "    return cursor"
   ]
  },
  {
   "cell_type": "markdown",
   "metadata": {
    "id": "zHpjYeKDK_P9",
    "tags": []
   },
   "source": [
    "# TD et TME 6 : REQUÊTES IMBRIQUÉES AVEC EXISTS, ALL ET ANY\n",
    "Ce TD/TME utilise les données contenues dans les fichiers **bd_jo_v1_H2.sql** et **bd_jo_v2_H2.sql**\n"
   ]
  },
  {
   "cell_type": "markdown",
   "metadata": {
    "id": "zHpjYeKDK_P9",
    "tags": []
   },
   "source": [
    "## TD4 \n",
    "\n",
    "Ce TD utilise les données contenues dans les fichiers **bd_jo_v1_H2.sql** \n",
    "\n",
    "BASE DE DONNÉES **JEUX OLYMPIQUES D'HIVER 2014** <br/>\n",
    "On considère le schéma de la base JEUXOLYMPIQUE2014 qui décrit les athlètes et leurs résultats aux\n",
    "épreuves des Jeux Olympiques d'Hiver Sotchi 2014 :<br/>\n",
    "\n",
    "\n",
    "**ATHLETE** ( <u>NOM,PRENOM</u>,DATENAISSANCE,PAYS)<br/>\n",
    "**RANGEPREUVE**( <u>NOMATH*,PRENOMATH*,EPREUVE,SPORT,CATEGORIE</u>,DATEDEBUT,DATEFIN,RANG)<br/>\n",
    "\n",
    "La relation ATHLETE contient des informations concernant les athlètes ayant participé aux Jeux\n",
    "Olympiques. Plus précisément : leur nom, leur prénom, leur date de naissance si elle est renseignée\n",
    "(ou NULL sinon) ainsi que le pays qu'ils représentent.\n",
    "La relation RANGEPREUVE renvoie pour chaque athlète identifie par NOMATH ET PRENOMATH et\n",
    "chaque épreuve identifiée par SPORT, EPREUVE ET CATEGORIE (HOMMES OU FEMMES) à laquelle il a\n",
    "participé, le RANG qu'il a obtenu. On pour chaque épreuve les dates de début et de fin (DATEDEBUT,\n",
    "DATEFIN).\n",
    "Lorsqu'un athlète participe à une épreuve puis est disqualifié, son rang n'est pas renseigné (NULL)\n",
    "\n"
   ]
  },
  {
   "cell_type": "markdown",
   "metadata": {
    "id": "Sd2wejT-K_QN",
    "tags": []
   },
   "source": [
    "### Créer connexion et charger les données JO-V1"
   ]
  },
  {
   "cell_type": "markdown",
   "metadata": {
    "id": "00mRiA73K_QB",
    "tags": []
   },
   "source": [
    "## Connexion à H2"
   ]
  },
  {
   "cell_type": "code",
   "execution_count": 11,
   "metadata": {
    "id": "IRyyRAX2K_QB",
    "tags": []
   },
   "outputs": [
    {
     "name": "stdout",
     "output_type": "stream",
     "text": [
      "Connection closed\n",
      "Connection to H2 DB successful\n"
     ]
    }
   ],
   "source": [
    "connection = connect_H2(\"jo\"+f'{port}',\"ba\",\"ba\")"
   ]
  },
  {
   "cell_type": "markdown",
   "metadata": {},
   "source": [
    "**!Vérifiez** que vous avez bien un fichier **jo_numero_port.mv.db** dans votre répertoire data"
   ]
  },
  {
   "cell_type": "markdown",
   "metadata": {
    "tags": []
   },
   "source": [
    "## Charger les données bd_jo_v1_H2.sql"
   ]
  },
  {
   "cell_type": "code",
   "execution_count": 14,
   "metadata": {
    "id": "ALsb-dtHK_QO",
    "tags": []
   },
   "outputs": [
    {
     "name": "stdout",
     "output_type": "stream",
     "text": [
      "0 rows\n",
      "0 rows\n"
     ]
    }
   ],
   "source": [
    "schemafile=open(\"bd-jo-v1_H2.sql\",mode=\"r\",encoding='utf-8')\n",
    "create_schema=schemafile.read()\n",
    "execute(connection,\"drop all objects\")\n",
    "execute(connection, create_schema)\n",
    "connection.commit()"
   ]
  },
  {
   "cell_type": "markdown",
   "metadata": {
    "id": "Sd2wejT-K_QN",
    "tags": []
   },
   "source": [
    "### Requêtes"
   ]
  },
  {
   "cell_type": "markdown",
   "metadata": {},
   "source": [
    "**ATTENTION :** \n",
    "\n",
    "**il ne faut PAS terminer les requêtes avec ';'**\n",
    "\n",
    "**Utiliser simples quotes (') pour les chaînes de caractères, ne pas utiliser doubles quote (\")** "
   ]
  },
  {
   "cell_type": "markdown",
   "metadata": {},
   "source": [
    "**Q1**. Les athlètes français.<br/>\n",
    "Résultat : (92 lignes)"
   ]
  },
  {
   "cell_type": "code",
   "execution_count": 15,
   "metadata": {
    "id": "qc0wptxuK_QC",
    "tags": []
   },
   "outputs": [],
   "source": [
    "query=\"\"\"\n",
    "select * from Athlete where pays='France'\n",
    "\n",
    "\n",
    "\n",
    "\"\"\""
   ]
  },
  {
   "cell_type": "code",
   "execution_count": 16,
   "metadata": {
    "id": "qc0wptxuK_QC",
    "tags": []
   },
   "outputs": [
    {
     "name": "stdout",
     "output_type": "stream",
     "text": [
      "92 rows\n"
     ]
    },
    {
     "data": {
      "text/plain": [
       "<cursor object at 0x7f43f26ec8b0; closed: -1>"
      ]
     },
     "execution_count": 16,
     "metadata": {},
     "output_type": "execute_result"
    }
   ],
   "source": [
    "# Afficher le nombre de n-uplets (par defaut)\n",
    "execute(connection,query, show=False)"
   ]
  },
  {
   "cell_type": "code",
   "execution_count": 17,
   "metadata": {
    "id": "qc0wptxuK_QC",
    "tags": []
   },
   "outputs": [
    {
     "name": "stdout",
     "output_type": "stream",
     "text": [
      "92 rows\n",
      "nom             |prenom          |datenaissance   |pays            |\n",
      "--------------------------------------------------------------------\n",
      "FOURCADE        |Martin          |1988-09-14      |France          |\n",
      "LAMY CHAPPUIS   |Jason           |1986-09-09      |France          |\n",
      "VAULTIER        |Pierre          |1987-06-24      |France          |\n",
      "CHAPUIS         |Jean Frederic   |1989-03-02      |France          |\n",
      "BRUNET          |Marie Laure     |1988-11-20      |France          |\n",
      "DORIN HABERT    |Marie           |1986-06-19      |France          |\n",
      "ANTHONIOZ       |Deborah         |1978-08-29      |France          |\n",
      "MISSILLIER      |Steve           |1984-12-12      |France          |\n",
      "BOVOLENTA       |Arnaud          |1988-09-06      |France          |\n",
      "MARTINOD        |Marie           |1984-07-20      |France          |\n",
      "GAILLARD        |Jean Marc       |1980-10-07      |France          |\n",
      "DE LE RUE       |Paul-Henri      |1984-04-17      |France          |\n",
      "PINTURAULT      |Alexis          |1991-03-20      |France          |\n",
      "BEATRIX         |Jean Guillaume  |1988-03-24      |France          |\n",
      "DUVILLARD       |Robin           |1983-12-22      |France          |\n",
      "MANIFICAT       |Maurice         |1986-04-04      |France          |\n",
      "PERRILLAT BOITEU|Ivan            |1985-12-28      |France          |\n",
      "JOSSERAND       |Marion          |1986-10-06      |France          |\n",
      "RAMOIN          |Tony            |1988-12-23      |France          |\n",
      "TRESPEUCH       |Chloe           |1994-04-13      |France          |\n",
      "MATTEL          |Coline          |1995-11-03      |France          |\n",
      "MIDOL           |Jonathan        |1988-01-13      |France          |\n",
      "ROLLAND         |Kevin           |1989-08-10      |France          |\n",
      "LACROIX         |Sebastian       |None            |France          |\n",
      "LIZEROUX        |Julien          |None            |France          |\n",
      "JOUBERT         |Brian           |None            |France          |\n",
      "CHATAIGNIER     |Maxime          |None            |France          |\n",
      "FAUCONNET       |Thibaut         |None            |France          |\n",
      "PIERRON         |Veronique       |None            |France          |\n",
      "BARTHET         |Anne-Sophie     |None            |France          |\n",
      "FANARA          |Thomas          |None            |France          |\n",
      "GRANGE          |Jean-Baptiste   |None            |France          |\n",
      "MARCHAND-ARVIER |Marie           |None            |France          |\n",
      "THEAUX          |Adrien          |None            |France          |\n",
      "FOURCADE        |Simon           |None            |France          |\n",
      "BRAUD           |Francois        |None            |France          |\n",
      "LAHEURTE        |Maxime          |None            |France          |\n",
      "RODRIGUEZ       |Sophie          |None            |France          |\n",
      "BAUD            |Adeline         |None            |France          |\n",
      "BERTRAND        |Marion          |None            |France          |\n",
      "MARMOTTAN       |Anemone         |None            |France          |\n",
      "NOENS           |Nastasia        |None            |France          |\n",
      "CLAREY          |Johan           |None            |France          |\n",
      "FAIVRE          |Mathieu         |None            |France          |\n",
      "FAYED           |Guillermo       |None            |France          |\n",
      "MERMILLOD BLONDI|Thomas          |None            |France          |\n",
      "POISSON         |David           |None            |France          |\n",
      "BESCOND         |Anais           |None            |France          |\n",
      "BOEUF           |Alexis          |None            |France          |\n",
      "BOLLIET         |Marine          |None            |France          |\n",
      "FAIVRE PICON    |Anouk           |None            |France          |\n",
      "GAILLARD        |Cyril           |None            |France          |\n",
      "HUGUE           |Coraline        |None            |France          |\n",
      "MIRANDA         |Cyril           |None            |France          |\n",
      "BENNA           |Anthony         |None            |France          |\n",
      "DAVID           |Ophelie         |None            |France          |\n",
      "AMODIO          |Florent         |None            |France          |\n",
      "BAISAMY         |Johann          |None            |France          |\n",
      "DUFOUR          |Sylvain         |None            |France          |\n",
      "LONGO           |Arthur          |None            |France          |\n",
      "MOENNE LOCCOZ   |Nelly           |None            |France          |\n",
      "THOVEX          |Mirabelle       |None            |France          |\n",
      "LEPAPE          |Sebastien       |None            |France          |\n",
      "MACE            |Benjamin        |None            |France          |\n",
      "LEMARE          |Lea             |None            |France          |\n",
      "AYMONIER        |Celia           |None            |France          |\n",
      "BACKSCHEIDER    |Adrien          |None            |France          |\n",
      "GROS            |Baptiste        |None            |France          |\n",
      "JAY             |Renaud          |None            |France          |\n",
      "JEAN            |Aurore          |None            |France          |\n",
      "BUILLET         |Marion          |None            |France          |\n",
      "MEITE           |Mae Berenice    |None            |France          |\n",
      "BONNEFOY        |Morgane         |None            |France          |\n",
      "BANKES          |Charlotte       |None            |France          |\n",
      "GRIMAL          |Clemence        |None            |France          |\n",
      "CLAIR           |Julia           |None            |France          |\n",
      "LAMY CHAPPUIS   |Ronan           |None            |France          |\n",
      "FERNANDEZ       |Ewen            |None            |France          |\n",
      "CHEVALIER       |Anais           |None            |France          |\n",
      "DESTHIEUX       |Simon           |None            |France          |\n",
      "ADELISSE        |Antoine         |None            |France          |\n",
      "BARON           |Alizee          |None            |France          |\n",
      "BERGER SABBATEL |Marielle        |None            |France          |\n",
      "BERTONI         |Xavier          |None            |France          |\n",
      "BONNAIRE        |Jules           |None            |France          |\n",
      "CARADEUX        |Anais           |None            |France          |\n",
      "CAVET           |Benjamin        |None            |France          |\n",
      "DEVOUASSOUX     |Jonas           |None            |France          |\n",
      "KRIEF           |Thomas          |None            |France          |\n",
      "LAFFONT         |Perrine         |None            |France          |\n",
      "PANCRAS         |Jeremy          |None            |France          |\n",
      "VALENTIN        |Benoit          |None            |France          |\n"
     ]
    },
    {
     "data": {
      "text/plain": [
       "<cursor object at 0x7f43f26ec5e0; closed: -1>"
      ]
     },
     "execution_count": 17,
     "metadata": {},
     "output_type": "execute_result"
    }
   ],
   "source": [
    "# Afficher le résultat (par defaut)\n",
    "execute(connection,query)"
   ]
  },
  {
   "cell_type": "markdown",
   "metadata": {},
   "source": [
    "**Q2**. La date de naissance de Denis TEN.<br/>\n",
    "Résultat: 1993-06-13"
   ]
  },
  {
   "cell_type": "code",
   "execution_count": 18,
   "metadata": {
    "id": "qc0wptxuK_QC",
    "tags": []
   },
   "outputs": [
    {
     "name": "stdout",
     "output_type": "stream",
     "text": [
      "1 rows\n",
      "datenaissance   |\n",
      "-----------------\n",
      "1993-06-13      |\n"
     ]
    },
    {
     "data": {
      "text/plain": [
       "<cursor object at 0x7f43f26ec9a0; closed: -1>"
      ]
     },
     "execution_count": 18,
     "metadata": {},
     "output_type": "execute_result"
    }
   ],
   "source": [
    "query=\"\"\"\n",
    "SELECT dateNaissance\n",
    "FROM Athlete\n",
    "WHERE lower(prenom) = 'denis' AND lower(nom) = 'ten'\n",
    "\n",
    "\"\"\"\n",
    "execute(connection,query)"
   ]
  },
  {
   "cell_type": "markdown",
   "metadata": {},
   "source": [
    "**Q3**. Les épreuves (sport, épreuve) dans lesquelles Therese JOHAUG a gagné une médaille, ainsi\n",
    "que le rang qu'elle a obtenu.<br/>\n",
    "Indice : pour gagner une médaille, il faut avoir été classé dans le rang 1, 2 ou 3.<br/>\n",
    "Résultat : ('Ski de fond', '10km', 3) et ('Ski de fond', '30km', 2)"
   ]
  },
  {
   "cell_type": "code",
   "execution_count": 20,
   "metadata": {
    "id": "qc0wptxuK_QC",
    "tags": []
   },
   "outputs": [
    {
     "name": "stdout",
     "output_type": "stream",
     "text": [
      "2 rows\n",
      "sport           |epreuve         |rang            |\n",
      "---------------------------------------------------\n",
      "Ski de fond     |10km            |3               |\n",
      "Ski de fond     |30km            |2               |\n"
     ]
    },
    {
     "data": {
      "text/plain": [
       "<cursor object at 0x7f43f26ecc70; closed: -1>"
      ]
     },
     "execution_count": 20,
     "metadata": {},
     "output_type": "execute_result"
    }
   ],
   "source": [
    "query=\"\"\"\n",
    "SELECT sport, epreuve, rang\n",
    "FROM RangEpreuve\n",
    "WHERE prenomAth = 'Therese' AND nomAth = 'JOHAUG' AND rang <= 3\n",
    "\n",
    "\"\"\"\n",
    "execute(connection,query)"
   ]
  },
  {
   "cell_type": "markdown",
   "metadata": {},
   "source": [
    "**Q4**. La nationalité des athlètes Kamil STOCH et Suk-Hee SHIM.<br/>\n",
    "Résultat : ('SHIM', 'Suk-Hee', 'Corée du Sud') et ('STOCH', 'Kamil', 'Pologne')"
   ]
  },
  {
   "cell_type": "code",
   "execution_count": 21,
   "metadata": {
    "id": "qc0wptxuK_QC",
    "tags": []
   },
   "outputs": [
    {
     "name": "stdout",
     "output_type": "stream",
     "text": [
      "2 rows\n",
      "nom             |prenom          |pays            |\n",
      "---------------------------------------------------\n",
      "STOCH           |Kamil           |Pologne         |\n",
      "SHIM            |Suk-Hee         |Corée du Sud    |\n"
     ]
    },
    {
     "data": {
      "text/plain": [
       "<cursor object at 0x7f43f26ecb80; closed: -1>"
      ]
     },
     "execution_count": 21,
     "metadata": {},
     "output_type": "execute_result"
    }
   ],
   "source": [
    "query=\"\"\"\n",
    "SELECT nom, prenom, pays\n",
    "FROM Athlete\n",
    "WHERE (prenom = 'Kamil' AND nom = 'STOCH') OR (prenom = 'Suk-Hee' AND nom = 'SHIM')\n",
    "\"\"\"\n",
    "execute(connection,query)"
   ]
  },
  {
   "cell_type": "markdown",
   "metadata": {},
   "source": [
    "**Q5**. Tous les sports des Jeux Olympiques.<br/>\n",
    "Résultat : (12 lignes)"
   ]
  },
  {
   "cell_type": "code",
   "execution_count": 22,
   "metadata": {
    "id": "qc0wptxuK_QC",
    "tags": []
   },
   "outputs": [
    {
     "name": "stdout",
     "output_type": "stream",
     "text": [
      "12 rows\n",
      "sport           |\n",
      "-----------------\n",
      "Biathlon        |\n",
      "Combiné nordique|\n",
      "Luge            |\n",
      "Patinage artisti|\n",
      "Patinage de vite|\n",
      "Patinage de vite|\n",
      "Saut à ski      |\n",
      "Skeleton        |\n",
      "Ski acrobatique |\n",
      "Ski alpin       |\n",
      "Ski de fond     |\n",
      "Surf des neiges |\n"
     ]
    },
    {
     "data": {
      "text/plain": [
       "<cursor object at 0x7f43f26eca90; closed: -1>"
      ]
     },
     "execution_count": 22,
     "metadata": {},
     "output_type": "execute_result"
    }
   ],
   "source": [
    "query=\"\"\"\n",
    "SELECT DISTINCT sport FROM RangEpreuve\n",
    "\n",
    "\"\"\"\n",
    "execute(connection,query)"
   ]
  },
  {
   "cell_type": "markdown",
   "metadata": {},
   "source": [
    "**Q6**. Le nom des athlètes originaire de Scandinavie (pays : Danemark, Finlande, Norvège, Suède,\n",
    "Islande) triés par le nom, puis par leur prénom.<br/>\n",
    "Résultat : (191 lignes)"
   ]
  },
  {
   "cell_type": "code",
   "execution_count": 26,
   "metadata": {
    "id": "qc0wptxuK_QC",
    "tags": []
   },
   "outputs": [
    {
     "name": "stdout",
     "output_type": "stream",
     "text": [
      "189 rows\n"
     ]
    },
    {
     "data": {
      "text/plain": [
       "<cursor object at 0x7f43f26ed300; closed: -1>"
      ]
     },
     "execution_count": 26,
     "metadata": {},
     "output_type": "execute_result"
    }
   ],
   "source": [
    "query=\"\"\"\n",
    "SELECT nom, prenom\n",
    "FROM Athlete\n",
    "WHERE pays IN (' Danemark', 'Finlande', 'Norvège', 'Suède', 'Islande')\n",
    "ORDER BY nom, prenom\n",
    "\n",
    "\"\"\"\n",
    "execute(connection,query, show=False)"
   ]
  },
  {
   "cell_type": "markdown",
   "metadata": {},
   "source": [
    "**Q7**. Le nom de sports contenant la chaîne de caractères 'ski' (par exemple, 'Ski de fond', 'Saut à\n",
    "ski', …).<br/>\n",
    "Résultat : Ski de fond, Ski alpin, Ski acrobatique, Saut à ski"
   ]
  },
  {
   "cell_type": "code",
   "execution_count": 24,
   "metadata": {
    "id": "qc0wptxuK_QC",
    "tags": []
   },
   "outputs": [
    {
     "name": "stdout",
     "output_type": "stream",
     "text": [
      "4 rows\n",
      "sport           |\n",
      "-----------------\n",
      "Saut à ski      |\n",
      "Ski acrobatique |\n",
      "Ski alpin       |\n",
      "Ski de fond     |\n"
     ]
    },
    {
     "data": {
      "text/plain": [
       "<cursor object at 0x7f43f26ece50; closed: -1>"
      ]
     },
     "execution_count": 24,
     "metadata": {},
     "output_type": "execute_result"
    }
   ],
   "source": [
    "query=\"\"\"\n",
    "SELECT DISTINCT sport FROM RangEpreuve WHERE lower(sport) LIKE '%ski%'\n",
    "\n",
    "\"\"\"\n",
    "execute(connection,query)"
   ]
  },
  {
   "cell_type": "markdown",
   "metadata": {},
   "source": [
    "**Q8**. Les athlètes (nom, prénom) dont la date de naissance n'est pas renseignée.<br/>\n",
    "Résultat : (1516 lignes)"
   ]
  },
  {
   "cell_type": "code",
   "execution_count": 27,
   "metadata": {
    "id": "qc0wptxuK_QC",
    "tags": []
   },
   "outputs": [
    {
     "name": "stdout",
     "output_type": "stream",
     "text": [
      "1516 rows\n"
     ]
    },
    {
     "data": {
      "text/plain": [
       "<cursor object at 0x7f44083bff10; closed: -1>"
      ]
     },
     "execution_count": 27,
     "metadata": {},
     "output_type": "execute_result"
    }
   ],
   "source": [
    "query=\"\"\"\n",
    "SELECT nom, prenom FROM Athlete WHERE dateNaissance IS NULL\n",
    "\n",
    "\"\"\"\n",
    "execute(connection,query, show=False)"
   ]
  },
  {
   "cell_type": "markdown",
   "metadata": {},
   "source": [
    "**Q9**. Les athlètes qui ont participé à l'épreuve '10km' de 'Ski de fond' sans être disqualifié (rang\n",
    "inconnu), triés par rang.<br/>\n",
    "Résultat : (75 lignes) "
   ]
  },
  {
   "cell_type": "code",
   "execution_count": 29,
   "metadata": {
    "id": "qc0wptxuK_QC",
    "tags": []
   },
   "outputs": [
    {
     "name": "stdout",
     "output_type": "stream",
     "text": [
      "75 rows\n",
      "nomath          |prenomath       |\n",
      "----------------------------------\n",
      "KOWALCZYK       |Justyna         |\n",
      "KALLA           |Charlotte       |\n",
      "JOHAUG          |Therese         |\n",
      "SAARINEN        |Aino Kaisa      |\n",
      "BJOERGEN        |Marit           |\n",
      "BOEHLER         |Stefanie        |\n",
      "ZHUKOVA         |Natalia         |\n",
      "NISKANEN        |Kerttu          |\n",
      "WENG            |Heidi           |\n",
      "LAHTEENMAKI     |Krista          |\n",
      "TCHEKALEVA      |Yulia           |\n",
      "WIKEN           |Emma            |\n",
      "KUZIUKOVA       |Olga            |\n",
      "KYLLOENEN       |Anne            |\n",
      "ISHIDA          |Masako          |\n",
      "LINDBORG        |Sara            |\n",
      "IVANOVA         |Julia           |\n",
      "BJORNSEN        |Sadie           |\n",
      "JACOBSEN        |Astrid Uhrenhold|\n",
      "HAAG            |Anna            |\n",
      "VRABCOVA-NYVLTOV|Eva             |\n",
      "SMUTNA          |Katerina        |\n",
      "FESSEL          |Nicole          |\n",
      "SHEVCHENKO      |Valentina       |\n",
      "ZELLER          |Katrin          |\n",
      "KUBINSKA        |Kornelia        |\n",
      "AYMONIER        |Celia           |\n",
      "ORGUE           |Laura           |\n",
      "JEAN            |Aurore          |\n",
      "ANTYPENKO       |Tetyana         |\n",
      "PILLER          |Marina          |\n",
      "CALDWELL        |Sophie          |\n",
      "CEBASEK         |Alenka          |\n",
      "SARGENT         |Ida             |\n",
      "BROOKS          |Holly           |\n",
      "KOLOMINA        |Yelena          |\n",
      "LI              |Hongxue         |\n",
      "SCHWARZ         |Nathalie        |\n",
      "MACIUSZEK       |Paulina         |\n",
      "BROCARD         |Elisa           |\n",
      "JEZERSEK        |Barbara         |\n",
      "WEBSTER         |Brittany        |\n",
      "SANNIKOVA       |Alena           |\n",
      "GAIAZOVA        |Daria           |\n",
      "OJASTE          |Triin           |\n",
      "SLONOVA         |Anastasia       |\n",
      "MAYERHOFER      |Veronika        |\n",
      "MORAVCOVA       |Klara           |\n",
      "GRYGORENKO      |Kateryna        |\n",
      "PROCHAZKOVA     |Alena           |\n",
      "LEE             |Chae-Won        |\n",
      "OSSIPOVA        |Tatyana         |\n",
      "MAN             |Dandan          |\n",
      "VISNAR          |Katja           |\n",
      "AMMAR           |Amanda          |\n",
      "CETINKAYA       |Kelime          |\n",
      "WIDMER          |Heidi           |\n",
      "LISOGOR         |Marina          |\n",
      "MALEC           |Vedrana         |\n",
      "RAZINGER        |Nika            |\n",
      "BOTTOMLEY       |Esther          |\n",
      "SARA            |Timea           |\n",
      "WATSON          |Aimee           |\n",
      "GALSTYAN        |Katya           |\n",
      "DAUSHKANE       |Inga            |\n",
      "MUSGRAVE        |Rosamund        |\n",
      "ARDISAUSKAITE   |Ingrida         |\n",
      "PETITJEAN       |Mathilde Amivi  |\n",
      "SIMON           |Agnes           |\n",
      "CHINBAT         |Otgontsetseg    |\n",
      "CAMENSCIC       |Alexandra       |\n",
      "KARISIK         |Tanja           |\n",
      "REZASOLTANI     |Farzaneh        |\n",
      "KOLAROSKA       |Marija          |\n",
      "KOVACEVIC       |Ivana           |\n"
     ]
    },
    {
     "data": {
      "text/plain": [
       "<cursor object at 0x7f43f26ed120; closed: -1>"
      ]
     },
     "execution_count": 29,
     "metadata": {},
     "output_type": "execute_result"
    }
   ],
   "source": [
    "query=\"\"\"\n",
    "SELECT nomAth, prenomAth\n",
    "FROM RangEpreuve\n",
    "WHERE sport = 'Ski de fond' AND epreuve = '10km' AND rang IS NOT NULL\n",
    "ORDER BY rang\n",
    "\"\"\"\n",
    "execute(connection,query)"
   ]
  },
  {
   "cell_type": "markdown",
   "metadata": {},
   "source": [
    "**Q10**. Les épreuves (sport, épreuve et categorie) qui ont eu lieu après le 21 février 2014.<br/>\n",
    "Résultat : (4 lignes)"
   ]
  },
  {
   "cell_type": "code",
   "execution_count": 30,
   "metadata": {
    "id": "qc0wptxuK_QC",
    "tags": []
   },
   "outputs": [
    {
     "name": "stdout",
     "output_type": "stream",
     "text": [
      "4 rows\n",
      "sport           |epreuve         |categorie       |\n",
      "---------------------------------------------------\n",
      "Ski alpin       |Slalom          |Femmes          |\n",
      "Ski de fond     |50km            |Hommes          |\n",
      "Surf des neiges |Slalom parallèle|Femmes          |\n",
      "Surf des neiges |Slalom parallèle|Hommes          |\n"
     ]
    },
    {
     "data": {
      "text/plain": [
       "<cursor object at 0x7f43f26ed4e0; closed: -1>"
      ]
     },
     "execution_count": 30,
     "metadata": {},
     "output_type": "execute_result"
    }
   ],
   "source": [
    "query=\"\"\"\n",
    "SELECT DISTINCT sport, epreuve, categorie\n",
    "FROM RangEpreuve\n",
    "WHERE dateDebut > '2014-02-21'\n",
    "\n",
    "\"\"\"\n",
    "execute(connection,query)"
   ]
  },
  {
   "cell_type": "markdown",
   "metadata": {},
   "source": [
    "**Q11**. Les épreuves (sport, épreuve et categorie) qui ont duré entre 2 et 4 jours, ainsi que leur\n",
    "durée exacte.<br/>\n",
    "Résultat : (16 lignes)"
   ]
  },
  {
   "cell_type": "code",
   "execution_count": 31,
   "metadata": {
    "id": "qc0wptxuK_QC",
    "tags": []
   },
   "outputs": [
    {
     "name": "stdout",
     "output_type": "stream",
     "text": [
      "16 rows\n",
      "sport           |epreuve         |categorie       |\n",
      "---------------------------------------------------\n",
      "Combiné nordique|Individuel LH   |Hommes          |\n",
      "Luge            |Simple          |Femmes          |\n",
      "Luge            |Simple          |Hommes          |\n",
      "Patinage artisti|Individuel      |Femmes          |\n",
      "Patinage artisti|Individuel      |Hommes          |\n",
      "Patinage de vite|1000m           |Femmes          |\n",
      "Patinage de vite|1000m           |Hommes          |\n",
      "Patinage de vite|500m            |Femmes          |\n",
      "Patinage de vite|500m            |Hommes          |\n",
      "Saut à ski      |Grand tremplin i|Hommes          |\n",
      "Saut à ski      |Tremplin normal |Hommes          |\n",
      "Skeleton        |Individuel      |Femmes          |\n",
      "Skeleton        |Individuel      |Hommes          |\n",
      "Ski acrobatique |Bosses          |Femmes          |\n",
      "Surf des neiges |Slopestyle      |Femmes          |\n",
      "Surf des neiges |Slopestyle      |Hommes          |\n"
     ]
    },
    {
     "data": {
      "text/plain": [
       "<cursor object at 0x7f43f26ed6c0; closed: -1>"
      ]
     },
     "execution_count": 31,
     "metadata": {},
     "output_type": "execute_result"
    }
   ],
   "source": [
    "query=\"\"\"\n",
    "SELECT DISTINCT sport, epreuve, categorie\n",
    "FROM RangEpreuve\n",
    "WHERE DATEDIFF(day, dateDebut, dateFin) +1 BETWEEN 2 AND 4\n",
    "\n",
    "\"\"\"\n",
    "execute(connection,query)"
   ]
  },
  {
   "cell_type": "markdown",
   "metadata": {},
   "source": [
    "**Q12**. Les épreuves (sport, épreuve et catégorie) dont le final a eu lieu pendant un weekend.<br/>\n",
    "Résultat : (26 lignes)"
   ]
  },
  {
   "cell_type": "code",
   "execution_count": 37,
   "metadata": {
    "id": "qc0wptxuK_QC",
    "tags": []
   },
   "outputs": [
    {
     "name": "stdout",
     "output_type": "stream",
     "text": [
      "26 rows\n",
      "sport           |epreuve         |categorie       |\n",
      "---------------------------------------------------\n",
      "Biathlon        |10km            |Hommes          |\n",
      "Biathlon        |7,5km           |Femmes          |\n",
      "Luge            |Simple          |Hommes          |\n",
      "Patinage de vite|1500m           |Femmes          |\n",
      "Patinage de vite|1500m           |Hommes          |\n",
      "Patinage de vite|3000m           |Femmes          |\n",
      "Patinage de vite|5000m           |Hommes          |\n",
      "Patinage de vite|1000m           |Hommes          |\n",
      "Patinage de vite|1500m           |Femmes          |\n",
      "Saut à ski      |Grand tremplin i|Hommes          |\n",
      "Saut à ski      |Tremplin normal |Hommes          |\n",
      "Skeleton        |Individuel      |Hommes          |\n",
      "Ski acrobatique |Bosses          |Femmes          |\n",
      "Ski alpin       |Descente        |Femmes          |\n",
      "Ski alpin       |Slalom          |Femmes          |\n",
      "Ski alpin       |Super G         |Femmes          |\n",
      "Ski alpin       |Super G         |Hommes          |\n",
      "Ski de fond     |30km            |Femmes          |\n",
      "Ski de fond     |50km            |Hommes          |\n",
      "Ski de fond     |Skiathlon (15km |Hommes          |\n",
      "Ski de fond     |Skiathlon (7,5km|Femmes          |\n",
      "Surf des neiges |Slalom parallèle|Femmes          |\n",
      "Surf des neiges |Slalom parallèle|Hommes          |\n",
      "Surf des neiges |Slopestyle      |Femmes          |\n",
      "Surf des neiges |Slopestyle      |Hommes          |\n",
      "Surf des neiges |Snowboard cross |Femmes          |\n"
     ]
    },
    {
     "data": {
      "text/plain": [
       "<cursor object at 0x7f43f26ed8a0; closed: -1>"
      ]
     },
     "execution_count": 37,
     "metadata": {},
     "output_type": "execute_result"
    }
   ],
   "source": [
    "query=\"\"\"\n",
    "SELECT DISTINCT sport, epreuve, categorie\n",
    "FROM RangEpreuve\n",
    "WHERE DAYNAME(dateFin) = 'Saturday' or DAYNAME(dateFin) = 'Sunday'\n",
    "\n",
    "\"\"\"\n",
    "execute(connection,query)"
   ]
  },
  {
   "cell_type": "markdown",
   "metadata": {},
   "source": [
    "**Q13**. Les athlètes (nom, prénom) femmes de nationalité française.<br/>\n",
    "Résultat : (26 lignes)"
   ]
  },
  {
   "cell_type": "code",
   "execution_count": 48,
   "metadata": {
    "id": "qc0wptxuK_QC",
    "tags": []
   },
   "outputs": [
    {
     "name": "stdout",
     "output_type": "stream",
     "text": [
      "26 rows\n",
      "nomath          |prenomath       |\n",
      "----------------------------------\n",
      "AYMONIER        |Celia           |\n",
      "BARTHET         |Anne-Sophie     |\n",
      "BAUD            |Adeline         |\n",
      "BERTRAND        |Marion          |\n",
      "BESCOND         |Anais           |\n",
      "BONNEFOY        |Morgane         |\n",
      "BRUNET          |Marie Laure     |\n",
      "CARADEUX        |Anais           |\n",
      "CHEVALIER       |Anais           |\n",
      "CLAIR           |Julia           |\n",
      "DAVID           |Ophelie         |\n",
      "DORIN HABERT    |Marie           |\n",
      "FAIVRE PICON    |Anouk           |\n",
      "GRIMAL          |Clemence        |\n",
      "HUGUE           |Coraline        |\n",
      "JEAN            |Aurore          |\n",
      "LEMARE          |Lea             |\n",
      "MARCHAND-ARVIER |Marie           |\n",
      "MARMOTTAN       |Anemone         |\n",
      "MARTINOD        |Marie           |\n",
      "MATTEL          |Coline          |\n",
      "MEITE           |Mae Berenice    |\n",
      "NOENS           |Nastasia        |\n",
      "RODRIGUEZ       |Sophie          |\n",
      "THOVEX          |Mirabelle       |\n",
      "TRESPEUCH       |Chloe           |\n"
     ]
    },
    {
     "data": {
      "text/plain": [
       "<cursor object at 0x7f43f26eea70; closed: -1>"
      ]
     },
     "execution_count": 48,
     "metadata": {},
     "output_type": "execute_result"
    }
   ],
   "source": [
    "query=\"\"\"\n",
    "SELECT distinct nomAth, prenomAth\n",
    "FROM RangEpreuve, Athlete\n",
    "WHERE nom = nomath and prenom = prenomath and categorie = 'Femmes' and pays = 'France' \n",
    "\n",
    "\"\"\"\n",
    "execute(connection,query)"
   ]
  },
  {
   "cell_type": "markdown",
   "metadata": {},
   "source": [
    "**Q14**. Les athlètes (nom, prénom) qui ont aujourd'hui moins de 30 ans et qui ont gagné une\n",
    "médaille.<br/>\n",
    "Résultat : depend de la date d'exécution "
   ]
  },
  {
   "cell_type": "code",
   "execution_count": 52,
   "metadata": {
    "id": "qc0wptxuK_QC",
    "tags": []
   },
   "outputs": [
    {
     "name": "stdout",
     "output_type": "stream",
     "text": [
      "8 rows\n",
      "nom             |prenom          |datenaissance   |rang            |\n",
      "--------------------------------------------------------------------\n",
      "HIRANO          |Ayumu           |1998-11-29      |2               |\n",
      "HIRAOKA         |Taku            |1995-10-29      |3               |\n",
      "MATTEL          |Coline          |1995-11-03      |3               |\n",
      "SHIFFRIN        |Mikaela         |1995-03-13      |1               |\n",
      "SHIM            |Suk-Hee         |1997-01-30      |2               |\n",
      "SHIM            |Suk-Hee         |1997-01-30      |3               |\n",
      "SOTNIKOVA       |Adelina         |1996-07-01      |1               |\n",
      "TIANYU          |Han             |1996-06-03      |2               |\n"
     ]
    },
    {
     "data": {
      "text/plain": [
       "<cursor object at 0x7f44083bf010; closed: -1>"
      ]
     },
     "execution_count": 52,
     "metadata": {},
     "output_type": "execute_result"
    }
   ],
   "source": [
    "query=\"\"\"\n",
    "SELECT distinct nom, prenom, datenaissance, rang\n",
    "FROM Athlete, RangEpreuve\n",
    "WHERE nom = nomath and prenom = prenomath and rang <= 3 and datediff(year,datenaissance,CURRENT_DATE)<30\n",
    "\n",
    "\"\"\"\n",
    "execute(connection,query)"
   ]
  },
  {
   "cell_type": "markdown",
   "metadata": {},
   "source": [
    "**Q15**. Les athlètes (nom, prénom) qui avaient leur anniversaire à la date de fin de l'épreuve dans\n",
    "laquelle ils participaient.<br/>\n",
    "Résultat : ('GARANICHEV', 'Evgeniy', 13, 2), ('SKOBREV', 'Ivan', 8, 2) et ('WEIBRECHT',\n",
    "'Andrew', 10, 2)"
   ]
  },
  {
   "cell_type": "code",
   "execution_count": 54,
   "metadata": {
    "id": "qc0wptxuK_QC",
    "tags": []
   },
   "outputs": [
    {
     "name": "stdout",
     "output_type": "stream",
     "text": [
      "3 rows\n",
      "nom             |prenom          |\n",
      "----------------------------------\n",
      "GARANICHEV      |Evgeniy         |\n",
      "SKOBREV         |Ivan            |\n",
      "WEIBRECHT       |Andrew          |\n"
     ]
    },
    {
     "data": {
      "text/plain": [
       "<cursor object at 0x7f43f26ef3d0; closed: -1>"
      ]
     },
     "execution_count": 54,
     "metadata": {},
     "output_type": "execute_result"
    }
   ],
   "source": [
    "query=\"\"\"\n",
    "SELECT distinct nom, prenom\n",
    "FROM Athlete, RangEpreuve\n",
    "WHERE nom = nomath and prenom = prenomath and month(datenaissance) = month(datefin) and day_of_month(datenaissance) = day_of_month(datefin)\n",
    "\"\"\"\n",
    "execute(connection,query)"
   ]
  },
  {
   "cell_type": "markdown",
   "metadata": {},
   "source": [
    "**Q16**.  Les athlètes français (nom, prénom) qui ont gagné une médaille.<br/>\n",
    "Résultat : (12 lignes)"
   ]
  },
  {
   "cell_type": "code",
   "execution_count": 55,
   "metadata": {
    "id": "qc0wptxuK_QC",
    "tags": []
   },
   "outputs": [
    {
     "name": "stdout",
     "output_type": "stream",
     "text": [
      "12 rows\n",
      "nomath          |prenomath       |\n",
      "----------------------------------\n",
      "BEATRIX         |Jean Guillaume  |\n",
      "BOVOLENTA       |Arnaud          |\n",
      "CHAPUIS         |Jean Frederic   |\n",
      "FOURCADE        |Martin          |\n",
      "MARTINOD        |Marie           |\n",
      "MATTEL          |Coline          |\n",
      "MIDOL           |Jonathan        |\n",
      "MISSILLIER      |Steve           |\n",
      "PINTURAULT      |Alexis          |\n",
      "ROLLAND         |Kevin           |\n",
      "TRESPEUCH       |Chloe           |\n",
      "VAULTIER        |Pierre          |\n"
     ]
    },
    {
     "data": {
      "text/plain": [
       "<cursor object at 0x7f43f26ef790; closed: -1>"
      ]
     },
     "execution_count": 55,
     "metadata": {},
     "output_type": "execute_result"
    }
   ],
   "source": [
    "query=\"\"\"\n",
    "SELECT distinct nomAth, prenomAth\n",
    "FROM RangEpreuve, Athlete\n",
    "WHERE nom = nomath and prenom = prenomath and rang<4 and pays = 'France' \n",
    "\n",
    "\"\"\"\n",
    "execute(connection,query)"
   ]
  },
  {
   "cell_type": "markdown",
   "metadata": {},
   "source": [
    "**Q17**. Les sports qui n'ont pas d'épreuves féminines.<br/>\n",
    "Résultat : Combiné nordique"
   ]
  },
  {
   "cell_type": "code",
   "execution_count": 76,
   "metadata": {
    "id": "qc0wptxuK_QC",
    "tags": []
   },
   "outputs": [
    {
     "name": "stdout",
     "output_type": "stream",
     "text": [
      "1 rows\n",
      "sport           |\n",
      "-----------------\n",
      "Combiné nordique|\n"
     ]
    },
    {
     "data": {
      "text/plain": [
       "<cursor object at 0x7f43f2504040; closed: -1>"
      ]
     },
     "execution_count": 76,
     "metadata": {},
     "output_type": "execute_result"
    }
   ],
   "source": [
    "query=\"\"\"\n",
    "SELECT DISTINCT sport\n",
    "FROM RangEpreuve r1\n",
    "WHERE not exists (select * from rangepreuve r2 where r1.sport = r2.sport and Categorie = 'Femmes')\n",
    "\n",
    "\"\"\"\n",
    "execute(connection,query)"
   ]
  },
  {
   "cell_type": "markdown",
   "metadata": {
    "id": "zHpjYeKDK_P9",
    "tags": []
   },
   "source": [
    "## TME4 "
   ]
  },
  {
   "cell_type": "markdown",
   "metadata": {
    "tags": []
   },
   "source": [
    "## Charger les données bd_jo_v1_H2.sql"
   ]
  },
  {
   "cell_type": "code",
   "execution_count": 77,
   "metadata": {
    "id": "ALsb-dtHK_QO",
    "tags": []
   },
   "outputs": [
    {
     "name": "stdout",
     "output_type": "stream",
     "text": [
      "0 rows\n",
      "0 rows\n"
     ]
    }
   ],
   "source": [
    "schemafile=open(\"bd-jo-v1_H2.sql\",mode=\"r\",encoding='utf-8')\n",
    "create_schema=schemafile.read()\n",
    "execute(connection,\"drop all objects\")\n",
    "execute(connection, create_schema)\n",
    "connection.commit()"
   ]
  },
  {
   "cell_type": "markdown",
   "metadata": {},
   "source": [
    "### Exercice 1\n",
    "\n",
    "Exprimer les requêtes suivantes en SQL "
   ]
  },
  {
   "cell_type": "markdown",
   "metadata": {},
   "source": [
    "**Q1**. Les athlètes (nom, prénom) d'Inde (104 lignes).<br/>\n",
    "Résultat : IQBAL Nadeem, KESHAVAN Shiva, THAKUR Himanshu"
   ]
  },
  {
   "cell_type": "code",
   "execution_count": 80,
   "metadata": {
    "id": "qc0wptxuK_QC",
    "tags": []
   },
   "outputs": [
    {
     "name": "stdout",
     "output_type": "stream",
     "text": [
      "3 rows\n",
      "nom             |prenom          |\n",
      "----------------------------------\n",
      "IQBAL           |Nadeem          |\n",
      "KESHAVAN        |Shiva           |\n",
      "THAKUR          |Himanshu        |\n"
     ]
    },
    {
     "data": {
      "text/plain": [
       "<cursor object at 0x7f43f2504130; closed: -1>"
      ]
     },
     "execution_count": 80,
     "metadata": {},
     "output_type": "execute_result"
    }
   ],
   "source": [
    "query=\"\"\"\n",
    "select nom, prenom \n",
    "from Athlete \n",
    "where pays='Inde'\n",
    "\"\"\"\n",
    "execute(connection,query)"
   ]
  },
  {
   "cell_type": "markdown",
   "metadata": {},
   "source": [
    "**Q2** Le prénom des athlètes dont le nom est 'GOLD'.<br/>\n",
    "Résultat : Arielle, Gracie, Taylor"
   ]
  },
  {
   "cell_type": "code",
   "execution_count": 81,
   "metadata": {
    "id": "GJDia4KfK_QC",
    "tags": []
   },
   "outputs": [
    {
     "name": "stdout",
     "output_type": "stream",
     "text": [
      "3 rows\n",
      "prenom          |\n",
      "-----------------\n",
      "Arielle         |\n",
      "Gracie          |\n",
      "Taylor          |\n"
     ]
    },
    {
     "data": {
      "text/plain": [
       "<cursor object at 0x7f43f25046d0; closed: -1>"
      ]
     },
     "execution_count": 81,
     "metadata": {},
     "output_type": "execute_result"
    }
   ],
   "source": [
    "query=\"\"\"\n",
    "select prenom \n",
    "from Athlete \n",
    "where nom='GOLD'\n",
    "\n",
    "\"\"\"\n",
    "execute(connection,query)"
   ]
  },
  {
   "cell_type": "markdown",
   "metadata": {},
   "source": [
    "**Q3** La nationalité de AONO Ryo.<br/>\n",
    "Résultat : Japon"
   ]
  },
  {
   "cell_type": "code",
   "execution_count": 82,
   "metadata": {
    "id": "RG0fmAcsK_QC",
    "tags": []
   },
   "outputs": [
    {
     "name": "stdout",
     "output_type": "stream",
     "text": [
      "1 rows\n",
      "pays            |\n",
      "-----------------\n",
      "Japon           |\n"
     ]
    },
    {
     "data": {
      "text/plain": [
       "<cursor object at 0x7f43f25047c0; closed: -1>"
      ]
     },
     "execution_count": 82,
     "metadata": {},
     "output_type": "execute_result"
    }
   ],
   "source": [
    "query=\"\"\"\n",
    "select pays\n",
    "from Athlete \n",
    "where nom = 'AONO' and prenom = 'Ryo'\n",
    "\n",
    "\"\"\"\n",
    "execute(connection,query)"
   ]
  },
  {
   "cell_type": "markdown",
   "metadata": {},
   "source": [
    "**Q4** Le gagnant du médaille d'or de chaque épreuve. Triez le résultat par sport, puis par épreuve.<br/>\n",
    "Résultat : (74 lignes)"
   ]
  },
  {
   "cell_type": "code",
   "execution_count": 87,
   "metadata": {
    "id": "R4Msxey7K_QC",
    "tags": []
   },
   "outputs": [
    {
     "name": "stdout",
     "output_type": "stream",
     "text": [
      "74 rows\n",
      "sport           |epreuve         |nomath          |prenomath       |\n",
      "--------------------------------------------------------------------\n",
      "Biathlon        |10km            |BJOERNDALEN     |Ole Einar       |\n",
      "Biathlon        |10km poursuite  |DOMRACHEVA      |Darya           |\n",
      "Biathlon        |12,5km départ gr|DOMRACHEVA      |Darya           |\n",
      "Biathlon        |12,5km poursuite|FOURCADE        |Martin          |\n",
      "Biathlon        |15km            |DOMRACHEVA      |Darya           |\n",
      "Biathlon        |15km départ grou|SVENDSEN        |Emil Hegle      |\n",
      "Biathlon        |20km            |FOURCADE        |Martin          |\n",
      "Biathlon        |7,5km           |DOMRACHEVA      |Darya           |\n",
      "Combiné nordique|Individuel      |FRENZEL         |Eric            |\n",
      "Combiné nordique|Individuel LH   |GRAABAK         |Joergen         |\n",
      "Luge            |Simple          |GEISENBERGER    |Natalie         |\n",
      "Luge            |Simple          |LOCH            |Felix           |\n",
      "Patinage artisti|Individuel      |SOTNIKOVA       |Adelina         |\n",
      "Patinage artisti|Individuel      |HANYU           |Yuzuru          |\n",
      "Patinage de vite|10000m          |BERGSMA         |Jorrit          |\n",
      "Patinage de vite|1000m           |HONG            |Zhang           |\n",
      "Patinage de vite|1000m           |GROOTHUIS       |Stefan          |\n",
      "Patinage de vite|1500m           |TER MORS        |Jorien          |\n",
      "Patinage de vite|1500m           |BRODKA          |Zbigniew        |\n",
      "Patinage de vite|2x500m          |SANG-HWA        |Lee             |\n",
      "Patinage de vite|2x500m          |MULDER          |Michel          |\n",
      "Patinage de vite|3000m           |WÜST            |Ireen           |\n",
      "Patinage de vite|5000m           |SABLIKOVA       |Martina         |\n",
      "Patinage de vite|5000m           |KRAMER          |Sven            |\n",
      "Patinage de vite|1000m           |PARK            |Seung-Hi        |\n",
      "Patinage de vite|1000m           |AN              |Victor          |\n",
      "Patinage de vite|1500m           |ZHOU            |Yang            |\n",
      "Patinage de vite|1500m           |HAMELIN         |Charles         |\n",
      "Patinage de vite|500m            |JIANROU         |Li              |\n",
      "Patinage de vite|500m            |AN              |Victor          |\n",
      "Saut à ski      |Grand tremplin i|STOCH           |Kamil           |\n",
      "Saut à ski      |Tremplin normal |VOGT            |Carina          |\n",
      "Saut à ski      |Tremplin normal |STOCH           |Kamil           |\n",
      "Skeleton        |Individuel      |YARNOLD         |Elizabeth       |\n",
      "Skeleton        |Individuel      |TRETIAKOV       |Alexander       |\n",
      "Ski acrobatique |Bosses          |DUFOUR-LAPOINTE |Justine         |\n",
      "Ski acrobatique |Bosses          |BILODEAU        |Alexandre       |\n",
      "Ski acrobatique |Saut            |TSUPER          |Alla            |\n",
      "Ski acrobatique |Saut            |KUSHNIR         |Anton           |\n",
      "Ski acrobatique |Ski Cross       |THOMPSON        |Marielle        |\n",
      "Ski acrobatique |Ski Cross       |CHAPUIS         |Jean Frederic   |\n",
      "Ski acrobatique |Ski halfpipe    |BOWMAN          |Maddie          |\n",
      "Ski acrobatique |Ski halfpipe    |WISE            |David           |\n",
      "Ski acrobatique |Ski slopestyle  |HOWELL          |Dara            |\n",
      "Ski acrobatique |Ski slopestyle  |CHRISTENSEN     |Joss            |\n",
      "Ski alpin       |Descente        |GISIN           |Dominique       |\n",
      "Ski alpin       |Descente        |MAZE            |Tina            |\n",
      "Ski alpin       |Descente        |MAYER           |Matthias        |\n",
      "Ski alpin       |Slalom          |SHIFFRIN        |Mikaela         |\n",
      "Ski alpin       |Slalom          |MATT            |Mario           |\n",
      "Ski alpin       |Slalom géant    |MAZE            |Tina            |\n",
      "Ski alpin       |Slalom géant    |LIGETY          |Ted             |\n",
      "Ski alpin       |Super G         |FENNINGER       |Anna            |\n",
      "Ski alpin       |Super G         |JANSRUD         |Kjetil          |\n",
      "Ski alpin       |Super combiné   |HOEFL-RIESCH    |Maria           |\n",
      "Ski alpin       |Super combiné   |VILETTA         |Sandro          |\n",
      "Ski de fond     |10km            |KOWALCZYK       |Justyna         |\n",
      "Ski de fond     |15km            |COLOGNA         |Dario           |\n",
      "Ski de fond     |30km            |BJOERGEN        |Marit           |\n",
      "Ski de fond     |50km            |LEGKOV          |Alexander       |\n",
      "Ski de fond     |Skiathlon (15km |COLOGNA         |Dario           |\n",
      "Ski de fond     |Skiathlon (7,5km|BJOERGEN        |Marit           |\n",
      "Ski de fond     |Sprint 1,5km    |FALLA           |Maiken Caspersen|\n",
      "Ski de fond     |Sprint 1,5km    |HATTESTAD       |Ola Vigen       |\n",
      "Surf des neiges |Halfpipe        |FARRINGTON      |Kaitlyn         |\n",
      "Surf des neiges |Halfpipe        |PODLADTCHIKOV   |Iouri           |\n",
      "Surf des neiges |Slalom géant par|KUMMER          |Patrizia        |\n",
      "Surf des neiges |Slalom géant par|WILD            |Vic             |\n",
      "Surf des neiges |Slalom parallèle|DUJMOVITS       |Julia           |\n",
      "Surf des neiges |Slalom parallèle|WILD            |Vic             |\n",
      "Surf des neiges |Slopestyle      |ANDERSON        |Jamie           |\n",
      "Surf des neiges |Slopestyle      |KOTSENBURG      |Sage            |\n",
      "Surf des neiges |Snowboard cross |SAMKOVA         |Eva             |\n",
      "Surf des neiges |Snowboard cross |VAULTIER        |Pierre          |\n"
     ]
    },
    {
     "data": {
      "text/plain": [
       "<cursor object at 0x7f43f25049a0; closed: -1>"
      ]
     },
     "execution_count": 87,
     "metadata": {},
     "output_type": "execute_result"
    }
   ],
   "source": [
    "query=\"\"\"\n",
    "select sport, epreuve, nomath, prenomath\n",
    "from rangepreuve\n",
    "where rang = 1\n",
    "order by sport, epreuve\n",
    "\"\"\"\n",
    "execute(connection,query)"
   ]
  },
  {
   "cell_type": "markdown",
   "metadata": {},
   "source": [
    "**Q5** Toutes les épreuves (sport, épreuve, catégorie) triées par la date de fin de l'épreuve.   \n",
    "Résultat : (73 lignes)"
   ]
  },
  {
   "cell_type": "code",
   "execution_count": 116,
   "metadata": {
    "id": "R4Msxey7K_QC",
    "tags": []
   },
   "outputs": [
    {
     "name": "stdout",
     "output_type": "stream",
     "text": [
      "The error 'connection already closed' occurred\n"
     ]
    }
   ],
   "source": [
    "query=\"\"\"\n",
    "select sport, epreuve, nomath, prenomath\n",
    "from rangepreuve\n",
    "where rang = 1\n",
    "order by sport, epreuve\n",
    "\n",
    "\"\"\"\n",
    "execute(connection,query)"
   ]
  },
  {
   "cell_type": "markdown",
   "metadata": {},
   "source": [
    "**Q6** Les athlètes nés entre 1990 et 1995.<br/>\n",
    "Résultat : (87 lignes)"
   ]
  },
  {
   "cell_type": "code",
   "execution_count": 90,
   "metadata": {
    "id": "R4Msxey7K_QC",
    "tags": []
   },
   "outputs": [
    {
     "name": "stdout",
     "output_type": "stream",
     "text": [
      "87 rows\n",
      "nom             |prenom          |\n",
      "----------------------------------\n",
      "ZHOU            |Yang            |\n",
      "PARK            |Seung-Hi        |\n",
      "GRAABAK         |Joergen         |\n",
      "SCHLIERENZAUER  |Gregor          |\n",
      "OESTBERG        |Ingvild Flugstad|\n",
      "KIM             |Yuna            |\n",
      "VERWEIJ         |Koen            |\n",
      "ECKHOFF         |Tiril           |\n",
      "BEEK            |Lotte van       |\n",
      "DZHYMA          |Juliya          |\n",
      "FALLA           |Maiken Caspersen|\n",
      "ANDERSON        |Jamie           |\n",
      "ELISTRATOV      |Semion          |\n",
      "WELLINGER       |Andreas         |\n",
      "NISKANEN        |Iivo            |\n",
      "HANYU           |Yuzuru          |\n",
      "KOTSENBURG      |Sage            |\n",
      "SAMKOVA         |Eva             |\n",
      "KIM             |Alang           |\n",
      "VOGT            |Carina          |\n",
      "KRAUS           |Marinus         |\n",
      "MAYER           |Matthias        |\n",
      "SHIFFRIN        |Mikaela         |\n",
      "THOMPSON        |Marielle        |\n",
      "DUFOUR-LAPOINTE |Justine         |\n",
      "HOWELL          |Dara            |\n",
      "WISE            |David           |\n",
      "BOWMAN          |Maddie          |\n",
      "CHRISTENSEN     |Joss            |\n",
      "ST-GELAIS       |Marianne        |\n",
      "CHAN            |Patrick         |\n",
      "FONTANA         |Arianna         |\n",
      "CELSKI          |J.R.            |\n",
      "RYDZEK          |Johannes        |\n",
      "PREVC           |Peter           |\n",
      "RIESSLE         |Fabian          |\n",
      "DAJING          |Wu              |\n",
      "LAHTEENMAKI     |Krista          |\n",
      "XU              |Mengtao         |\n",
      "DUFOUR-LAPOINTE |Chloe           |\n",
      "ASADA           |Mao             |\n",
      "REYNOLDS        |Kevin           |\n",
      "IVANOVA         |Tatiana         |\n",
      "OLYUNIN         |Nikolay         |\n",
      "SANDBECH        |Staale          |\n",
      "FATKULINA       |Olga            |\n",
      "KUCK            |Jonathan        |\n",
      "HANSEN          |Brian           |\n",
      "MALTAIS         |Valerie         |\n",
      "ALVAREZ         |Eduardo         |\n",
      "OSMOND          |Kaetlyn         |\n",
      "RUKAJARVI       |Enni            |\n",
      "KEXIN           |Fan             |\n",
      "DIETHART        |Thomas          |\n",
      "HAYBOECK        |Michael         |\n",
      "JOO             |Hyong Jun       |\n",
      "KIM             |Cheol Min       |\n",
      "KINGSBURY       |Mikael          |\n",
      "KENWORTHY       |Gus             |\n",
      "LOGAN           |Devin           |\n",
      "PITTIN          |Alessandro      |\n",
      "GUT             |Lara            |\n",
      "PINTURAULT      |Alexis          |\n",
      "WIERER          |Dorothea        |\n",
      "JIA             |Zongyang        |\n",
      "TEN             |Denis           |\n",
      "WAGNER          |Ashley          |\n",
      "TIRUMA          |Eliza           |\n",
      "VIVIANI         |Elena           |\n",
      "PERETTI         |Lucia           |\n",
      "VALCEPINA       |Martina         |\n",
      "DUDEK           |Alyson          |\n",
      "HIRAOKA         |Taku            |\n",
      "NIKITINA        |Elena           |\n",
      "WENG            |Heidi           |\n",
      "NILSSON         |Stina           |\n",
      "GOLD            |Gracie          |\n",
      "BROWN           |Jason           |\n",
      "TRESPEUCH       |Chloe           |\n",
      "MCMORRIS        |Mark            |\n",
      "COURNOYER       |Charle          |\n",
      "CHEN            |Dequan          |\n",
      "SHI             |Jingnan         |\n",
      "SHIMIZU         |Reruhi          |\n",
      "MATTEL          |Coline          |\n",
      "KRISTOFFERSEN   |Henrik          |\n",
      "GOEPPER         |Nicholas        |\n"
     ]
    },
    {
     "data": {
      "text/plain": [
       "<cursor object at 0x7f43f2504b80; closed: -1>"
      ]
     },
     "execution_count": 90,
     "metadata": {},
     "output_type": "execute_result"
    }
   ],
   "source": [
    "query=\"\"\"\n",
    "select nom, prenom\n",
    "from athlete\n",
    "where datenaissance< '1995-12-31' and datenaissance> '1990-01-01'\n",
    "\n",
    "\"\"\"\n",
    "execute(connection,query)"
   ]
  },
  {
   "cell_type": "markdown",
   "metadata": {},
   "source": [
    "**Q7** Les athlètes suisses ayant participé au sport 'Biathlon' et disqualifié à au moins une épreuve\n",
    "dece sport (solution sans jointure, avec une opération ensembliste).<br/>\n",
    "Résultat : GASPARIN Elisa"
   ]
  },
  {
   "cell_type": "code",
   "execution_count": 94,
   "metadata": {
    "id": "R4Msxey7K_QC",
    "tags": []
   },
   "outputs": [
    {
     "name": "stdout",
     "output_type": "stream",
     "text": [
      "1 rows\n",
      "nomath          |prenomath       |\n",
      "----------------------------------\n",
      "GASPARIN        |Elisa           |\n"
     ]
    },
    {
     "data": {
      "text/plain": [
       "<cursor object at 0x7f43f2504d60; closed: -1>"
      ]
     },
     "execution_count": 94,
     "metadata": {},
     "output_type": "execute_result"
    }
   ],
   "source": [
    "query=\"\"\"\n",
    "select distinct nomath, prenomath\n",
    "from rangepreuve\n",
    "where sport = 'Biathlon' and rang is NULL and exists(select * from athlete where nom=nomath and prenom=prenomath and pays='Suisse')\n",
    "\"\"\"\n",
    "execute(connection,query)"
   ]
  },
  {
   "cell_type": "markdown",
   "metadata": {},
   "source": [
    "**Q8** Les épreuves dans lesquelles il n'y a pas eu une médaille d'argent (solution sans jointure,\n",
    "avec une opération ensembliste). <br/>\n",
    "Résultat : Ski alpin Descente Femmes"
   ]
  },
  {
   "cell_type": "code",
   "execution_count": 96,
   "metadata": {
    "id": "R4Msxey7K_QC",
    "tags": []
   },
   "outputs": [
    {
     "name": "stdout",
     "output_type": "stream",
     "text": [
      "1 rows\n",
      "sport           |epreuve         |categorie       |\n",
      "---------------------------------------------------\n",
      "Ski alpin       |Descente        |Femmes          |\n"
     ]
    },
    {
     "data": {
      "text/plain": [
       "<cursor object at 0x7f43f2505120; closed: -1>"
      ]
     },
     "execution_count": 96,
     "metadata": {},
     "output_type": "execute_result"
    }
   ],
   "source": [
    "query=\"\"\"\n",
    "select distinct sport, epreuve, categorie\n",
    "from rangepreuve r1\n",
    "where not exists(select * from rangepreuve r2 where r1.sport = r2.sport and r1.epreuve = r2.epreuve and r1.categorie = r2.categorie and rang = 2)\n",
    "\n",
    "\"\"\"\n",
    "execute(connection,query)"
   ]
  },
  {
   "cell_type": "markdown",
   "metadata": {
    "id": "Tb2N2-b0K_QC",
    "tags": []
   },
   "source": [
    "### Exercice 2\n",
    "\n",
    "On considère maintenant le schéma complet de la base JO2014\n",
    "\n",
    "**PAYS** (<u>CODEPAYS</u>, NOMP)<br/>\n",
    "**SPORT** (<u>SID</u>, NOMSP)<br/>\n",
    "**EPREUVE** (<u>EPID</u>, SID*, NOMEP, CATÉGORIE, DATEDEBUT, DATEFIN) <br/>\n",
    "**ATHLETE** (<u>AID</u>, NOMATH, PRENOMATH, DATENAISSANCE, CODEPAYS*) EQUIPE (EQID, CODEPAYS*)<br/>\n",
    "**ATHLETESEQUIPE** (<u>EQID*, AID*</u>)<br/>\n",
    "**RANGINDIVIDUEL** (<u>EPID*, AID*</u>, RANG)<br/>\n",
    "**RANGEQUIPE** (<u>EPID*, EQID*</u>, RANG)<br/>\n",
    "    \n",
    "\n",
    "La relation PAYS contient le code et le nom de tous les pays, même si ils n'ont pas participé aux Jeux Olympiques. Les sports (n-uplets de la relation SPORT) sont un ensemble d'épreuves (n-uplets de la relation EPREUVE). Pour chaque épreuve on connaît son nom et les date de début et fin de l'épreuve. Les épreuves peuvent être individuelles ou par équipe. Dans le premier cas, la participation des athlètes (n-uplets de la relation ATHLETE) est stocké dans la table RANGINDIVIDUEL qui contient en plus le rang qu'ils ont obtenu (1 pour la médaille d'or). Pour les épreuves par équipe les résultats sont stockés dans la relation RANGEQUIPE, alors que l'information sur le pays de chaque équipe et ses participants et stocké dans les relations EQUIPE et ATHLETESEQUIPE. Dans les relations RANGINDIVIDUEL et RANGEQUIPE l'attribut rang est égal à null si l'athlète ou l'équipe a été disqualifié.\n"
   ]
  },
  {
   "cell_type": "markdown",
   "metadata": {
    "tags": []
   },
   "source": [
    "## Charger les données bd_jo_v1_H2.sql"
   ]
  },
  {
   "cell_type": "code",
   "execution_count": 97,
   "metadata": {
    "id": "ALsb-dtHK_QO",
    "tags": []
   },
   "outputs": [
    {
     "name": "stdout",
     "output_type": "stream",
     "text": [
      "0 rows\n",
      "0 rows\n"
     ]
    }
   ],
   "source": [
    "schemafile=open(\"bd-jo-v2_H2.sql\",mode=\"r\",encoding='utf-8')\n",
    "create_schema=schemafile.read()\n",
    "execute(connection,\"drop all objects\")\n",
    "execute(connection, create_schema)\n",
    "connection.commit()"
   ]
  },
  {
   "cell_type": "markdown",
   "metadata": {},
   "source": [
    "#### Requêtes\n",
    "\n",
    "Exprimer les requêtes suivantes en SQL :"
   ]
  },
  {
   "cell_type": "markdown",
   "metadata": {},
   "source": [
    "**Q9**. Les épreuves (sport, épreuve, catégorie) individuelles.<br/>\n",
    "Résultat : (73 lignes)"
   ]
  },
  {
   "cell_type": "code",
   "execution_count": 100,
   "metadata": {
    "id": "eRUNvSL9K_QC",
    "tags": []
   },
   "outputs": [
    {
     "name": "stdout",
     "output_type": "stream",
     "text": [
      "73 rows\n",
      "sid             |nomep           |categorie       |\n",
      "---------------------------------------------------\n",
      "1               |10km            |Hommes          |\n",
      "1               |10km poursuite  |Femmes          |\n",
      "1               |12,5km départ gr|Femmes          |\n",
      "1               |12,5km poursuite|Hommes          |\n",
      "1               |15km            |Femmes          |\n",
      "1               |15km départ grou|Hommes          |\n",
      "1               |20km            |Hommes          |\n",
      "1               |7,5km           |Femmes          |\n",
      "3               |Individuel      |Hommes          |\n",
      "3               |Individuel LH   |Hommes          |\n",
      "6               |Simple          |Femmes          |\n",
      "6               |Simple          |Hommes          |\n",
      "7               |Individuel      |Femmes          |\n",
      "7               |Individuel      |Hommes          |\n",
      "8               |10000m          |Hommes          |\n",
      "8               |1000m           |Femmes          |\n",
      "8               |1000m           |Hommes          |\n",
      "8               |1500m           |Femmes          |\n",
      "8               |1500m           |Hommes          |\n",
      "8               |2x500m          |Femmes          |\n",
      "8               |2x500m          |Hommes          |\n",
      "8               |3000m           |Femmes          |\n",
      "8               |5000m           |Femmes          |\n",
      "8               |5000m           |Hommes          |\n",
      "9               |1000m           |Femmes          |\n",
      "9               |1000m           |Hommes          |\n",
      "9               |1500m           |Femmes          |\n",
      "9               |1500m           |Hommes          |\n",
      "9               |500m            |Femmes          |\n",
      "9               |500m            |Hommes          |\n",
      "10              |Grand tremplin i|Hommes          |\n",
      "10              |Tremplin normal |Femmes          |\n",
      "10              |Tremplin normal |Hommes          |\n",
      "11              |Individuel      |Femmes          |\n",
      "11              |Individuel      |Hommes          |\n",
      "12              |Bosses          |Femmes          |\n",
      "12              |Bosses          |Hommes          |\n",
      "12              |Saut            |Femmes          |\n",
      "12              |Saut            |Hommes          |\n",
      "12              |Ski Cross       |Femmes          |\n",
      "12              |Ski Cross       |Hommes          |\n",
      "12              |Ski halfpipe    |Femmes          |\n",
      "12              |Ski halfpipe    |Hommes          |\n",
      "12              |Ski slopestyle  |Femmes          |\n",
      "12              |Ski slopestyle  |Hommes          |\n",
      "13              |Descente        |Femmes          |\n",
      "13              |Descente        |Hommes          |\n",
      "13              |Slalom          |Femmes          |\n",
      "13              |Slalom          |Hommes          |\n",
      "13              |Slalom géant    |Femmes          |\n",
      "13              |Slalom géant    |Hommes          |\n",
      "13              |Super G         |Femmes          |\n",
      "13              |Super G         |Hommes          |\n",
      "13              |Super combiné   |Femmes          |\n",
      "13              |Super combiné   |Hommes          |\n",
      "14              |10km            |Femmes          |\n",
      "14              |15km            |Hommes          |\n",
      "14              |30km            |Femmes          |\n",
      "14              |50km            |Hommes          |\n",
      "14              |Skiathlon (15km |Hommes          |\n",
      "14              |Skiathlon (7,5km|Femmes          |\n",
      "14              |Sprint 1,5km    |Femmes          |\n",
      "14              |Sprint 1,5km    |Hommes          |\n",
      "15              |Halfpipe        |Femmes          |\n",
      "15              |Halfpipe        |Hommes          |\n",
      "15              |Slalom géant par|Femmes          |\n",
      "15              |Slalom géant par|Hommes          |\n",
      "15              |Slalom parallèle|Femmes          |\n",
      "15              |Slalom parallèle|Hommes          |\n",
      "15              |Slopestyle      |Femmes          |\n",
      "15              |Slopestyle      |Hommes          |\n",
      "15              |Snowboard cross |Femmes          |\n",
      "15              |Snowboard cross |Hommes          |\n"
     ]
    },
    {
     "data": {
      "text/plain": [
       "<cursor object at 0x7f43f2505210; closed: -1>"
      ]
     },
     "execution_count": 100,
     "metadata": {},
     "output_type": "execute_result"
    }
   ],
   "source": [
    "query=\"\"\"\n",
    "select distinct s.sid, e.nomep, e.categorie\n",
    "from sport s, epreuve e, rangindividuel r\n",
    "where s.sid = e.sid and e.epid = r.epid\n",
    "\"\"\"\n",
    "execute(connection,query)\n"
   ]
  },
  {
   "cell_type": "markdown",
   "metadata": {},
   "source": [
    "**Q10**. Les résultats (nom, prénom, pays de l'athlète et rang) de l'épreuve '1000m' du 'Patinage de vitesse' pour les 'Femmes'.<br/>\n",
    "Résultat : (36 lignes)"
   ]
  },
  {
   "cell_type": "code",
   "execution_count": 110,
   "metadata": {
    "id": "t_M_AYEOK_QC",
    "tags": []
   },
   "outputs": [
    {
     "name": "stdout",
     "output_type": "stream",
     "text": [
      "36 rows\n",
      "nomath          |prenomath       |nomp            |rang            |\n",
      "--------------------------------------------------------------------\n",
      "HONG            |Zhang           |République popul|1               |\n",
      "WÜST            |Ireen           |Pays-Bas        |2               |\n",
      "BOER            |Margot          |Pays-Bas        |3               |\n",
      "FATKULINA       |Olga            |Russie          |4               |\n",
      "BEEK            |Lotte van       |Pays-Bas        |5               |\n",
      "LEENSTRA        |Marrit          |Pays-Bas        |6               |\n",
      "RICHARDSON      |Heather         |États-Unis      |7               |\n",
      "BOWE            |Brittany        |États-Unis      |8               |\n",
      "NESBITT         |Christine       |Canada          |9               |\n",
      "ERBANOVA        |Karolina        |République tchèq|10              |\n",
      "HESSE           |Judith          |Allemagne       |11              |\n",
      "SANG-HWA        |Lee             |Corée du Sud    |12              |\n",
      "KODAIRA         |Nao             |Japon           |13              |\n",
      "WANG            |Beixing         |République popul|14              |\n",
      "SHIKHOVA        |Yekaterina      |Russie          |15              |\n",
      "SKOKOVA         |Yuliya          |Russie          |16              |\n",
      "NJAATUN         |Ida             |Norvège         |17              |\n",
      "IRVINE          |Kaylin          |Canada          |18              |\n",
      "AYDOVA          |Yekaterina      |Kazakhstan      |19              |\n",
      "LOBYSHEVA       |Yekaterina      |Russie          |20              |\n",
      "CHRIST          |Kali            |Canada          |21              |\n",
      "SUMIYOSHI       |Miyako          |Japon           |22              |\n",
      "CZERWONKA       |Natalia         |Pologne         |23              |\n",
      "BITTNER         |Vanessa         |Autriche        |24              |\n",
      "WOLF            |Jenny           |Allemagne       |25              |\n",
      "HIRSCHBICHLER   |Gabriele        |Allemagne       |26              |\n",
      "TSUJI           |Maki            |Japon           |27              |\n",
      "KIM             |Hyun Yung       |Corée du Sud    |28              |\n",
      "ZLOTKOWSKA      |Luiza           |Pologne         |29              |\n",
      "SCHUSSLER       |Brittany        |Canada          |30              |\n",
      "PARK            |Seung Ju        |Corée du Sud    |31              |\n",
      "TODD            |Sugar           |États-Unis      |32              |\n",
      "GUNTHER         |Kelly           |États-Unis      |33              |\n",
      "LI              |Dan             |République popul|34              |\n",
      "LEE             |Bo Ra           |Corée du Sud    |35              |\n",
      "ANGERMUELLER    |Monique         |Allemagne       |None            |\n"
     ]
    },
    {
     "data": {
      "text/plain": [
       "<cursor object at 0x7f43f2506200; closed: -1>"
      ]
     },
     "execution_count": 110,
     "metadata": {},
     "output_type": "execute_result"
    }
   ],
   "source": [
    "query=\"\"\"\n",
    "select a.nomath, a.prenomath, p.nomp, r.rang\n",
    "from epreuve e, rangindividuel r, athlete a, sport s, pays p\n",
    "where s.nomsp = 'Patinage de vitesse' and e.sid = s.sid and e.nomep = '1000m' and e.categorie = 'Femmes' and e.epid = r.epid and a.aid = r.aid and p.codepays = a.codepays\n",
    "order by rang\n",
    "\"\"\"\n",
    "execute(connection,query)"
   ]
  },
  {
   "cell_type": "markdown",
   "metadata": {},
   "source": [
    "**Q11**. Le nom et prénom des athlètes qui forment l'équipe qui a gagné la médaille d'or dans l'épreuve 'relais 4x6km' de 'Biathlon' de 'Femmes'.   \n",
    "Résultat : SEMERENKO Vita, SEMERENKO Valj, DZHYMA Juliya, PIDHRUSHNA Olena"
   ]
  },
  {
   "cell_type": "code",
   "execution_count": 114,
   "metadata": {
    "id": "uKGV_oUGK_QC",
    "tags": []
   },
   "outputs": [
    {
     "name": "stdout",
     "output_type": "stream",
     "text": [
      "4 rows\n",
      "nomath          |prenomath       |\n",
      "----------------------------------\n",
      "SEMERENKO       |Vita            |\n",
      "SEMERENKO       |Valj            |\n",
      "DZHYMA          |Juliya          |\n",
      "PIDHRUSHNA      |Olena           |\n"
     ]
    },
    {
     "data": {
      "text/plain": [
       "<cursor object at 0x7f43f25062f0; closed: -1>"
      ]
     },
     "execution_count": 114,
     "metadata": {},
     "output_type": "execute_result"
    }
   ],
   "source": [
    "query=\"\"\"\n",
    "select a.nomath, a.prenomath\n",
    "from epreuve e, rangequipe r, athlete a, athletesEquipe aEq, sport s\n",
    "where s.nomsp = 'Biathlon' and e.sid = s.sid and e.nomep = 'relais 4x6km' and e.categorie = 'Femmes' and e.epid = r.epid and r.rang = 1 and r.eqid = aEq.eqid and aEq.aid = a.aid\n",
    "\n",
    "\"\"\"\n",
    "execute(connection,query)"
   ]
  },
  {
   "cell_type": "markdown",
   "metadata": {
    "id": "XGY3Xv2GK_Qk"
   },
   "source": [
    "# Fermer la connexion"
   ]
  },
  {
   "cell_type": "code",
   "execution_count": 115,
   "metadata": {
    "id": "sL8PCTDbK_Qk",
    "tags": []
   },
   "outputs": [],
   "source": [
    "connection.close()"
   ]
  },
  {
   "cell_type": "code",
   "execution_count": null,
   "metadata": {},
   "outputs": [],
   "source": []
  }
 ],
 "metadata": {
  "colab": {
   "collapsed_sections": [
    "zBRndOPPVrcb",
    "CaBMZBPgK_QE",
    "3HyPG6wGK_QK"
   ],
   "provenance": [],
   "toc_visible": true
  },
  "interpreter": {
   "hash": "3f7970bd1fb3f240334e0295161dab121eeb02ebe2a02561bbc5f2c38513dba7"
  },
  "kernelspec": {
   "display_name": "Python [conda env:pyspark]",
   "language": "python",
   "name": "conda-env-pyspark-py"
  },
  "language_info": {
   "codemirror_mode": {
    "name": "ipython",
    "version": 3
   },
   "file_extension": ".py",
   "mimetype": "text/x-python",
   "name": "python",
   "nbconvert_exporter": "python",
   "pygments_lexer": "ipython3",
   "version": "3.12.0"
  },
  "toc-autonumbering": true,
  "toc-showcode": false,
  "toc-showmarkdowntxt": false,
  "toc-showtags": false
 },
 "nbformat": 4,
 "nbformat_minor": 4
}
