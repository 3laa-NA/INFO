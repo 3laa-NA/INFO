{
 "cells": [
  {
   "cell_type": "markdown",
   "metadata": {
    "tags": []
   },
   "source": [
    "# TD et TME 8: CREATION DE SCHEMAS-CONTRAINTES D'INTEGRITE\n"
   ]
  },
  {
   "cell_type": "markdown",
   "metadata": {
    "tags": []
   },
   "source": [
    "## Installation H2 \n",
    "\n",
    "Le système utilisé pendant les TME est H2."
   ]
  },
  {
   "cell_type": "code",
   "execution_count": 1,
   "metadata": {
    "tags": []
   },
   "outputs": [
    {
     "name": "stdout",
     "output_type": "stream",
     "text": [
      "Defaulting to user installation because normal site-packages is not writeable\n",
      "Requirement already satisfied: psycopg2-binary in /home/jupyter-15849/.local/lib/python3.9/site-packages (2.9.9)\n",
      "Note: you may need to restart the kernel to use updated packages.\n"
     ]
    }
   ],
   "source": [
    "pip install psycopg2-binary"
   ]
  },
  {
   "cell_type": "markdown",
   "metadata": {},
   "source": [
    "Télécharger le pilote de H2"
   ]
  },
  {
   "cell_type": "code",
   "execution_count": 2,
   "metadata": {
    "tags": []
   },
   "outputs": [
    {
     "name": "stdout",
     "output_type": "stream",
     "text": [
      "--2024-04-14 17:46:23--  https://nuage.lip6.fr/s/LqD9N23kxrfHopr/download?path=agreg/postgresql-42.6.0.jar\n",
      "Resolving nuage.lip6.fr (nuage.lip6.fr)... 132.227.201.11\n",
      "Connecting to nuage.lip6.fr (nuage.lip6.fr)|132.227.201.11|:443... connected.\n",
      "HTTP request sent, awaiting response... 200 OK\n",
      "Length: 1081604 (1,0M) [application/octet-stream]\n",
      "Saving to: ‘postgresql-42.6.0.jar’\n",
      "\n",
      "postgresql-42.6.0.j 100%[===================>]   1,03M  --.-KB/s    in 0,009s  \n",
      "\n",
      "2024-04-14 17:46:23 (114 MB/s) - ‘postgresql-42.6.0.jar’ saved [1081604/1081604]\n",
      "\n",
      "--2024-04-14 17:46:23--  https://nuage.lip6.fr/s/LqD9N23kxrfHopr/download?path=agreg/h2-2.1.214.jar\n",
      "Resolving nuage.lip6.fr (nuage.lip6.fr)... 132.227.201.11\n",
      "Connecting to nuage.lip6.fr (nuage.lip6.fr)|132.227.201.11|:443... connected.\n",
      "HTTP request sent, awaiting response... 200 OK\n",
      "Length: 2543011 (2,4M) [application/octet-stream]\n",
      "Saving to: ‘h2-2.1.214.jar’\n",
      "\n",
      "h2-2.1.214.jar      100%[===================>]   2,42M  --.-KB/s    in 0,02s   \n",
      "\n",
      "2024-04-14 17:46:24 (108 MB/s) - ‘h2-2.1.214.jar’ saved [2543011/2543011]\n",
      "\n"
     ]
    }
   ],
   "source": [
    "!wget https://nuage.lip6.fr/s/LqD9N23kxrfHopr/download?path=agreg/postgresql-42.6.0.jar -O postgresql-42.6.0.jar\n",
    "!wget https://nuage.lip6.fr/s/LqD9N23kxrfHopr/download?path=agreg/h2-2.1.214.jar -O h2-2.1.214.jar"
   ]
  },
  {
   "cell_type": "markdown",
   "metadata": {},
   "source": [
    "**Relancez le kernel**: Kernel -> Restart kernel ..."
   ]
  },
  {
   "cell_type": "markdown",
   "metadata": {},
   "source": [
    "https://www.psycopg.org/docs/\n",
    "http://localhost:8082"
   ]
  },
  {
   "cell_type": "code",
   "execution_count": 3,
   "metadata": {
    "tags": []
   },
   "outputs": [
    {
     "data": {
      "text/plain": [
       "[]"
      ]
     },
     "execution_count": 3,
     "metadata": {},
     "output_type": "execute_result"
    }
   ],
   "source": [
    "import psycopg2\n",
    "import os\n",
    "local_dir = \"./data\"\n",
    "os.makedirs(local_dir, exist_ok=True)\n",
    "os.listdir(local_dir)"
   ]
  },
  {
   "cell_type": "markdown",
   "metadata": {
    "id": "hsCZZv8lmbBK",
    "tags": []
   },
   "source": [
    "### Démarrer le serveur SQL H2"
   ]
  },
  {
   "cell_type": "code",
   "execution_count": 6,
   "metadata": {
    "tags": []
   },
   "outputs": [
    {
     "name": "stdout",
     "output_type": "stream",
     "text": [
      "Le numero du port utilisé pour la connexion à la BD est: 5613\n"
     ]
    }
   ],
   "source": [
    "#Remplacez les valeurs des variables suivantes\n",
    "#NN= numéro de groupe: chaine de caractères (ex: 01, 02,.., 13), remplacer xx \n",
    "NN = '06'\n",
    "#BB=numero binome: chaîne de caractères (assigné par l'enseignant, ex: 01,..., 15), remplacer xx\n",
    "BB = '13'\n",
    "port = 5000+int(NN+BB)\n",
    "print(f'Le numero du port utilisé pour la connexion à la BD est: {port}')"
   ]
  },
  {
   "cell_type": "code",
   "execution_count": 7,
   "metadata": {
    "id": "rLcOCISm-R1Z",
    "tags": []
   },
   "outputs": [],
   "source": [
    "%%bash --bg --out output -s \"$port\"\n",
    "java -Dh2.bindAddress=127.0.0.1 -cp h2-2.1.214.jar:postgresql-42.6.0.jar org.h2.tools.Server -pg -pgPort $1 -baseDir ./data -ifNotExists"
   ]
  },
  {
   "cell_type": "markdown",
   "metadata": {
    "tags": []
   },
   "source": [
    "## Fonctions utiles"
   ]
  },
  {
   "cell_type": "markdown",
   "metadata": {
    "tags": []
   },
   "source": [
    "### connect_H2"
   ]
  },
  {
   "cell_type": "code",
   "execution_count": 8,
   "metadata": {
    "tags": []
   },
   "outputs": [],
   "source": [
    "def connect_H2(db,user,password):\n",
    "    global connection\n",
    "    try:\n",
    "        connection\n",
    "    except:\n",
    "        connection = None\n",
    "    if connection != None:\n",
    "        try:\n",
    "            connection.close()\n",
    "            print(\"Connection closed\")\n",
    "        except  Error as e:\n",
    "            print(f\"The error '{e}' occurred\")\n",
    "    try:\n",
    "        # connection = sqlite3.connect(path,isolation_level='DEFERRED')\n",
    "        connection = psycopg2.connect(f\"dbname={db} user={user} password={password} host=localhost port={port}\")\n",
    "        print(\"Connection to H2 DB successful\")\n",
    "    except Exception as e:\n",
    "        print(f\"The error '{e}' occurred\")\n",
    "    return connection"
   ]
  },
  {
   "cell_type": "markdown",
   "metadata": {},
   "source": [
    "### execute"
   ]
  },
  {
   "cell_type": "code",
   "execution_count": 9,
   "metadata": {
    "tags": []
   },
   "outputs": [],
   "source": [
    "def execute(connection, query, show=True,close=True):\n",
    "    try:\n",
    "        cursor = connection.cursor()\n",
    "        cursor.execute(query)\n",
    "        print(cursor.rowcount,\"rows\")\n",
    "        if show and cursor.rowcount and cursor.description is not None:\n",
    "            names = [desc[0] for desc in cursor.description]\n",
    "            lengths={}\n",
    "            for attr in names:\n",
    "                lengths[attr]=len(attr)\n",
    "            for ligne in cursor:\n",
    "                i=0\n",
    "                for attr in ligne:\n",
    "                    lengths[names[i]]=max(lengths[names[i]],len(str(attr).replace('\\n',' ')))\n",
    "                    i=i+1\n",
    "            print('|',end='')\n",
    "            for attr in names:\n",
    "                print(str(attr).ljust(lengths[attr]),end='|')\n",
    "            print()\n",
    "            print('|',end='')\n",
    "            for attr in names:\n",
    "                print(''.ljust(lengths[attr]+1,'-'),end='')\n",
    "            print()\n",
    "            cursor.execute(query)\n",
    "            for ligne in cursor:\n",
    "                i=0\n",
    "                print('|',end='')\n",
    "                for attr in ligne:\n",
    "                    print(str(attr).replace('\\n',' ')[:lengths[names[i]]].ljust(lengths[names[i]]),end='|')\n",
    "                    i=i+1\n",
    "                print()\n",
    "        if close:\n",
    "            cursor.close()\n",
    "    except Exception as e:\n",
    "        print(f\"The error '{e}' occurred\")\n",
    "        cursor=None\n",
    "    return cursor"
   ]
  },
  {
   "cell_type": "markdown",
   "metadata": {},
   "source": [
    "### show_table"
   ]
  },
  {
   "cell_type": "code",
   "execution_count": 10,
   "metadata": {
    "tags": []
   },
   "outputs": [],
   "source": [
    "def show_table(connection,table_name):\n",
    "\n",
    "    query=f\"\"\"\n",
    "SELECT table_name,\n",
    "       column_name,\n",
    "       data_type,\n",
    "       column_default,\n",
    "       is_nullable,\n",
    "       character_maximum_length,\n",
    "       numeric_precision\n",
    "FROM information_schema.columns \n",
    "where lower(table_name)  = '{table_name}'  \n",
    "\"\"\"\n",
    "    execute(connection,query)\n",
    "    "
   ]
  },
  {
   "cell_type": "markdown",
   "metadata": {},
   "source": [
    "### show_schema"
   ]
  },
  {
   "cell_type": "code",
   "execution_count": 11,
   "metadata": {
    "tags": []
   },
   "outputs": [],
   "source": [
    "def show_schema(connection):\n",
    "\n",
    "    print('*********** Tables ************')\n",
    "    query=\"\"\"\n",
    "    select TABLE_NAME\n",
    "    from INFORMATION_SCHEMA.TABLES \n",
    "    where TABLE_SCHEMA = 'public'\n",
    "    \"\"\"\n",
    "    execute(connection,query,show=True)\n",
    "\n",
    "    print('\\n\\n*********** Domaines ************')\n",
    "    query=\"\"\"\n",
    "    SELECT domain_name,check_clause \n",
    "    FROM information_schema.domain_constraints a, information_schema.check_constraints b\n",
    "    where a.constraint_name=b.constraint_name\n",
    "    \"\"\"\n",
    "    execute(connection,query)\n",
    "\n",
    "    print('\\n\\n*********** Attributs ************')\n",
    "    query=f\"\"\"\n",
    "    SELECT c.table_name,\n",
    "           c.column_name,\n",
    "           c.data_type,\n",
    "           c.column_default,\n",
    "           c.is_nullable,\n",
    "           c.character_maximum_length,\n",
    "           c.numeric_precision\n",
    "    FROM INFORMATION_SCHEMA.TABLES t, information_schema.columns c\n",
    "    where t.table_name=c.table_name\n",
    "    and t.TABLE_SCHEMA = 'public'\n",
    "    \"\"\"\n",
    "    execute(connection,query)\n",
    "    "
   ]
  },
  {
   "cell_type": "markdown",
   "metadata": {
    "id": "00mRiA73K_QB",
    "tags": []
   },
   "source": [
    "## Connexion à H2"
   ]
  },
  {
   "cell_type": "code",
   "execution_count": 12,
   "metadata": {
    "id": "IRyyRAX2K_QB",
    "tags": []
   },
   "outputs": [
    {
     "name": "stdout",
     "output_type": "stream",
     "text": [
      "Connection to H2 DB successful\n"
     ]
    }
   ],
   "source": [
    "connection = connect_H2(\"jo\"+f'{port}',\"ba\",\"ba\")"
   ]
  },
  {
   "cell_type": "markdown",
   "metadata": {},
   "source": [
    "## Exercice 1 : Création de schéma \n",
    "Créer le schéma préparé en TD"
   ]
  },
  {
   "cell_type": "markdown",
   "metadata": {},
   "source": [
    "On considère le schéma Entreprise décrit ci-dessous.\n",
    "\n",
    "- EMPLOYE (<u>NumSS</u>, NomE, PrenomE, NumChef*, VilleE, DateNaiss) \n",
    "- PROJET(<u>NumProj</u>, NomProj, RespProj*, VilleP, Budget) \n",
    "- EMBAUCHE (<u>NumSS*, NumProj*</u>, DateEmb, Profil*) \n",
    "- GRILLE_SAL (<u>Profil</u>, salaire)\n",
    "\n",
    "La clé primaire de chaque relation est soulignée et les attributs des clés étrangères sont suivis d’un astérisque. Cette base contient des informations sur des employés et sur les projets dans lesquels ils sont impliqués. Ces employés sont embauchés dans un projet sur un profil donné et perçoivent un salaire en fonction de ce profil. Le chef d'un employé dans la table Employé et le chef d'un projet dans la table Projet sont des employés. En plus des contraintes de clé et des contraintes référentielles indiquées dans le schéma, on voudrait intégrer les contraintes suivantes :\n",
    "\n",
    "Domaines\n",
    "- Le numéro de sécurité sociale possède exactement 5 chiffres.\n",
    "- Les attributs textuels (NomE, PrenomE, NomProj, Profil) ne dépassent pas 20 caractères (ils peuvent en avoir moins).\n",
    "- La ville d’un employé (VillE) ou d’un projet (VilleP) se limite à 'Paris', 'Lyon' et 'Marseille' et sa longueur ne dépasse pas 9 caractères.\n",
    "- Le numéro d’un projet varie entre 5 et 7 chiffres.\n",
    "- Le salaire peut avoir deux chiffres après la virgule et ne dépasse pas 90 000.\n",
    "- Le budget est un entier sur 6 chiffres (sans virgule)\n",
    "- Aucun employé ne peut avoir plus de 70 ans au moment où il est enregistré dans la table Employé.\n",
    "\n",
    "Clés\n",
    "- Il n'y a pas deux employés avec le même nom et le même prénom.\n",
    "\n",
    "Not-null\n",
    "- Chaque projet doit avoir un responsable.\n",
    "- Dans la table Embauche, NumSS et NumProj représentent un employé et un projet existants. De même, profil est un profil existant.\n",
    "\n"
   ]
  },
  {
   "cell_type": "markdown",
   "metadata": {
    "tags": []
   },
   "source": [
    "Donner en SQL les instructions de création des contraintes de domaines indiquées dans l'énoncé."
   ]
  },
  {
   "cell_type": "markdown",
   "metadata": {},
   "source": [
    "#### Supprimer tout le schéma de la base courante\n"
   ]
  },
  {
   "cell_type": "code",
   "execution_count": 25,
   "metadata": {
    "tags": []
   },
   "outputs": [
    {
     "name": "stdout",
     "output_type": "stream",
     "text": [
      "0 rows\n"
     ]
    },
    {
     "data": {
      "text/plain": [
       "<cursor object at 0x7fcae0cbe400; closed: -1>"
      ]
     },
     "execution_count": 25,
     "metadata": {},
     "output_type": "execute_result"
    }
   ],
   "source": [
    "query=\"\"\"\n",
    "DROP ALL OBJECTS\n",
    "\"\"\"\n",
    "execute(connection,query,show=True)"
   ]
  },
  {
   "cell_type": "markdown",
   "metadata": {},
   "source": [
    "#### Définition des domaines"
   ]
  },
  {
   "cell_type": "markdown",
   "metadata": {},
   "source": [
    "Le numéro de sécurité sociale possède exactement 5 chiffres"
   ]
  },
  {
   "cell_type": "code",
   "execution_count": 26,
   "metadata": {
    "tags": []
   },
   "outputs": [
    {
     "name": "stdout",
     "output_type": "stream",
     "text": [
      "0 rows\n"
     ]
    },
    {
     "data": {
      "text/plain": [
       "<cursor object at 0x7fcae0135d60; closed: -1>"
      ]
     },
     "execution_count": 26,
     "metadata": {},
     "output_type": "execute_result"
    }
   ],
   "source": [
    "query=\"\"\"\n",
    "create domain dnumss as numeric(5) check (length(value)=5)\n",
    "\"\"\"\n",
    "execute(connection,query,show=True)"
   ]
  },
  {
   "cell_type": "markdown",
   "metadata": {},
   "source": [
    "Les attributs textuels (NomE, PrenomE, NomProj, Profil) ne dépassent pas 20 caractères (ils peuvent en avoir moins)"
   ]
  },
  {
   "cell_type": "code",
   "execution_count": 27,
   "metadata": {
    "tags": []
   },
   "outputs": [
    {
     "name": "stdout",
     "output_type": "stream",
     "text": [
      "0 rows\n"
     ]
    },
    {
     "data": {
      "text/plain": [
       "<cursor object at 0x7fcae0135e50; closed: -1>"
      ]
     },
     "execution_count": 27,
     "metadata": {},
     "output_type": "execute_result"
    }
   ],
   "source": [
    "query=\"\"\"\n",
    "create domain dchaines as varchar(20)\n",
    "\"\"\"\n",
    "execute(connection,query,show=True)"
   ]
  },
  {
   "cell_type": "markdown",
   "metadata": {},
   "source": [
    "La ville d’un employé (VilleE) ou d’un projet (VilleP) se limite à 'Paris', 'Lyon' et 'Marseille' et sa longueur ne dépasse pas 9 caractères"
   ]
  },
  {
   "cell_type": "code",
   "execution_count": 28,
   "metadata": {
    "tags": []
   },
   "outputs": [
    {
     "name": "stdout",
     "output_type": "stream",
     "text": [
      "0 rows\n"
     ]
    },
    {
     "data": {
      "text/plain": [
       "<cursor object at 0x7fcae0cbe310; closed: -1>"
      ]
     },
     "execution_count": 28,
     "metadata": {},
     "output_type": "execute_result"
    }
   ],
   "source": [
    "query=\"\"\"\n",
    "create domain dvilles as varchar(9) check(lower(value) IN ('paris', 'lyon', 'marseille'))\n",
    "\"\"\"\n",
    "execute(connection,query,show=True)"
   ]
  },
  {
   "cell_type": "markdown",
   "metadata": {},
   "source": [
    "Le numéro d’un projet varie entre 5 et 7 chiffres."
   ]
  },
  {
   "cell_type": "code",
   "execution_count": 29,
   "metadata": {
    "tags": []
   },
   "outputs": [
    {
     "name": "stdout",
     "output_type": "stream",
     "text": [
      "0 rows\n"
     ]
    },
    {
     "data": {
      "text/plain": [
       "<cursor object at 0x7fcae0cbe7c0; closed: -1>"
      ]
     },
     "execution_count": 29,
     "metadata": {},
     "output_type": "execute_result"
    }
   ],
   "source": [
    "query=\"\"\"\n",
    "create domain dnumproj as numeric(7) check(length(value)>4)\n",
    "\"\"\"\n",
    "execute(connection,query,show=True)"
   ]
  },
  {
   "cell_type": "markdown",
   "metadata": {},
   "source": [
    "Le salaire peut avoir deux chiffres après la virgule et ne dépasse pas 90 000."
   ]
  },
  {
   "cell_type": "code",
   "execution_count": 32,
   "metadata": {
    "tags": []
   },
   "outputs": [
    {
     "name": "stdout",
     "output_type": "stream",
     "text": [
      "0 rows\n"
     ]
    },
    {
     "data": {
      "text/plain": [
       "<cursor object at 0x7fcae0cbe6d0; closed: -1>"
      ]
     },
     "execution_count": 32,
     "metadata": {},
     "output_type": "execute_result"
    }
   ],
   "source": [
    "query=\"\"\"\n",
    "create domain dsal as numeric(7,2) check(value<=90000)\n",
    "\"\"\"\n",
    "execute(connection,query,show=True)"
   ]
  },
  {
   "cell_type": "markdown",
   "metadata": {},
   "source": [
    "Budget sur 6 chiffres"
   ]
  },
  {
   "cell_type": "code",
   "execution_count": 33,
   "metadata": {
    "tags": []
   },
   "outputs": [
    {
     "name": "stdout",
     "output_type": "stream",
     "text": [
      "0 rows\n"
     ]
    },
    {
     "data": {
      "text/plain": [
       "<cursor object at 0x7fcae0cbe9a0; closed: -1>"
      ]
     },
     "execution_count": 33,
     "metadata": {},
     "output_type": "execute_result"
    }
   ],
   "source": [
    "query=\"\"\"\n",
    "create domain dbudget as numeric(6) check(length(value) = 6)\n",
    "\"\"\"\n",
    "execute(connection,query,show=True)"
   ]
  },
  {
   "cell_type": "markdown",
   "metadata": {},
   "source": [
    "Aucun employé ne peut avoir plus de 70 ans au moment où il est enregistré dans la table Employé."
   ]
  },
  {
   "cell_type": "code",
   "execution_count": 34,
   "metadata": {
    "tags": []
   },
   "outputs": [
    {
     "name": "stdout",
     "output_type": "stream",
     "text": [
      "0 rows\n"
     ]
    },
    {
     "data": {
      "text/plain": [
       "<cursor object at 0x7fcae0cbea90; closed: -1>"
      ]
     },
     "execution_count": 34,
     "metadata": {},
     "output_type": "execute_result"
    }
   ],
   "source": [
    "query=\"\"\"\n",
    "create domain ddatenaiss as date check(datediff(year,value,current_date)<=70)\n",
    "\"\"\"\n",
    "execute(connection,query,show=True)"
   ]
  },
  {
   "cell_type": "markdown",
   "metadata": {},
   "source": [
    "#### Interroger le catalogue pour vérifier les domaines existants"
   ]
  },
  {
   "cell_type": "code",
   "execution_count": 35,
   "metadata": {
    "tags": []
   },
   "outputs": [
    {
     "name": "stdout",
     "output_type": "stream",
     "text": [
      "7 rows\n",
      "|domain_name|\n",
      "|------------\n",
      "|dvilles    |\n",
      "|dbudget    |\n",
      "|dnumproj   |\n",
      "|ddatenaiss |\n",
      "|dchaines   |\n",
      "|dsal       |\n",
      "|dnumss     |\n"
     ]
    },
    {
     "data": {
      "text/plain": [
       "<cursor object at 0x7fcae0cbeb80; closed: -1>"
      ]
     },
     "execution_count": 35,
     "metadata": {},
     "output_type": "execute_result"
    }
   ],
   "source": [
    "query=\"\"\"\n",
    "select domain_name \n",
    "from INFORMATION_SCHEMA.DOMAINS \n",
    "\"\"\"\n",
    "execute(connection,query,show=True)"
   ]
  },
  {
   "cell_type": "code",
   "execution_count": 36,
   "metadata": {
    "tags": []
   },
   "outputs": [
    {
     "name": "stdout",
     "output_type": "stream",
     "text": [
      "6 rows\n",
      "|domain_name|check_clause                                 |\n",
      "|----------------------------------------------------------\n",
      "|dsal       |VALUE <= 90000                               |\n",
      "|dbudget    |CHAR_LENGTH(VALUE) = 6                       |\n",
      "|dvilles    |LOWER(VALUE) IN('paris', 'lyon', 'marseille')|\n",
      "|dnumproj   |CHAR_LENGTH(VALUE) > 4                       |\n",
      "|dnumss     |CHAR_LENGTH(VALUE) = 5                       |\n",
      "|ddatenaiss |DATEDIFF(YEAR, VALUE, CURRENT_DATE) <= 70    |\n"
     ]
    },
    {
     "data": {
      "text/plain": [
       "<cursor object at 0x7fcae0cbec70; closed: -1>"
      ]
     },
     "execution_count": 36,
     "metadata": {},
     "output_type": "execute_result"
    }
   ],
   "source": [
    "query=\"\"\"\n",
    "SELECT domain_name,check_clause \n",
    "FROM information_schema.domain_constraints a, information_schema.check_constraints b\n",
    "where a.constraint_name=b.constraint_name\n",
    "\"\"\"\n",
    "execute(connection,query)"
   ]
  },
  {
   "cell_type": "markdown",
   "metadata": {},
   "source": [
    "Donner en SQL les instructions de création du schéma de la base en leur associant les contraintes de clés, référentielles et de domaines indiquées dans l'énoncé."
   ]
  },
  {
   "cell_type": "markdown",
   "metadata": {},
   "source": [
    "#### Définition des tables"
   ]
  },
  {
   "cell_type": "markdown",
   "metadata": {},
   "source": [
    "Table Employe"
   ]
  },
  {
   "cell_type": "code",
   "execution_count": 40,
   "metadata": {
    "tags": []
   },
   "outputs": [
    {
     "name": "stdout",
     "output_type": "stream",
     "text": [
      "0 rows\n"
     ]
    },
    {
     "data": {
      "text/plain": [
       "<cursor object at 0x7fcae0cbe8b0; closed: -1>"
      ]
     },
     "execution_count": 40,
     "metadata": {},
     "output_type": "execute_result"
    }
   ],
   "source": [
    "query=\"\"\"\n",
    "create table Employe(\n",
    "    numss dnumss,\n",
    "    nomE dchaines,\n",
    "    prenomE dchaines,\n",
    "    numChef dnumSS,\n",
    "    villeE dvilles,\n",
    "    dateNaiss ddatenaiss,\n",
    "    constraint pk_emp primary key(numss),\n",
    "    constraint fk_chef foreign key (numChef) references Employe(numss),\n",
    "    constraint unique_nom_prenom unique(nomE, prenomE) \n",
    ")\n",
    "\"\"\"\n",
    "execute(connection,query,show=True)"
   ]
  },
  {
   "cell_type": "code",
   "execution_count": 42,
   "metadata": {
    "tags": []
   },
   "outputs": [
    {
     "name": "stdout",
     "output_type": "stream",
     "text": [
      "0 rows\n"
     ]
    }
   ],
   "source": [
    "show_table(connection,'Employe')"
   ]
  },
  {
   "cell_type": "markdown",
   "metadata": {},
   "source": [
    "Table Projet"
   ]
  },
  {
   "cell_type": "code",
   "execution_count": 50,
   "metadata": {
    "tags": []
   },
   "outputs": [
    {
     "name": "stdout",
     "output_type": "stream",
     "text": [
      "0 rows\n"
     ]
    },
    {
     "data": {
      "text/plain": [
       "<cursor object at 0x7fcaf030f5e0; closed: -1>"
      ]
     },
     "execution_count": 50,
     "metadata": {},
     "output_type": "execute_result"
    }
   ],
   "source": [
    "query=\"\"\"\n",
    "create table Projet(\n",
    "    numProj dnumproj,\n",
    "    nomProj dchaines,\n",
    "    respProj dnumss not null,\n",
    "    villeP dvilles,\n",
    "    budget dbudget,\n",
    "    constraint pk_proj primary key(numproj),\n",
    "    constraint fk_respProj foreign key(respProj) references Employe\n",
    ")\n",
    "\"\"\"\n",
    "execute(connection,query,show=True)"
   ]
  },
  {
   "cell_type": "code",
   "execution_count": 51,
   "metadata": {
    "tags": []
   },
   "outputs": [
    {
     "name": "stdout",
     "output_type": "stream",
     "text": [
      "0 rows\n"
     ]
    }
   ],
   "source": [
    "show_table(connection,'Projet')"
   ]
  },
  {
   "cell_type": "markdown",
   "metadata": {},
   "source": [
    "Table Grille_sal"
   ]
  },
  {
   "cell_type": "code",
   "execution_count": 52,
   "metadata": {
    "tags": []
   },
   "outputs": [
    {
     "name": "stdout",
     "output_type": "stream",
     "text": [
      "0 rows\n"
     ]
    },
    {
     "data": {
      "text/plain": [
       "<cursor object at 0x7fcaf030f220; closed: -1>"
      ]
     },
     "execution_count": 52,
     "metadata": {},
     "output_type": "execute_result"
    }
   ],
   "source": [
    "query=\"\"\"\n",
    "create table Grille_sal(\n",
    "    profile dchaines,\n",
    "    salaire dsal,\n",
    "    constraint pk_gril primary key (profile)\n",
    ")\n",
    "\"\"\"\n",
    "execute(connection,query,show=True)"
   ]
  },
  {
   "cell_type": "markdown",
   "metadata": {},
   "source": [
    "Table Embauche"
   ]
  },
  {
   "cell_type": "code",
   "execution_count": 76,
   "metadata": {
    "tags": []
   },
   "outputs": [
    {
     "name": "stdout",
     "output_type": "stream",
     "text": [
      "0 rows\n"
     ]
    },
    {
     "data": {
      "text/plain": [
       "<cursor object at 0x7fcae01354f0; closed: -1>"
      ]
     },
     "execution_count": 76,
     "metadata": {},
     "output_type": "execute_result"
    }
   ],
   "source": [
    "query=\"\"\"\n",
    "create table Embauche(\n",
    "    numss dnumss,\n",
    "    numProj dnumproj,\n",
    "    dateEmb date,\n",
    "    profil dchaines not null,\n",
    "    constraint pk_emb primary key(numSS, numProj),\n",
    "    constraint fk_numss foreign key(numss) references Employe,\n",
    "    constraint fk_numproj foreign key(numProj) references Projet,\n",
    "    constraint fk_prof foreign key(profil) references Grille_sal\n",
    ")\n",
    "\"\"\"\n",
    "execute(connection,query,show=True)"
   ]
  },
  {
   "cell_type": "markdown",
   "metadata": {},
   "source": [
    "#### Alter table (ajouter des contraintes) "
   ]
  },
  {
   "cell_type": "markdown",
   "metadata": {},
   "source": [
    "En considérant que la table projet a été créée, dans ce cas utiliser la commande \n",
    "\n",
    "    alter table <table> add constraint <nom><expression>\n",
    "\n",
    "pour associer la contrainte à Projet"
   ]
  },
  {
   "cell_type": "markdown",
   "metadata": {},
   "source": [
    "Un responsable de projet doit habiter la ville du projet dont il est responsable. Donner en SQL l'instruction permettant d’exprimer cette contrainte de deux manière différentes"
   ]
  },
  {
   "cell_type": "code",
   "execution_count": 77,
   "metadata": {
    "tags": []
   },
   "outputs": [
    {
     "name": "stdout",
     "output_type": "stream",
     "text": [
      "The error 'La contrainte \"ck_respprojet\" existe déjà\n",
      "Constraint \"ck_respprojet\" already exists; SQL statement:\n",
      "\n",
      "alter table PROJET add constraint ck_respProjet check(respProj in (select numss from employe where villeE = villep) [90045-214]\n",
      "DETAIL:  org.h2.jdbc.JdbcSQLSyntaxErrorException: La contrainte \"ck_respprojet\" existe déjà\n",
      "Constraint \"ck_respprojet\" already exists; SQL statement:\n",
      "\n",
      "alter table PROJET add constraint ck_respProjet check(respProj in (select numss from employe where villeE = villep) [90045-214]\n",
      "' occurred\n"
     ]
    }
   ],
   "source": [
    "query=\"\"\"\n",
    "alter table PROJET add constraint ck_respProjet check(respProj in (select numss from employe where villeE = villep))\n",
    "\"\"\"\n",
    "execute(connection,query,show=True)"
   ]
  },
  {
   "cell_type": "markdown",
   "metadata": {},
   "source": [
    "#### Interroger le catalogue de données"
   ]
  },
  {
   "cell_type": "code",
   "execution_count": 78,
   "metadata": {
    "tags": []
   },
   "outputs": [
    {
     "name": "stdout",
     "output_type": "stream",
     "text": [
      "4 rows\n",
      "|table_name|\n",
      "|-----------\n",
      "|embauche  |\n",
      "|employe   |\n",
      "|projet    |\n",
      "|grille_sal|\n"
     ]
    },
    {
     "data": {
      "text/plain": [
       "<cursor object at 0x7fcaf030fe50; closed: -1>"
      ]
     },
     "execution_count": 78,
     "metadata": {},
     "output_type": "execute_result"
    }
   ],
   "source": [
    "query=\"\"\"\n",
    "select TABLE_NAME\n",
    "from INFORMATION_SCHEMA.TABLES \n",
    "where TABLE_SCHEMA = 'public'\n",
    "\"\"\"\n",
    "execute(connection,query,show=True)"
   ]
  },
  {
   "cell_type": "code",
   "execution_count": 79,
   "metadata": {
    "tags": []
   },
   "outputs": [
    {
     "name": "stdout",
     "output_type": "stream",
     "text": [
      "11 rows\n",
      "|table_name|constraint_name  |\n",
      "|-----------------------------\n",
      "|employe   |unique_nom_prenom|\n",
      "|projet    |fk_respproj      |\n",
      "|grille_sal|pk_gril          |\n",
      "|employe   |pk_emp           |\n",
      "|projet    |ck_respprojet    |\n",
      "|embauche  |fk_prof          |\n",
      "|embauche  |pk_emb           |\n",
      "|employe   |fk_chef          |\n",
      "|projet    |pk_proj          |\n",
      "|embauche  |fk_numss         |\n",
      "|embauche  |fk_numproj       |\n"
     ]
    },
    {
     "data": {
      "text/plain": [
       "<cursor object at 0x7fcae0135310; closed: -1>"
      ]
     },
     "execution_count": 79,
     "metadata": {},
     "output_type": "execute_result"
    }
   ],
   "source": [
    "query=\"\"\"\n",
    "SELECT t.table_name,constraint_name \n",
    "FROM information_schema.table_constraints t\n",
    "\"\"\"\n",
    "execute(connection,query,show=True)"
   ]
  },
  {
   "cell_type": "code",
   "execution_count": 80,
   "metadata": {
    "tags": []
   },
   "outputs": [
    {
     "name": "stdout",
     "output_type": "stream",
     "text": [
      "51 rows\n",
      "|table_name|constraint_name  |column_name|data_type        |\n",
      "|-----------------------------------------------------------\n",
      "|employe   |unique_nom_prenom|numss      |numeric          |\n",
      "|employe   |unique_nom_prenom|nome       |character varying|\n",
      "|employe   |unique_nom_prenom|prenome    |character varying|\n",
      "|employe   |unique_nom_prenom|numchef    |numeric          |\n",
      "|employe   |unique_nom_prenom|villee     |character varying|\n",
      "|employe   |unique_nom_prenom|datenaiss  |date             |\n",
      "|projet    |fk_respproj      |numproj    |numeric          |\n",
      "|projet    |fk_respproj      |nomproj    |character varying|\n",
      "|projet    |fk_respproj      |respproj   |numeric          |\n",
      "|projet    |fk_respproj      |villep     |character varying|\n",
      "|projet    |fk_respproj      |budget     |numeric          |\n",
      "|grille_sal|pk_gril          |profile    |character varying|\n",
      "|grille_sal|pk_gril          |salaire    |numeric          |\n",
      "|employe   |pk_emp           |numss      |numeric          |\n",
      "|employe   |pk_emp           |nome       |character varying|\n",
      "|employe   |pk_emp           |prenome    |character varying|\n",
      "|employe   |pk_emp           |numchef    |numeric          |\n",
      "|employe   |pk_emp           |villee     |character varying|\n",
      "|employe   |pk_emp           |datenaiss  |date             |\n",
      "|projet    |ck_respprojet    |numproj    |numeric          |\n",
      "|projet    |ck_respprojet    |nomproj    |character varying|\n",
      "|projet    |ck_respprojet    |respproj   |numeric          |\n",
      "|projet    |ck_respprojet    |villep     |character varying|\n",
      "|projet    |ck_respprojet    |budget     |numeric          |\n",
      "|embauche  |fk_prof          |numss      |numeric          |\n",
      "|embauche  |fk_prof          |numproj    |numeric          |\n",
      "|embauche  |fk_prof          |dateemb    |date             |\n",
      "|embauche  |fk_prof          |profil     |character varying|\n",
      "|embauche  |pk_emb           |numss      |numeric          |\n",
      "|embauche  |pk_emb           |numproj    |numeric          |\n",
      "|embauche  |pk_emb           |dateemb    |date             |\n",
      "|embauche  |pk_emb           |profil     |character varying|\n",
      "|employe   |fk_chef          |numss      |numeric          |\n",
      "|employe   |fk_chef          |nome       |character varying|\n",
      "|employe   |fk_chef          |prenome    |character varying|\n",
      "|employe   |fk_chef          |numchef    |numeric          |\n",
      "|employe   |fk_chef          |villee     |character varying|\n",
      "|employe   |fk_chef          |datenaiss  |date             |\n",
      "|projet    |pk_proj          |numproj    |numeric          |\n",
      "|projet    |pk_proj          |nomproj    |character varying|\n",
      "|projet    |pk_proj          |respproj   |numeric          |\n",
      "|projet    |pk_proj          |villep     |character varying|\n",
      "|projet    |pk_proj          |budget     |numeric          |\n",
      "|embauche  |fk_numss         |numss      |numeric          |\n",
      "|embauche  |fk_numss         |numproj    |numeric          |\n",
      "|embauche  |fk_numss         |dateemb    |date             |\n",
      "|embauche  |fk_numss         |profil     |character varying|\n",
      "|embauche  |fk_numproj       |numss      |numeric          |\n",
      "|embauche  |fk_numproj       |numproj    |numeric          |\n",
      "|embauche  |fk_numproj       |dateemb    |date             |\n",
      "|embauche  |fk_numproj       |profil     |character varying|\n"
     ]
    },
    {
     "data": {
      "text/plain": [
       "<cursor object at 0x7fcae01356d0; closed: -1>"
      ]
     },
     "execution_count": 80,
     "metadata": {},
     "output_type": "execute_result"
    }
   ],
   "source": [
    "query=\"\"\"\n",
    "SELECT t.table_name,constraint_name,column_name,data_type \n",
    "FROM information_schema.table_constraints t, information_schema.columns c\n",
    "where t.table_name=c.table_name\n",
    "\"\"\"\n",
    "execute(connection,query,show=True)"
   ]
  },
  {
   "cell_type": "code",
   "execution_count": 81,
   "metadata": {
    "tags": []
   },
   "outputs": [
    {
     "name": "stdout",
     "output_type": "stream",
     "text": [
      "*********** Tables ************\n",
      "4 rows\n",
      "|table_name|\n",
      "|-----------\n",
      "|embauche  |\n",
      "|employe   |\n",
      "|projet    |\n",
      "|grille_sal|\n",
      "\n",
      "\n",
      "*********** Domaines ************\n",
      "6 rows\n",
      "|domain_name|check_clause                                 |\n",
      "|----------------------------------------------------------\n",
      "|dsal       |VALUE <= 90000                               |\n",
      "|dbudget    |CHAR_LENGTH(VALUE) = 6                       |\n",
      "|dvilles    |LOWER(VALUE) IN('paris', 'lyon', 'marseille')|\n",
      "|dnumproj   |CHAR_LENGTH(VALUE) > 4                       |\n",
      "|dnumss     |CHAR_LENGTH(VALUE) = 5                       |\n",
      "|ddatenaiss |DATEDIFF(YEAR, VALUE, CURRENT_DATE) <= 70    |\n",
      "\n",
      "\n",
      "*********** Attributs ************\n",
      "17 rows\n",
      "|table_name|column_name|data_type        |column_default|is_nullable|character_maximum_length|numeric_precision|\n",
      "|---------------------------------------------------------------------------------------------------------------\n",
      "|embauche  |numss      |numeric          |None          |NO         |None                    |5                |\n",
      "|embauche  |numproj    |numeric          |None          |NO         |None                    |7                |\n",
      "|embauche  |dateemb    |date             |None          |YES        |None                    |None             |\n",
      "|embauche  |profil     |character varying|None          |NO         |20                      |None             |\n",
      "|employe   |numss      |numeric          |None          |NO         |None                    |5                |\n",
      "|employe   |nome       |character varying|None          |YES        |20                      |None             |\n",
      "|employe   |prenome    |character varying|None          |YES        |20                      |None             |\n",
      "|employe   |numchef    |numeric          |None          |YES        |None                    |5                |\n",
      "|employe   |villee     |character varying|None          |YES        |9                       |None             |\n",
      "|employe   |datenaiss  |date             |None          |YES        |None                    |None             |\n",
      "|projet    |numproj    |numeric          |None          |NO         |None                    |7                |\n",
      "|projet    |nomproj    |character varying|None          |YES        |20                      |None             |\n",
      "|projet    |respproj   |numeric          |None          |NO         |None                    |5                |\n",
      "|projet    |villep     |character varying|None          |YES        |9                       |None             |\n",
      "|projet    |budget     |numeric          |None          |YES        |None                    |6                |\n",
      "|grille_sal|profile    |character varying|None          |NO         |20                      |None             |\n",
      "|grille_sal|salaire    |numeric          |None          |YES        |None                    |7                |\n"
     ]
    }
   ],
   "source": [
    "show_schema(connection)"
   ]
  },
  {
   "cell_type": "markdown",
   "metadata": {},
   "source": [
    "## Exercice 2 : Insertion de données"
   ]
  },
  {
   "cell_type": "markdown",
   "metadata": {},
   "source": [
    "Dans ce qui suit, il vous est demandé d'effectuer des insertions de n-uplets dans des tables.\n",
    "\n",
    "Syntaxe des insertions :\n",
    "\n",
    "    insert into Table values ('val1', 'val2', ….)\n",
    "\n",
    "par exemple, pour insérer une employée 'LARS Anna', qui habite 'Paris' et qui est née le 25-08-1975, il suffit d'exécuter l'instruction ci-dessous\n",
    "\n",
    "    insert into employe values('21456','LARS', 'Anna',null, 'paris', parsedatetime('25-08-1975', 'dd-MM-yyyy' ))\n",
    "    \n",
    "et de constater que la système retourne bien le message\n",
    "\n",
    "    1 rows\n",
    "\n",
    "\n",
    "Syntaxe des suppressions :\n",
    "\n",
    "    delete from Table \n",
    "\n",
    "supprime tous les nuplets de la table (la table existera toujours mais sera vide)\n"
   ]
  },
  {
   "cell_type": "markdown",
   "metadata": {},
   "source": [
    "### Insérez dans chaque table au moins un n-uplet qui vérifie les contraintes d'intégrité. Vous avez la liberté de choisir les valeurs que vous voulez. Par exemple, l'instruction suivante insère un employé qui vérifie les contraintes"
   ]
  },
  {
   "cell_type": "code",
   "execution_count": 82,
   "metadata": {
    "tags": []
   },
   "outputs": [
    {
     "name": "stdout",
     "output_type": "stream",
     "text": [
      "1 rows\n"
     ]
    },
    {
     "data": {
      "text/plain": [
       "<cursor object at 0x7fcaf030fd60; closed: -1>"
      ]
     },
     "execution_count": 82,
     "metadata": {},
     "output_type": "execute_result"
    }
   ],
   "source": [
    "query=\"\"\"\n",
    "insert into employe values ('21456','LARS', 'Anna',null, 'paris', parsedatetime('25-08-1975', 'dd-MM-yyyy' ))\n",
    "insert into Employe(numSS, nomE, prenomE, villeE, dateNaiss) values(12345, 'Smith', 'John', 'Paris', parsedatetime('25-08-1975', 'dd-MM-yyyy'))\n",
    "\n",
    "insert into Projet values(54321, 'Projet-v0', 12345, 'Paris', 100000)\n",
    "\n",
    "insert into Grille_Sal values('manager', 4000)\n",
    "\n",
    "insert into Embauche values(12345, 54321, '2023-03-03', 'manager')\n",
    "\"\"\"\n",
    "execute(connection,query,show=True)"
   ]
  },
  {
   "cell_type": "code",
   "execution_count": 83,
   "metadata": {
    "tags": []
   },
   "outputs": [
    {
     "name": "stdout",
     "output_type": "stream",
     "text": [
      "2 rows\n",
      "|numss|nome |prenome|numchef|villee|datenaiss |\n",
      "|----------------------------------------------\n",
      "|21456|LARS |Anna   |None   |paris |1975-08-25|\n",
      "|12345|Smith|John   |None   |Paris |1975-08-25|\n"
     ]
    },
    {
     "data": {
      "text/plain": [
       "<cursor object at 0x7fcae0cbed60; closed: -1>"
      ]
     },
     "execution_count": 83,
     "metadata": {},
     "output_type": "execute_result"
    }
   ],
   "source": [
    "query=\"\"\"\n",
    "select * from employe\n",
    "\"\"\"\n",
    "execute(connection,query,show=True)"
   ]
  },
  {
   "cell_type": "code",
   "execution_count": 87,
   "metadata": {
    "tags": []
   },
   "outputs": [
    {
     "name": "stdout",
     "output_type": "stream",
     "text": [
      "1 rows\n",
      "|numproj|nomproj  |respproj|villep|budget|\n",
      "|-----------------------------------------\n",
      "|54321  |Projet-v0|12345   |Paris |100000|\n"
     ]
    },
    {
     "data": {
      "text/plain": [
       "<cursor object at 0x7fcacbbe2040; closed: -1>"
      ]
     },
     "execution_count": 87,
     "metadata": {},
     "output_type": "execute_result"
    }
   ],
   "source": [
    "query=\"\"\"\n",
    "select * from projet\n",
    "\"\"\"\n",
    "execute(connection,query,show=True)"
   ]
  },
  {
   "cell_type": "code",
   "execution_count": 88,
   "metadata": {
    "tags": []
   },
   "outputs": [
    {
     "name": "stdout",
     "output_type": "stream",
     "text": [
      "1 rows\n",
      "|profile|salaire|\n",
      "|----------------\n",
      "|manager|4000.00|\n"
     ]
    },
    {
     "data": {
      "text/plain": [
       "<cursor object at 0x7fcacbbe2130; closed: -1>"
      ]
     },
     "execution_count": 88,
     "metadata": {},
     "output_type": "execute_result"
    }
   ],
   "source": [
    "query=\"\"\"\n",
    "select * from grille_sal\n",
    "\"\"\"\n",
    "execute(connection,query,show=True)"
   ]
  },
  {
   "cell_type": "code",
   "execution_count": 89,
   "metadata": {
    "scrolled": true,
    "tags": []
   },
   "outputs": [
    {
     "name": "stdout",
     "output_type": "stream",
     "text": [
      "1 rows\n",
      "|numss|numproj|dateemb   |profil |\n",
      "|---------------------------------\n",
      "|12345|54321  |2023-03-03|manager|\n"
     ]
    },
    {
     "data": {
      "text/plain": [
       "<cursor object at 0x7fcacbbe2220; closed: -1>"
      ]
     },
     "execution_count": 89,
     "metadata": {},
     "output_type": "execute_result"
    }
   ],
   "source": [
    "query=\"\"\"\n",
    "select * from embauche\n",
    "\"\"\"\n",
    "execute(connection,query,show=True)"
   ]
  },
  {
   "cell_type": "markdown",
   "metadata": {},
   "source": [
    "## Exercice 3 : Violation des contraintes\n",
    "\n",
    "### Proposez des insertions qui violent les contraintes d'intégrité définies pour chaque table. "
   ]
  },
  {
   "cell_type": "code",
   "execution_count": 90,
   "metadata": {
    "tags": []
   },
   "outputs": [
    {
     "name": "stdout",
     "output_type": "stream",
     "text": [
      "2 rows\n",
      "|numss|nome |prenome|numchef|villee|datenaiss |\n",
      "|----------------------------------------------\n",
      "|21456|LARS |Anna   |None   |paris |1975-08-25|\n",
      "|12345|Smith|John   |None   |Paris |1975-08-25|\n"
     ]
    },
    {
     "data": {
      "text/plain": [
       "<cursor object at 0x7fcacbbe2310; closed: -1>"
      ]
     },
     "execution_count": 90,
     "metadata": {},
     "output_type": "execute_result"
    }
   ],
   "source": [
    "query=\"\"\"\n",
    "select * from employe\n",
    "\"\"\"\n",
    "execute(connection,query,show=True)"
   ]
  },
  {
   "cell_type": "markdown",
   "metadata": {},
   "source": [
    "Proposer une insertion dans la table Employé qui ne respecte pas la contrainte de clé primaire."
   ]
  },
  {
   "cell_type": "code",
   "execution_count": 91,
   "metadata": {
    "tags": []
   },
   "outputs": [
    {
     "name": "stdout",
     "output_type": "stream",
     "text": [
      "The error 'Violation d'index unique ou clé primaire: \"public.PRIMARY_KEY_9 ON public.employe(numss) VALUES ( /* 3 */ CAST(12345 AS NUMERIC(5)) )\"\n",
      "Unique index or primary key violation: \"public.PRIMARY_KEY_9 ON public.employe(numss) VALUES ( /* 3 */ CAST(12345 AS NUMERIC(5)) )\"; SQL statement:\n",
      "\n",
      "insert into Employe values(12345, 'Dupont', 'Alice', null, 'Marseille', '2003-10-23' [23505-214]\n",
      "DETAIL:  org.h2.jdbc.JdbcSQLIntegrityConstraintViolationException: Violation d'index unique ou clé primaire: \"public.PRIMARY_KEY_9 ON public.employe(numss) VALUES ( /* 3 */ CAST(12345 AS NUMERIC(5)) )\"\n",
      "Unique index or primary key violation: \"public.PRIMARY_KEY_9 ON public.employe(numss) VALUES ( /* 3 */ CAST(12345 AS NUMERIC(5)) )\"; SQL statement:\n",
      "\n",
      "insert into Employe values(12345, 'Dupont', 'Alice', null, 'Marseille', '2003-10-23' [23505-214]\n",
      "' occurred\n"
     ]
    }
   ],
   "source": [
    "query=\"\"\"\n",
    "insert into Employe values(12345, 'Dupont', 'Alice', null, 'Marseille', '2003-10-23')\n",
    "\"\"\"\n",
    "execute(connection,query,show=True)"
   ]
  },
  {
   "cell_type": "markdown",
   "metadata": {},
   "source": [
    "Proposer une insertion dans la table Employe qui ne respecte pas la contrainte de limite d'âge."
   ]
  },
  {
   "cell_type": "code",
   "execution_count": 92,
   "metadata": {
    "tags": []
   },
   "outputs": [
    {
     "name": "stdout",
     "output_type": "stream",
     "text": [
      "The error 'Vérifiez la violation de contrainte: \"(DATEDIFF(YEAR, VALUE, CURRENT_DATE) <= 70)\"\n",
      "Check constraint violation: \"(DATEDIFF(YEAR, VALUE, CURRENT_DATE) <= 70)\"; SQL statement:\n",
      "\n",
      "insert into Employe values(67890, 'Poe', 'John', null, 'Marseille', '1952-10-23' [23513-214]\n",
      "DETAIL:  org.h2.jdbc.JdbcSQLIntegrityConstraintViolationException: Vérifiez la violation de contrainte: \"(DATEDIFF(YEAR, VALUE, CURRENT_DATE) <= 70)\"\n",
      "Check constraint violation: \"(DATEDIFF(YEAR, VALUE, CURRENT_DATE) <= 70)\"; SQL statement:\n",
      "\n",
      "insert into Employe values(67890, 'Poe', 'John', null, 'Marseille', '1952-10-23' [23513-214]\n",
      "' occurred\n"
     ]
    }
   ],
   "source": [
    "query=\"\"\"\n",
    "insert into Employe values(67890, 'Poe', 'John', null, 'Marseille', '1952-10-23')\n",
    "\"\"\"\n",
    "execute(connection,query,show=True)"
   ]
  },
  {
   "cell_type": "markdown",
   "metadata": {},
   "source": [
    "Proposer une insertion dans la table Employe qui ne respecte pas la contrainte de longueur de l'attribut NumSS."
   ]
  },
  {
   "cell_type": "code",
   "execution_count": 93,
   "metadata": {
    "tags": []
   },
   "outputs": [
    {
     "name": "stdout",
     "output_type": "stream",
     "text": [
      "The error 'Vérifiez la violation de contrainte: \"(CHAR_LENGTH(VALUE) = 5)\"\n",
      "Check constraint violation: \"(CHAR_LENGTH(VALUE) = 5)\"; SQL statement:\n",
      "\n",
      "insert into Employe values(123, 'Dupont', 'Alice', null, 'Marseille', '2003-10-23' [23513-214]\n",
      "DETAIL:  org.h2.jdbc.JdbcSQLIntegrityConstraintViolationException: Vérifiez la violation de contrainte: \"(CHAR_LENGTH(VALUE) = 5)\"\n",
      "Check constraint violation: \"(CHAR_LENGTH(VALUE) = 5)\"; SQL statement:\n",
      "\n",
      "insert into Employe values(123, 'Dupont', 'Alice', null, 'Marseille', '2003-10-23' [23513-214]\n",
      "' occurred\n"
     ]
    }
   ],
   "source": [
    "query=\"\"\"\n",
    "insert into Employe values(123, 'Dupont', 'Alice', null, 'Marseille', '2003-10-23')\n",
    "\"\"\"\n",
    "execute(connection,query,show=True)"
   ]
  },
  {
   "cell_type": "markdown",
   "metadata": {},
   "source": [
    "Proposer une insertion dans la table Employe qui ne respecte pas la contrainte sur les villes possibles."
   ]
  },
  {
   "cell_type": "code",
   "execution_count": 94,
   "metadata": {
    "tags": []
   },
   "outputs": [
    {
     "name": "stdout",
     "output_type": "stream",
     "text": [
      "The error 'Vérifiez la violation de contrainte: \"(LOWER(VALUE) IN('paris', 'lyon', 'marseille'))\"\n",
      "Check constraint violation: \"(LOWER(VALUE) IN('paris', 'lyon', 'marseille'))\"; SQL statement:\n",
      "\n",
      "insert into Employe values(67890, 'Dupont', 'Alice', null, 'Caen', '2003-10-23' [23513-214]\n",
      "DETAIL:  org.h2.jdbc.JdbcSQLIntegrityConstraintViolationException: Vérifiez la violation de contrainte: \"(LOWER(VALUE) IN('paris', 'lyon', 'marseille'))\"\n",
      "Check constraint violation: \"(LOWER(VALUE) IN('paris', 'lyon', 'marseille'))\"; SQL statement:\n",
      "\n",
      "insert into Employe values(67890, 'Dupont', 'Alice', null, 'Caen', '2003-10-23' [23513-214]\n",
      "' occurred\n"
     ]
    }
   ],
   "source": [
    "query=\"\"\"\n",
    "insert into Employe values(67890, 'Dupont', 'Alice', null, 'Caen', '2003-10-23')\n",
    "\"\"\"\n",
    "execute(connection,query,show=True)"
   ]
  },
  {
   "cell_type": "markdown",
   "metadata": {},
   "source": [
    "Insérer dans la table Employé deux employés avec le même nom et le même prénom."
   ]
  },
  {
   "cell_type": "code",
   "execution_count": 95,
   "metadata": {
    "tags": []
   },
   "outputs": [
    {
     "name": "stdout",
     "output_type": "stream",
     "text": [
      "The error 'Violation d'index unique ou clé primaire: \"public.unique_nom_prenom_INDEX_9 ON public.employe(nome NULLS LAST, prenome NULLS LAST) VALUES ( /* key:3 */ 'Smith', 'John')\"\n",
      "Unique index or primary key violation: \"public.unique_nom_prenom_INDEX_9 ON public.employe(nome NULLS LAST, prenome NULLS LAST) VALUES ( /* key:3 */ 'Smith', 'John')\"; SQL statement:\n",
      "\n",
      "insert into Employe values(67890, 'Smith', 'John', null, 'Marseille', '2003-10-23' [23505-214]\n",
      "DETAIL:  org.h2.jdbc.JdbcSQLIntegrityConstraintViolationException: Violation d'index unique ou clé primaire: \"public.unique_nom_prenom_INDEX_9 ON public.employe(nome NULLS LAST, prenome NULLS LAST) VALUES ( /* key:3 */ 'Smith', 'John')\"\n",
      "Unique index or primary key violation: \"public.unique_nom_prenom_INDEX_9 ON public.employe(nome NULLS LAST, prenome NULLS LAST) VALUES ( /* key:3 */ 'Smith', 'John')\"; SQL statement:\n",
      "\n",
      "insert into Employe values(67890, 'Smith', 'John', null, 'Marseille', '2003-10-23' [23505-214]\n",
      "' occurred\n"
     ]
    }
   ],
   "source": [
    "query=\"\"\"\n",
    "insert into Employe values(67890, 'Smith', 'John', null, 'Marseille', '2003-10-23')\n",
    "\"\"\"\n",
    "execute(connection,query,show=True)"
   ]
  },
  {
   "cell_type": "markdown",
   "metadata": {},
   "source": [
    "Proposer une insertion dans la table Grille_SAL qui ne respecte pas la contrainte sur le salaire qui ne doit pas dépasser 90 000."
   ]
  },
  {
   "cell_type": "code",
   "execution_count": 98,
   "metadata": {
    "tags": []
   },
   "outputs": [
    {
     "name": "stdout",
     "output_type": "stream",
     "text": [
      "The error 'Valeur trop longue pour la colonne \"salaire NUMERIC(7, 2)\": \"100000 (32)\"\n",
      "Value too long for column \"salaire NUMERIC(7, 2)\": \"100000 (32)\"; SQL statement:\n",
      "\n",
      "insert into Grille_SAL values('directeur', 100000 [22001-214]\n",
      "DETAIL:  org.h2.jdbc.JdbcSQLDataException: Valeur trop longue pour la colonne \"salaire NUMERIC(7, 2)\": \"100000 (32)\"\n",
      "Value too long for column \"salaire NUMERIC(7, 2)\": \"100000 (32)\"; SQL statement:\n",
      "\n",
      "insert into Grille_SAL values('directeur', 100000 [22001-214]\n",
      "' occurred\n"
     ]
    }
   ],
   "source": [
    "query=\"\"\"\n",
    "insert into Grille_SAL values('directeur', 100000)\n",
    "\"\"\"\n",
    "execute(connection,query,show=True)"
   ]
  },
  {
   "cell_type": "markdown",
   "metadata": {},
   "source": [
    "Proposer une insertion dans la table Projet qui ne respecte pas la contrainte référentielle vers Employe : insérer un responsable de projet qui n'est pas dans la table Employé"
   ]
  },
  {
   "cell_type": "code",
   "execution_count": 99,
   "metadata": {
    "tags": []
   },
   "outputs": [
    {
     "name": "stdout",
     "output_type": "stream",
     "text": [
      "The error 'Vérifiez la violation de contrainte: \"ck_respprojet: \"\n",
      "Check constraint violation: \"ck_respprojet: \"; SQL statement:\n",
      " \n",
      "insert into Projet values(9876543, 'AlphaGO', 13579, 'Paris', 10000 [23513-214]\n",
      "DETAIL:  org.h2.jdbc.JdbcSQLIntegrityConstraintViolationException: Vérifiez la violation de contrainte: \"ck_respprojet: \"\n",
      "Check constraint violation: \"ck_respprojet: \"; SQL statement:\n",
      " \n",
      "insert into Projet values(9876543, 'AlphaGO', 13579, 'Paris', 10000 [23513-214]\n",
      "' occurred\n"
     ]
    }
   ],
   "source": [
    "query=\"\"\" \n",
    "insert into Projet values(9876543, 'AlphaGO', 13579, 'Paris', 100000)\n",
    "\"\"\"\n",
    "execute(connection,query,show=True)"
   ]
  },
  {
   "cell_type": "markdown",
   "metadata": {},
   "source": [
    "Il est possible que la contrainte que le responsable soit dans la même ville est déclenchée. Vous pouvez enlever cette contrainte avec la commande :\n",
    "\n",
    "    alter table drop constraint \"nom de contrainte\"\n",
    "    \n",
    "Il faudrait la recréer après avec\n",
    "\n",
    "    alter table add constraint ...."
   ]
  },
  {
   "cell_type": "markdown",
   "metadata": {},
   "source": [
    "Proposer une insertion dans la table Embauche qui ne respecte pas une des contraintes référentielles : par exemple, associer un employé existant à un projet qui n'existe pas."
   ]
  },
  {
   "cell_type": "code",
   "execution_count": 100,
   "metadata": {
    "tags": []
   },
   "outputs": [
    {
     "name": "stdout",
     "output_type": "stream",
     "text": [
      "The error 'Le nombre de colonnes ne correspond pas\n",
      "Column count does not match; SQL statement:\n",
      "insert into Embauche values values(12345, 9876543, '2023-01-10', 'manager') [21002-214]\n",
      "DETAIL:  org.h2.jdbc.JdbcSQLSyntaxErrorException: Le nombre de colonnes ne correspond pas\n",
      "Column count does not match; SQL statement:\n",
      "insert into Embauche values values(12345, 9876543, '2023-01-10', 'manager') [21002-214]\n",
      "' occurred\n"
     ]
    }
   ],
   "source": [
    "query=\"\"\"\n",
    "insert into Embauche values values(12345, 9876543, '2023-01-10', 'manager');\n",
    "\"\"\"\n",
    "execute(connection,query,show=True)"
   ]
  },
  {
   "cell_type": "markdown",
   "metadata": {},
   "source": [
    "# Fermer la connexion"
   ]
  },
  {
   "cell_type": "code",
   "execution_count": 101,
   "metadata": {
    "tags": []
   },
   "outputs": [],
   "source": [
    "connection.commit() # implicit avec close\n",
    "connection.close()"
   ]
  },
  {
   "cell_type": "code",
   "execution_count": null,
   "metadata": {},
   "outputs": [],
   "source": []
  }
 ],
 "metadata": {
  "interpreter": {
   "hash": "3f7970bd1fb3f240334e0295161dab121eeb02ebe2a02561bbc5f2c38513dba7"
  },
  "kernelspec": {
   "display_name": "Python 3 (ipykernel)",
   "language": "python",
   "name": "python3"
  },
  "language_info": {
   "codemirror_mode": {
    "name": "ipython",
    "version": 3
   },
   "file_extension": ".py",
   "mimetype": "text/x-python",
   "name": "python",
   "nbconvert_exporter": "python",
   "pygments_lexer": "ipython3",
   "version": "3.9.7"
  },
  "toc-autonumbering": true,
  "toc-showcode": false,
  "toc-showmarkdowntxt": false,
  "toc-showtags": false
 },
 "nbformat": 4,
 "nbformat_minor": 4
}
