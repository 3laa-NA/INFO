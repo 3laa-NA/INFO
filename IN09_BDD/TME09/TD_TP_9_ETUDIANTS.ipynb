{
 "cells": [
  {
   "cell_type": "markdown",
   "metadata": {
    "tags": []
   },
   "source": [
    "# TD et TME 9: CREATION DE SCHEMAS-MODIFICATION DES DONNEES\n"
   ]
  },
  {
   "cell_type": "markdown",
   "metadata": {
    "tags": []
   },
   "source": [
    "## Installation H2 \n",
    "\n",
    "Le système utilisé pendant les TME est H2."
   ]
  },
  {
   "cell_type": "code",
   "execution_count": 2,
   "metadata": {
    "tags": []
   },
   "outputs": [
    {
     "name": "stdout",
     "output_type": "stream",
     "text": [
      "Defaulting to user installation because normal site-packages is not writeable\n",
      "Requirement already satisfied: psycopg2-binary in /home/jupyter-15849/.local/lib/python3.9/site-packages (2.9.9)\n",
      "Note: you may need to restart the kernel to use updated packages.\n"
     ]
    }
   ],
   "source": [
    "pip install psycopg2-binary"
   ]
  },
  {
   "cell_type": "markdown",
   "metadata": {},
   "source": [
    "Télécharger le pilote de H2"
   ]
  },
  {
   "cell_type": "code",
   "execution_count": 3,
   "metadata": {
    "tags": []
   },
   "outputs": [
    {
     "name": "stdout",
     "output_type": "stream",
     "text": [
      "--2024-04-14 22:17:39--  https://nuage.lip6.fr/s/LqD9N23kxrfHopr/download?path=agreg/postgresql-42.6.0.jar\n",
      "Resolving nuage.lip6.fr (nuage.lip6.fr)... 132.227.201.11\n",
      "Connecting to nuage.lip6.fr (nuage.lip6.fr)|132.227.201.11|:443... connected.\n",
      "HTTP request sent, awaiting response... 200 OK\n",
      "Length: 1081604 (1,0M) [application/octet-stream]\n",
      "Saving to: ‘postgresql-42.6.0.jar’\n",
      "\n",
      "postgresql-42.6.0.j 100%[===================>]   1,03M  --.-KB/s    in 0,01s   \n",
      "\n",
      "2024-04-14 22:17:39 (96,3 MB/s) - ‘postgresql-42.6.0.jar’ saved [1081604/1081604]\n",
      "\n",
      "--2024-04-14 22:17:39--  https://nuage.lip6.fr/s/LqD9N23kxrfHopr/download?path=agreg/h2-2.1.214.jar\n",
      "Resolving nuage.lip6.fr (nuage.lip6.fr)... 132.227.201.11\n",
      "Connecting to nuage.lip6.fr (nuage.lip6.fr)|132.227.201.11|:443... connected.\n",
      "HTTP request sent, awaiting response... 200 OK\n",
      "Length: 2543011 (2,4M) [application/octet-stream]\n",
      "Saving to: ‘h2-2.1.214.jar’\n",
      "\n",
      "h2-2.1.214.jar      100%[===================>]   2,42M  --.-KB/s    in 0,02s   \n",
      "\n",
      "2024-04-14 22:17:39 (98,2 MB/s) - ‘h2-2.1.214.jar’ saved [2543011/2543011]\n",
      "\n"
     ]
    }
   ],
   "source": [
    "!wget https://nuage.lip6.fr/s/LqD9N23kxrfHopr/download?path=agreg/postgresql-42.6.0.jar -O postgresql-42.6.0.jar\n",
    "!wget https://nuage.lip6.fr/s/LqD9N23kxrfHopr/download?path=agreg/h2-2.1.214.jar -O h2-2.1.214.jar"
   ]
  },
  {
   "cell_type": "markdown",
   "metadata": {},
   "source": [
    "**Relancez le kernel**: Kernel -> Restart kernel ..."
   ]
  },
  {
   "cell_type": "markdown",
   "metadata": {},
   "source": [
    "https://www.psycopg.org/docs/\n",
    "http://localhost:8082"
   ]
  },
  {
   "cell_type": "code",
   "execution_count": 4,
   "metadata": {
    "tags": []
   },
   "outputs": [
    {
     "data": {
      "text/plain": [
       "[]"
      ]
     },
     "execution_count": 4,
     "metadata": {},
     "output_type": "execute_result"
    }
   ],
   "source": [
    "import psycopg2\n",
    "import os\n",
    "local_dir = \"./data\"\n",
    "os.makedirs(local_dir, exist_ok=True)\n",
    "os.listdir(local_dir)"
   ]
  },
  {
   "cell_type": "markdown",
   "metadata": {
    "id": "hsCZZv8lmbBK",
    "tags": []
   },
   "source": [
    "### Démarrer le serveur SQL H2"
   ]
  },
  {
   "cell_type": "code",
   "execution_count": 5,
   "metadata": {
    "tags": []
   },
   "outputs": [
    {
     "name": "stdout",
     "output_type": "stream",
     "text": [
      "Le numero du port utilisé pour la connexion à la BD est: 5613\n"
     ]
    }
   ],
   "source": [
    "#Remplacez les valeurs des variables suivantes\n",
    "#NN= numéro de groupe: chaine de caractères (ex: 01, 02,.., 13), remplacer xx \n",
    "NN = '06'\n",
    "#BB=numero binome: chaîne de caractères (assigné par l'enseignant, ex: 01,..., 15), remplacer xx\n",
    "BB = '13'\n",
    "port = 5000+int(NN+BB)\n",
    "print(f'Le numero du port utilisé pour la connexion à la BD est: {port}')"
   ]
  },
  {
   "cell_type": "code",
   "execution_count": 6,
   "metadata": {
    "id": "rLcOCISm-R1Z",
    "tags": []
   },
   "outputs": [],
   "source": [
    "%%bash --bg --out output -s \"$port\"\n",
    "java -Dh2.bindAddress=127.0.0.1 -cp h2-2.1.214.jar:postgresql-42.6.0.jar org.h2.tools.Server -pg -pgPort $1 -baseDir ./data -ifNotExists"
   ]
  },
  {
   "cell_type": "markdown",
   "metadata": {
    "tags": []
   },
   "source": [
    "## Fonctions utiles"
   ]
  },
  {
   "cell_type": "markdown",
   "metadata": {
    "tags": []
   },
   "source": [
    "### connect_H2"
   ]
  },
  {
   "cell_type": "code",
   "execution_count": 7,
   "metadata": {
    "tags": []
   },
   "outputs": [],
   "source": [
    "def connect_H2(db,user,password):\n",
    "    global connection\n",
    "    try:\n",
    "        connection\n",
    "    except:\n",
    "        connection = None\n",
    "    if connection != None:\n",
    "        try:\n",
    "            connection.close()\n",
    "            print(\"Connection closed\")\n",
    "        except  Error as e:\n",
    "            print(f\"The error '{e}' occurred\")\n",
    "    try:\n",
    "        # connection = sqlite3.connect(path,isolation_level='DEFERRED')\n",
    "        connection = psycopg2.connect(f\"dbname={db} user={user} password={password} host=localhost port={port}\")\n",
    "        print(\"Connection to H2 DB successful\")\n",
    "    except Exception as e:\n",
    "        print(f\"The error '{e}' occurred\")\n",
    "    return connection"
   ]
  },
  {
   "cell_type": "markdown",
   "metadata": {},
   "source": [
    "### execute"
   ]
  },
  {
   "cell_type": "code",
   "execution_count": 8,
   "metadata": {
    "tags": []
   },
   "outputs": [],
   "source": [
    "def execute(connection, query, show=True,close=True):\n",
    "    try:\n",
    "        cursor = connection.cursor()\n",
    "        cursor.execute(query)\n",
    "        print(cursor.rowcount,\"rows\")\n",
    "        if show and cursor.rowcount and cursor.description is not None:\n",
    "            names = [desc[0] for desc in cursor.description]\n",
    "            lengths={}\n",
    "            for attr in names:\n",
    "                lengths[attr]=len(attr)\n",
    "            for ligne in cursor:\n",
    "                i=0\n",
    "                for attr in ligne:\n",
    "                    lengths[names[i]]=max(lengths[names[i]],len(str(attr).replace('\\n',' ')))\n",
    "                    i=i+1\n",
    "            print('|',end='')\n",
    "            for attr in names:\n",
    "                print(str(attr).ljust(lengths[attr]),end='|')\n",
    "            print()\n",
    "            print('|',end='')\n",
    "            for attr in names:\n",
    "                print(''.ljust(lengths[attr]+1,'-'),end='')\n",
    "            print()\n",
    "            cursor.execute(query)\n",
    "            for ligne in cursor:\n",
    "                i=0\n",
    "                print('|',end='')\n",
    "                for attr in ligne:\n",
    "                    print(str(attr).replace('\\n',' ')[:lengths[names[i]]].ljust(lengths[names[i]]),end='|')\n",
    "                    i=i+1\n",
    "                print()\n",
    "        if close:\n",
    "            cursor.close()\n",
    "    except Exception as e:\n",
    "        print(f\"The error '{e}' occurred\")\n",
    "        cursor=None\n",
    "    return cursor"
   ]
  },
  {
   "cell_type": "markdown",
   "metadata": {},
   "source": [
    "### show_table"
   ]
  },
  {
   "cell_type": "code",
   "execution_count": 9,
   "metadata": {
    "tags": []
   },
   "outputs": [],
   "source": [
    "def show_table(connection,table_name):\n",
    "\n",
    "    query=f\"\"\"\n",
    "SELECT table_name,\n",
    "       column_name,\n",
    "       data_type,\n",
    "       column_default,\n",
    "       is_nullable,\n",
    "       character_maximum_length,\n",
    "       numeric_precision\n",
    "FROM information_schema.columns \n",
    "where lower(table_name)  = '{table_name}'  \n",
    "\"\"\"\n",
    "    execute(connection,query)\n",
    "    "
   ]
  },
  {
   "cell_type": "markdown",
   "metadata": {},
   "source": [
    "### show_schema"
   ]
  },
  {
   "cell_type": "code",
   "execution_count": 10,
   "metadata": {
    "tags": []
   },
   "outputs": [],
   "source": [
    "def show_schema(connection):\n",
    "\n",
    "    print('*********** Tables ************')\n",
    "    query=\"\"\"\n",
    "    select TABLE_NAME\n",
    "    from INFORMATION_SCHEMA.TABLES \n",
    "    where TABLE_SCHEMA = 'public'\n",
    "    \"\"\"\n",
    "    execute(connection,query,show=True)\n",
    "\n",
    "    print('\\n\\n*********** Domaines ************')\n",
    "    query=\"\"\"\n",
    "    SELECT domain_name,check_clause \n",
    "    FROM information_schema.domain_constraints a, information_schema.check_constraints b\n",
    "    where a.constraint_name=b.constraint_name\n",
    "    \"\"\"\n",
    "    execute(connection,query)\n",
    "\n",
    "    print('\\n\\n*********** Attributs ************')\n",
    "    query=f\"\"\"\n",
    "    SELECT c.table_name,\n",
    "           c.column_name,\n",
    "           c.data_type,\n",
    "           c.column_default,\n",
    "           c.is_nullable,\n",
    "           c.character_maximum_length,\n",
    "           c.numeric_precision\n",
    "    FROM INFORMATION_SCHEMA.TABLES t, information_schema.columns c\n",
    "    where t.table_name=c.table_name\n",
    "    and t.TABLE_SCHEMA = 'public'\n",
    "    \"\"\"\n",
    "    execute(connection,query)\n",
    "    "
   ]
  },
  {
   "cell_type": "markdown",
   "metadata": {
    "id": "00mRiA73K_QB",
    "tags": []
   },
   "source": [
    "### Connexion à H2"
   ]
  },
  {
   "cell_type": "code",
   "execution_count": 11,
   "metadata": {
    "id": "IRyyRAX2K_QB",
    "tags": []
   },
   "outputs": [
    {
     "name": "stdout",
     "output_type": "stream",
     "text": [
      "Connection to H2 DB successful\n"
     ]
    }
   ],
   "source": [
    "connection = connect_H2(\"jo\"+f'{port}',\"ba\",\"ba\")"
   ]
  },
  {
   "cell_type": "markdown",
   "metadata": {
    "tags": []
   },
   "source": [
    "## Exercices TD"
   ]
  },
  {
   "cell_type": "markdown",
   "metadata": {},
   "source": [
    "pour supprimer le schéma de la base courante"
   ]
  },
  {
   "cell_type": "code",
   "execution_count": 12,
   "metadata": {
    "tags": []
   },
   "outputs": [
    {
     "name": "stdout",
     "output_type": "stream",
     "text": [
      "0 rows\n"
     ]
    },
    {
     "data": {
      "text/plain": [
       "<cursor object at 0x7facc8246b80; closed: -1>"
      ]
     },
     "execution_count": 12,
     "metadata": {},
     "output_type": "execute_result"
    }
   ],
   "source": [
    "query=\"\"\"\n",
    "DROP ALL OBJECTS\n",
    "\"\"\"\n",
    "execute(connection,query,show=True)"
   ]
  },
  {
   "cell_type": "markdown",
   "metadata": {
    "tags": []
   },
   "source": [
    "### VILLES ET PAYS\n",
    "On veut créer un schéma relationnel pour stocker des informations sur des villes et des pays.\n",
    "\n"
   ]
  },
  {
   "cell_type": "markdown",
   "metadata": {},
   "source": [
    "#### Traduisez le schéma relationnel suivant en instructions SQL:"
   ]
  },
  {
   "cell_type": "markdown",
   "metadata": {},
   "source": [
    "\n",
    "- Ville(<u>nom</u>, population, pays*) \n",
    "- Pays(<u>nom</u>, capitale*)\n",
    "\n",
    "où pays est une référence vers un pays dans la table Pays et capitale est une référence vers une ville dans la table Ville."
   ]
  },
  {
   "cell_type": "code",
   "execution_count": 13,
   "metadata": {
    "tags": []
   },
   "outputs": [
    {
     "name": "stdout",
     "output_type": "stream",
     "text": [
      "0 rows\n"
     ]
    },
    {
     "data": {
      "text/plain": [
       "<cursor object at 0x7facc82468b0; closed: -1>"
      ]
     },
     "execution_count": 13,
     "metadata": {},
     "output_type": "execute_result"
    }
   ],
   "source": [
    "query=\"\"\"\n",
    "create table Ville(\n",
    "    nom varchar(50) primary key,\n",
    "    population numeric(10),\n",
    "    pays varchar(50)\n",
    ");\n",
    "\n",
    "create table Pays(\n",
    "    nom varchar(50) primary key,\n",
    "    capitale varchar(50),\n",
    "    constraint fk_ville foreign key(capitale) references Ville(nom)\n",
    ");\n",
    "\n",
    "alter table ville add constraint fk_pays foreign key(pays) references Pays(nom)\n",
    "\"\"\"\n",
    "execute(connection,query,show=True)"
   ]
  },
  {
   "cell_type": "markdown",
   "metadata": {},
   "source": [
    "Interroger le catalogue de données"
   ]
  },
  {
   "cell_type": "code",
   "execution_count": 14,
   "metadata": {
    "tags": []
   },
   "outputs": [
    {
     "name": "stdout",
     "output_type": "stream",
     "text": [
      "*********** Tables ************\n",
      "2 rows\n",
      "|table_name|\n",
      "|-----------\n",
      "|ville     |\n",
      "|pays      |\n",
      "\n",
      "\n",
      "*********** Domaines ************\n",
      "0 rows\n",
      "\n",
      "\n",
      "*********** Attributs ************\n",
      "5 rows\n",
      "|table_name|column_name|data_type        |column_default|is_nullable|character_maximum_length|numeric_precision|\n",
      "|---------------------------------------------------------------------------------------------------------------\n",
      "|ville     |nom        |character varying|None          |NO         |50                      |None             |\n",
      "|ville     |population |numeric          |None          |YES        |None                    |10               |\n",
      "|ville     |pays       |character varying|None          |YES        |50                      |None             |\n",
      "|pays      |nom        |character varying|None          |NO         |50                      |None             |\n",
      "|pays      |capitale   |character varying|None          |YES        |50                      |None             |\n"
     ]
    }
   ],
   "source": [
    "show_schema(connection)"
   ]
  },
  {
   "cell_type": "markdown",
   "metadata": {},
   "source": [
    "#### Insérez la France avec sa capitale Paris (3 millions d'habitants) dans la base de données (deux insertions)."
   ]
  },
  {
   "cell_type": "code",
   "execution_count": 15,
   "metadata": {
    "tags": []
   },
   "outputs": [
    {
     "name": "stdout",
     "output_type": "stream",
     "text": [
      "1 rows\n"
     ]
    },
    {
     "data": {
      "text/plain": [
       "<cursor object at 0x7facc82467c0; closed: -1>"
      ]
     },
     "execution_count": 15,
     "metadata": {},
     "output_type": "execute_result"
    }
   ],
   "source": [
    "query=\"\"\"\n",
    "insert into Pays values('France', null);\n",
    "insert into Ville values('Paris',3000000,'France');\n",
    "update Pays set capitale = 'Paris' where nom = 'France'\n",
    "\"\"\"\n",
    "execute(connection,query,show=True)"
   ]
  },
  {
   "cell_type": "code",
   "execution_count": 16,
   "metadata": {
    "tags": []
   },
   "outputs": [
    {
     "name": "stdout",
     "output_type": "stream",
     "text": [
      "1 rows\n",
      "|nom  |population|pays  |\n",
      "|------------------------\n",
      "|Paris|3000000   |France|\n"
     ]
    },
    {
     "data": {
      "text/plain": [
       "<cursor object at 0x7facc0480040; closed: -1>"
      ]
     },
     "execution_count": 16,
     "metadata": {},
     "output_type": "execute_result"
    }
   ],
   "source": [
    "query=\"\"\"\n",
    "select * from Ville\n",
    "\"\"\"\n",
    "execute(connection,query,show=True)"
   ]
  },
  {
   "cell_type": "code",
   "execution_count": 17,
   "metadata": {
    "tags": []
   },
   "outputs": [
    {
     "name": "stdout",
     "output_type": "stream",
     "text": [
      "1 rows\n",
      "|nom   |capitale|\n",
      "|----------------\n",
      "|France|Paris   |\n"
     ]
    },
    {
     "data": {
      "text/plain": [
       "<cursor object at 0x7facc0480130; closed: -1>"
      ]
     },
     "execution_count": 17,
     "metadata": {},
     "output_type": "execute_result"
    }
   ],
   "source": [
    "query=\"\"\"\n",
    "select * from Pays\n",
    "\"\"\"\n",
    "execute(connection,query,show=True)"
   ]
  },
  {
   "cell_type": "markdown",
   "metadata": {},
   "source": [
    "#### Modifiez le schéma de telle manière que la suppression d'un pays déclenche automatiquement la suppression de toutes les villes du pays."
   ]
  },
  {
   "cell_type": "code",
   "execution_count": 18,
   "metadata": {
    "tags": []
   },
   "outputs": [
    {
     "name": "stdout",
     "output_type": "stream",
     "text": [
      "0 rows\n"
     ]
    },
    {
     "data": {
      "text/plain": [
       "<cursor object at 0x7facc0480400; closed: -1>"
      ]
     },
     "execution_count": 18,
     "metadata": {},
     "output_type": "execute_result"
    }
   ],
   "source": [
    "query=\"\"\"\n",
    "alter table Ville drop constraint fk_pays;\n",
    "alter table Ville add constraint fk_pays foreign key(pays) references Pays(nom) on delete cascade\n",
    "\"\"\"\n",
    "execute(connection,query,show=True)"
   ]
  },
  {
   "cell_type": "markdown",
   "metadata": {},
   "source": [
    "####  Effacez les Pays "
   ]
  },
  {
   "cell_type": "code",
   "execution_count": 19,
   "metadata": {
    "tags": []
   },
   "outputs": [
    {
     "name": "stdout",
     "output_type": "stream",
     "text": [
      "1 rows\n"
     ]
    },
    {
     "data": {
      "text/plain": [
       "<cursor object at 0x7facc0480220; closed: -1>"
      ]
     },
     "execution_count": 19,
     "metadata": {},
     "output_type": "execute_result"
    }
   ],
   "source": [
    "query=\"\"\"\n",
    "DELETE FROM Pays\n",
    "\"\"\"\n",
    "execute(connection,query,show=True)"
   ]
  },
  {
   "cell_type": "code",
   "execution_count": 20,
   "metadata": {
    "tags": []
   },
   "outputs": [
    {
     "name": "stdout",
     "output_type": "stream",
     "text": [
      "0 rows\n"
     ]
    },
    {
     "data": {
      "text/plain": [
       "<cursor object at 0x7facc04804f0; closed: -1>"
      ]
     },
     "execution_count": 20,
     "metadata": {},
     "output_type": "execute_result"
    }
   ],
   "source": [
    "query=\"\"\"\n",
    "select * from Pays\n",
    "\"\"\"\n",
    "execute(connection,query,show=True)"
   ]
  },
  {
   "cell_type": "markdown",
   "metadata": {},
   "source": [
    "#### Exécutez la requête suivante; pourquoi Paris a disparu ?"
   ]
  },
  {
   "cell_type": "code",
   "execution_count": 21,
   "metadata": {
    "tags": []
   },
   "outputs": [
    {
     "name": "stdout",
     "output_type": "stream",
     "text": [
      "0 rows\n"
     ]
    },
    {
     "data": {
      "text/plain": [
       "<cursor object at 0x7facc04805e0; closed: -1>"
      ]
     },
     "execution_count": 21,
     "metadata": {},
     "output_type": "execute_result"
    }
   ],
   "source": [
    "query=\"\"\"\n",
    "select * from Ville\n",
    "\"\"\"\n",
    "execute(connection,query,show=True)"
   ]
  },
  {
   "cell_type": "code",
   "execution_count": 22,
   "metadata": {
    "tags": []
   },
   "outputs": [
    {
     "name": "stdout",
     "output_type": "stream",
     "text": [
      "*********** Tables ************\n",
      "2 rows\n",
      "|table_name|\n",
      "|-----------\n",
      "|ville     |\n",
      "|pays      |\n",
      "\n",
      "\n",
      "*********** Domaines ************\n",
      "0 rows\n",
      "\n",
      "\n",
      "*********** Attributs ************\n",
      "5 rows\n",
      "|table_name|column_name|data_type        |column_default|is_nullable|character_maximum_length|numeric_precision|\n",
      "|---------------------------------------------------------------------------------------------------------------\n",
      "|ville     |nom        |character varying|None          |NO         |50                      |None             |\n",
      "|ville     |population |numeric          |None          |YES        |None                    |10               |\n",
      "|ville     |pays       |character varying|None          |YES        |50                      |None             |\n",
      "|pays      |nom        |character varying|None          |NO         |50                      |None             |\n",
      "|pays      |capitale   |character varying|None          |YES        |50                      |None             |\n"
     ]
    }
   ],
   "source": [
    "show_schema(connection)"
   ]
  },
  {
   "cell_type": "markdown",
   "metadata": {
    "tags": []
   },
   "source": [
    "### MISE À JOUR DE TABLES"
   ]
  },
  {
   "cell_type": "markdown",
   "metadata": {},
   "source": [
    "Considérer le schéma Entreprise du TD précédent rappelé ici :\n",
    "\n",
    "- EMPLOYE (<u>NumSS</u>, NomE, PrenomE, NumChef*, VilleE, DateNaiss) \n",
    "- PROJET(<u>NumProj</u>, NomProj, RespProj*, VilleP, Budget) \n",
    "- EMBAUCHE (<u>NumSS*, NumProj*</u>, DateEmb, Profil*) \n",
    "- GRILLE_SAL (<u>Profil</u>, salaire)\n",
    "\n",
    "La clé primaire de chaque relation est soulignée et les attributs des clés étrangères sont suivis d’un astérisque. Cette base contient des informations sur des employés et sur les projets dans lesquels ils sont impliqués. Ces employés sont embauchés dans un projet sur un profil donné et perçoivent un salaire en fonction de ce profil. Le chef d'un employé dans la table Employé et le chef d'un projet dans la table Projet sont des employés.\n",
    "\n",
    "Le but de cet exercice est d'exprimer des instructions permettant d'insérer, de modifier et de supprimer des nuplets.\n",
    "\n",
    "Dire à chaque fois si l'instruction exprimée est acceptée ou rejetée par le système en justifiant."
   ]
  },
  {
   "cell_type": "code",
   "execution_count": 23,
   "metadata": {
    "tags": []
   },
   "outputs": [
    {
     "name": "stdout",
     "output_type": "stream",
     "text": [
      "0 rows\n",
      "0 rows\n"
     ]
    }
   ],
   "source": [
    "schemafile=open(\"TME9-creations-H2.sql\",mode=\"r\",encoding='utf-8')\n",
    "create_schema=schemafile.read()\n",
    "execute(connection,\"drop all objects\")\n",
    "execute(connection, create_schema)\n",
    "connection.commit()"
   ]
  },
  {
   "cell_type": "code",
   "execution_count": 24,
   "metadata": {
    "tags": []
   },
   "outputs": [
    {
     "name": "stdout",
     "output_type": "stream",
     "text": [
      "*********** Tables ************\n",
      "4 rows\n",
      "|table_name|\n",
      "|-----------\n",
      "|embauche  |\n",
      "|employe   |\n",
      "|projet    |\n",
      "|grille_sal|\n",
      "\n",
      "\n",
      "*********** Domaines ************\n",
      "5 rows\n",
      "|domain_name|check_clause                                 |\n",
      "|----------------------------------------------------------\n",
      "|dsal       |VALUE <= 90000                               |\n",
      "|ddatenaiss |DATEDIFF(YEAR, VALUE, CURRENT_DATE) <= 70    |\n",
      "|dvilles    |LOWER(VALUE) IN('paris', 'lyon', 'marseille')|\n",
      "|dnumproj   |CHAR_LENGTH(VALUE) >= 5                      |\n",
      "|dnumss     |CHAR_LENGTH(VALUE) = 5                       |\n",
      "\n",
      "\n",
      "*********** Attributs ************\n",
      "17 rows\n",
      "|table_name|column_name|data_type        |column_default|is_nullable|character_maximum_length|numeric_precision|\n",
      "|---------------------------------------------------------------------------------------------------------------\n",
      "|embauche  |numss      |numeric          |None          |NO         |None                    |5                |\n",
      "|embauche  |numproj    |numeric          |None          |NO         |None                    |7                |\n",
      "|embauche  |dateemb    |date             |None          |YES        |None                    |None             |\n",
      "|embauche  |profil     |character varying|None          |NO         |20                      |None             |\n",
      "|employe   |numss      |numeric          |None          |NO         |None                    |5                |\n",
      "|employe   |nome       |character varying|None          |YES        |20                      |None             |\n",
      "|employe   |prenome    |character varying|None          |YES        |20                      |None             |\n",
      "|employe   |numchef    |numeric          |None          |YES        |None                    |5                |\n",
      "|employe   |villee     |character varying|None          |YES        |9                       |None             |\n",
      "|employe   |datenaiss  |date             |None          |YES        |None                    |None             |\n",
      "|projet    |numproj    |numeric          |None          |NO         |None                    |7                |\n",
      "|projet    |nomproj    |character varying|None          |YES        |20                      |None             |\n",
      "|projet    |respproj   |numeric          |None          |YES        |None                    |5                |\n",
      "|projet    |villep     |character varying|None          |YES        |9                       |None             |\n",
      "|projet    |budget     |numeric          |None          |YES        |None                    |6                |\n",
      "|grille_sal|profil     |character varying|None          |NO         |20                      |None             |\n",
      "|grille_sal|salaire    |numeric          |None          |YES        |None                    |7                |\n"
     ]
    }
   ],
   "source": [
    "show_schema(connection)"
   ]
  },
  {
   "cell_type": "markdown",
   "metadata": {
    "tags": []
   },
   "source": [
    "#### INSERTIONS"
   ]
  },
  {
   "cell_type": "markdown",
   "metadata": {},
   "source": [
    "##### Insérer l'employé identifié par '12456' qui se prénomme 'Alain'.\n"
   ]
  },
  {
   "cell_type": "code",
   "execution_count": 25,
   "metadata": {
    "tags": []
   },
   "outputs": [
    {
     "name": "stdout",
     "output_type": "stream",
     "text": [
      "1 rows\n"
     ]
    },
    {
     "data": {
      "text/plain": [
       "<cursor object at 0x7facc8246c70; closed: -1>"
      ]
     },
     "execution_count": 25,
     "metadata": {},
     "output_type": "execute_result"
    }
   ],
   "source": [
    "query=\"\"\"\n",
    "insert into employe(numss, prenomE) values(12456, 'Alain')\n",
    "\"\"\"\n",
    "execute(connection,query,show=True)"
   ]
  },
  {
   "cell_type": "markdown",
   "metadata": {},
   "source": [
    "##### Insérer l'employée identifiée par '21456' qui s'appelle 'LARS Anna', qui habite 'Paris' et qui est née le 25-08-1975."
   ]
  },
  {
   "cell_type": "code",
   "execution_count": 26,
   "metadata": {
    "tags": []
   },
   "outputs": [
    {
     "name": "stdout",
     "output_type": "stream",
     "text": [
      "1 rows\n"
     ]
    },
    {
     "data": {
      "text/plain": [
       "<cursor object at 0x7facc04806d0; closed: -1>"
      ]
     },
     "execution_count": 26,
     "metadata": {},
     "output_type": "execute_result"
    }
   ],
   "source": [
    "query=\"\"\"\n",
    "insert into employe(numss, nomE, prenomE, villeE, dateNaiss) values(21456, 'LARS', 'Anna', 'Paris', parsedatetime('25-08-1975', 'dd-MM-yyyy'))\n",
    "\"\"\"\n",
    "execute(connection,query,show=True)"
   ]
  },
  {
   "cell_type": "markdown",
   "metadata": {},
   "source": [
    "##### Insérer le projet numéro '78143' dénommé 'ORCA' qui s'opère sous la responsabilité de 'Lars Anna' à Paris et qui a pour budget 250 000 euros."
   ]
  },
  {
   "cell_type": "code",
   "execution_count": 27,
   "metadata": {
    "tags": []
   },
   "outputs": [
    {
     "name": "stdout",
     "output_type": "stream",
     "text": [
      "1 rows\n"
     ]
    },
    {
     "data": {
      "text/plain": [
       "<cursor object at 0x7facc04807c0; closed: -1>"
      ]
     },
     "execution_count": 27,
     "metadata": {},
     "output_type": "execute_result"
    }
   ],
   "source": [
    "query=\"\"\"\n",
    "insert into projet values(78143, 'ORCA', 21456, 'Paris', 250000)\n",
    "\"\"\"\n",
    "execute(connection,query,show=True)"
   ]
  },
  {
   "cell_type": "markdown",
   "metadata": {},
   "source": [
    "##### Renseigner dans la base les salaires correspondants aux profils suivants : ('Responsable',80000), ('Développeur', 45000), ('Technicien',35000)"
   ]
  },
  {
   "cell_type": "code",
   "execution_count": 29,
   "metadata": {
    "tags": []
   },
   "outputs": [
    {
     "name": "stdout",
     "output_type": "stream",
     "text": [
      "1 rows\n"
     ]
    },
    {
     "data": {
      "text/plain": [
       "<cursor object at 0x7facc0480a90; closed: -1>"
      ]
     },
     "execution_count": 29,
     "metadata": {},
     "output_type": "execute_result"
    }
   ],
   "source": [
    "query=\"\"\"\n",
    "insert into grille_sal values ('Responsable',80000);\n",
    "insert into grille_sal values ('Développeur', 45000); \n",
    "insert into grille_sal values ('Technicien',35000)\n",
    "\"\"\"\n",
    "execute(connection,query,show=True)"
   ]
  },
  {
   "cell_type": "markdown",
   "metadata": {},
   "source": [
    "##### Renseigner dans la base le fait que 'Alain' a été embauché dans le projet 'ORCA' en tant que testeur en date du 01-04-2014."
   ]
  },
  {
   "cell_type": "code",
   "execution_count": 35,
   "metadata": {
    "tags": []
   },
   "outputs": [
    {
     "name": "stdout",
     "output_type": "stream",
     "text": [
      "1 rows\n"
     ]
    },
    {
     "data": {
      "text/plain": [
       "<cursor object at 0x7facc0480d60; closed: -1>"
      ]
     },
     "execution_count": 35,
     "metadata": {},
     "output_type": "execute_result"
    }
   ],
   "source": [
    "query=\"\"\"\n",
    "insert into grille_sal values ('Testeur',null);\n",
    "insert into embauche values (12456, 78143, PARSEDATETIME('01-04-2014', 'dd-MM-yyyy'),'Testeur')\n",
    "\"\"\"\n",
    "execute(connection,query,show=True)"
   ]
  },
  {
   "cell_type": "markdown",
   "metadata": {},
   "source": [
    "##### Renseigner dans la base le fait que 'LARS Anna' fut embauchée dans le projet 'MEDUSA' en date du 28-02-2012 en tant que 'Développeur'."
   ]
  },
  {
   "cell_type": "code",
   "execution_count": 37,
   "metadata": {
    "tags": []
   },
   "outputs": [
    {
     "name": "stdout",
     "output_type": "stream",
     "text": [
      "1 rows\n"
     ]
    },
    {
     "data": {
      "text/plain": [
       "<cursor object at 0x7facc0495040; closed: -1>"
      ]
     },
     "execution_count": 37,
     "metadata": {},
     "output_type": "execute_result"
    }
   ],
   "source": [
    "query=\"\"\"\n",
    "insert into projet values(78144, 'MEDUSA', 21456, 'Paris', 250000);\n",
    "insert into embauche values (21456, 78144, PARSEDATETIME('28-02-2012', 'dd-MM-yyyy'),'Développeur')\n",
    "\"\"\"\n",
    "execute(connection,query,show=True)"
   ]
  },
  {
   "cell_type": "markdown",
   "metadata": {
    "tags": []
   },
   "source": [
    "#### SUPPRESSIONS"
   ]
  },
  {
   "cell_type": "markdown",
   "metadata": {},
   "source": [
    "##### Supprimer les employés de plus de 67 ans"
   ]
  },
  {
   "cell_type": "code",
   "execution_count": 39,
   "metadata": {
    "tags": []
   },
   "outputs": [
    {
     "name": "stdout",
     "output_type": "stream",
     "text": [
      "0 rows\n"
     ]
    },
    {
     "data": {
      "text/plain": [
       "<cursor object at 0x7facc0495130; closed: -1>"
      ]
     },
     "execution_count": 39,
     "metadata": {},
     "output_type": "execute_result"
    }
   ],
   "source": [
    "query=\"\"\"\n",
    "delete from employe where datediff(year,datenaiss, current_date)>67 \n",
    "\"\"\"\n",
    "execute(connection,query,show=True)"
   ]
  },
  {
   "cell_type": "markdown",
   "metadata": {},
   "source": [
    "##### Supprimer les employés prénommés 'Alain'"
   ]
  },
  {
   "cell_type": "code",
   "execution_count": 44,
   "metadata": {
    "tags": []
   },
   "outputs": [
    {
     "name": "stdout",
     "output_type": "stream",
     "text": [
      "1 rows\n"
     ]
    },
    {
     "data": {
      "text/plain": [
       "<cursor object at 0x7facc0480c70; closed: -1>"
      ]
     },
     "execution_count": 44,
     "metadata": {},
     "output_type": "execute_result"
    }
   ],
   "source": [
    "query=\"\"\"\n",
    "alter table embauche drop constraint fk_emb_emp;\n",
    "alter table embauche add constraint fk_emb_emp foreign key(numss) REFERENCES employe(numss) on delete cascade on update cascade;\n",
    "delete from employe where prenome = 'Alain'\n",
    "\"\"\"\n",
    "execute(connection,query,show=True)"
   ]
  },
  {
   "cell_type": "markdown",
   "metadata": {},
   "source": [
    "##### Supprimer l'employée 'LARS Anna'"
   ]
  },
  {
   "cell_type": "code",
   "execution_count": 46,
   "metadata": {
    "tags": []
   },
   "outputs": [
    {
     "name": "stdout",
     "output_type": "stream",
     "text": [
      "0 rows\n"
     ]
    },
    {
     "data": {
      "text/plain": [
       "<cursor object at 0x7facc0495220; closed: -1>"
      ]
     },
     "execution_count": 46,
     "metadata": {},
     "output_type": "execute_result"
    }
   ],
   "source": [
    "query=\"\"\"\n",
    "delete from employe where nome = 'LARS' and prenome = 'Alain'\n",
    "\"\"\"\n",
    "execute(connection,query,show=True)"
   ]
  },
  {
   "cell_type": "markdown",
   "metadata": {},
   "source": [
    "##### Supprimer les employés embauchés lors de la dernière année."
   ]
  },
  {
   "cell_type": "code",
   "execution_count": 48,
   "metadata": {
    "tags": []
   },
   "outputs": [
    {
     "name": "stdout",
     "output_type": "stream",
     "text": [
      "1 rows\n"
     ]
    },
    {
     "data": {
      "text/plain": [
       "<cursor object at 0x7facc0495400; closed: -1>"
      ]
     },
     "execution_count": 48,
     "metadata": {},
     "output_type": "execute_result"
    }
   ],
   "source": [
    "query=\"\"\"\n",
    "alter table projet drop constraint fk_resp;\n",
    "alter table projet add constraint fk_resp foreign key(respproj) REFERENCES employe(numss) on delete set null on update cascade;\n",
    "delete from employe where numss = any (select numss from embauche where datediff(year, dateemb,current_date)>0)\n",
    "\"\"\"\n",
    "execute(connection,query,show=True)"
   ]
  },
  {
   "cell_type": "markdown",
   "metadata": {},
   "source": [
    "##### Supprimer les projets dont la proportion des salaires dépasse la moitié du budget."
   ]
  },
  {
   "cell_type": "code",
   "execution_count": 49,
   "metadata": {
    "tags": []
   },
   "outputs": [
    {
     "name": "stdout",
     "output_type": "stream",
     "text": [
      "0 rows\n"
     ]
    },
    {
     "data": {
      "text/plain": [
       "<cursor object at 0x7facc04957c0; closed: -1>"
      ]
     },
     "execution_count": 49,
     "metadata": {},
     "output_type": "execute_result"
    }
   ],
   "source": [
    "query=\"\"\"\n",
    "delete from projet p where (select sum(salaire) from embauche emb, grille_sal g where emb.numproj = p.numproj and g.profil = emb.profil)\n",
    "\"\"\"\n",
    "execute(connection,query,show=True)"
   ]
  },
  {
   "cell_type": "markdown",
   "metadata": {
    "tags": []
   },
   "source": [
    "#### MISES À JOUR"
   ]
  },
  {
   "cell_type": "markdown",
   "metadata": {},
   "source": [
    "##### Désormais on connait que l'employé Alain porte le nom BERNARD. Répercuter cette information."
   ]
  },
  {
   "cell_type": "code",
   "execution_count": 51,
   "metadata": {
    "tags": []
   },
   "outputs": [
    {
     "name": "stdout",
     "output_type": "stream",
     "text": [
      "0 rows\n"
     ]
    },
    {
     "data": {
      "text/plain": [
       "<cursor object at 0x7facc04958b0; closed: -1>"
      ]
     },
     "execution_count": 51,
     "metadata": {},
     "output_type": "execute_result"
    }
   ],
   "source": [
    "query=\"\"\"\n",
    "select * from employe\n",
    "\"\"\"\n",
    "execute(connection,query,show=True)"
   ]
  },
  {
   "cell_type": "markdown",
   "metadata": {},
   "source": [
    "##### L'employée LARS Anna est promue à la tête du projet identifié par 99245. Elle doit d'abord déménager avant de prendre ses responsabilités. Donner l'instruction qui modifie la ville de cette employée. On suppose qu'il existe un nuplet dans la table Projet avec les données suivantes : (99245,'MEDUSA',null,'Lyon',350000)"
   ]
  },
  {
   "cell_type": "code",
   "execution_count": null,
   "metadata": {},
   "outputs": [],
   "source": [
    "query=\"\"\"\n",
    "\n",
    "\"\"\"\n",
    "execute(connection,query,show=True)"
   ]
  },
  {
   "cell_type": "markdown",
   "metadata": {},
   "source": [
    "##### Le budget de chaque projet équivaut au double des salaires de ses employés. Donner une instruction qui modifie les budgets des projets en conséquence."
   ]
  },
  {
   "cell_type": "code",
   "execution_count": null,
   "metadata": {},
   "outputs": [],
   "source": [
    "query=\"\"\"\n",
    "\n",
    "\"\"\"\n",
    "execute(connection,query,show=True)"
   ]
  },
  {
   "cell_type": "markdown",
   "metadata": {
    "tags": []
   },
   "source": [
    "## Exercice TME: partie 1\n"
   ]
  },
  {
   "cell_type": "code",
   "execution_count": 52,
   "metadata": {
    "tags": []
   },
   "outputs": [
    {
     "name": "stdout",
     "output_type": "stream",
     "text": [
      "0 rows\n",
      "0 rows\n",
      "0 rows\n"
     ]
    }
   ],
   "source": [
    "schemafile=open(\"TME9-creations-H2.sql\",mode=\"r\",encoding='utf-8')\n",
    "datafile=open(\"TME9-insertions-H2.sql\",mode=\"r\",encoding='utf-8')\n",
    "create_schema=schemafile.read()\n",
    "insert_data=datafile.read()\n",
    "execute(connection,\"drop all objects\")\n",
    "execute(connection, create_schema)\n",
    "execute(connection, insert_data)\n",
    "connection.commit()"
   ]
  },
  {
   "cell_type": "code",
   "execution_count": 53,
   "metadata": {
    "tags": []
   },
   "outputs": [
    {
     "name": "stdout",
     "output_type": "stream",
     "text": [
      "*********** Tables ************\n",
      "4 rows\n",
      "|table_name|\n",
      "|-----------\n",
      "|embauche  |\n",
      "|employe   |\n",
      "|projet    |\n",
      "|grille_sal|\n",
      "\n",
      "\n",
      "*********** Domaines ************\n",
      "5 rows\n",
      "|domain_name|check_clause                                 |\n",
      "|----------------------------------------------------------\n",
      "|dsal       |VALUE <= 90000                               |\n",
      "|ddatenaiss |DATEDIFF(YEAR, VALUE, CURRENT_DATE) <= 70    |\n",
      "|dvilles    |LOWER(VALUE) IN('paris', 'lyon', 'marseille')|\n",
      "|dnumproj   |CHAR_LENGTH(VALUE) >= 5                      |\n",
      "|dnumss     |CHAR_LENGTH(VALUE) = 5                       |\n",
      "\n",
      "\n",
      "*********** Attributs ************\n",
      "17 rows\n",
      "|table_name|column_name|data_type        |column_default|is_nullable|character_maximum_length|numeric_precision|\n",
      "|---------------------------------------------------------------------------------------------------------------\n",
      "|embauche  |numss      |numeric          |None          |NO         |None                    |5                |\n",
      "|embauche  |numproj    |numeric          |None          |NO         |None                    |7                |\n",
      "|embauche  |dateemb    |date             |None          |YES        |None                    |None             |\n",
      "|embauche  |profil     |character varying|None          |NO         |20                      |None             |\n",
      "|employe   |numss      |numeric          |None          |NO         |None                    |5                |\n",
      "|employe   |nome       |character varying|None          |YES        |20                      |None             |\n",
      "|employe   |prenome    |character varying|None          |YES        |20                      |None             |\n",
      "|employe   |numchef    |numeric          |None          |YES        |None                    |5                |\n",
      "|employe   |villee     |character varying|None          |YES        |9                       |None             |\n",
      "|employe   |datenaiss  |date             |None          |YES        |None                    |None             |\n",
      "|projet    |numproj    |numeric          |None          |NO         |None                    |7                |\n",
      "|projet    |nomproj    |character varying|None          |YES        |20                      |None             |\n",
      "|projet    |respproj   |numeric          |None          |YES        |None                    |5                |\n",
      "|projet    |villep     |character varying|None          |YES        |9                       |None             |\n",
      "|projet    |budget     |numeric          |None          |YES        |None                    |6                |\n",
      "|grille_sal|profil     |character varying|None          |NO         |20                      |None             |\n",
      "|grille_sal|salaire    |numeric          |None          |YES        |None                    |7                |\n"
     ]
    }
   ],
   "source": [
    "show_schema(connection)"
   ]
  },
  {
   "cell_type": "markdown",
   "metadata": {
    "tags": []
   },
   "source": [
    "### Insertions rejetées (voir TME8)"
   ]
  },
  {
   "cell_type": "markdown",
   "metadata": {
    "tags": []
   },
   "source": [
    "#### Proposer une insertion dans la table Employé qui ne respecte pas la contrainte de clé primaire."
   ]
  },
  {
   "cell_type": "code",
   "execution_count": null,
   "metadata": {
    "tags": []
   },
   "outputs": [],
   "source": [
    "query=\"\"\"\n",
    "\n",
    "\"\"\"\n",
    "execute(connection,query,show=True)"
   ]
  },
  {
   "cell_type": "markdown",
   "metadata": {
    "tags": []
   },
   "source": [
    "#### Proposer une insertion dans la table Employe qui ne respecte pas la contrainte de limite d'âge."
   ]
  },
  {
   "cell_type": "code",
   "execution_count": null,
   "metadata": {},
   "outputs": [],
   "source": [
    "query=\"\"\"\n",
    "\n",
    "\"\"\"\n",
    "execute(connection,query,show=True)"
   ]
  },
  {
   "cell_type": "markdown",
   "metadata": {
    "tags": []
   },
   "source": [
    "#### Proposer une insertion dans la table Employe qui ne respecte pas la contrainte de longueur de l'attribut NumSS."
   ]
  },
  {
   "cell_type": "code",
   "execution_count": null,
   "metadata": {},
   "outputs": [],
   "source": [
    "query=\"\"\"\n",
    "\n",
    "\"\"\"\n",
    "execute(connection,query,show=True)"
   ]
  },
  {
   "cell_type": "markdown",
   "metadata": {
    "tags": []
   },
   "source": [
    "#### Proposer une insertion dans la table Employe qui ne respecte pas la contrainte sur les villes possibles."
   ]
  },
  {
   "cell_type": "code",
   "execution_count": null,
   "metadata": {},
   "outputs": [],
   "source": [
    "query=\"\"\"\n",
    "\n",
    "\"\"\"\n",
    "execute(connection,query,show=True)"
   ]
  },
  {
   "cell_type": "markdown",
   "metadata": {
    "tags": []
   },
   "source": [
    "#### Insérer dans la table Employé deux employés avec le même nom et le même prénom."
   ]
  },
  {
   "cell_type": "code",
   "execution_count": null,
   "metadata": {},
   "outputs": [],
   "source": [
    "query=\"\"\"\n",
    "\n",
    "\"\"\"\n",
    "execute(connection,query,show=True)"
   ]
  },
  {
   "cell_type": "markdown",
   "metadata": {
    "tags": []
   },
   "source": [
    "#### Proposer une insertion dans la table Grille_SAL qui ne respecte pas la contrainte sur le salaire qui ne doit pas dépasser 90 000."
   ]
  },
  {
   "cell_type": "code",
   "execution_count": null,
   "metadata": {},
   "outputs": [],
   "source": [
    "query=\"\"\"\n",
    "\n",
    "\"\"\"\n",
    "execute(connection,query,show=True)"
   ]
  },
  {
   "cell_type": "markdown",
   "metadata": {
    "tags": []
   },
   "source": [
    "#### Proposer une insertion dans la table Projet qui ne respecte pas la contrainte référentielle vers Employe : insérer un responsable de projet qui n'est pas dans la table Employé"
   ]
  },
  {
   "cell_type": "code",
   "execution_count": null,
   "metadata": {},
   "outputs": [],
   "source": [
    "query=\"\"\"\n",
    "\n",
    "\"\"\"\n",
    "execute(connection,query,show=True)"
   ]
  },
  {
   "cell_type": "markdown",
   "metadata": {
    "tags": []
   },
   "source": [
    "#### Proposer une insertion dans la table Embauche qui ne respecte pas une des contraintes référentielles : par exemple, associer un employé existant à un projet qui n'existe pas."
   ]
  },
  {
   "cell_type": "code",
   "execution_count": null,
   "metadata": {},
   "outputs": [],
   "source": [
    "query=\"\"\"\n",
    "\n",
    "\"\"\"\n",
    "execute(connection,query,show=True)"
   ]
  },
  {
   "cell_type": "markdown",
   "metadata": {
    "tags": []
   },
   "source": [
    "### Suppressions rejetées"
   ]
  },
  {
   "cell_type": "code",
   "execution_count": 62,
   "metadata": {
    "tags": []
   },
   "outputs": [
    {
     "name": "stdout",
     "output_type": "stream",
     "text": [
      "0 rows\n",
      "0 rows\n",
      "0 rows\n"
     ]
    }
   ],
   "source": [
    "schemafile=open(\"TME9-creations-H2.sql\",mode=\"r\",encoding='utf-8')\n",
    "datafile=open(\"TME9-insertions-H2.sql\",mode=\"r\",encoding='utf-8')\n",
    "create_schema=schemafile.read()\n",
    "insert_data=datafile.read()\n",
    "execute(connection,\"drop all objects\")\n",
    "execute(connection, create_schema)\n",
    "execute(connection, insert_data)\n",
    "connection.commit()"
   ]
  },
  {
   "cell_type": "code",
   "execution_count": 55,
   "metadata": {},
   "outputs": [
    {
     "name": "stdout",
     "output_type": "stream",
     "text": [
      "10 rows\n",
      "|numss|nome     |prenome|numchef|villee   |datenaiss |\n",
      "|-----------------------------------------------------\n",
      "|22334|Adam     |Funk   |22334  |Paris    |1982-12-01|\n",
      "|45566|Rachid   |Allaoui|22334  |Lyon     |1986-04-13|\n",
      "|77889|Florent  |Girac  |45566  |Marseille|1990-11-04|\n",
      "|90011|Mayla    |Aoun   |22334  |Lyon     |1987-03-26|\n",
      "|22233|Christine|Lara   |45566  |Paris    |1982-08-09|\n",
      "|34445|Amel     |Orlando|22334  |Lyon     |1976-02-14|\n",
      "|55666|Mohsen   |Charef |45566  |Paris    |1991-05-28|\n",
      "|77788|Tim      |Arabi  |22334  |Marseille|1984-06-08|\n",
      "|89990|Fernando |Lopez  |45566  |Lyon     |1993-10-05|\n",
      "|11122|Ada      |Tan Lee|22334  |Marseille|1994-03-21|\n"
     ]
    },
    {
     "data": {
      "text/plain": [
       "<cursor object at 0x7facc04959a0; closed: -1>"
      ]
     },
     "execution_count": 55,
     "metadata": {},
     "output_type": "execute_result"
    }
   ],
   "source": [
    "query=\"\"\"\n",
    "select * from Employe e\n",
    "\"\"\"\n",
    "execute(connection,query,show=True)"
   ]
  },
  {
   "cell_type": "markdown",
   "metadata": {},
   "source": [
    "#### Proposer une suppression de nuplets de Employe qui respecte les contraintes d'intégrité."
   ]
  },
  {
   "cell_type": "code",
   "execution_count": 56,
   "metadata": {
    "tags": []
   },
   "outputs": [
    {
     "name": "stdout",
     "output_type": "stream",
     "text": [
      "1 rows\n"
     ]
    },
    {
     "data": {
      "text/plain": [
       "<cursor object at 0x7facc0495310; closed: -1>"
      ]
     },
     "execution_count": 56,
     "metadata": {},
     "output_type": "execute_result"
    }
   ],
   "source": [
    "query=\"\"\"\n",
    "delete from employe where numss=11122\n",
    "\"\"\"\n",
    "execute(connection,query,show=True)"
   ]
  },
  {
   "cell_type": "markdown",
   "metadata": {},
   "source": [
    "#### Proposer une suppression de nuplets de Employe qui ne respecte pas une contrainte référentielle d'une autre table. Précisez laquelle puis essayer de contourner les contraintes jusqu'à pouvoir supprimer l'Employe référencé."
   ]
  },
  {
   "cell_type": "code",
   "execution_count": 57,
   "metadata": {
    "tags": []
   },
   "outputs": [
    {
     "name": "stdout",
     "output_type": "stream",
     "text": [
      "The error 'Intégrité référentielle violation de contrainte: \"fk_chef: public.employe FOREIGN KEY(numchef) REFERENCES public.employe(numss) (CAST(22334 AS NUMERIC(5)))\"\n",
      "Referential integrity constraint violation: \"fk_chef: public.employe FOREIGN KEY(numchef) REFERENCES public.employe(numss) (CAST(22334 AS NUMERIC(5)))\"; SQL statement:\n",
      "\n",
      "delete from employe where numss=2233 [23503-214]\n",
      "DETAIL:  org.h2.jdbc.JdbcSQLIntegrityConstraintViolationException: Intégrité référentielle violation de contrainte: \"fk_chef: public.employe FOREIGN KEY(numchef) REFERENCES public.employe(numss) (CAST(22334 AS NUMERIC(5)))\"\n",
      "Referential integrity constraint violation: \"fk_chef: public.employe FOREIGN KEY(numchef) REFERENCES public.employe(numss) (CAST(22334 AS NUMERIC(5)))\"; SQL statement:\n",
      "\n",
      "delete from employe where numss=2233 [23503-214]\n",
      "' occurred\n"
     ]
    }
   ],
   "source": [
    "query=\"\"\"\n",
    "delete from employe where numss=22334\n",
    "\"\"\"\n",
    "execute(connection,query,show=True)"
   ]
  },
  {
   "cell_type": "markdown",
   "metadata": {},
   "source": [
    "#### Même question pour Projet."
   ]
  },
  {
   "cell_type": "code",
   "execution_count": 59,
   "metadata": {},
   "outputs": [
    {
     "name": "stdout",
     "output_type": "stream",
     "text": [
      "0 rows\n"
     ]
    },
    {
     "data": {
      "text/plain": [
       "<cursor object at 0x7facc0495a90; closed: -1>"
      ]
     },
     "execution_count": 59,
     "metadata": {},
     "output_type": "execute_result"
    }
   ],
   "source": [
    "query=\"\"\"\n",
    "delete from Projet where numProj = 12333;\n",
    "\"\"\"\n",
    "execute(connection,query,show=True)"
   ]
  },
  {
   "cell_type": "markdown",
   "metadata": {},
   "source": [
    "#### Même question pour Grille_sal."
   ]
  },
  {
   "cell_type": "code",
   "execution_count": 61,
   "metadata": {},
   "outputs": [
    {
     "name": "stdout",
     "output_type": "stream",
     "text": [
      "0 rows\n"
     ]
    },
    {
     "data": {
      "text/plain": [
       "<cursor object at 0x7facc04955e0; closed: -1>"
      ]
     },
     "execution_count": 61,
     "metadata": {},
     "output_type": "execute_result"
    }
   ],
   "source": [
    "query=\"\"\"\n",
    "delete from Grille_Sal where profil = 'Admin';\n",
    "\"\"\"\n",
    "execute(connection,query,show=True)"
   ]
  },
  {
   "cell_type": "markdown",
   "metadata": {},
   "source": [
    "#### Est-ce possible de supprimer les nuplets de Embauche sans rencontrer les mêmes problèmes que précédemment ?"
   ]
  },
  {
   "cell_type": "code",
   "execution_count": null,
   "metadata": {},
   "outputs": [],
   "source": [
    "query=\"\"\"\n",
    "\n",
    "\"\"\"\n",
    "execute(connection,query,show=True)"
   ]
  },
  {
   "cell_type": "markdown",
   "metadata": {
    "tags": []
   },
   "source": [
    "### Mises à jour rejetées"
   ]
  },
  {
   "cell_type": "markdown",
   "metadata": {},
   "source": [
    "#### Proposez un mise à jour de Employe qui ne respecte pas les contraintes référentielles puis tenter de trouver une mise-a-jour qui les respecte toutes."
   ]
  },
  {
   "cell_type": "code",
   "execution_count": 63,
   "metadata": {
    "tags": []
   },
   "outputs": [
    {
     "name": "stdout",
     "output_type": "stream",
     "text": [
      "The error 'Intégrité référentielle violation de contrainte: \"fk_chef: public.employe FOREIGN KEY(numchef) REFERENCES public.employe(numss) (CAST(22334 AS NUMERIC(5)))\"\n",
      "Referential integrity constraint violation: \"fk_chef: public.employe FOREIGN KEY(numchef) REFERENCES public.employe(numss) (CAST(22334 AS NUMERIC(5)))\"; SQL statement:\n",
      "\n",
      "update Employe set numSS = 12345 where numSS = 2233 [23503-214]\n",
      "DETAIL:  org.h2.jdbc.JdbcSQLIntegrityConstraintViolationException: Intégrité référentielle violation de contrainte: \"fk_chef: public.employe FOREIGN KEY(numchef) REFERENCES public.employe(numss) (CAST(22334 AS NUMERIC(5)))\"\n",
      "Referential integrity constraint violation: \"fk_chef: public.employe FOREIGN KEY(numchef) REFERENCES public.employe(numss) (CAST(22334 AS NUMERIC(5)))\"; SQL statement:\n",
      "\n",
      "update Employe set numSS = 12345 where numSS = 2233 [23503-214]\n",
      "' occurred\n"
     ]
    }
   ],
   "source": [
    "query=\"\"\"\n",
    "update Employe set numSS = 12345 where numSS = 22334\n",
    "\"\"\"\n",
    "execute(connection,query,show=True)"
   ]
  },
  {
   "cell_type": "code",
   "execution_count": 64,
   "metadata": {
    "tags": []
   },
   "outputs": [
    {
     "name": "stdout",
     "output_type": "stream",
     "text": [
      "0 rows\n"
     ]
    },
    {
     "data": {
      "text/plain": [
       "<cursor object at 0x7facc0495c70; closed: -1>"
      ]
     },
     "execution_count": 64,
     "metadata": {},
     "output_type": "execute_result"
    }
   ],
   "source": [
    "query=\"\"\"\n",
    "update Employe set numSS = 34445 where numSS = 97332\n",
    "\"\"\"\n",
    "execute(connection,query,show=True)"
   ]
  },
  {
   "cell_type": "markdown",
   "metadata": {},
   "source": [
    "#### Même question avec Projet."
   ]
  },
  {
   "cell_type": "code",
   "execution_count": 65,
   "metadata": {
    "tags": []
   },
   "outputs": [
    {
     "name": "stdout",
     "output_type": "stream",
     "text": [
      "0 rows\n"
     ]
    },
    {
     "data": {
      "text/plain": [
       "<cursor object at 0x7facc0495d60; closed: -1>"
      ]
     },
     "execution_count": 65,
     "metadata": {},
     "output_type": "execute_result"
    }
   ],
   "source": [
    "query=\"\"\"\n",
    "update Projet set numProj = 80066 where numProj = 12333\n",
    "\"\"\"\n",
    "execute(connection,query,show=True)"
   ]
  },
  {
   "cell_type": "markdown",
   "metadata": {},
   "source": [
    "#### Proposez une mise-a-jour de Projet qui ne respecte pas la contrainte resprojet selon laquelle le responsable d'un projet habite la ville du projet dont il est responsable."
   ]
  },
  {
   "cell_type": "code",
   "execution_count": 66,
   "metadata": {
    "tags": []
   },
   "outputs": [
    {
     "name": "stdout",
     "output_type": "stream",
     "text": [
      "0 rows\n"
     ]
    },
    {
     "data": {
      "text/plain": [
       "<cursor object at 0x7facc0495e50; closed: -1>"
      ]
     },
     "execution_count": 66,
     "metadata": {},
     "output_type": "execute_result"
    }
   ],
   "source": [
    "query=\"\"\"\n",
    "update Projet set villeP = 'Marseille' where numProj = 12333\n",
    "\"\"\"\n",
    "execute(connection,query,show=True)"
   ]
  },
  {
   "cell_type": "markdown",
   "metadata": {},
   "source": [
    "#### Proposez une mise-a-jour de profil dans Grille_sal qui ne respecte pas les contraintes référentielles."
   ]
  },
  {
   "cell_type": "code",
   "execution_count": 67,
   "metadata": {
    "tags": []
   },
   "outputs": [
    {
     "name": "stdout",
     "output_type": "stream",
     "text": [
      "The error 'Intégrité référentielle violation de contrainte: \"fk_emb_sal: public.embauche FOREIGN KEY(profil) REFERENCES public.grille_sal(profil) ('Deve')\"\n",
      "Referential integrity constraint violation: \"fk_emb_sal: public.embauche FOREIGN KEY(profil) REFERENCES public.grille_sal(profil) ('Deve')\"; SQL statement:\n",
      "\n",
      "update Grille_Sal set profil = 'Dev' where profil = 'Deve [23503-214]\n",
      "DETAIL:  org.h2.jdbc.JdbcSQLIntegrityConstraintViolationException: Intégrité référentielle violation de contrainte: \"fk_emb_sal: public.embauche FOREIGN KEY(profil) REFERENCES public.grille_sal(profil) ('Deve')\"\n",
      "Referential integrity constraint violation: \"fk_emb_sal: public.embauche FOREIGN KEY(profil) REFERENCES public.grille_sal(profil) ('Deve')\"; SQL statement:\n",
      "\n",
      "update Grille_Sal set profil = 'Dev' where profil = 'Deve [23503-214]\n",
      "' occurred\n"
     ]
    }
   ],
   "source": [
    "query=\"\"\"\n",
    "update Grille_Sal set profil = 'Dev' where profil = 'Deve'\n",
    "\"\"\"\n",
    "execute(connection,query,show=True)"
   ]
  },
  {
   "cell_type": "markdown",
   "metadata": {},
   "source": [
    "### Exercie TME: Partie 2\n",
    "\n",
    "Le but de cette partie d'illustrer un cas où les mises-a-jour ne sont pas rejetées mais plutôt propagées.\n"
   ]
  },
  {
   "cell_type": "code",
   "execution_count": 68,
   "metadata": {
    "tags": []
   },
   "outputs": [
    {
     "name": "stdout",
     "output_type": "stream",
     "text": [
      "0 rows\n",
      "0 rows\n",
      "0 rows\n"
     ]
    }
   ],
   "source": [
    "schemafile=open(\"TME9-creations-cascade-H2.sql\",mode=\"r\",encoding='utf-8')\n",
    "datafile=open(\"TME9-insertions-H2.sql\",mode=\"r\",encoding='utf-8')\n",
    "create_schema=schemafile.read()\n",
    "insert_data=datafile.read()\n",
    "execute(connection,\"drop all objects\")\n",
    "execute(connection, create_schema)\n",
    "execute(connection, insert_data)\n",
    "connection.commit()"
   ]
  },
  {
   "cell_type": "code",
   "execution_count": 69,
   "metadata": {},
   "outputs": [
    {
     "name": "stdout",
     "output_type": "stream",
     "text": [
      "10 rows\n",
      "|numss|nome     |prenome|numchef|villee   |datenaiss |\n",
      "|-----------------------------------------------------\n",
      "|22334|Adam     |Funk   |22334  |Paris    |1982-12-01|\n",
      "|45566|Rachid   |Allaoui|22334  |Lyon     |1986-04-13|\n",
      "|77889|Florent  |Girac  |45566  |Marseille|1990-11-04|\n",
      "|90011|Mayla    |Aoun   |22334  |Lyon     |1987-03-26|\n",
      "|22233|Christine|Lara   |45566  |Paris    |1982-08-09|\n",
      "|34445|Amel     |Orlando|22334  |Lyon     |1976-02-14|\n",
      "|55666|Mohsen   |Charef |45566  |Paris    |1991-05-28|\n",
      "|77788|Tim      |Arabi  |22334  |Marseille|1984-06-08|\n",
      "|89990|Fernando |Lopez  |45566  |Lyon     |1993-10-05|\n",
      "|11122|Ada      |Tan Lee|22334  |Marseille|1994-03-21|\n"
     ]
    },
    {
     "data": {
      "text/plain": [
       "<cursor object at 0x7facc04a3130; closed: -1>"
      ]
     },
     "execution_count": 69,
     "metadata": {},
     "output_type": "execute_result"
    }
   ],
   "source": [
    "query=\"\"\"\n",
    "select * from Employe\n",
    "\"\"\"\n",
    "execute(connection,query,show=True)"
   ]
  },
  {
   "cell_type": "markdown",
   "metadata": {},
   "source": [
    "### Mises-à-jour"
   ]
  },
  {
   "cell_type": "markdown",
   "metadata": {},
   "source": [
    "#### Reéxécutez les mise-à-jour et les suppressions de la Partie 1 et verifiez ce qui se passe."
   ]
  },
  {
   "cell_type": "markdown",
   "metadata": {},
   "source": [
    "#### Mettez à jour le numéro d'un employé reférencé par d'autres nuplets"
   ]
  },
  {
   "cell_type": "code",
   "execution_count": null,
   "metadata": {},
   "outputs": [],
   "source": [
    "query=\"\"\"\n",
    "update Employe set ....\n",
    "\"\"\"\n",
    "execute(connection,query,show=True)"
   ]
  },
  {
   "cell_type": "code",
   "execution_count": null,
   "metadata": {},
   "outputs": [],
   "source": [
    "query=\"\"\"\n",
    "select * from Employe\n",
    "\"\"\"\n",
    "execute(connection,query,show=True)"
   ]
  },
  {
   "cell_type": "markdown",
   "metadata": {},
   "source": [
    "### Suppression"
   ]
  },
  {
   "cell_type": "markdown",
   "metadata": {},
   "source": [
    "#### Supprimer les nuplets de Employe et vérifier que tous les nuplets des autres tables qui référencent des employes venant d'être supprimés seront supprimés eux aussi."
   ]
  },
  {
   "cell_type": "code",
   "execution_count": null,
   "metadata": {
    "tags": []
   },
   "outputs": [],
   "source": [
    "query=\"\"\"\n",
    "delete from Employe ....\n",
    "\"\"\"\n",
    "execute(connection,query,show=True)"
   ]
  },
  {
   "cell_type": "code",
   "execution_count": null,
   "metadata": {},
   "outputs": [],
   "source": [
    "query=\"\"\"\n",
    "select * from Employe\n",
    "\"\"\"\n",
    "execute(connection,query,show=True)"
   ]
  },
  {
   "cell_type": "markdown",
   "metadata": {},
   "source": [
    "# Fermer la connexion"
   ]
  },
  {
   "cell_type": "code",
   "execution_count": 70,
   "metadata": {},
   "outputs": [],
   "source": [
    "connection.commit() # implicit avec close\n",
    "connection.close()"
   ]
  },
  {
   "cell_type": "code",
   "execution_count": 71,
   "metadata": {
    "tags": []
   },
   "outputs": [
    {
     "data": {
      "text/plain": [
       "<connection object at 0x7facc9f3ba40; dsn: 'user=ba password=xxx dbname=jo5613 host=localhost port=5613', closed: 1>"
      ]
     },
     "execution_count": 71,
     "metadata": {},
     "output_type": "execute_result"
    }
   ],
   "source": [
    "connection"
   ]
  },
  {
   "cell_type": "code",
   "execution_count": null,
   "metadata": {},
   "outputs": [],
   "source": []
  }
 ],
 "metadata": {
  "interpreter": {
   "hash": "3f7970bd1fb3f240334e0295161dab121eeb02ebe2a02561bbc5f2c38513dba7"
  },
  "kernelspec": {
   "display_name": "Python 3 (ipykernel)",
   "language": "python",
   "name": "python3"
  },
  "language_info": {
   "codemirror_mode": {
    "name": "ipython",
    "version": 3
   },
   "file_extension": ".py",
   "mimetype": "text/x-python",
   "name": "python",
   "nbconvert_exporter": "python",
   "pygments_lexer": "ipython3",
   "version": "3.9.7"
  },
  "toc-autonumbering": true,
  "toc-showcode": false,
  "toc-showmarkdowntxt": false,
  "toc-showtags": false
 },
 "nbformat": 4,
 "nbformat_minor": 4
}
